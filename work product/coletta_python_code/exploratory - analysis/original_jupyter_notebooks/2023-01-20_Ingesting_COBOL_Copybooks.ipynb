{
 "cells": [
  {
   "cell_type": "markdown",
   "id": "11536285-7858-480b-afa2-28ea8c3f1f73",
   "metadata": {},
   "source": [
    "# Fixing bugs in cobol copybook generation python script\n",
    "\n",
    "## Install Azul Zulu - which works on arm64-based Apple M1 processors\n",
    "\n",
    "* [Azul Zulu builds of OpenJDK](https://docs.azul.com/core/zulu-openjdk/install/macos)\n",
    "\n",
    "\n",
    "## Installing CB2XML\n",
    "* [CB2XML on github](https://github.com/bmTas/cb2xml)\n",
    "    * [download from sourceforge](https://sourceforge.net/projects/cb2xml/files/latest/download)"
   ]
  },
  {
   "cell_type": "code",
   "execution_count": 26,
   "id": "c340afdf-832c-47f4-a6e0-5b933d9e92be",
   "metadata": {},
   "outputs": [
    {
     "name": "stdout",
     "output_type": "stream",
     "text": [
      "\u001b[?25l\u001b[?7l\u001b[0m\u001b[32m\u001b[1m                    'c.\n",
      "                 ,xNMM.\n",
      "               .OMMMMo\n",
      "               OMMM0,\n",
      "     .;loddo:' loolloddol;.\n",
      "   cKMMMMMMMMMMNWMMMMMMMMMM0:\n",
      "\u001b[0m\u001b[33m\u001b[1m .KMMMMMMMMMMMMMMMMMMMMMMMWd.\n",
      " XMMMMMMMMMMMMMMMMMMMMMMMX.\n",
      "\u001b[0m\u001b[31m\u001b[1m;MMMMMMMMMMMMMMMMMMMMMMMM:\n",
      ":MMMMMMMMMMMMMMMMMMMMMMMM:\n",
      "\u001b[0m\u001b[31m\u001b[1m.MMMMMMMMMMMMMMMMMMMMMMMMX.\n",
      " kMMMMMMMMMMMMMMMMMMMMMMMMWd.\n",
      " \u001b[0m\u001b[35m\u001b[1m.XMMMMMMMMMMMMMMMMMMMMMMMMMMk\n",
      "  .XMMMMMMMMMMMMMMMMMMMMMMMMK.\n",
      "    \u001b[0m\u001b[34m\u001b[1mkMMMMMMMMMMMMMMMMMMMMMMd\n",
      "     ;KMMMMMMMWXXWMMMMMMMk.\n",
      "       .cooc,.    .,coo:.\u001b[0m\n",
      "\u001b[17A\u001b[9999999D\u001b[33C\u001b[0m\u001b[1m\u001b[32m\u001b[1mccoletta\u001b[0m@\u001b[32m\u001b[1mFM-M7JW7WQVQG\u001b[0m \n",
      "\u001b[33C\u001b[0m----------------------\u001b[0m \n",
      "\u001b[33C\u001b[0m\u001b[33m\u001b[1mOS\u001b[0m\u001b[0m:\u001b[0m macOS 12.6.2 21G320 arm64\u001b[0m \n",
      "\u001b[33C\u001b[0m\u001b[33m\u001b[1mHost\u001b[0m\u001b[0m:\u001b[0m MacBookPro18,4\u001b[0m \n",
      "\u001b[33C\u001b[0m\u001b[33m\u001b[1mKernel\u001b[0m\u001b[0m:\u001b[0m 21.6.0\u001b[0m \n",
      "\u001b[33C\u001b[0m\u001b[33m\u001b[1mUptime\u001b[0m\u001b[0m:\u001b[0m 24 days, 7 hours, 7 mins\u001b[0m \n",
      "\u001b[33C\u001b[0m\u001b[33m\u001b[1mPackages\u001b[0m\u001b[0m:\u001b[0m 159 (brew)\u001b[0m \n",
      "\u001b[33C\u001b[0m\u001b[33m\u001b[1mShell\u001b[0m\u001b[0m:\u001b[0m zsh 5.8.1\u001b[0m \n",
      "\u001b[33C\u001b[0m\u001b[33m\u001b[1mResolution\u001b[0m\u001b[0m:\u001b[0m 1512x982\u001b[0m \n",
      "\u001b[33C\u001b[0m\u001b[33m\u001b[1mDE\u001b[0m\u001b[0m:\u001b[0m Aqua\u001b[0m \n",
      "\u001b[33C\u001b[0m\u001b[33m\u001b[1mWM\u001b[0m\u001b[0m:\u001b[0m Quartz Compositor\u001b[0m \n",
      "\u001b[33C\u001b[0m\u001b[33m\u001b[1mWM Theme\u001b[0m\u001b[0m:\u001b[0m Blue (Dark)\u001b[0m \n",
      "\u001b[33C\u001b[0m\u001b[33m\u001b[1mTerminal\u001b[0m\u001b[0m:\u001b[0m iTerm2\u001b[0m \n",
      "\u001b[33C\u001b[0m\u001b[33m\u001b[1mTerminal Font\u001b[0m\u001b[0m:\u001b[0m MesloLGMDZ-RegularForPowerline 12\u001b[0m \n",
      "\u001b[33C\u001b[0m\u001b[33m\u001b[1mCPU\u001b[0m\u001b[0m:\u001b[0m Apple M1 Max\u001b[0m \n",
      "\u001b[33C\u001b[0m\u001b[33m\u001b[1mGPU\u001b[0m\u001b[0m:\u001b[0m Apple M1 Max\u001b[0m \n",
      "\u001b[33C\u001b[0m\u001b[33m\u001b[1mMemory\u001b[0m\u001b[0m:\u001b[0m 4215MiB / 32768MiB\u001b[0m \n",
      "\n",
      "\u001b[33C\u001b[30m\u001b[40m   \u001b[31m\u001b[41m   \u001b[32m\u001b[42m   \u001b[33m\u001b[43m   \u001b[34m\u001b[44m   \u001b[35m\u001b[45m   \u001b[36m\u001b[46m   \u001b[37m\u001b[47m   \u001b[m\n",
      "\u001b[33C\u001b[38;5;8m\u001b[48;5;8m   \u001b[38;5;9m\u001b[48;5;9m   \u001b[38;5;10m\u001b[48;5;10m   \u001b[38;5;11m\u001b[48;5;11m   \u001b[38;5;12m\u001b[48;5;12m   \u001b[38;5;13m\u001b[48;5;13m   \u001b[38;5;14m\u001b[48;5;14m   \u001b[38;5;15m\u001b[48;5;15m   \u001b[m\n",
      "\n",
      "\n",
      "\u001b[?25h\u001b[?7h"
     ]
    }
   ],
   "source": [
    "!neofetch"
   ]
  },
  {
   "cell_type": "code",
   "execution_count": 1,
   "id": "3dc12c89-d3d4-4538-ab2f-041ecbf7c513",
   "metadata": {},
   "outputs": [
    {
     "name": "stdout",
     "output_type": "stream",
     "text": [
      "/Library/Java/JavaVirtualMachines/zulu-19.jdk/Contents/Home/bin/java\n"
     ]
    }
   ],
   "source": [
    "!which java"
   ]
  },
  {
   "cell_type": "code",
   "execution_count": 2,
   "id": "0a7a57f5-cad7-4034-b501-145b2f8ba77a",
   "metadata": {},
   "outputs": [
    {
     "name": "stdout",
     "output_type": "stream",
     "text": [
      "openjdk version \"19.0.2\" 2023-01-17\n",
      "OpenJDK Runtime Environment Zulu19.32+13-CA (build 19.0.2+7)\n",
      "OpenJDK 64-Bit Server VM Zulu19.32+13-CA (build 19.0.2+7, mixed mode, sharing)\n"
     ]
    }
   ],
   "source": [
    "!java -version"
   ]
  },
  {
   "cell_type": "code",
   "execution_count": 4,
   "id": "11ffddfe-97d9-471a-b4d9-dd65e286e7e7",
   "metadata": {},
   "outputs": [
    {
     "name": "stdout",
     "output_type": "stream",
     "text": [
      "cb2xml/lib/cb2xml.jar: Zip archive data, at least v1.0 to extract, compression method=deflate\n"
     ]
    }
   ],
   "source": [
    "!file cb2xml/lib/cb2xml.jar"
   ]
  },
  {
   "cell_type": "code",
   "execution_count": 5,
   "id": "64404df8-7ac3-456a-9476-ac752124eb7e",
   "metadata": {},
   "outputs": [
    {
     "name": "stdout",
     "output_type": "stream",
     "text": [
      "\n",
      "Usage:\n",
      "\n",
      "  Either:\n",
      "\tcb2xml <copybookFileName> [debug]\n",
      "  or:\n",
      "\tcb2xml <attributes>\n",
      " \n",
      "  Where <attributes> are:\n",
      "\n",
      "\t-cobol - Cobol Copybook\n",
      "\t-xml   - Output xml file\n",
      "\t-font  - Font (encoding) of the copybook\n",
      "\t-debug - true:  run in debug mode\n",
      "\t-indentXml - indent (or format) the generated Xml \n",
      "\t-XmlFormat - for the new Xml format: old or 2017 (for the new 2017 format) default\n",
      "\t-StackSize - Stack Size (in megabytes (or normal to use the default) \n",
      "\t-Dialect   - Cobol Dialect: Mainframe\tMainframe_64_Bit\tGNU_Cobol\tFujitsu\t\n",
      "\n"
     ]
    }
   ],
   "source": [
    "!java -jar cb2xml/lib/cb2xml.jar "
   ]
  },
  {
   "cell_type": "code",
   "execution_count": 9,
   "id": "02935916-f549-4ded-a300-3b3399f8a45c",
   "metadata": {},
   "outputs": [
    {
     "name": "stdout",
     "output_type": "stream",
     "text": [
      "<?xml version=\"1.0\"?>\n",
      "<copybook filename=\"ABSDOMN_7_lines.txt\" dialect=\"Mainframe\" cb2xml-format=\"2017\">\n",
      "    <item level=\"01\" name=\"ABSDOMN\" position=\"1\" storage-length=\"32\" display-length=\"32\" display-position=\"1\">\n",
      "        <item level=\"05\" name=\"ST-CTY-CDE-FMHA\" position=\"1\" storage-length=\"5\" display-length=\"5\" display-position=\"1\">\n",
      "            <item level=\"10\" name=\"ST-CDE-FMHA\" picture=\"9(2)\" position=\"1\" storage-length=\"2\" display-length=\"2\" numeric=\"COBOL_NUMERIC\" display-position=\"1\"/>\n",
      "            <item level=\"10\" name=\"CTY-CDE-FMHA\" picture=\"9(3)\" position=\"3\" storage-length=\"3\" display-length=\"3\" numeric=\"COBOL_NUMERIC\" display-position=\"3\"/>\n",
      "        </item>\n",
      "        <item level=\"05\" name=\"NME-CTY\" picture=\"X(20)\" position=\"6\" storage-length=\"20\" display-length=\"20\" display-position=\"6\"/>\n",
      "        <item level=\"05\" name=\"LST-UPDTE-DTE\" picture=\"9(06)\" position=\"26\" storage-length=\"6\" display-length=\"6\" numeric=\"COBOL_NUMERIC\" display-position=\"26\"/>\n",
      "        <item level=\"05\" name=\"FILLER\" picture=\"X\" position=\"32\" storage-length=\"1\" display-length=\"1\" display-position=\"32\"/>\n",
      "    </item>\n",
      "</copybook>"
     ]
    }
   ],
   "source": [
    "!java -jar cb2xml/lib/cb2xml.jar -cobol ABSDOMN_7_lines.txt -indentXml"
   ]
  },
  {
   "cell_type": "code",
   "execution_count": 10,
   "id": "916dcc29-fdb2-4b0f-b118-ef4db22d0e9f",
   "metadata": {},
   "outputs": [
    {
     "name": "stdout",
     "output_type": "stream",
     "text": [
      "*** fatal parse error ***\n",
      "[Line Number = 15, Column = 5] expecting: '.'\n"
     ]
    }
   ],
   "source": [
    "!java -jar cb2xml/lib/cb2xml.jar -cobol 2023-01-10_Coletta_IDMS_all_scraped_copybooks.csv -indentXml -xml 2023-01-10_Coletta_IDMS_all_scraped_copybooks.xml"
   ]
  },
  {
   "cell_type": "code",
   "execution_count": 25,
   "id": "655b4d53-746a-404e-b166-33a6fb6a9d9c",
   "metadata": {},
   "outputs": [
    {
     "name": "stdout",
     "output_type": "stream",
     "text": [
      "000050 01  ABSDOMN.\n",
      "000100      05  ST-CTY-CDE-FMHA.\n",
      "000200          10  ST-CDE-FMHA                    PIC 9(2).\n",
      "000300          10  CTY-CDE-FMHA                   PIC 9(3).\n",
      "000400      05  NME-CTY                            PIC X(20).\n",
      "000500      05  LST-UPDTE-DTE                      PIC 9(06).\n",
      "000600      05  FILLER                             PIC X.\n",
      "000050 01  ACCRLINK.\n",
      "000100      05  RQST-AREA-MFH.\n",
      "000200          10  RQST-INT-ON-LN-MFH             PIC X(1).\n",
      "000300          10  RQST-INT-CST-ITEM-MFH          PIC X(1).\n",
      "000400          10  RQST-INT-AUDIT-RCVB-MFH        PIC X(1).\n",
      "000500          10  RQST-SBSY-MFH                  PIC X(1).\n",
      "000600      05  RQST-RETURN-CDE-AREA-MFH            REDEFINES RQST-AREA-MFH.\n",
      "000700          10  RQST-RETURN-CDE-MFH            PIC X(1) OCCURS 4.\n"
     ]
    }
   ],
   "source": [
    "!head -15 2023-01-10_Coletta_IDMS_all_scraped_copybooks.csv "
   ]
  },
  {
   "cell_type": "code",
   "execution_count": 18,
   "id": "c38f4e06-4fe8-4d8d-87e2-b477f6121182",
   "metadata": {
    "collapsed": true,
    "jupyter": {
     "outputs_hidden": true
    },
    "scrolled": true,
    "tags": []
   },
   "outputs": [
    {
     "name": "stdout",
     "output_type": "stream",
     "text": [
      " ACCRLINK                         VER     1   176      D                                    03/09/98 02/21/84\n",
      "     PREPARED BY          AA-KGM\n",
      "     REVISED BY           ASL034\n",
      "     DESCRIPTION          ACCRUAL LINK RECORD\n",
      "     PUBLIC ACCESS ALLOWED FOR ALL AUTHORITY\n",
      "     RFA-ID               H-3973\n",
      "     RFA-ID               H-3581A\n",
      "     DEFINITION\n",
      "              100 THIS RECORD IS USED TO PASS TO AND\n",
      "              200 FROM INFORMATION REQUIRED TO COMPLETE\n",
      "              300 AN ACCRUAL\n",
      "     RECORD               ACCRLINK                                 VER     1 D  PREFIX W019-\n",
      "         COPIED IN PROGRAM    SDMDD204                                 VER     1\n",
      "         COPIED IN PROGRAM    SFMDD100                                 VER     1\n",
      "         COPIED IN PROGRAM    SDMDD170                                 VER     1\n",
      "         COPIED IN PROGRAM    SDMDD361                                 VER     1\n",
      "         COPIED IN PROGRAM    SDMDD362                                 VER     1\n",
      "         COPIED IN PROGRAM    SDMDD564                                 VER     1\n",
      "         COPIED IN PROGRAM    SDMDD565                                 VER     1\n",
      "         COPIED IN PROGRAM    SDMDD563                                 VER     1\n",
      "         COPIED IN PROGRAM    SDMDD561                                 VER     1\n",
      "         COPIED IN PROGRAM    SDMDD560                                 VER     1\n",
      "         COPIED IN PROGRAM    SDMDD562                                 VER     1\n",
      "         COPIED IN PROGRAM    SEMDD875                                 VER     1\n",
      "         COPIED IN PROGRAM    SDMDD200                                 VER     1\n",
      "         COPIED IN PROGRAM    SDMDD106                                 VER     1\n",
      "         COPIED IN PROGRAM    SDMDD160                                 VER     1\n",
      "--\n",
      " ACCRLINK                         VER     2   176      D                                    05/15/98 05/15/98\n",
      "     PREPARED BY          ASL70M\n",
      "     REVISED BY           ASL70M\n",
      "     DESCRIPTION          ACCRUAL LINK RECORD\n",
      "     PUBLIC ACCESS ALLOWED FOR ALL AUTHORITY\n",
      "     RFA-ID               H-3973\n",
      "     RFA-ID               H-3581A\n",
      "     SAME AS              ACCRLINK                                 VER     1\n",
      "     DEFINITION\n",
      "              100 THIS RECORD IS USED TO PASS TO AND\n",
      "              200 FROM INFORMATION REQUIRED TO COMPLETE\n",
      "              300 AN ACCRUAL\n",
      "     RECORD               ACCRLINK                                 VER     2 D  PREFIX W019-\n",
      "            100   05 W019-RQST-AREA-MFH                                                        DISPLAY\n",
      "            200    10 W019-RQST-INT-ON-LN-MFH                 X(1)                             DISPLAY\n",
      "            300    10 W019-RQST-INT-CST-ITEM-MFH              X(1)                             DISPLAY\n",
      "            400    10 W019-RQST-INT-AUDIT-RCVB-MFH            X(1)                             DISPLAY\n",
      "            500    10 W019-RQST-SBSY-MFH                      X(1)                             DISPLAY\n",
      "            600   05 W019-RQST-RETURN-CDE-AREA-MFH                                             DISPLAY\n",
      "                          REDEFINES               W019-RQST-AREA-MFH\n",
      "            700    10 W019-RQST-RETURN-CDE-MFH                X(1)                             DISPLAY\n",
      "                          OCCURS            4\n",
      "            800   05 W019-COMMON-DATA-MFH                                                      DISPLAY\n",
      "            900    10 W019-ASSOC-TYP-NOTE-CDE-MFH             9(2)                             DISPLAY\n",
      "           1000    10 W019-UNPD-INT-NOTE-MFH                  S9(9)V99                         COMP-3\n",
      "           1100    10 W019-DTE-EFCTV-TRNSCTN-MFH              S9(7)                            COMP-3\n",
      "           1200    10 W019-DTE-LST-ACCRL-MFH                  S9(7)                            COMP-3\n",
      "           1300    10 W019-DTE-PYMT-STAT-MFH                  S9(7)                            COMP-3\n"
     ]
    }
   ],
   "source": [
    "!grep -A 15 \"ACCRLINK\" IDMS_RECORDS_no_trailing_whitespace.txt"
   ]
  },
  {
   "cell_type": "code",
   "execution_count": 20,
   "id": "ef0ce5d8-7021-4376-a62f-f0593ab7e914",
   "metadata": {},
   "outputs": [
    {
     "name": "stdout",
     "output_type": "stream",
     "text": [
      "PFCSI01N  PHYG0P    PHYG0S    PHYG25    PHYG3C\n",
      "PHYG0O    PHYG0R    PHYG1I    PHYG3B\n"
     ]
    }
   ],
   "source": [
    "ls PLAS.MISSING.CPYBOOKS.cpy/"
   ]
  },
  {
   "cell_type": "code",
   "execution_count": 23,
   "id": "9bab40e8-1672-4ae8-85ba-7cf1e7e3bf3f",
   "metadata": {},
   "outputs": [
    {
     "name": "stdout",
     "output_type": "stream",
     "text": [
      "PLAS.MISSING.CPYBOOKS.cpy/PFCSI01N-9-               09 agencyCode                    PIC X(3).                       \n",
      "PLAS.MISSING.CPYBOOKS.cpy/PFCSI01N-10-               09 programCode3-num              PIC S9(9) COMP-5 SYNC.          \n",
      "PLAS.MISSING.CPYBOOKS.cpy/PFCSI01N:11:               09 programCode2 OCCURS 5.                                        \n",
      "PLAS.MISSING.CPYBOOKS.cpy/PFCSI01N-12-                 12 programCode-num             PIC S9(9) COMP-5 SYNC.          \n",
      "PLAS.MISSING.CPYBOOKS.cpy/PFCSI01N-13-                 12 programCode                 PIC X(7).                       \n",
      "--\n",
      "PLAS.MISSING.CPYBOOKS.cpy/PFCSI01N-32-                 12 filler                      PIC X(2).                       \n",
      "PLAS.MISSING.CPYBOOKS.cpy/PFCSI01N-33-               09 borrower2-num                 PIC S9(9) COMP-5 SYNC.          \n",
      "PLAS.MISSING.CPYBOOKS.cpy/PFCSI01N:34:               09 borrower OCCURS 5.                                            \n",
      "PLAS.MISSING.CPYBOOKS.cpy/PFCSI01N-35-                 12 borrowerId                  PIC X(10).                      \n",
      "PLAS.MISSING.CPYBOOKS.cpy/PFCSI01N-36-                 12 firstBorrowerName           PIC X(75).                      \n",
      "--\n",
      "PLAS.MISSING.CPYBOOKS.cpy/PFCSI01N-40-                 12 groupId2                    PIC S9(9) COMP-5 SYNC.          \n",
      "PLAS.MISSING.CPYBOOKS.cpy/PFCSI01N-41-               09 state2-num                    PIC S9(9) COMP-5 SYNC.          \n",
      "PLAS.MISSING.CPYBOOKS.cpy/PFCSI01N:42:               09 state OCCURS 5.                                               \n",
      "PLAS.MISSING.CPYBOOKS.cpy/PFCSI01N-43-                 12 stateCode                   PIC X(2).                       \n",
      "PLAS.MISSING.CPYBOOKS.cpy/PFCSI01N-44-                 12 geoStateCountyCode-num      PIC S9(9) COMP-5 SYNC.          \n",
      "--\n",
      "PLAS.MISSING.CPYBOOKS.cpy/PFCSI01N-52-                 12 filler                      PIC X(2).                       \n",
      "PLAS.MISSING.CPYBOOKS.cpy/PFCSI01N-53-               09 fundBucket2-num               PIC S9(9) COMP-5 SYNC.          \n",
      "PLAS.MISSING.CPYBOOKS.cpy/PFCSI01N:54:               09 fundBucket OCCURS 12.                                         \n",
      "PLAS.MISSING.CPYBOOKS.cpy/PFCSI01N-55-                 12 groupId4-num                PIC S9(9) COMP-5 SYNC.          \n",
      "PLAS.MISSING.CPYBOOKS.cpy/PFCSI01N-56-                 12 groupId4                    PIC S9(9) COMP-5 SYNC.          \n",
      "--\n",
      "PLAS.MISSING.CPYBOOKS.cpy/PHYG0O-58-0C        005800                                                                \n",
      "PLAS.MISSING.CPYBOOKS.cpy/PHYG0O-59-1C        005900     05  MONTHLY-TIME-SERIES-DATA.                              \n",
      "PLAS.MISSING.CPYBOOKS.cpy/PHYG0O:60:2C        006000         10  MO-TIME-AMOUNT      OCCURS 15 TIMES PIC S9(06).    \n",
      "PLAS.MISSING.CPYBOOKS.cpy/PHYG0O-61-3C        006100                                                                \n",
      "PLAS.MISSING.CPYBOOKS.cpy/PHYG0O-62-4C        006200*    05  MONTHLY-TIME-SERIES-DATA-1A.                           \n",
      "PLAS.MISSING.CPYBOOKS.cpy/PHYG0O:63:5C        006300*        10  MO-TIME-AMOUNT-1A   OCCURS 1 TIMES PIC S9(11).     \n",
      "PLAS.MISSING.CPYBOOKS.cpy/PHYG0O-64-6C        006400                                                                \n",
      "PLAS.MISSING.CPYBOOKS.cpy/PHYG0O-65-7C        006500     05 TIME-SERIES-EXPANSION-AREA.                             \n",
      "--\n",
      "PLAS.MISSING.CPYBOOKS.cpy/PHYG0P-90-5C        011500*******  ANNUAL-AND-MONTHLY-TIME-SERIES-DATA. *********.        \n",
      "PLAS.MISSING.CPYBOOKS.cpy/PHYG0P-91-6C        011600     05  MONTHLY-TIME-SERIES-DATA.                              \n",
      "PLAS.MISSING.CPYBOOKS.cpy/PHYG0P:92:7C        011700         10  MONTH-TABLE            OCCURS  15  TIMES.          \n",
      "PLAS.MISSING.CPYBOOKS.cpy/PHYG0P:93:8C        011800             15  MONTH-TABLE-AMOUNT OCCURS  84  TIMES           \n",
      "PLAS.MISSING.CPYBOOKS.cpy/PHYG0P-94-9C        011900                                            PIC S9(06).         \n",
      "PLAS.MISSING.CPYBOOKS.cpy/PHYG0P-95-0C        012000                                                                \n",
      "PLAS.MISSING.CPYBOOKS.cpy/PHYG0P-96-1C        012100*    05  MONTHLY-TIME-SERIES-DATA-1A.                           \n",
      "PLAS.MISSING.CPYBOOKS.cpy/PHYG0P:97:2C        012200*        10  MONTH-TABLE-1A         OCCURS  1 TIMES.            \n",
      "PLAS.MISSING.CPYBOOKS.cpy/PHYG0P:98:3C        012300*            15  MONTH-TABLE-AMOUNT-1A OCCURS  60 TIMES         \n",
      "PLAS.MISSING.CPYBOOKS.cpy/PHYG0P-99-4C        012400*                                           PIC S9(11).         \n",
      "PLAS.MISSING.CPYBOOKS.cpy/PHYG0P-100-5C        012500                                                                \n",
      "--\n",
      "PLAS.MISSING.CPYBOOKS.cpy/PHYG0R-65-006300*******  ANNUAL-AND-MONTHLY-TS-DATA. *********.                           \n",
      "PLAS.MISSING.CPYBOOKS.cpy/PHYG0R-66-006400     05  GRAND-MONTHLY-TS-DATA.                                           \n",
      "PLAS.MISSING.CPYBOOKS.cpy/PHYG0R:67:006500         10  GRAND-MONTH-TABLE         OCCURS 15 TIMES.                   \n",
      "PLAS.MISSING.CPYBOOKS.cpy/PHYG0R:68:006600             15  GRAND-TOTAL-AMOUNT    OCCURS 84  TIMES                   \n",
      "PLAS.MISSING.CPYBOOKS.cpy/PHYG0R-69-006700                                            PIC S9(06).                   \n",
      "PLAS.MISSING.CPYBOOKS.cpy/PHYG0R-70-006800                                                                          \n",
      "PLAS.MISSING.CPYBOOKS.cpy/PHYG0R-71-006900*    05  GRAND-MONTHLY-TS-DATA-1A.                                        \n",
      "PLAS.MISSING.CPYBOOKS.cpy/PHYG0R:72:007000*        10  GRAND-MONTH-TABLE-1A      OCCURS  1 TIMES.                   \n",
      "PLAS.MISSING.CPYBOOKS.cpy/PHYG0R:73:007100*            15  GRAND-TOTAL-AMOUNT-1A OCCURS 60 TIMES                    \n",
      "PLAS.MISSING.CPYBOOKS.cpy/PHYG0R-74-007200*                                           PIC S9(11).                   \n",
      "PLAS.MISSING.CPYBOOKS.cpy/PHYG0R-75-007300                                                                          \n",
      "--\n",
      "PLAS.MISSING.CPYBOOKS.cpy/PHYG0S-50-003900                                                                          \n",
      "PLAS.MISSING.CPYBOOKS.cpy/PHYG0S-51-004000 01  OUTFMT-RECORD07.                                                     \n",
      "PLAS.MISSING.CPYBOOKS.cpy/PHYG0S:52:004100     05 F-MO-TABLE-01A OCCURS  1 TO 84 TIMES                              \n",
      "PLAS.MISSING.CPYBOOKS.cpy/PHYG0S-53-004200                          DEPENDING ON MO-UPDATE-POINT.                   \n",
      "PLAS.MISSING.CPYBOOKS.cpy/PHYG0S-54-004300      10 F-MO-TABLE-01                          PIC    S9(07).            \n",
      "--\n",
      "PLAS.MISSING.CPYBOOKS.cpy/PHYG0S-57-004500                                                                          \n",
      "PLAS.MISSING.CPYBOOKS.cpy/PHYG0S-58-004600*01  OUTFMT-RECORD08.                                                     \n",
      "PLAS.MISSING.CPYBOOKS.cpy/PHYG0S:59:004700*    05 F-MO-TABLE-02A OCCURS  1 TO 120 TIMES                             \n",
      "PLAS.MISSING.CPYBOOKS.cpy/PHYG0S-60-004800*                       DEPENDING ON MO-UPDATE-POINT.                     \n",
      "PLAS.MISSING.CPYBOOKS.cpy/PHYG0S-61-004900*     10 F-MO-TABLE-02                          PIC    S9(05).            \n"
     ]
    }
   ],
   "source": [
    "!grep -n2 \"OCCURS\" PLAS.MISSING.CPYBOOKS.cpy/*"
   ]
  },
  {
   "cell_type": "code",
   "execution_count": null,
   "id": "09b64e8d-b9b5-478f-bc06-e038c0ca5af1",
   "metadata": {},
   "outputs": [],
   "source": []
  }
 ],
 "metadata": {
  "kernelspec": {
   "display_name": "Python 3 (ipykernel)",
   "language": "python",
   "name": "python3"
  },
  "language_info": {
   "codemirror_mode": {
    "name": "ipython",
    "version": 3
   },
   "file_extension": ".py",
   "mimetype": "text/x-python",
   "name": "python",
   "nbconvert_exporter": "python",
   "pygments_lexer": "ipython3",
   "version": "3.11.0"
  }
 },
 "nbformat": 4,
 "nbformat_minor": 5
}
