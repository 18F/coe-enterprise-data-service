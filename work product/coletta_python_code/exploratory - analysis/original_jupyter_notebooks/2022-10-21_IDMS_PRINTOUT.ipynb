{
 "cells": [
  {
   "cell_type": "code",
   "execution_count": 1,
   "id": "5dde6ef7-af86-4710-a885-148a91972f16",
   "metadata": {},
   "outputs": [],
   "source": [
    "from pathlib import Path"
   ]
  },
  {
   "cell_type": "code",
   "execution_count": 2,
   "id": "4eaf4ec4-a1cb-4bab-9d56-feeb5b0c1623",
   "metadata": {},
   "outputs": [],
   "source": [
    "import re"
   ]
  },
  {
   "cell_type": "code",
   "execution_count": 3,
   "id": "e5825678-c993-4066-b1c2-6266503d6c28",
   "metadata": {},
   "outputs": [
    {
     "name": "stdout",
     "output_type": "stream",
     "text": [
      "0          1        5,473        3,664        1,809            0            0                                                        \n",
      "           2        5,473        3,664        1,809            0            0                                                        \n",
      "           3        5,473        3,664        1,809            0            0                                                        \n",
      "           4        5,473        3,664        1,809            0            0                                                        \n",
      "           5        5,473        3,664        1,809            0            0                                                        \n",
      "           6        5,473        3,664        1,809            0            0                                                        \n",
      "           7        5,473        3,664        1,809            0            0                                                        \n",
      "           8        5,473        3,664        1,809            0            0                                                        \n",
      "           9        5,473        3,664        1,809            0            0                                                        \n",
      "          10        5,473        3,664        1,809            0            0                                                        \n",
      "          11        5,473        3,664        1,809            0            0                                                        \n",
      "          12        5,473        3,664        1,809            0            0                                                        \n",
      "          13        5,473        3,664        1,809            0            0                                                        \n",
      "          14        5,473        3,664        1,809            0            0                                                        \n",
      "1  C750009 RECORDS WRITTEN FOR REPORT 00 --           0                                                                              \n",
      "1REPORT NO. 08                                   DATA DICTIONARY REPORTER  REL 17.0                       09/23/21        PAGE     1 \n",
      " DREPORT 008                                               RECORD REPORT                                                             \n",
      "-************************************************************************************************************************************\n",
      "                                             RECORD               RECORD                    ---- D A T E ----                        \n",
      " RECORD NAME                                LENGTH  BUILDER        TYPE       OCCURRENCES   UPDATED   CREATED                        \n",
      " ************************************************************************************************************************************\n",
      "0                                                                                                                                    \n",
      " ABSDOMN                          VER     1    32      D                                    10/15/87 09/29/87                        \n",
      "     PREPARED BY          AWMC11                                                                                                     \n",
      "     REVISED BY           AWMC11                                                                                                     \n",
      "     DESCRIPTION          USER DOMAIN                                                                                                \n",
      "     PUBLIC ACCESS ALLOWED FOR ALL AUTHORITY                                                                                         \n",
      "     RECORD               ABSDOMN                                  VER     1 D  SUFFIX -4541                                         \n",
      "            100   05 ST-CTY-CDE-FMHA-4541                                                      DISPLAY                               \n",
      "            200    10 ST-CDE-FMHA-4541                        9(2)                             DISPLAY                               \n",
      "            300    10 CTY-CDE-FMHA-4541                       9(3)                             DISPLAY                               \n",
      "            400   05 NME-CTY-4541                             X(20)                            DISPLAY                               \n",
      "            500   05 LST-UPDTE-DTE-4541                       9(06)                            DISPLAY                               \n",
      "            600   05 FILLER                                   X                                DISPLAY                               \n",
      "1REPORT NO. 08                                   DATA DICTIONARY REPORTER  REL 17.0                       09/23/21        PAGE     2 \n",
      " DREPORT 008                                               RECORD REPORT                                                             \n",
      "-************************************************************************************************************************************\n",
      "                                             RECORD               RECORD                    ---- D A T E ----                        \n",
      " RECORD NAME                                LENGTH  BUILDER        TYPE       OCCURRENCES   UPDATED   CREATED                        \n",
      " ************************************************************************************************************************************\n",
      "0                                                                                                                                    \n",
      " ACCRLINK                         VER     1   176      D                                    03/09/98 02/21/84                        \n",
      "     PREPARED BY          AA-KGM                                                                                                     \n",
      "     REVISED BY           ASL034                                                                                                     \n",
      "     DESCRIPTION          ACCRUAL LINK RECORD                                                                                        \n",
      "     PUBLIC ACCESS ALLOWED FOR ALL AUTHORITY                                                                                         \n",
      "     RFA-ID               H-3973                                                                                                     \n",
      "     RFA-ID               H-3581A                                                                                                    \n",
      "     DEFINITION                                                                                                                      \n",
      "              100 THIS RECORD IS USED TO PASS TO AND                                                                                 \n"
     ]
    }
   ],
   "source": [
    "!head -150 IDMS_RECORDS_cpy.txt | tail -50"
   ]
  },
  {
   "cell_type": "markdown",
   "id": "283ad48d-cc29-4b6f-be78-dc2c485112f1",
   "metadata": {
    "tags": []
   },
   "source": [
    "# Initial cleaning"
   ]
  },
  {
   "cell_type": "code",
   "execution_count": 4,
   "id": "2f0444cd-76e8-4c39-b94b-7be927c6c64f",
   "metadata": {
    "tags": []
   },
   "outputs": [],
   "source": [
    "# !head -50 IDMS_RECORDS_cpy.txt\n",
    "\n",
    "# p = Path( \"2022-10-14_Whitespace_stripped.txt\" )\n",
    "\n",
    "# raw_text = p.read_text(encoding='latin1')\n",
    "\n",
    "# len( raw_text )\n",
    "\n",
    "# print( raw_text[:1000] )\n",
    "\n",
    "# \n",
    "\n",
    "# p = re.compile( r'^1REPORT.*?^0$', flags = re.MULTILINE | re.DOTALL )\n",
    "\n",
    "# len( p.findall( raw_text ) )\n",
    "\n",
    "# removed_headers = p.sub( \"\", raw_text )\n",
    "\n",
    "# len( removed_headers )"
   ]
  },
  {
   "cell_type": "code",
   "execution_count": 5,
   "id": "ca4fa232-3027-4c70-a45b-6592e189425d",
   "metadata": {
    "tags": []
   },
   "outputs": [],
   "source": [
    "out = Path( \"2022-10-14_Stripped_IDMS_RECORDS.txt\" )"
   ]
  },
  {
   "cell_type": "code",
   "execution_count": 6,
   "id": "ce63f5fe-6d9c-483b-a33d-56e896db6f38",
   "metadata": {},
   "outputs": [],
   "source": [
    "#out.write_text( removed_headers )"
   ]
  },
  {
   "cell_type": "code",
   "execution_count": 7,
   "id": "8318aa4f-697b-48db-ab56-9949ef30878c",
   "metadata": {},
   "outputs": [],
   "source": [
    "# reload after some hand-editing\n",
    "removed_headers = out.read_text()"
   ]
  },
  {
   "cell_type": "code",
   "execution_count": 8,
   "id": "d6f4d4f9-1194-4f69-9971-92beac236c62",
   "metadata": {},
   "outputs": [
    {
     "data": {
      "text/plain": [
       "15348439"
      ]
     },
     "execution_count": 8,
     "metadata": {},
     "output_type": "execute_result"
    }
   ],
   "source": [
    "len( removed_headers )"
   ]
  },
  {
   "cell_type": "code",
   "execution_count": 9,
   "id": "ff8e15cf-08d2-406e-a96a-8f910db71b63",
   "metadata": {},
   "outputs": [],
   "source": [
    "lines = removed_headers.split( '\\n' )"
   ]
  },
  {
   "cell_type": "code",
   "execution_count": 10,
   "id": "5e0036ec-0a22-4ace-a144-fc5945c4b389",
   "metadata": {},
   "outputs": [
    {
     "data": {
      "text/plain": [
       "171643"
      ]
     },
     "execution_count": 10,
     "metadata": {},
     "output_type": "execute_result"
    }
   ],
   "source": [
    "len( lines )"
   ]
  },
  {
   "cell_type": "code",
   "execution_count": 11,
   "id": "ba8a936d-9004-461e-97fc-bf51873976d9",
   "metadata": {},
   "outputs": [],
   "source": [
    "p = re.compile( r'^\\s+' )"
   ]
  },
  {
   "cell_type": "code",
   "execution_count": 12,
   "id": "b43c4449-0952-40c9-bfef-77249e4ca65e",
   "metadata": {},
   "outputs": [
    {
     "data": {
      "text/plain": [
       "[' ']"
      ]
     },
     "execution_count": 12,
     "metadata": {},
     "output_type": "execute_result"
    }
   ],
   "source": [
    "p.findall( lines[0] )"
   ]
  },
  {
   "cell_type": "code",
   "execution_count": 13,
   "id": "0386a087-007c-43f3-beee-134281257c59",
   "metadata": {},
   "outputs": [],
   "source": [
    "from collections import Counter"
   ]
  },
  {
   "cell_type": "code",
   "execution_count": 14,
   "id": "70feb966-90f7-4c30-a1d8-c4181db524da",
   "metadata": {},
   "outputs": [
    {
     "data": {
      "text/plain": [
       "[171642]"
      ]
     },
     "execution_count": 14,
     "metadata": {},
     "output_type": "execute_result"
    }
   ],
   "source": [
    "[ i for i, _ in enumerate( lines ) if len( p.findall( _ ) ) == 0 ]"
   ]
  },
  {
   "cell_type": "code",
   "execution_count": 15,
   "id": "d0d91552-5772-485c-87cf-e02879c9baa4",
   "metadata": {},
   "outputs": [],
   "source": [
    "lines = [ _ for _ in lines if _ != \"\" ]"
   ]
  },
  {
   "cell_type": "code",
   "execution_count": 16,
   "id": "15411d94-c940-4449-b2ae-32c884901712",
   "metadata": {},
   "outputs": [
    {
     "data": {
      "text/plain": [
       "171642"
      ]
     },
     "execution_count": 16,
     "metadata": {},
     "output_type": "execute_result"
    }
   ],
   "source": [
    "len( lines )"
   ]
  },
  {
   "cell_type": "code",
   "execution_count": 17,
   "id": "3709db6a-52bc-46e3-a280-5159454e061b",
   "metadata": {},
   "outputs": [
    {
     "data": {
      "text/plain": [
       "[]"
      ]
     },
     "execution_count": 17,
     "metadata": {},
     "output_type": "execute_result"
    }
   ],
   "source": [
    "[ i for i, _ in enumerate( lines ) if len( p.findall( _ ) ) == 0 ]"
   ]
  },
  {
   "cell_type": "code",
   "execution_count": 18,
   "id": "7f6b7e40-5da8-4cc0-918b-c77751227dac",
   "metadata": {},
   "outputs": [],
   "source": [
    "leading_space_count = [ len( p.findall( _ )[0] ) for _ in lines if len( p.findall( _ ) ) > 0 ]"
   ]
  },
  {
   "cell_type": "code",
   "execution_count": 19,
   "id": "433d4c85-22ef-4f75-a143-ab7779f8140f",
   "metadata": {},
   "outputs": [
    {
     "data": {
      "text/plain": [
       "Counter({1: 3661,\n",
       "         5: 18569,\n",
       "         12: 31763,\n",
       "         14: 2902,\n",
       "         9: 31042,\n",
       "         26: 13934,\n",
       "         11: 62916,\n",
       "         13: 63,\n",
       "         10: 6756,\n",
       "         27: 3,\n",
       "         22: 33})"
      ]
     },
     "execution_count": 19,
     "metadata": {},
     "output_type": "execute_result"
    }
   ],
   "source": [
    "Counter( leading_space_count )"
   ]
  },
  {
   "cell_type": "markdown",
   "id": "331cc986-c4b1-4654-9f9f-a3d5e11ef1cd",
   "metadata": {},
   "source": [
    "# Create grouping variables based on position"
   ]
  },
  {
   "cell_type": "code",
   "execution_count": 20,
   "id": "a9c93fa3-83c0-41dd-a297-f7cf7df63ff7",
   "metadata": {},
   "outputs": [],
   "source": [
    "table_index = -1\n",
    "synonym_index = -1\n",
    "table_indices = [0]*len( lines )\n",
    "synonym_indices = [0]*len( lines )\n",
    "modifier_target_lines = [0]*len( lines )\n",
    "modified_line = -1\n",
    "modifier_line_prefix = \" \"*26\n",
    "\n",
    "for i in range( len( lines ) ):\n",
    "    if lines[i][1] != ' ':\n",
    "        table_index += 1\n",
    "        synonym_index = -1\n",
    "    if lines[i].startswith( '     RECORD'):\n",
    "        synonym_index += 1\n",
    "    if modified_line < 0 and lines[i].startswith( modifier_line_prefix ):\n",
    "        # first time we're seeing a modifier?\n",
    "        # Record the line that is being modified\n",
    "        modified_line = i - 1\n",
    "    if modified_line > 0 and not lines[i].startswith( modifier_line_prefix ):\n",
    "        modified_line = -1\n",
    "\n",
    "    modifier_target_lines[ i ] = modified_line\n",
    "    table_indices[ i ] = table_index\n",
    "    synonym_indices[ i ] = synonym_index"
   ]
  },
  {
   "cell_type": "code",
   "execution_count": 21,
   "id": "0923b090-92cd-4d48-b101-f8e73ccf162e",
   "metadata": {},
   "outputs": [],
   "source": [
    "#table_indices"
   ]
  },
  {
   "cell_type": "code",
   "execution_count": 22,
   "id": "f2959bd3-4fe8-49ba-977b-cdbd8229c6a7",
   "metadata": {},
   "outputs": [
    {
     "data": {
      "text/plain": [
       "True"
      ]
     },
     "execution_count": 22,
     "metadata": {},
     "output_type": "execute_result"
    }
   ],
   "source": [
    "len( leading_space_count ) == len( lines )"
   ]
  },
  {
   "cell_type": "code",
   "execution_count": 23,
   "id": "06218a17-037f-4133-9e45-b1736db9ecf0",
   "metadata": {},
   "outputs": [],
   "source": [
    "import pandas as pd"
   ]
  },
  {
   "cell_type": "code",
   "execution_count": 24,
   "id": "1ae978ee-4f9a-49b1-bdaa-9d2c259f5500",
   "metadata": {},
   "outputs": [],
   "source": [
    "lines_df = pd.DataFrame( dict(\n",
    "    leading_space_count = leading_space_count,\n",
    "    table_index = table_indices,\n",
    "    synonym_index = synonym_indices,\n",
    "    modifies_line = modifier_target_lines,\n",
    "    line = lines ))"
   ]
  },
  {
   "cell_type": "code",
   "execution_count": 25,
   "id": "252c4d48-aa16-4ef1-9ed7-35a6b49ceb51",
   "metadata": {},
   "outputs": [
    {
     "name": "stdout",
     "output_type": "stream",
     "text": [
      "<class 'pandas.core.frame.DataFrame'>\n",
      "RangeIndex: 171642 entries, 0 to 171641\n",
      "Data columns (total 5 columns):\n",
      " #   Column               Non-Null Count   Dtype \n",
      "---  ------               --------------   ----- \n",
      " 0   leading_space_count  171642 non-null  int64 \n",
      " 1   table_index          171642 non-null  int64 \n",
      " 2   synonym_index        171642 non-null  int64 \n",
      " 3   modifies_line        171642 non-null  int64 \n",
      " 4   line                 171642 non-null  object\n",
      "dtypes: int64(4), object(1)\n",
      "memory usage: 6.5+ MB\n"
     ]
    }
   ],
   "source": [
    "lines_df.info()"
   ]
  },
  {
   "cell_type": "code",
   "execution_count": 26,
   "id": "604e1224-6040-44df-9f58-73527cedfd63",
   "metadata": {},
   "outputs": [
    {
     "data": {
      "text/html": [
       "<div>\n",
       "<style scoped>\n",
       "    .dataframe tbody tr th:only-of-type {\n",
       "        vertical-align: middle;\n",
       "    }\n",
       "\n",
       "    .dataframe tbody tr th {\n",
       "        vertical-align: top;\n",
       "    }\n",
       "\n",
       "    .dataframe thead th {\n",
       "        text-align: right;\n",
       "    }\n",
       "</style>\n",
       "<table border=\"1\" class=\"dataframe\">\n",
       "  <thead>\n",
       "    <tr style=\"text-align: right;\">\n",
       "      <th></th>\n",
       "      <th>leading_space_count</th>\n",
       "      <th>table_index</th>\n",
       "      <th>synonym_index</th>\n",
       "      <th>modifies_line</th>\n",
       "      <th>line</th>\n",
       "    </tr>\n",
       "  </thead>\n",
       "  <tbody>\n",
       "    <tr>\n",
       "      <th>58</th>\n",
       "      <td>26</td>\n",
       "      <td>1</td>\n",
       "      <td>0</td>\n",
       "      <td>57</td>\n",
       "      <td>REDEFINES           ...</td>\n",
       "    </tr>\n",
       "    <tr>\n",
       "      <th>60</th>\n",
       "      <td>26</td>\n",
       "      <td>1</td>\n",
       "      <td>0</td>\n",
       "      <td>59</td>\n",
       "      <td>OCCURS            4</td>\n",
       "    </tr>\n",
       "    <tr>\n",
       "      <th>70</th>\n",
       "      <td>26</td>\n",
       "      <td>1</td>\n",
       "      <td>0</td>\n",
       "      <td>69</td>\n",
       "      <td>VALUE               ...</td>\n",
       "    </tr>\n",
       "    <tr>\n",
       "      <th>72</th>\n",
       "      <td>26</td>\n",
       "      <td>1</td>\n",
       "      <td>0</td>\n",
       "      <td>71</td>\n",
       "      <td>VALUE               ...</td>\n",
       "    </tr>\n",
       "    <tr>\n",
       "      <th>122</th>\n",
       "      <td>26</td>\n",
       "      <td>2</td>\n",
       "      <td>0</td>\n",
       "      <td>121</td>\n",
       "      <td>REDEFINES           ...</td>\n",
       "    </tr>\n",
       "    <tr>\n",
       "      <th>...</th>\n",
       "      <td>...</td>\n",
       "      <td>...</td>\n",
       "      <td>...</td>\n",
       "      <td>...</td>\n",
       "      <td>...</td>\n",
       "    </tr>\n",
       "    <tr>\n",
       "      <th>171557</th>\n",
       "      <td>26</td>\n",
       "      <td>3659</td>\n",
       "      <td>0</td>\n",
       "      <td>171556</td>\n",
       "      <td>REDEFINES           ...</td>\n",
       "    </tr>\n",
       "    <tr>\n",
       "      <th>171569</th>\n",
       "      <td>26</td>\n",
       "      <td>3659</td>\n",
       "      <td>0</td>\n",
       "      <td>171568</td>\n",
       "      <td>OCCURS            5</td>\n",
       "    </tr>\n",
       "    <tr>\n",
       "      <th>171617</th>\n",
       "      <td>26</td>\n",
       "      <td>3660</td>\n",
       "      <td>0</td>\n",
       "      <td>171616</td>\n",
       "      <td>REDEFINES           ...</td>\n",
       "    </tr>\n",
       "    <tr>\n",
       "      <th>171624</th>\n",
       "      <td>26</td>\n",
       "      <td>3660</td>\n",
       "      <td>0</td>\n",
       "      <td>171623</td>\n",
       "      <td>REDEFINES           ...</td>\n",
       "    </tr>\n",
       "    <tr>\n",
       "      <th>171636</th>\n",
       "      <td>26</td>\n",
       "      <td>3660</td>\n",
       "      <td>0</td>\n",
       "      <td>171635</td>\n",
       "      <td>OCCURS            5</td>\n",
       "    </tr>\n",
       "  </tbody>\n",
       "</table>\n",
       "<p>13937 rows × 5 columns</p>\n",
       "</div>"
      ],
      "text/plain": [
       "        leading_space_count  table_index  synonym_index  modifies_line  \\\n",
       "58                       26            1              0             57   \n",
       "60                       26            1              0             59   \n",
       "70                       26            1              0             69   \n",
       "72                       26            1              0             71   \n",
       "122                      26            2              0            121   \n",
       "...                     ...          ...            ...            ...   \n",
       "171557                   26         3659              0         171556   \n",
       "171569                   26         3659              0         171568   \n",
       "171617                   26         3660              0         171616   \n",
       "171624                   26         3660              0         171623   \n",
       "171636                   26         3660              0         171635   \n",
       "\n",
       "                                                     line  \n",
       "58                                REDEFINES           ...  \n",
       "60                                    OCCURS            4  \n",
       "70                                VALUE               ...  \n",
       "72                                VALUE               ...  \n",
       "122                               REDEFINES           ...  \n",
       "...                                                   ...  \n",
       "171557                            REDEFINES           ...  \n",
       "171569                                OCCURS            5  \n",
       "171617                            REDEFINES           ...  \n",
       "171624                            REDEFINES           ...  \n",
       "171636                                OCCURS            5  \n",
       "\n",
       "[13937 rows x 5 columns]"
      ]
     },
     "execution_count": 26,
     "metadata": {},
     "output_type": "execute_result"
    }
   ],
   "source": [
    "lines_df[ lines_df[ 'modifies_line' ] > 0]"
   ]
  },
  {
   "cell_type": "code",
   "execution_count": 27,
   "id": "952eb135-d278-4067-8fef-42d7e54383e9",
   "metadata": {},
   "outputs": [
    {
     "data": {
      "text/plain": [
       "1         12728\n",
       "2           245\n",
       "5            22\n",
       "4            14\n",
       "6            13\n",
       "9            12\n",
       "10           10\n",
       "3            10\n",
       "7             9\n",
       "8             8\n",
       "11            6\n",
       "13            2\n",
       "157705        1\n",
       "18            1\n",
       "Name: modifies_line, dtype: int64"
      ]
     },
     "execution_count": 27,
     "metadata": {},
     "output_type": "execute_result"
    }
   ],
   "source": [
    "lines_df[ 'modifies_line' ].value_counts().value_counts()"
   ]
  },
  {
   "cell_type": "code",
   "execution_count": 28,
   "id": "d40bc83b-0f2d-4ed1-81e8-1cb00e416cf3",
   "metadata": {},
   "outputs": [
    {
     "data": {
      "text/html": [
       "<div>\n",
       "<style scoped>\n",
       "    .dataframe tbody tr th:only-of-type {\n",
       "        vertical-align: middle;\n",
       "    }\n",
       "\n",
       "    .dataframe tbody tr th {\n",
       "        vertical-align: top;\n",
       "    }\n",
       "\n",
       "    .dataframe thead th {\n",
       "        text-align: right;\n",
       "    }\n",
       "</style>\n",
       "<table border=\"1\" class=\"dataframe\">\n",
       "  <thead>\n",
       "    <tr style=\"text-align: right;\">\n",
       "      <th></th>\n",
       "      <th>leading_space_count</th>\n",
       "      <th>table_index</th>\n",
       "      <th>synonym_index</th>\n",
       "      <th>modifies_line</th>\n",
       "      <th>line</th>\n",
       "    </tr>\n",
       "  </thead>\n",
       "  <tbody>\n",
       "    <tr>\n",
       "      <th>0</th>\n",
       "      <td>1</td>\n",
       "      <td>0</td>\n",
       "      <td>-1</td>\n",
       "      <td>-1</td>\n",
       "      <td>ABSDOMN                          VER     1   ...</td>\n",
       "    </tr>\n",
       "    <tr>\n",
       "      <th>11</th>\n",
       "      <td>1</td>\n",
       "      <td>1</td>\n",
       "      <td>-1</td>\n",
       "      <td>-1</td>\n",
       "      <td>ACCRLINK                         VER     1   ...</td>\n",
       "    </tr>\n",
       "    <tr>\n",
       "      <th>104</th>\n",
       "      <td>1</td>\n",
       "      <td>2</td>\n",
       "      <td>-1</td>\n",
       "      <td>-1</td>\n",
       "      <td>ACCRLINK                         VER     2   ...</td>\n",
       "    </tr>\n",
       "    <tr>\n",
       "      <th>168</th>\n",
       "      <td>1</td>\n",
       "      <td>3</td>\n",
       "      <td>-1</td>\n",
       "      <td>-1</td>\n",
       "      <td>ACCT                             VER     1   ...</td>\n",
       "    </tr>\n",
       "    <tr>\n",
       "      <th>184</th>\n",
       "      <td>1</td>\n",
       "      <td>4</td>\n",
       "      <td>-1</td>\n",
       "      <td>-1</td>\n",
       "      <td>ACCTG-CNTL                       VER     1   ...</td>\n",
       "    </tr>\n",
       "    <tr>\n",
       "      <th>...</th>\n",
       "      <td>...</td>\n",
       "      <td>...</td>\n",
       "      <td>...</td>\n",
       "      <td>...</td>\n",
       "      <td>...</td>\n",
       "    </tr>\n",
       "    <tr>\n",
       "      <th>171288</th>\n",
       "      <td>1</td>\n",
       "      <td>3656</td>\n",
       "      <td>-1</td>\n",
       "      <td>-1</td>\n",
       "      <td>502-REPT-DTL-RCRD                VER     1   ...</td>\n",
       "    </tr>\n",
       "    <tr>\n",
       "      <th>171366</th>\n",
       "      <td>1</td>\n",
       "      <td>3657</td>\n",
       "      <td>-1</td>\n",
       "      <td>-1</td>\n",
       "      <td>502-REPT-DTL-RCRD                VER     2   ...</td>\n",
       "    </tr>\n",
       "    <tr>\n",
       "      <th>171433</th>\n",
       "      <td>1</td>\n",
       "      <td>3658</td>\n",
       "      <td>-1</td>\n",
       "      <td>-1</td>\n",
       "      <td>502-REPT-DTL-RCRD                VER     4   ...</td>\n",
       "    </tr>\n",
       "    <tr>\n",
       "      <th>171505</th>\n",
       "      <td>1</td>\n",
       "      <td>3659</td>\n",
       "      <td>-1</td>\n",
       "      <td>-1</td>\n",
       "      <td>502-TEMP-DTL-RCRD                VER     1   ...</td>\n",
       "    </tr>\n",
       "    <tr>\n",
       "      <th>171575</th>\n",
       "      <td>1</td>\n",
       "      <td>3660</td>\n",
       "      <td>-1</td>\n",
       "      <td>-1</td>\n",
       "      <td>502-TEMP-DTL-RCRD                VER     4   ...</td>\n",
       "    </tr>\n",
       "  </tbody>\n",
       "</table>\n",
       "<p>3661 rows × 5 columns</p>\n",
       "</div>"
      ],
      "text/plain": [
       "        leading_space_count  table_index  synonym_index  modifies_line  \\\n",
       "0                         1            0             -1             -1   \n",
       "11                        1            1             -1             -1   \n",
       "104                       1            2             -1             -1   \n",
       "168                       1            3             -1             -1   \n",
       "184                       1            4             -1             -1   \n",
       "...                     ...          ...            ...            ...   \n",
       "171288                    1         3656             -1             -1   \n",
       "171366                    1         3657             -1             -1   \n",
       "171433                    1         3658             -1             -1   \n",
       "171505                    1         3659             -1             -1   \n",
       "171575                    1         3660             -1             -1   \n",
       "\n",
       "                                                     line  \n",
       "0        ABSDOMN                          VER     1   ...  \n",
       "11       ACCRLINK                         VER     1   ...  \n",
       "104      ACCRLINK                         VER     2   ...  \n",
       "168      ACCT                             VER     1   ...  \n",
       "184      ACCTG-CNTL                       VER     1   ...  \n",
       "...                                                   ...  \n",
       "171288   502-REPT-DTL-RCRD                VER     1   ...  \n",
       "171366   502-REPT-DTL-RCRD                VER     2   ...  \n",
       "171433   502-REPT-DTL-RCRD                VER     4   ...  \n",
       "171505   502-TEMP-DTL-RCRD                VER     1   ...  \n",
       "171575   502-TEMP-DTL-RCRD                VER     4   ...  \n",
       "\n",
       "[3661 rows x 5 columns]"
      ]
     },
     "execution_count": 28,
     "metadata": {},
     "output_type": "execute_result"
    }
   ],
   "source": [
    "lines_df[ lines_df['leading_space_count'] == 1 ]"
   ]
  },
  {
   "cell_type": "code",
   "execution_count": 29,
   "id": "bc6f1992-cd63-4cbb-b1d3-4ee57266c96f",
   "metadata": {},
   "outputs": [],
   "source": [
    "text_clumps = lines_df.groupby( 'leading_space_count' ).apply( lambda group: group['line'].to_list() )"
   ]
  },
  {
   "cell_type": "code",
   "execution_count": 30,
   "id": "cb2cf2f7-65f5-4f6d-9c42-091ec031f070",
   "metadata": {},
   "outputs": [
    {
     "name": "stdout",
     "output_type": "stream",
     "text": [
      "<class 'pandas.core.series.Series'>\n",
      "Int64Index: 11 entries, 1 to 27\n",
      "Series name: None\n",
      "Non-Null Count  Dtype \n",
      "--------------  ----- \n",
      "11 non-null     object\n",
      "dtypes: object(1)\n",
      "memory usage: 176.0+ bytes\n"
     ]
    }
   ],
   "source": [
    "text_clumps.info()"
   ]
  },
  {
   "cell_type": "code",
   "execution_count": 31,
   "id": "d1724b53-bdf5-4eab-bb4c-84a592fdbf86",
   "metadata": {},
   "outputs": [
    {
     "data": {
      "text/plain": [
       "[3661, 18569, 31042, 6756, 62916, 31763, 63, 2902, 33, 13934, 3]"
      ]
     },
     "execution_count": 31,
     "metadata": {},
     "output_type": "execute_result"
    }
   ],
   "source": [
    "[ len( _ ) for _ in text_clumps ]"
   ]
  },
  {
   "cell_type": "markdown",
   "id": "6d7db8c8-1573-4edb-8c61-d68556911ae5",
   "metadata": {},
   "source": [
    "# TABLE NAMES"
   ]
  },
  {
   "cell_type": "code",
   "execution_count": 32,
   "id": "b97d1654-cf8e-47f0-a297-2f511cacea0f",
   "metadata": {},
   "outputs": [
    {
     "data": {
      "text/plain": [
       "[' ABSDOMN                          VER     1    32      D                                    10/15/87 09/29/87',\n",
       " ' ACCRLINK                         VER     1   176      D                                    03/09/98 02/21/84',\n",
       " ' ACCRLINK                         VER     2   176      D                                    05/15/98 05/15/98',\n",
       " ' ACCT                             VER     1    40      S                                    09/24/87 09/21/87',\n",
       " ' ACCTG-CNTL                       VER     1   100      D                                    02/07/89 05/26/87',\n",
       " ' ACH-RCRD                         VER     1   148      D                                             06/22/84',\n",
       " ' ACQD-PROP-MAP-RCRD               VER     1   141      C                                    07/31/87 06/30/87',\n",
       " ' ACQD-PROP-QUEUE-RCRD             VER     1   260      C                                    01/20/93 06/30/87',\n",
       " ' ACQD-PROP-SALES-RCRD             VER     1   286      D                                    09/19/94 09/01/94',\n",
       " ' ACQD-PROP-SOLD                   VER     1   400      D                                    02/22/91 04/26/89',\n",
       " ' ACQPHIST                         VER     3   100      D                                    08/27/92 08/20/92',\n",
       " ' ACQPHIST                         VER     4   128      S                                    01/12/93 01/12/93',\n",
       " ' ACQPRO-RCRD                      VER     1   253      D                                    06/08/83 03/05/83',\n",
       " ' ACQPROP                          VER     3   100      D                                    08/27/92 08/20/92',\n",
       " ' ACQPROP                          VER     4   128      S                                    01/13/93 01/13/93',\n",
       " ' ACTL-TRADE-CST-TRNSCTN-RCRD      VER     1   374      C                                    04/27/93 01/30/93',\n",
       " ' ADBS-WORK-RECORD                 VER     1   169      D                                             12/01/83',\n",
       " ' ADD-SAVE-SYNTX-R                 VER     1    80      D                                             09/27/83',\n",
       " ' ADJMT-HIST-RCRD                  VER     1    69      D                                    05/12/93 11/03/86',\n",
       " ' ADM-ADJMT-AC-TRNSCTN-RCRD        VER     1    30      C                                    07/27/88 10/03/84']"
      ]
     },
     "execution_count": 32,
     "metadata": {},
     "output_type": "execute_result"
    }
   ],
   "source": [
    "text_clumps[1][:20]"
   ]
  },
  {
   "cell_type": "code",
   "execution_count": 33,
   "id": "1174a66a-f22f-4ad6-baf4-8aa0fd530168",
   "metadata": {},
   "outputs": [
    {
     "data": {
      "text/plain": [
       "Counter({109: 3661})"
      ]
     },
     "execution_count": 33,
     "metadata": {},
     "output_type": "execute_result"
    }
   ],
   "source": [
    "Counter( [ len(_) for _ in text_clumps[1] ] )"
   ]
  },
  {
   "cell_type": "code",
   "execution_count": 34,
   "id": "2a29c860-3076-44d8-a6bd-046d7be1cbcc",
   "metadata": {},
   "outputs": [],
   "source": [
    "p = re.compile( r'\\s(\\S+)\\s+VER\\s+(\\d+)' )"
   ]
  },
  {
   "cell_type": "code",
   "execution_count": 35,
   "id": "07003cc6-2d96-43f5-8837-0b14844b2899",
   "metadata": {},
   "outputs": [],
   "source": [
    "table_info_list = [ p.match( _ ).groups(1) for _ in text_clumps[1] ]"
   ]
  },
  {
   "cell_type": "code",
   "execution_count": 36,
   "id": "dab55e7d-0ab6-4d53-abf1-996c76ff898c",
   "metadata": {},
   "outputs": [
    {
     "data": {
      "text/plain": [
       "3661"
      ]
     },
     "execution_count": 36,
     "metadata": {},
     "output_type": "execute_result"
    }
   ],
   "source": [
    "len( table_info_list )"
   ]
  },
  {
   "cell_type": "code",
   "execution_count": 37,
   "id": "4b127d52-aa9a-431c-aa65-091892fd3eb1",
   "metadata": {},
   "outputs": [
    {
     "data": {
      "text/plain": [
       "[('ABSDOMN', '1'),\n",
       " ('ACCRLINK', '1'),\n",
       " ('ACCRLINK', '2'),\n",
       " ('ACCT', '1'),\n",
       " ('ACCTG-CNTL', '1'),\n",
       " ('ACH-RCRD', '1'),\n",
       " ('ACQD-PROP-MAP-RCRD', '1'),\n",
       " ('ACQD-PROP-QUEUE-RCRD', '1'),\n",
       " ('ACQD-PROP-SALES-RCRD', '1'),\n",
       " ('ACQD-PROP-SOLD', '1')]"
      ]
     },
     "execution_count": 37,
     "metadata": {},
     "output_type": "execute_result"
    }
   ],
   "source": [
    "table_info_list[:10]"
   ]
  },
  {
   "cell_type": "code",
   "execution_count": 38,
   "id": "63ae8acb-300a-4f9d-a519-793be65267c0",
   "metadata": {},
   "outputs": [],
   "source": [
    "table_names, table_vers = zip(*table_info_list )"
   ]
  },
  {
   "cell_type": "code",
   "execution_count": 39,
   "id": "70b9a4a1-96cb-43cd-8a9e-19a4af015785",
   "metadata": {},
   "outputs": [],
   "source": [
    "created_dates = pd.to_datetime( [ _[101:109] for _ in text_clumps[1] ] )"
   ]
  },
  {
   "cell_type": "code",
   "execution_count": 40,
   "id": "7046d0cc-8f78-4e6c-98f3-7bf93b6cb4ab",
   "metadata": {},
   "outputs": [
    {
     "data": {
      "text/plain": [
       "3661"
      ]
     },
     "execution_count": 40,
     "metadata": {},
     "output_type": "execute_result"
    }
   ],
   "source": [
    "len( created_dates )"
   ]
  },
  {
   "cell_type": "code",
   "execution_count": 41,
   "id": "cc14428a-7ce9-4a68-808d-adce4efdfb7c",
   "metadata": {},
   "outputs": [],
   "source": [
    "updated_dates = pd.to_datetime( [ _[92:100] for _ in text_clumps[1] ], errors='coerce' )"
   ]
  },
  {
   "cell_type": "code",
   "execution_count": 42,
   "id": "a2d398ac-262c-4ef7-a228-398f1bb7f4f3",
   "metadata": {},
   "outputs": [
    {
     "data": {
      "text/plain": [
       "DatetimeIndex(['1987-10-15', '1998-03-09', '1998-05-15', '1987-09-24',\n",
       "               '1989-02-07',        'NaT', '1987-07-31', '1993-01-20',\n",
       "               '1994-09-19', '1991-02-22',\n",
       "               ...\n",
       "               '2000-01-28', '1992-06-03', '1989-11-15', '1994-09-16',\n",
       "               '1983-09-15', '2002-12-09',        'NaT', '2002-03-14',\n",
       "               '2002-12-09', '2002-03-14'],\n",
       "              dtype='datetime64[ns]', length=3661, freq=None)"
      ]
     },
     "execution_count": 42,
     "metadata": {},
     "output_type": "execute_result"
    }
   ],
   "source": [
    "updated_dates"
   ]
  },
  {
   "cell_type": "code",
   "execution_count": 43,
   "id": "98a7f9c2-b326-4265-9f4b-237f5a013576",
   "metadata": {},
   "outputs": [],
   "source": [
    "table_info = pd.DataFrame( data=dict(\n",
    "    table_names=table_names,\n",
    "    table_vers=table_vers,\n",
    "    created_dates=created_dates,\n",
    "    updated_dates= updated_dates\n",
    "))"
   ]
  },
  {
   "cell_type": "code",
   "execution_count": 44,
   "id": "7d0e455e-d87b-4f5a-bd7f-b2d1093ec090",
   "metadata": {},
   "outputs": [
    {
     "data": {
      "text/html": [
       "<div>\n",
       "<style scoped>\n",
       "    .dataframe tbody tr th:only-of-type {\n",
       "        vertical-align: middle;\n",
       "    }\n",
       "\n",
       "    .dataframe tbody tr th {\n",
       "        vertical-align: top;\n",
       "    }\n",
       "\n",
       "    .dataframe thead th {\n",
       "        text-align: right;\n",
       "    }\n",
       "</style>\n",
       "<table border=\"1\" class=\"dataframe\">\n",
       "  <thead>\n",
       "    <tr style=\"text-align: right;\">\n",
       "      <th></th>\n",
       "      <th>table_names</th>\n",
       "      <th>table_vers</th>\n",
       "      <th>created_dates</th>\n",
       "      <th>updated_dates</th>\n",
       "    </tr>\n",
       "  </thead>\n",
       "  <tbody>\n",
       "    <tr>\n",
       "      <th>0</th>\n",
       "      <td>ABSDOMN</td>\n",
       "      <td>1</td>\n",
       "      <td>1987-09-29</td>\n",
       "      <td>1987-10-15</td>\n",
       "    </tr>\n",
       "    <tr>\n",
       "      <th>1</th>\n",
       "      <td>ACCRLINK</td>\n",
       "      <td>1</td>\n",
       "      <td>1984-02-21</td>\n",
       "      <td>1998-03-09</td>\n",
       "    </tr>\n",
       "    <tr>\n",
       "      <th>2</th>\n",
       "      <td>ACCRLINK</td>\n",
       "      <td>2</td>\n",
       "      <td>1998-05-15</td>\n",
       "      <td>1998-05-15</td>\n",
       "    </tr>\n",
       "    <tr>\n",
       "      <th>3</th>\n",
       "      <td>ACCT</td>\n",
       "      <td>1</td>\n",
       "      <td>1987-09-21</td>\n",
       "      <td>1987-09-24</td>\n",
       "    </tr>\n",
       "    <tr>\n",
       "      <th>4</th>\n",
       "      <td>ACCTG-CNTL</td>\n",
       "      <td>1</td>\n",
       "      <td>1987-05-26</td>\n",
       "      <td>1989-02-07</td>\n",
       "    </tr>\n",
       "    <tr>\n",
       "      <th>5</th>\n",
       "      <td>ACH-RCRD</td>\n",
       "      <td>1</td>\n",
       "      <td>1984-06-22</td>\n",
       "      <td>NaT</td>\n",
       "    </tr>\n",
       "    <tr>\n",
       "      <th>6</th>\n",
       "      <td>ACQD-PROP-MAP-RCRD</td>\n",
       "      <td>1</td>\n",
       "      <td>1987-06-30</td>\n",
       "      <td>1987-07-31</td>\n",
       "    </tr>\n",
       "    <tr>\n",
       "      <th>7</th>\n",
       "      <td>ACQD-PROP-QUEUE-RCRD</td>\n",
       "      <td>1</td>\n",
       "      <td>1987-06-30</td>\n",
       "      <td>1993-01-20</td>\n",
       "    </tr>\n",
       "    <tr>\n",
       "      <th>8</th>\n",
       "      <td>ACQD-PROP-SALES-RCRD</td>\n",
       "      <td>1</td>\n",
       "      <td>1994-09-01</td>\n",
       "      <td>1994-09-19</td>\n",
       "    </tr>\n",
       "    <tr>\n",
       "      <th>9</th>\n",
       "      <td>ACQD-PROP-SOLD</td>\n",
       "      <td>1</td>\n",
       "      <td>1989-04-26</td>\n",
       "      <td>1991-02-22</td>\n",
       "    </tr>\n",
       "    <tr>\n",
       "      <th>10</th>\n",
       "      <td>ACQPHIST</td>\n",
       "      <td>3</td>\n",
       "      <td>1992-08-20</td>\n",
       "      <td>1992-08-27</td>\n",
       "    </tr>\n",
       "    <tr>\n",
       "      <th>11</th>\n",
       "      <td>ACQPHIST</td>\n",
       "      <td>4</td>\n",
       "      <td>1993-01-12</td>\n",
       "      <td>1993-01-12</td>\n",
       "    </tr>\n",
       "    <tr>\n",
       "      <th>12</th>\n",
       "      <td>ACQPRO-RCRD</td>\n",
       "      <td>1</td>\n",
       "      <td>1983-03-05</td>\n",
       "      <td>1983-06-08</td>\n",
       "    </tr>\n",
       "    <tr>\n",
       "      <th>13</th>\n",
       "      <td>ACQPROP</td>\n",
       "      <td>3</td>\n",
       "      <td>1992-08-20</td>\n",
       "      <td>1992-08-27</td>\n",
       "    </tr>\n",
       "    <tr>\n",
       "      <th>14</th>\n",
       "      <td>ACQPROP</td>\n",
       "      <td>4</td>\n",
       "      <td>1993-01-13</td>\n",
       "      <td>1993-01-13</td>\n",
       "    </tr>\n",
       "    <tr>\n",
       "      <th>15</th>\n",
       "      <td>ACTL-TRADE-CST-TRNSCTN-RCRD</td>\n",
       "      <td>1</td>\n",
       "      <td>1993-01-30</td>\n",
       "      <td>1993-04-27</td>\n",
       "    </tr>\n",
       "    <tr>\n",
       "      <th>16</th>\n",
       "      <td>ADBS-WORK-RECORD</td>\n",
       "      <td>1</td>\n",
       "      <td>1983-12-01</td>\n",
       "      <td>NaT</td>\n",
       "    </tr>\n",
       "    <tr>\n",
       "      <th>17</th>\n",
       "      <td>ADD-SAVE-SYNTX-R</td>\n",
       "      <td>1</td>\n",
       "      <td>1983-09-27</td>\n",
       "      <td>NaT</td>\n",
       "    </tr>\n",
       "    <tr>\n",
       "      <th>18</th>\n",
       "      <td>ADJMT-HIST-RCRD</td>\n",
       "      <td>1</td>\n",
       "      <td>1986-11-03</td>\n",
       "      <td>1993-05-12</td>\n",
       "    </tr>\n",
       "    <tr>\n",
       "      <th>19</th>\n",
       "      <td>ADM-ADJMT-AC-TRNSCTN-RCRD</td>\n",
       "      <td>1</td>\n",
       "      <td>1984-10-03</td>\n",
       "      <td>1988-07-27</td>\n",
       "    </tr>\n",
       "  </tbody>\n",
       "</table>\n",
       "</div>"
      ],
      "text/plain": [
       "                    table_names table_vers created_dates updated_dates\n",
       "0                       ABSDOMN          1    1987-09-29    1987-10-15\n",
       "1                      ACCRLINK          1    1984-02-21    1998-03-09\n",
       "2                      ACCRLINK          2    1998-05-15    1998-05-15\n",
       "3                          ACCT          1    1987-09-21    1987-09-24\n",
       "4                    ACCTG-CNTL          1    1987-05-26    1989-02-07\n",
       "5                      ACH-RCRD          1    1984-06-22           NaT\n",
       "6            ACQD-PROP-MAP-RCRD          1    1987-06-30    1987-07-31\n",
       "7          ACQD-PROP-QUEUE-RCRD          1    1987-06-30    1993-01-20\n",
       "8          ACQD-PROP-SALES-RCRD          1    1994-09-01    1994-09-19\n",
       "9                ACQD-PROP-SOLD          1    1989-04-26    1991-02-22\n",
       "10                     ACQPHIST          3    1992-08-20    1992-08-27\n",
       "11                     ACQPHIST          4    1993-01-12    1993-01-12\n",
       "12                  ACQPRO-RCRD          1    1983-03-05    1983-06-08\n",
       "13                      ACQPROP          3    1992-08-20    1992-08-27\n",
       "14                      ACQPROP          4    1993-01-13    1993-01-13\n",
       "15  ACTL-TRADE-CST-TRNSCTN-RCRD          1    1993-01-30    1993-04-27\n",
       "16             ADBS-WORK-RECORD          1    1983-12-01           NaT\n",
       "17             ADD-SAVE-SYNTX-R          1    1983-09-27           NaT\n",
       "18              ADJMT-HIST-RCRD          1    1986-11-03    1993-05-12\n",
       "19    ADM-ADJMT-AC-TRNSCTN-RCRD          1    1984-10-03    1988-07-27"
      ]
     },
     "execution_count": 44,
     "metadata": {},
     "output_type": "execute_result"
    }
   ],
   "source": [
    "table_info.head(20)"
   ]
  },
  {
   "cell_type": "markdown",
   "id": "62529e43-a4e6-4eb9-8eec-d78cc5a29c99",
   "metadata": {},
   "source": [
    "# 5's are for metadata"
   ]
  },
  {
   "cell_type": "code",
   "execution_count": 45,
   "id": "9e95a4c7-754e-426b-b957-f9c4f1511905",
   "metadata": {},
   "outputs": [
    {
     "data": {
      "text/plain": [
       "['     PREPARED BY          AWMC11',\n",
       " '     REVISED BY           AWMC11',\n",
       " '     DESCRIPTION          USER DOMAIN',\n",
       " '     RECORD               ABSDOMN                                  VER     1 D  SUFFIX -4541',\n",
       " '     PREPARED BY          AA-KGM',\n",
       " '     REVISED BY           ASL034',\n",
       " '     DESCRIPTION          ACCRUAL LINK RECORD',\n",
       " '     RFA-ID               H-3973',\n",
       " '     RFA-ID               H-3581A',\n",
       " '     DEFINITION',\n",
       " '     RECORD               ACCRLINK                                 VER     1 D  PREFIX W019-',\n",
       " '     PREPARED BY          ASL70M',\n",
       " '     REVISED BY           ASL70M',\n",
       " '     DESCRIPTION          ACCRUAL LINK RECORD',\n",
       " '     RFA-ID               H-3973',\n",
       " '     RFA-ID               H-3581A',\n",
       " '     SAME AS              ACCRLINK                                 VER     1',\n",
       " '     DEFINITION',\n",
       " '     RECORD               ACCRLINK                                 VER     2 D  PREFIX W019-',\n",
       " '     PREPARED BY          ASL052']"
      ]
     },
     "execution_count": 45,
     "metadata": {},
     "output_type": "execute_result"
    }
   ],
   "source": [
    "text_clumps[5][:20]"
   ]
  },
  {
   "cell_type": "code",
   "execution_count": 46,
   "id": "bd7d3bc3-5cc7-405e-9de6-bf56fb53af06",
   "metadata": {},
   "outputs": [],
   "source": [
    "p = re.compile( r'     (\\S+)' )"
   ]
  },
  {
   "cell_type": "code",
   "execution_count": 47,
   "id": "f8d9ff52-b609-4301-ae02-eb086df48b67",
   "metadata": {},
   "outputs": [
    {
     "data": {
      "text/plain": [
       "Counter({'PREPARED': 3629,\n",
       "         'REVISED': 3032,\n",
       "         'DESCRIPTION': 3176,\n",
       "         'RECORD': 4126,\n",
       "         'RFA-ID': 729,\n",
       "         'DEFINITION': 1166,\n",
       "         'SAME': 573,\n",
       "         'IN': 1737,\n",
       "         'COMMENT': 203,\n",
       "         'PURPOSE': 63,\n",
       "         'PRIMARY': 27,\n",
       "         'FMHA-TRANS': 19,\n",
       "         'LANGUAGE': 44,\n",
       "         'SUB-SYSTEM': 2,\n",
       "         'MODE': 39,\n",
       "         'EGEN': 1,\n",
       "         'USER': 1,\n",
       "         'MEDIUM': 1,\n",
       "         'FREQUENCY': 1})"
      ]
     },
     "execution_count": 47,
     "metadata": {},
     "output_type": "execute_result"
    }
   ],
   "source": [
    "Counter( [ p.match( _ ).groups(1)[0] for _ in text_clumps[5] ] )"
   ]
  },
  {
   "cell_type": "markdown",
   "id": "3689bb43-b4e3-4178-8a66-c1899ddf5328",
   "metadata": {},
   "source": [
    "## Pull DESCRIPTION one-liners"
   ]
  },
  {
   "cell_type": "code",
   "execution_count": 48,
   "id": "b86f362b-0cb6-437d-b2e7-b0accd0a6ad2",
   "metadata": {},
   "outputs": [],
   "source": [
    "p = re.compile( r'^ (\\S+)\\s+VER\\s+(\\d+).*?DESCRIPTION\\s+(.*?)$', flags=re.DOTALL | re.MULTILINE ) "
   ]
  },
  {
   "cell_type": "code",
   "execution_count": 49,
   "id": "20da797b-007e-4e28-a8ee-4641df4d1adb",
   "metadata": {},
   "outputs": [],
   "source": [
    "desc_table_names, desc_table_vers, desc_descs = zip( *p.findall( removed_headers ) )"
   ]
  },
  {
   "cell_type": "code",
   "execution_count": 50,
   "id": "1d5fbcce-13b9-4ee6-964a-438824d6a61c",
   "metadata": {},
   "outputs": [
    {
     "data": {
      "text/plain": [
       "3184"
      ]
     },
     "execution_count": 50,
     "metadata": {},
     "output_type": "execute_result"
    }
   ],
   "source": [
    "len( desc_table_names )"
   ]
  },
  {
   "cell_type": "code",
   "execution_count": 51,
   "id": "2de822c4-95d2-45e7-8959-95b87be3b2fa",
   "metadata": {},
   "outputs": [
    {
     "data": {
      "text/plain": [
       "3184"
      ]
     },
     "execution_count": 51,
     "metadata": {},
     "output_type": "execute_result"
    }
   ],
   "source": [
    "len( desc_table_vers )"
   ]
  },
  {
   "cell_type": "code",
   "execution_count": 52,
   "id": "62f919ab-b17c-4e51-adf2-5aeb7c093fb5",
   "metadata": {},
   "outputs": [
    {
     "data": {
      "text/plain": [
       "3184"
      ]
     },
     "execution_count": 52,
     "metadata": {},
     "output_type": "execute_result"
    }
   ],
   "source": [
    "len( desc_table_names) "
   ]
  },
  {
   "cell_type": "code",
   "execution_count": 53,
   "id": "401ab294-5cc8-4796-b98c-504c5cf58eaf",
   "metadata": {},
   "outputs": [],
   "source": [
    "descs = pd.DataFrame( dict(\n",
    "    table_names = desc_table_names,\n",
    "    table_vers = desc_table_vers,\n",
    "    descriptions = desc_descs ))"
   ]
  },
  {
   "cell_type": "code",
   "execution_count": 54,
   "id": "b2f6eacf-cbf7-47e8-b82b-110e86e20f21",
   "metadata": {},
   "outputs": [
    {
     "data": {
      "text/plain": [
       "(3661, 4)"
      ]
     },
     "execution_count": 54,
     "metadata": {},
     "output_type": "execute_result"
    }
   ],
   "source": [
    "table_info.shape"
   ]
  },
  {
   "cell_type": "code",
   "execution_count": 55,
   "id": "a7ea6f0c-a3de-4859-af63-96f523dcce5c",
   "metadata": {},
   "outputs": [
    {
     "data": {
      "text/plain": [
       "(3184, 3)"
      ]
     },
     "execution_count": 55,
     "metadata": {},
     "output_type": "execute_result"
    }
   ],
   "source": [
    "descs.shape"
   ]
  },
  {
   "cell_type": "code",
   "execution_count": 56,
   "id": "adb7985d-d1cb-4741-9db2-2afba069b1e0",
   "metadata": {},
   "outputs": [],
   "source": [
    "merged_table_info = table_info.merge( descs, on=['table_names', \"table_vers\"], how='left' )"
   ]
  },
  {
   "cell_type": "code",
   "execution_count": 57,
   "id": "a00e85f1-1760-46df-8bd7-89b80c32e57f",
   "metadata": {},
   "outputs": [
    {
     "data": {
      "text/html": [
       "<div>\n",
       "<style scoped>\n",
       "    .dataframe tbody tr th:only-of-type {\n",
       "        vertical-align: middle;\n",
       "    }\n",
       "\n",
       "    .dataframe tbody tr th {\n",
       "        vertical-align: top;\n",
       "    }\n",
       "\n",
       "    .dataframe thead th {\n",
       "        text-align: right;\n",
       "    }\n",
       "</style>\n",
       "<table border=\"1\" class=\"dataframe\">\n",
       "  <thead>\n",
       "    <tr style=\"text-align: right;\">\n",
       "      <th></th>\n",
       "      <th>table_names</th>\n",
       "      <th>table_vers</th>\n",
       "      <th>created_dates</th>\n",
       "      <th>updated_dates</th>\n",
       "      <th>descriptions</th>\n",
       "    </tr>\n",
       "  </thead>\n",
       "  <tbody>\n",
       "    <tr>\n",
       "      <th>0</th>\n",
       "      <td>ABSDOMN</td>\n",
       "      <td>1</td>\n",
       "      <td>1987-09-29</td>\n",
       "      <td>1987-10-15</td>\n",
       "      <td>USER DOMAIN</td>\n",
       "    </tr>\n",
       "    <tr>\n",
       "      <th>1</th>\n",
       "      <td>ACCRLINK</td>\n",
       "      <td>1</td>\n",
       "      <td>1984-02-21</td>\n",
       "      <td>1998-03-09</td>\n",
       "      <td>ACCRUAL LINK RECORD</td>\n",
       "    </tr>\n",
       "    <tr>\n",
       "      <th>2</th>\n",
       "      <td>ACCRLINK</td>\n",
       "      <td>2</td>\n",
       "      <td>1998-05-15</td>\n",
       "      <td>1998-05-15</td>\n",
       "      <td>ACCRUAL LINK RECORD</td>\n",
       "    </tr>\n",
       "    <tr>\n",
       "      <th>3</th>\n",
       "      <td>ACCT</td>\n",
       "      <td>1</td>\n",
       "      <td>1987-09-21</td>\n",
       "      <td>1987-09-24</td>\n",
       "      <td>DFIS ACCOUNT</td>\n",
       "    </tr>\n",
       "    <tr>\n",
       "      <th>4</th>\n",
       "      <td>ACCTG-CNTL</td>\n",
       "      <td>1</td>\n",
       "      <td>1987-05-26</td>\n",
       "      <td>1989-02-07</td>\n",
       "      <td>ACCOUNTING MONTH ACTIVITY TOTALS</td>\n",
       "    </tr>\n",
       "    <tr>\n",
       "      <th>...</th>\n",
       "      <td>...</td>\n",
       "      <td>...</td>\n",
       "      <td>...</td>\n",
       "      <td>...</td>\n",
       "      <td>...</td>\n",
       "    </tr>\n",
       "    <tr>\n",
       "      <th>3656</th>\n",
       "      <td>502-REPT-DTL-RCRD</td>\n",
       "      <td>1</td>\n",
       "      <td>1984-06-28</td>\n",
       "      <td>2002-12-09</td>\n",
       "      <td>COPY MODULE FOR 502-REPORT</td>\n",
       "    </tr>\n",
       "    <tr>\n",
       "      <th>3657</th>\n",
       "      <td>502-REPT-DTL-RCRD</td>\n",
       "      <td>2</td>\n",
       "      <td>2003-06-13</td>\n",
       "      <td>NaT</td>\n",
       "      <td>COPY MODULE FOR 502-REPORT</td>\n",
       "    </tr>\n",
       "    <tr>\n",
       "      <th>3658</th>\n",
       "      <td>502-REPT-DTL-RCRD</td>\n",
       "      <td>4</td>\n",
       "      <td>2002-03-12</td>\n",
       "      <td>2002-03-14</td>\n",
       "      <td>COPY MODULE FOR 502-REPORT</td>\n",
       "    </tr>\n",
       "    <tr>\n",
       "      <th>3659</th>\n",
       "      <td>502-TEMP-DTL-RCRD</td>\n",
       "      <td>1</td>\n",
       "      <td>1989-01-30</td>\n",
       "      <td>2002-12-09</td>\n",
       "      <td>WORK RECORD FOR 502 REPORT</td>\n",
       "    </tr>\n",
       "    <tr>\n",
       "      <th>3660</th>\n",
       "      <td>502-TEMP-DTL-RCRD</td>\n",
       "      <td>4</td>\n",
       "      <td>2002-03-12</td>\n",
       "      <td>2002-03-14</td>\n",
       "      <td>WORK RECORD FOR 502 REPORT</td>\n",
       "    </tr>\n",
       "  </tbody>\n",
       "</table>\n",
       "<p>3661 rows × 5 columns</p>\n",
       "</div>"
      ],
      "text/plain": [
       "            table_names table_vers created_dates updated_dates  \\\n",
       "0               ABSDOMN          1    1987-09-29    1987-10-15   \n",
       "1              ACCRLINK          1    1984-02-21    1998-03-09   \n",
       "2              ACCRLINK          2    1998-05-15    1998-05-15   \n",
       "3                  ACCT          1    1987-09-21    1987-09-24   \n",
       "4            ACCTG-CNTL          1    1987-05-26    1989-02-07   \n",
       "...                 ...        ...           ...           ...   \n",
       "3656  502-REPT-DTL-RCRD          1    1984-06-28    2002-12-09   \n",
       "3657  502-REPT-DTL-RCRD          2    2003-06-13           NaT   \n",
       "3658  502-REPT-DTL-RCRD          4    2002-03-12    2002-03-14   \n",
       "3659  502-TEMP-DTL-RCRD          1    1989-01-30    2002-12-09   \n",
       "3660  502-TEMP-DTL-RCRD          4    2002-03-12    2002-03-14   \n",
       "\n",
       "                          descriptions  \n",
       "0                          USER DOMAIN  \n",
       "1                  ACCRUAL LINK RECORD  \n",
       "2                  ACCRUAL LINK RECORD  \n",
       "3                         DFIS ACCOUNT  \n",
       "4     ACCOUNTING MONTH ACTIVITY TOTALS  \n",
       "...                                ...  \n",
       "3656        COPY MODULE FOR 502-REPORT  \n",
       "3657        COPY MODULE FOR 502-REPORT  \n",
       "3658        COPY MODULE FOR 502-REPORT  \n",
       "3659        WORK RECORD FOR 502 REPORT  \n",
       "3660        WORK RECORD FOR 502 REPORT  \n",
       "\n",
       "[3661 rows x 5 columns]"
      ]
     },
     "execution_count": 57,
     "metadata": {},
     "output_type": "execute_result"
    }
   ],
   "source": [
    "merged_table_info"
   ]
  },
  {
   "cell_type": "markdown",
   "id": "1e742f3b-ea9b-4935-957a-3cf257afc12d",
   "metadata": {},
   "source": [
    "## Pull synonym table names, prefixes and suffixes"
   ]
  },
  {
   "cell_type": "code",
   "execution_count": 58,
   "id": "1bb5127c-a33a-4370-bad0-a40ac5306b18",
   "metadata": {},
   "outputs": [],
   "source": [
    "suffix_df = lines_df[ lines_df['leading_space_count'] == 5 ]"
   ]
  },
  {
   "cell_type": "code",
   "execution_count": 59,
   "id": "857c680f-c401-4fc9-83b4-2e607ede5d0f",
   "metadata": {},
   "outputs": [
    {
     "data": {
      "text/plain": [
       "(18569, 5)"
      ]
     },
     "execution_count": 59,
     "metadata": {},
     "output_type": "execute_result"
    }
   ],
   "source": [
    "suffix_df.shape"
   ]
  },
  {
   "cell_type": "code",
   "execution_count": 60,
   "id": "21f83307-9754-49d8-b277-435e35c466d5",
   "metadata": {},
   "outputs": [],
   "source": [
    "suffix_df = suffix_df[ suffix_df['line'].str.startswith( '     RECORD' ) ]"
   ]
  },
  {
   "cell_type": "code",
   "execution_count": 61,
   "id": "a6087a7d-0c65-47cd-9686-5bd366a4fe81",
   "metadata": {},
   "outputs": [],
   "source": [
    "suffix_df = suffix_df.copy()"
   ]
  },
  {
   "cell_type": "code",
   "execution_count": 62,
   "id": "1531ce45-d573-48c6-9f7b-92a864ac7f81",
   "metadata": {},
   "outputs": [
    {
     "name": "stdout",
     "output_type": "stream",
     "text": [
      "<class 'pandas.core.frame.DataFrame'>\n",
      "Int64Index: 4126 entries, 4 to 171583\n",
      "Data columns (total 5 columns):\n",
      " #   Column               Non-Null Count  Dtype \n",
      "---  ------               --------------  ----- \n",
      " 0   leading_space_count  4126 non-null   int64 \n",
      " 1   table_index          4126 non-null   int64 \n",
      " 2   synonym_index        4126 non-null   int64 \n",
      " 3   modifies_line        4126 non-null   int64 \n",
      " 4   line                 4126 non-null   object\n",
      "dtypes: int64(4), object(1)\n",
      "memory usage: 193.4+ KB\n"
     ]
    }
   ],
   "source": [
    "suffix_df.info()"
   ]
  },
  {
   "cell_type": "code",
   "execution_count": 63,
   "id": "cd32f84e-7ae5-4f39-9628-098f995657d8",
   "metadata": {},
   "outputs": [],
   "source": [
    "name_start_pos = 26\n",
    "name_end_pos = 67\n",
    "affix_type_start_pos = 80\n",
    "affix_type_end_pos = 86\n",
    "affix_start_pos = 87"
   ]
  },
  {
   "cell_type": "code",
   "execution_count": 64,
   "id": "b6d9e21e-2d78-44f2-8046-8a8ca03feb32",
   "metadata": {},
   "outputs": [],
   "source": [
    "suffix_df['synonym_name'] = [ _[26:67].strip() for _ in suffix_df['line'].values ]"
   ]
  },
  {
   "cell_type": "code",
   "execution_count": 65,
   "id": "e9bbccc0-97b2-45af-a14b-0785d2fb2339",
   "metadata": {},
   "outputs": [],
   "source": [
    "suffix_df['affix_type'] = [ _[80:86] if len(_) > 80 else \"\" for _ in suffix_df['line'].values  ]"
   ]
  },
  {
   "cell_type": "code",
   "execution_count": 66,
   "id": "b89a55cc-9831-49b1-b73a-c3f148ed0441",
   "metadata": {},
   "outputs": [],
   "source": [
    "suffix_df['affix'] = [ _[87:] if len(_) > 80 else \"\" for _ in suffix_df['line'].values  ]"
   ]
  },
  {
   "cell_type": "code",
   "execution_count": 67,
   "id": "dd9e8038-9332-450d-be9a-ad31e1509166",
   "metadata": {},
   "outputs": [
    {
     "data": {
      "text/html": [
       "<div>\n",
       "<style scoped>\n",
       "    .dataframe tbody tr th:only-of-type {\n",
       "        vertical-align: middle;\n",
       "    }\n",
       "\n",
       "    .dataframe tbody tr th {\n",
       "        vertical-align: top;\n",
       "    }\n",
       "\n",
       "    .dataframe thead th {\n",
       "        text-align: right;\n",
       "    }\n",
       "</style>\n",
       "<table border=\"1\" class=\"dataframe\">\n",
       "  <thead>\n",
       "    <tr style=\"text-align: right;\">\n",
       "      <th></th>\n",
       "      <th>leading_space_count</th>\n",
       "      <th>table_index</th>\n",
       "      <th>synonym_index</th>\n",
       "      <th>modifies_line</th>\n",
       "      <th>line</th>\n",
       "      <th>synonym_name</th>\n",
       "      <th>affix_type</th>\n",
       "      <th>affix</th>\n",
       "    </tr>\n",
       "  </thead>\n",
       "  <tbody>\n",
       "    <tr>\n",
       "      <th>169605</th>\n",
       "      <td>5</td>\n",
       "      <td>3636</td>\n",
       "      <td>2</td>\n",
       "      <td>-1</td>\n",
       "      <td>RECORD SYNONYM       WZ-PAY-REAP-WPR     ...</td>\n",
       "      <td>WZ-PAY-REAP-WPR</td>\n",
       "      <td>PREFIX</td>\n",
       "      <td>WPR-</td>\n",
       "    </tr>\n",
       "    <tr>\n",
       "      <th>169629</th>\n",
       "      <td>5</td>\n",
       "      <td>3636</td>\n",
       "      <td>3</td>\n",
       "      <td>-1</td>\n",
       "      <td>RECORD SYNONYM       WZ-PAY-REAP-PR      ...</td>\n",
       "      <td>WZ-PAY-REAP-PR</td>\n",
       "      <td>PREFIX</td>\n",
       "      <td>PR-</td>\n",
       "    </tr>\n",
       "    <tr>\n",
       "      <th>169659</th>\n",
       "      <td>5</td>\n",
       "      <td>3637</td>\n",
       "      <td>0</td>\n",
       "      <td>-1</td>\n",
       "      <td>RECORD               WZ-STATE            ...</td>\n",
       "      <td>WZ-STATE</td>\n",
       "      <td></td>\n",
       "      <td></td>\n",
       "    </tr>\n",
       "    <tr>\n",
       "      <th>169674</th>\n",
       "      <td>5</td>\n",
       "      <td>3637</td>\n",
       "      <td>1</td>\n",
       "      <td>-1</td>\n",
       "      <td>RECORD SYNONYM       WZ-STATE-STA        ...</td>\n",
       "      <td>WZ-STATE-STA</td>\n",
       "      <td>PREFIX</td>\n",
       "      <td>STA-</td>\n",
       "    </tr>\n",
       "    <tr>\n",
       "      <th>169689</th>\n",
       "      <td>5</td>\n",
       "      <td>3637</td>\n",
       "      <td>2</td>\n",
       "      <td>-1</td>\n",
       "      <td>RECORD SYNONYM       WZ-STATE-TPE        ...</td>\n",
       "      <td>WZ-STATE-TPE</td>\n",
       "      <td>PREFIX</td>\n",
       "      <td>TPS-</td>\n",
       "    </tr>\n",
       "    <tr>\n",
       "      <th>169707</th>\n",
       "      <td>5</td>\n",
       "      <td>3638</td>\n",
       "      <td>0</td>\n",
       "      <td>-1</td>\n",
       "      <td>RECORD               WZ-TRAN-FIN         ...</td>\n",
       "      <td>WZ-TRAN-FIN</td>\n",
       "      <td></td>\n",
       "      <td></td>\n",
       "    </tr>\n",
       "    <tr>\n",
       "      <th>169756</th>\n",
       "      <td>5</td>\n",
       "      <td>3638</td>\n",
       "      <td>1</td>\n",
       "      <td>-1</td>\n",
       "      <td>RECORD SYNONYM       WZ-TRAN-FIN-WKP     ...</td>\n",
       "      <td>WZ-TRAN-FIN-WKP</td>\n",
       "      <td>PREFIX</td>\n",
       "      <td>WTF-</td>\n",
       "    </tr>\n",
       "    <tr>\n",
       "      <th>169805</th>\n",
       "      <td>5</td>\n",
       "      <td>3638</td>\n",
       "      <td>2</td>\n",
       "      <td>-1</td>\n",
       "      <td>RECORD SYNONYM       WZ-TRAN-FIN-DSC     ...</td>\n",
       "      <td>WZ-TRAN-FIN-DSC</td>\n",
       "      <td>PREFIX</td>\n",
       "      <td>DTF-</td>\n",
       "    </tr>\n",
       "    <tr>\n",
       "      <th>169854</th>\n",
       "      <td>5</td>\n",
       "      <td>3638</td>\n",
       "      <td>3</td>\n",
       "      <td>-1</td>\n",
       "      <td>RECORD SYNONYM       WZ-TRAN-FIN-PRC     ...</td>\n",
       "      <td>WZ-TRAN-FIN-PRC</td>\n",
       "      <td>PREFIX</td>\n",
       "      <td>PTF-</td>\n",
       "    </tr>\n",
       "    <tr>\n",
       "      <th>169903</th>\n",
       "      <td>5</td>\n",
       "      <td>3638</td>\n",
       "      <td>4</td>\n",
       "      <td>-1</td>\n",
       "      <td>RECORD SYNONYM       WZ-TRAN-FIN-TF      ...</td>\n",
       "      <td>WZ-TRAN-FIN-TF</td>\n",
       "      <td>PREFIX</td>\n",
       "      <td>TF-</td>\n",
       "    </tr>\n",
       "    <tr>\n",
       "      <th>169957</th>\n",
       "      <td>5</td>\n",
       "      <td>3639</td>\n",
       "      <td>0</td>\n",
       "      <td>-1</td>\n",
       "      <td>RECORD               WZ-TRNS-FIN         ...</td>\n",
       "      <td>WZ-TRNS-FIN</td>\n",
       "      <td></td>\n",
       "      <td></td>\n",
       "    </tr>\n",
       "    <tr>\n",
       "      <th>169990</th>\n",
       "      <td>5</td>\n",
       "      <td>3639</td>\n",
       "      <td>1</td>\n",
       "      <td>-1</td>\n",
       "      <td>RECORD SYNONYM       WZ-TRNS-FIN-TPE     ...</td>\n",
       "      <td>WZ-TRNS-FIN-TPE</td>\n",
       "      <td>PREFIX</td>\n",
       "      <td>TTF-</td>\n",
       "    </tr>\n",
       "    <tr>\n",
       "      <th>170024</th>\n",
       "      <td>5</td>\n",
       "      <td>3639</td>\n",
       "      <td>2</td>\n",
       "      <td>-1</td>\n",
       "      <td>RECORD SYNONYM       WZ-TRNS-FIN-ITF     ...</td>\n",
       "      <td>WZ-TRNS-FIN-ITF</td>\n",
       "      <td>PREFIX</td>\n",
       "      <td>ITF-</td>\n",
       "    </tr>\n",
       "    <tr>\n",
       "      <th>170061</th>\n",
       "      <td>5</td>\n",
       "      <td>3640</td>\n",
       "      <td>0</td>\n",
       "      <td>-1</td>\n",
       "      <td>RECORD               WZ-WRK-BLK          ...</td>\n",
       "      <td>WZ-WRK-BLK</td>\n",
       "      <td></td>\n",
       "      <td></td>\n",
       "    </tr>\n",
       "    <tr>\n",
       "      <th>170071</th>\n",
       "      <td>5</td>\n",
       "      <td>3640</td>\n",
       "      <td>1</td>\n",
       "      <td>-1</td>\n",
       "      <td>RECORD SYNONYM       WZ-WRK-BLK-TPE      ...</td>\n",
       "      <td>WZ-WRK-BLK-TPE</td>\n",
       "      <td>PREFIX</td>\n",
       "      <td>TWB-</td>\n",
       "    </tr>\n",
       "    <tr>\n",
       "      <th>170082</th>\n",
       "      <td>5</td>\n",
       "      <td>3640</td>\n",
       "      <td>2</td>\n",
       "      <td>-1</td>\n",
       "      <td>RECORD SYNONYM       WZ-WRK-BLK-WRK      ...</td>\n",
       "      <td>WZ-WRK-BLK-WRK</td>\n",
       "      <td>PREFIX</td>\n",
       "      <td>WWB-</td>\n",
       "    </tr>\n",
       "    <tr>\n",
       "      <th>170093</th>\n",
       "      <td>5</td>\n",
       "      <td>3640</td>\n",
       "      <td>3</td>\n",
       "      <td>-1</td>\n",
       "      <td>RECORD SYNONYM       WZ-WRK-BLK-WB       ...</td>\n",
       "      <td>WZ-WRK-BLK-WB</td>\n",
       "      <td>PREFIX</td>\n",
       "      <td>WB-</td>\n",
       "    </tr>\n",
       "    <tr>\n",
       "      <th>170105</th>\n",
       "      <td>5</td>\n",
       "      <td>3641</td>\n",
       "      <td>0</td>\n",
       "      <td>-1</td>\n",
       "      <td>RECORD               WZ-WRKC-DTL         ...</td>\n",
       "      <td>WZ-WRKC-DTL</td>\n",
       "      <td></td>\n",
       "      <td></td>\n",
       "    </tr>\n",
       "    <tr>\n",
       "      <th>170115</th>\n",
       "      <td>5</td>\n",
       "      <td>3641</td>\n",
       "      <td>1</td>\n",
       "      <td>-1</td>\n",
       "      <td>RECORD SYNONYM       WZ-WRKC-DTL-WD      ...</td>\n",
       "      <td>WZ-WRKC-DTL-WD</td>\n",
       "      <td>PREFIX</td>\n",
       "      <td>WD-</td>\n",
       "    </tr>\n",
       "    <tr>\n",
       "      <th>170129</th>\n",
       "      <td>5</td>\n",
       "      <td>3642</td>\n",
       "      <td>0</td>\n",
       "      <td>-1</td>\n",
       "      <td>RECORD               W12-ERROR-TYPE-IND  ...</td>\n",
       "      <td>W12-ERROR-TYPE-IND</td>\n",
       "      <td></td>\n",
       "      <td></td>\n",
       "    </tr>\n",
       "    <tr>\n",
       "      <th>170134</th>\n",
       "      <td>5</td>\n",
       "      <td>3643</td>\n",
       "      <td>0</td>\n",
       "      <td>-1</td>\n",
       "      <td>RECORD               W174-SGDLD741-WORK-R...</td>\n",
       "      <td>W174-SGDLD741-WORK-RCRD</td>\n",
       "      <td></td>\n",
       "      <td></td>\n",
       "    </tr>\n",
       "    <tr>\n",
       "      <th>170277</th>\n",
       "      <td>5</td>\n",
       "      <td>3644</td>\n",
       "      <td>0</td>\n",
       "      <td>-1</td>\n",
       "      <td>RECORD               XREF-ENTRY-REC      ...</td>\n",
       "      <td>XREF-ENTRY-REC</td>\n",
       "      <td>PREFIX</td>\n",
       "      <td>XREF-E-</td>\n",
       "    </tr>\n",
       "    <tr>\n",
       "      <th>170289</th>\n",
       "      <td>5</td>\n",
       "      <td>3645</td>\n",
       "      <td>0</td>\n",
       "      <td>-1</td>\n",
       "      <td>RECORD               XREF-RETURN-REC     ...</td>\n",
       "      <td>XREF-RETURN-REC</td>\n",
       "      <td>PREFIX</td>\n",
       "      <td>XREF-R-</td>\n",
       "    </tr>\n",
       "    <tr>\n",
       "      <th>170311</th>\n",
       "      <td>5</td>\n",
       "      <td>3646</td>\n",
       "      <td>0</td>\n",
       "      <td>-1</td>\n",
       "      <td>RECORD               XSDUCP08            ...</td>\n",
       "      <td>XSDUCP08</td>\n",
       "      <td></td>\n",
       "      <td></td>\n",
       "    </tr>\n",
       "    <tr>\n",
       "      <th>170326</th>\n",
       "      <td>5</td>\n",
       "      <td>3647</td>\n",
       "      <td>0</td>\n",
       "      <td>-1</td>\n",
       "      <td>RECORD               XSPMT               ...</td>\n",
       "      <td>XSPMT</td>\n",
       "      <td>PREFIX</td>\n",
       "      <td>D064-</td>\n",
       "    </tr>\n",
       "    <tr>\n",
       "      <th>170363</th>\n",
       "      <td>5</td>\n",
       "      <td>3648</td>\n",
       "      <td>0</td>\n",
       "      <td>-1</td>\n",
       "      <td>RECORD               XSPMT               ...</td>\n",
       "      <td>XSPMT</td>\n",
       "      <td>PREFIX</td>\n",
       "      <td>D064-</td>\n",
       "    </tr>\n",
       "    <tr>\n",
       "      <th>170391</th>\n",
       "      <td>5</td>\n",
       "      <td>3649</td>\n",
       "      <td>0</td>\n",
       "      <td>-1</td>\n",
       "      <td>RECORD               XSPMTAR             ...</td>\n",
       "      <td>XSPMTAR</td>\n",
       "      <td>PREFIX</td>\n",
       "      <td>D063-</td>\n",
       "    </tr>\n",
       "    <tr>\n",
       "      <th>170418</th>\n",
       "      <td>5</td>\n",
       "      <td>3650</td>\n",
       "      <td>0</td>\n",
       "      <td>-1</td>\n",
       "      <td>RECORD               XSPMTAR             ...</td>\n",
       "      <td>XSPMTAR</td>\n",
       "      <td>PREFIX</td>\n",
       "      <td>D063-</td>\n",
       "    </tr>\n",
       "    <tr>\n",
       "      <th>170434</th>\n",
       "      <td>5</td>\n",
       "      <td>3651</td>\n",
       "      <td>0</td>\n",
       "      <td>-1</td>\n",
       "      <td>RECORD               XTRACT-RCRD         ...</td>\n",
       "      <td>XTRACT-RCRD</td>\n",
       "      <td>SUFFIX</td>\n",
       "      <td>-XT</td>\n",
       "    </tr>\n",
       "    <tr>\n",
       "      <th>170646</th>\n",
       "      <td>5</td>\n",
       "      <td>3651</td>\n",
       "      <td>1</td>\n",
       "      <td>-1</td>\n",
       "      <td>RECORD SYNONYM       PRIOR-XTRACT-RCRD   ...</td>\n",
       "      <td>PRIOR-XTRACT-RCRD</td>\n",
       "      <td>PREFIX</td>\n",
       "      <td>P-</td>\n",
       "    </tr>\n",
       "    <tr>\n",
       "      <th>170858</th>\n",
       "      <td>5</td>\n",
       "      <td>3651</td>\n",
       "      <td>2</td>\n",
       "      <td>-1</td>\n",
       "      <td>RECORD SYNONYM       CURR-XTRACT-RCRD    ...</td>\n",
       "      <td>CURR-XTRACT-RCRD</td>\n",
       "      <td>PREFIX</td>\n",
       "      <td>C-</td>\n",
       "    </tr>\n",
       "    <tr>\n",
       "      <th>171080</th>\n",
       "      <td>5</td>\n",
       "      <td>3652</td>\n",
       "      <td>0</td>\n",
       "      <td>-1</td>\n",
       "      <td>RECORD               XTRACT-RDA-RCRD     ...</td>\n",
       "      <td>XTRACT-RDA-RCRD</td>\n",
       "      <td>SUFFIX</td>\n",
       "      <td>-RDA</td>\n",
       "    </tr>\n",
       "    <tr>\n",
       "      <th>171242</th>\n",
       "      <td>5</td>\n",
       "      <td>3653</td>\n",
       "      <td>0</td>\n",
       "      <td>-1</td>\n",
       "      <td>RECORD               XTRCT-RCRD          ...</td>\n",
       "      <td>XTRCT-RCRD</td>\n",
       "      <td></td>\n",
       "      <td></td>\n",
       "    </tr>\n",
       "    <tr>\n",
       "      <th>171256</th>\n",
       "      <td>5</td>\n",
       "      <td>3654</td>\n",
       "      <td>0</td>\n",
       "      <td>-1</td>\n",
       "      <td>RECORD               XTRCT2-RCRD         ...</td>\n",
       "      <td>XTRCT2-RCRD</td>\n",
       "      <td></td>\n",
       "      <td></td>\n",
       "    </tr>\n",
       "    <tr>\n",
       "      <th>171276</th>\n",
       "      <td>5</td>\n",
       "      <td>3655</td>\n",
       "      <td>0</td>\n",
       "      <td>-1</td>\n",
       "      <td>RECORD               5R-CNTRL-RCRD       ...</td>\n",
       "      <td>5R-CNTRL-RCRD</td>\n",
       "      <td></td>\n",
       "      <td></td>\n",
       "    </tr>\n",
       "    <tr>\n",
       "      <th>171295</th>\n",
       "      <td>5</td>\n",
       "      <td>3656</td>\n",
       "      <td>0</td>\n",
       "      <td>-1</td>\n",
       "      <td>RECORD               502-REPT-DTL-RCRD   ...</td>\n",
       "      <td>502-REPT-DTL-RCRD</td>\n",
       "      <td>PREFIX</td>\n",
       "      <td>W139-</td>\n",
       "    </tr>\n",
       "    <tr>\n",
       "      <th>171372</th>\n",
       "      <td>5</td>\n",
       "      <td>3657</td>\n",
       "      <td>0</td>\n",
       "      <td>-1</td>\n",
       "      <td>RECORD               502-REPT-DTL-RCRD   ...</td>\n",
       "      <td>502-REPT-DTL-RCRD</td>\n",
       "      <td>PREFIX</td>\n",
       "      <td>W139-</td>\n",
       "    </tr>\n",
       "    <tr>\n",
       "      <th>171441</th>\n",
       "      <td>5</td>\n",
       "      <td>3658</td>\n",
       "      <td>0</td>\n",
       "      <td>-1</td>\n",
       "      <td>RECORD               502-REPT-DTL-RCRD   ...</td>\n",
       "      <td>502-REPT-DTL-RCRD</td>\n",
       "      <td>PREFIX</td>\n",
       "      <td>W139-</td>\n",
       "    </tr>\n",
       "    <tr>\n",
       "      <th>171512</th>\n",
       "      <td>5</td>\n",
       "      <td>3659</td>\n",
       "      <td>0</td>\n",
       "      <td>-1</td>\n",
       "      <td>RECORD               502-TEMP-DTL-RCRD   ...</td>\n",
       "      <td>502-TEMP-DTL-RCRD</td>\n",
       "      <td>PREFIX</td>\n",
       "      <td>W502-</td>\n",
       "    </tr>\n",
       "    <tr>\n",
       "      <th>171583</th>\n",
       "      <td>5</td>\n",
       "      <td>3660</td>\n",
       "      <td>0</td>\n",
       "      <td>-1</td>\n",
       "      <td>RECORD               502-TEMP-DTL-RCRD   ...</td>\n",
       "      <td>502-TEMP-DTL-RCRD</td>\n",
       "      <td>PREFIX</td>\n",
       "      <td>W502-</td>\n",
       "    </tr>\n",
       "  </tbody>\n",
       "</table>\n",
       "</div>"
      ],
      "text/plain": [
       "        leading_space_count  table_index  synonym_index  modifies_line  \\\n",
       "169605                    5         3636              2             -1   \n",
       "169629                    5         3636              3             -1   \n",
       "169659                    5         3637              0             -1   \n",
       "169674                    5         3637              1             -1   \n",
       "169689                    5         3637              2             -1   \n",
       "169707                    5         3638              0             -1   \n",
       "169756                    5         3638              1             -1   \n",
       "169805                    5         3638              2             -1   \n",
       "169854                    5         3638              3             -1   \n",
       "169903                    5         3638              4             -1   \n",
       "169957                    5         3639              0             -1   \n",
       "169990                    5         3639              1             -1   \n",
       "170024                    5         3639              2             -1   \n",
       "170061                    5         3640              0             -1   \n",
       "170071                    5         3640              1             -1   \n",
       "170082                    5         3640              2             -1   \n",
       "170093                    5         3640              3             -1   \n",
       "170105                    5         3641              0             -1   \n",
       "170115                    5         3641              1             -1   \n",
       "170129                    5         3642              0             -1   \n",
       "170134                    5         3643              0             -1   \n",
       "170277                    5         3644              0             -1   \n",
       "170289                    5         3645              0             -1   \n",
       "170311                    5         3646              0             -1   \n",
       "170326                    5         3647              0             -1   \n",
       "170363                    5         3648              0             -1   \n",
       "170391                    5         3649              0             -1   \n",
       "170418                    5         3650              0             -1   \n",
       "170434                    5         3651              0             -1   \n",
       "170646                    5         3651              1             -1   \n",
       "170858                    5         3651              2             -1   \n",
       "171080                    5         3652              0             -1   \n",
       "171242                    5         3653              0             -1   \n",
       "171256                    5         3654              0             -1   \n",
       "171276                    5         3655              0             -1   \n",
       "171295                    5         3656              0             -1   \n",
       "171372                    5         3657              0             -1   \n",
       "171441                    5         3658              0             -1   \n",
       "171512                    5         3659              0             -1   \n",
       "171583                    5         3660              0             -1   \n",
       "\n",
       "                                                     line  \\\n",
       "169605       RECORD SYNONYM       WZ-PAY-REAP-WPR     ...   \n",
       "169629       RECORD SYNONYM       WZ-PAY-REAP-PR      ...   \n",
       "169659       RECORD               WZ-STATE            ...   \n",
       "169674       RECORD SYNONYM       WZ-STATE-STA        ...   \n",
       "169689       RECORD SYNONYM       WZ-STATE-TPE        ...   \n",
       "169707       RECORD               WZ-TRAN-FIN         ...   \n",
       "169756       RECORD SYNONYM       WZ-TRAN-FIN-WKP     ...   \n",
       "169805       RECORD SYNONYM       WZ-TRAN-FIN-DSC     ...   \n",
       "169854       RECORD SYNONYM       WZ-TRAN-FIN-PRC     ...   \n",
       "169903       RECORD SYNONYM       WZ-TRAN-FIN-TF      ...   \n",
       "169957       RECORD               WZ-TRNS-FIN         ...   \n",
       "169990       RECORD SYNONYM       WZ-TRNS-FIN-TPE     ...   \n",
       "170024       RECORD SYNONYM       WZ-TRNS-FIN-ITF     ...   \n",
       "170061       RECORD               WZ-WRK-BLK          ...   \n",
       "170071       RECORD SYNONYM       WZ-WRK-BLK-TPE      ...   \n",
       "170082       RECORD SYNONYM       WZ-WRK-BLK-WRK      ...   \n",
       "170093       RECORD SYNONYM       WZ-WRK-BLK-WB       ...   \n",
       "170105       RECORD               WZ-WRKC-DTL         ...   \n",
       "170115       RECORD SYNONYM       WZ-WRKC-DTL-WD      ...   \n",
       "170129       RECORD               W12-ERROR-TYPE-IND  ...   \n",
       "170134       RECORD               W174-SGDLD741-WORK-R...   \n",
       "170277       RECORD               XREF-ENTRY-REC      ...   \n",
       "170289       RECORD               XREF-RETURN-REC     ...   \n",
       "170311       RECORD               XSDUCP08            ...   \n",
       "170326       RECORD               XSPMT               ...   \n",
       "170363       RECORD               XSPMT               ...   \n",
       "170391       RECORD               XSPMTAR             ...   \n",
       "170418       RECORD               XSPMTAR             ...   \n",
       "170434       RECORD               XTRACT-RCRD         ...   \n",
       "170646       RECORD SYNONYM       PRIOR-XTRACT-RCRD   ...   \n",
       "170858       RECORD SYNONYM       CURR-XTRACT-RCRD    ...   \n",
       "171080       RECORD               XTRACT-RDA-RCRD     ...   \n",
       "171242       RECORD               XTRCT-RCRD          ...   \n",
       "171256       RECORD               XTRCT2-RCRD         ...   \n",
       "171276       RECORD               5R-CNTRL-RCRD       ...   \n",
       "171295       RECORD               502-REPT-DTL-RCRD   ...   \n",
       "171372       RECORD               502-REPT-DTL-RCRD   ...   \n",
       "171441       RECORD               502-REPT-DTL-RCRD   ...   \n",
       "171512       RECORD               502-TEMP-DTL-RCRD   ...   \n",
       "171583       RECORD               502-TEMP-DTL-RCRD   ...   \n",
       "\n",
       "                   synonym_name affix_type    affix  \n",
       "169605          WZ-PAY-REAP-WPR     PREFIX     WPR-  \n",
       "169629           WZ-PAY-REAP-PR     PREFIX      PR-  \n",
       "169659                 WZ-STATE                      \n",
       "169674             WZ-STATE-STA     PREFIX     STA-  \n",
       "169689             WZ-STATE-TPE     PREFIX     TPS-  \n",
       "169707              WZ-TRAN-FIN                      \n",
       "169756          WZ-TRAN-FIN-WKP     PREFIX     WTF-  \n",
       "169805          WZ-TRAN-FIN-DSC     PREFIX     DTF-  \n",
       "169854          WZ-TRAN-FIN-PRC     PREFIX     PTF-  \n",
       "169903           WZ-TRAN-FIN-TF     PREFIX      TF-  \n",
       "169957              WZ-TRNS-FIN                      \n",
       "169990          WZ-TRNS-FIN-TPE     PREFIX     TTF-  \n",
       "170024          WZ-TRNS-FIN-ITF     PREFIX     ITF-  \n",
       "170061               WZ-WRK-BLK                      \n",
       "170071           WZ-WRK-BLK-TPE     PREFIX     TWB-  \n",
       "170082           WZ-WRK-BLK-WRK     PREFIX     WWB-  \n",
       "170093            WZ-WRK-BLK-WB     PREFIX      WB-  \n",
       "170105              WZ-WRKC-DTL                      \n",
       "170115           WZ-WRKC-DTL-WD     PREFIX      WD-  \n",
       "170129       W12-ERROR-TYPE-IND                      \n",
       "170134  W174-SGDLD741-WORK-RCRD                      \n",
       "170277           XREF-ENTRY-REC     PREFIX  XREF-E-  \n",
       "170289          XREF-RETURN-REC     PREFIX  XREF-R-  \n",
       "170311                 XSDUCP08                      \n",
       "170326                    XSPMT     PREFIX    D064-  \n",
       "170363                    XSPMT     PREFIX    D064-  \n",
       "170391                  XSPMTAR     PREFIX    D063-  \n",
       "170418                  XSPMTAR     PREFIX    D063-  \n",
       "170434              XTRACT-RCRD     SUFFIX      -XT  \n",
       "170646        PRIOR-XTRACT-RCRD     PREFIX       P-  \n",
       "170858         CURR-XTRACT-RCRD     PREFIX       C-  \n",
       "171080          XTRACT-RDA-RCRD     SUFFIX     -RDA  \n",
       "171242               XTRCT-RCRD                      \n",
       "171256              XTRCT2-RCRD                      \n",
       "171276            5R-CNTRL-RCRD                      \n",
       "171295        502-REPT-DTL-RCRD     PREFIX    W139-  \n",
       "171372        502-REPT-DTL-RCRD     PREFIX    W139-  \n",
       "171441        502-REPT-DTL-RCRD     PREFIX    W139-  \n",
       "171512        502-TEMP-DTL-RCRD     PREFIX    W502-  \n",
       "171583        502-TEMP-DTL-RCRD     PREFIX    W502-  "
      ]
     },
     "execution_count": 67,
     "metadata": {},
     "output_type": "execute_result"
    }
   ],
   "source": [
    "suffix_df.tail(40)"
   ]
  },
  {
   "cell_type": "code",
   "execution_count": 68,
   "id": "e9fa5e48-c06a-48a8-9b20-88fab23d16a3",
   "metadata": {},
   "outputs": [],
   "source": [
    "temp = list( suffix_df['line'] )"
   ]
  },
  {
   "cell_type": "code",
   "execution_count": 69,
   "id": "337800c6-92cd-4b63-95f9-d3e407f5c78b",
   "metadata": {},
   "outputs": [
    {
     "data": {
      "text/plain": [
       "'VER     1'"
      ]
     },
     "execution_count": 69,
     "metadata": {},
     "output_type": "execute_result"
    }
   ],
   "source": [
    "temp[0][67:76]"
   ]
  },
  {
   "cell_type": "code",
   "execution_count": 70,
   "id": "7d70ea66-a3b4-4cb2-83f9-0fd0e11d8cea",
   "metadata": {},
   "outputs": [
    {
     "data": {
      "text/plain": [
       "67"
      ]
     },
     "execution_count": 70,
     "metadata": {},
     "output_type": "execute_result"
    }
   ],
   "source": [
    "temp[0].index(\"VER\")"
   ]
  },
  {
   "cell_type": "code",
   "execution_count": 71,
   "id": "77d66e88-f23b-4311-909f-035ac0cc06ca",
   "metadata": {},
   "outputs": [],
   "source": [
    "#p = re.compile( r' ' )"
   ]
  },
  {
   "cell_type": "code",
   "execution_count": 72,
   "id": "de111f03-ff87-4564-a378-3ffa0ffe95d6",
   "metadata": {},
   "outputs": [],
   "source": [
    "#suffix_df.groupby( 'table_index' ).apply( , axis=1, result_type='expand' )"
   ]
  },
  {
   "cell_type": "markdown",
   "id": "efa931ea-050d-44f0-817b-5de58256b261",
   "metadata": {},
   "source": [
    "# 9's indicate \"COPIED IN PROGRAM\", \"FILE\", AND \"SUBSCHEMA\""
   ]
  },
  {
   "cell_type": "code",
   "execution_count": 73,
   "id": "67817a9e-6011-4109-9a35-4926ebc95b38",
   "metadata": {},
   "outputs": [
    {
     "data": {
      "text/plain": [
       "['         SUBSCHEMA            SSPMF03M  OF SCHEMA SCMMF01M             VER     1',\n",
       " '         SUBSCHEMA            SSPMF03P  OF SCHEMA SCMMF01P             VER     1',\n",
       " '         SUBSCHEMA            XSSPMF03  OF SCHEMA XSCMMF01             VER     1',\n",
       " '         COPIED IN PROGRAM    SBMDD010                                 VER     1',\n",
       " '         COPIED IN PROGRAM    SCMDD021                                 VER     1',\n",
       " '         COPIED IN PROGRAM    SBDLD142                                 VER     1',\n",
       " '         COPIED IN PROGRAM    SDDLD355                                 VER     5',\n",
       " '         COPIED IN PROGRAM    SDDLD355                                 VER     3',\n",
       " '         COPIED IN PROGRAM    SBDLD101                                 VER     6',\n",
       " '         COPIED IN PROGRAM    SDDLD355                                 VER     1',\n",
       " '         COPIED IN PROGRAM    SBDLD101                                 VER     4',\n",
       " '         COPIED IN PROGRAM    SDDLD355                                 VER     4',\n",
       " '         COPIED IN PROGRAM    SBDLD101                                 VER     1',\n",
       " '         COPIED IN PROGRAM    SBDLD101                                 VER    10',\n",
       " '         COPIED IN PROGRAM    SBDLD142                                 VER     4',\n",
       " '         COPIED IN PROGRAM    SBDLD101                                 VER     5',\n",
       " '         COPIED IN PROGRAM    SDDLD355                                 VER     5',\n",
       " '         COPIED IN PROGRAM    SDDLD355                                 VER     3',\n",
       " '         COPIED IN PROGRAM    SDDLD355                                 VER     1',\n",
       " '         COPIED IN PROGRAM    SDDLD355                                 VER     4']"
      ]
     },
     "execution_count": 73,
     "metadata": {},
     "output_type": "execute_result"
    }
   ],
   "source": [
    "#text_clumps[9][-200:]\n",
    "text_clumps[9][-20:]"
   ]
  },
  {
   "cell_type": "code",
   "execution_count": 74,
   "id": "36ca10a4-11d1-412c-9ea1-df5e449ec8d0",
   "metadata": {},
   "outputs": [],
   "source": [
    "p = re.compile( r'\\s+(\\S+)' )"
   ]
  },
  {
   "cell_type": "code",
   "execution_count": 75,
   "id": "5be6ffe3-ab74-4063-9f6e-4c2fee15e9b0",
   "metadata": {},
   "outputs": [
    {
     "data": {
      "text/plain": [
       "Counter({'COPIED': 29058, 'SUBSCHEMA': 1834, 'FILE': 70, 'LANGUAGE': 80})"
      ]
     },
     "execution_count": 75,
     "metadata": {},
     "output_type": "execute_result"
    }
   ],
   "source": [
    "Counter( [ p.match( _ ).groups(1)[0] for _ in text_clumps[9] if p.match( _ ) ] )"
   ]
  },
  {
   "cell_type": "code",
   "execution_count": 76,
   "id": "421726c7-4274-47cb-832c-9958493e53a6",
   "metadata": {
    "scrolled": true,
    "tags": []
   },
   "outputs": [
    {
     "data": {
      "text/plain": [
       "['         FILE                 ADPBABAA                                 VER     1',\n",
       " '         FILE                 ADPBABAA                                 VER     1',\n",
       " '         FILE                 ADPBADAC                                 VER     1',\n",
       " '         FILE                 APIW-CARDIN                              VER     1',\n",
       " '         FILE                 APIW-FIND                                VER     1',\n",
       " '         FILE                 APIW-PISALL                              VER     1',\n",
       " '         FILE                 APIW-PITAPE                              VER     1',\n",
       " '         FILE                 APIW-PITAPE                              VER     1',\n",
       " '         FILE                 APIW-PITAPE                              VER     1',\n",
       " '         FILE                 APIW-PIWORK                              VER     1',\n",
       " '         FILE                 APIW-PIWORK                              VER     1',\n",
       " '         FILE                 APIW-PIWORK                              VER     1',\n",
       " '         FILE                 APIW-PIWORK                              VER     1',\n",
       " '         FILE                 APIW-PIWORK                              VER     1',\n",
       " '         FILE                 APIW-PIWRK1                              VER     1',\n",
       " '         FILE                 APIW-PIWRK1                              VER     1',\n",
       " '         FILE                 APIW-PIWRK3                              VER     1',\n",
       " '         FILE                 APIW-PIWRKC                              VER     1',\n",
       " '         FILE                 DD-TDELET                                VER     1',\n",
       " '         FILE                 DD-TERROR                                VER     1',\n",
       " '         FILE                 HAPOBL                                   VER     1',\n",
       " '         FILE                 LQ-TU1601                                VER     1',\n",
       " '         FILE                 MU-FS41AA                                VER     1',\n",
       " '         FILE                 MU-TS04AB                                VER     1',\n",
       " '         FILE                 SG-TPJD01                                VER     1',\n",
       " '         FILE                 WZ-PMASTR                                VER     1',\n",
       " '         FILE                 WZ-PMASTR                                VER     1',\n",
       " '         FILE                 WZ-POVFLW                                VER     1',\n",
       " '         FILE                 WZ-PSTATE                                VER     1',\n",
       " '         FILE                 WZ-PSTATE                                VER     1',\n",
       " '         FILE                 WZ-PSTATE                                VER     1',\n",
       " '         FILE                 WZ-TCHKS                                 VER     1',\n",
       " '         FILE                 WZ-TDAPRO                                VER     1',\n",
       " '         FILE                 WZ-TDAPRO                                VER     1',\n",
       " '         FILE                 WZ-TDAPRO                                VER     1',\n",
       " '         FILE                 WZ-TDAPRO                                VER     1',\n",
       " '         FILE                 WZ-TFY                                   VER     1',\n",
       " '         FILE                 WZ-TGOOD                                 VER     1',\n",
       " '         FILE                 WZ-TGOOD                                 VER     1',\n",
       " '         FILE                 WZ-TGOOD                                 VER     1',\n",
       " '         FILE                 WZ-TGOOD                                 VER     1',\n",
       " '         FILE                 WZ-TGOOD                                 VER     1',\n",
       " '         FILE                 WZ-TGOOD                                 VER     1',\n",
       " '         FILE                 WZ-TGOOD                                 VER     1',\n",
       " '         FILE                 WZ-TGOOD                                 VER     1',\n",
       " '         FILE                 WZ-TGOOD                                 VER     1',\n",
       " '         FILE                 WZ-THIST                                 VER     1',\n",
       " '         FILE                 WZ-THIST                                 VER     1',\n",
       " '         FILE                 WZ-THIST                                 VER     1',\n",
       " '         FILE                 WZ-THIST                                 VER     1',\n",
       " '         FILE                 WZ-THIST                                 VER     1',\n",
       " '         FILE                 WZ-TMASTR                                VER     1',\n",
       " '         FILE                 WZ-TOBLVO                                VER     1',\n",
       " '         FILE                 WZ-TOVFLW                                VER     1',\n",
       " '         FILE                 WZ-TSTATE                                VER     1',\n",
       " '         FILE                 WZ-TTPEIN                                VER     1',\n",
       " '         FILE                 WZ-TTPEIN                                VER     1',\n",
       " '         FILE                 WZ-TTPEIN                                VER     1',\n",
       " '         FILE                 WZ-TTPEIN                                VER     1',\n",
       " '         FILE                 WZ-TTPEIN                                VER     1',\n",
       " '         FILE                 WZ-TWRK                                  VER     1',\n",
       " '         FILE                 WZ-TWRK                                  VER     1',\n",
       " '         FILE                 WZ-TWRK                                  VER     1',\n",
       " '         FILE                 WZ-TWRK                                  VER     1',\n",
       " '         FILE                 WZ-TWRK                                  VER     1',\n",
       " '         FILE                 WZ-TWRK                                  VER     1',\n",
       " '         FILE                 WZ-TWRK                                  VER     1',\n",
       " '         FILE                 WZ-TWRK                                  VER     1',\n",
       " '         FILE                 WZ-TWRK                                  VER     1',\n",
       " '         FILE                 WZ-TWRKC                                 VER     1']"
      ]
     },
     "execution_count": 76,
     "metadata": {},
     "output_type": "execute_result"
    }
   ],
   "source": [
    "sorted( [ _ for _ in text_clumps[9] if \"FILE\" in _ ] )"
   ]
  },
  {
   "cell_type": "code",
   "execution_count": 77,
   "id": "09498243-8459-4720-b6c6-b78acccdece6",
   "metadata": {
    "scrolled": true,
    "tags": []
   },
   "outputs": [
    {
     "data": {
      "text/plain": [
       "['         LANGUAGE             ASSEMBLER',\n",
       " '         LANGUAGE             FORTRAN',\n",
       " '         LANGUAGE             COBOL',\n",
       " '         LANGUAGE             PL/I',\n",
       " '         LANGUAGE             COBOL',\n",
       " '         LANGUAGE             PL/I',\n",
       " '         LANGUAGE             ASSEMBLER',\n",
       " '         LANGUAGE             ASSEMBLER',\n",
       " '         LANGUAGE             ASSEMBLER',\n",
       " '         LANGUAGE             FORTRAN',\n",
       " '         LANGUAGE             ASSEMBLER',\n",
       " '         LANGUAGE             FORTRAN',\n",
       " '         LANGUAGE             ASSEMBLER',\n",
       " '         LANGUAGE             FORTRAN',\n",
       " '         LANGUAGE             ASSEMBLER',\n",
       " '         LANGUAGE             FORTRAN',\n",
       " '         LANGUAGE             ASSEMBLER',\n",
       " '         LANGUAGE             FORTRAN',\n",
       " '         LANGUAGE             ASSEMBLER',\n",
       " '         LANGUAGE             FORTRAN',\n",
       " '         LANGUAGE             ASSEMBLER',\n",
       " '         LANGUAGE             FORTRAN',\n",
       " '         LANGUAGE             ASSEMBLER',\n",
       " '         LANGUAGE             FORTRAN',\n",
       " '         LANGUAGE             ASSEMBLER',\n",
       " '         LANGUAGE             FORTRAN',\n",
       " '         LANGUAGE             ASSEMBLER',\n",
       " '         LANGUAGE             FORTRAN',\n",
       " '         LANGUAGE             ASSEMBLER',\n",
       " '         LANGUAGE             FORTRAN',\n",
       " '         LANGUAGE             COBOL',\n",
       " '         LANGUAGE             PL/I',\n",
       " '         LANGUAGE             COBOL',\n",
       " '         LANGUAGE             PL/I',\n",
       " '         LANGUAGE             COBOL',\n",
       " '         LANGUAGE             PL/I',\n",
       " '         LANGUAGE             COBOL',\n",
       " '         LANGUAGE             PL/I',\n",
       " '         LANGUAGE             COBOL',\n",
       " '         LANGUAGE             PL/I',\n",
       " '         LANGUAGE             COBOL',\n",
       " '         LANGUAGE             PL/I',\n",
       " '         LANGUAGE             COBOL',\n",
       " '         LANGUAGE             COBOL',\n",
       " '         LANGUAGE             PL/I',\n",
       " '         LANGUAGE             COBOL',\n",
       " '         LANGUAGE             PL/I',\n",
       " '         LANGUAGE             COBOL',\n",
       " '         LANGUAGE             PL/I',\n",
       " '         LANGUAGE             COBOL',\n",
       " '         LANGUAGE             PL/I',\n",
       " '         LANGUAGE             PL/I',\n",
       " '         LANGUAGE             RPG/II',\n",
       " '         LANGUAGE             FORTRAN',\n",
       " '         LANGUAGE             ASSEMBLER',\n",
       " '         LANGUAGE             ASSEMBLER',\n",
       " '         LANGUAGE             FORTRAN',\n",
       " '         LANGUAGE             FORTRAN',\n",
       " '         LANGUAGE             RPG/II',\n",
       " '         LANGUAGE             FORTRAN',\n",
       " '         LANGUAGE             ASSEMBLER',\n",
       " '         LANGUAGE             ASSEMBLER',\n",
       " '         LANGUAGE             FORTRAN',\n",
       " '         LANGUAGE             COBOL',\n",
       " '         LANGUAGE             COBOL',\n",
       " '         LANGUAGE             COBOL',\n",
       " '         LANGUAGE             COBOL',\n",
       " '         LANGUAGE             COBOL',\n",
       " '         LANGUAGE             COBOL',\n",
       " '         LANGUAGE             COBOL',\n",
       " '         LANGUAGE             COBOL',\n",
       " '         LANGUAGE             COBOL',\n",
       " '         LANGUAGE             PL/I',\n",
       " '         LANGUAGE             PL/I',\n",
       " '         LANGUAGE             PL/I',\n",
       " '         LANGUAGE             PL/I',\n",
       " '         LANGUAGE             PL/I',\n",
       " '         LANGUAGE             PL/I',\n",
       " '         LANGUAGE             PL/I',\n",
       " '         LANGUAGE             COBOL']"
      ]
     },
     "execution_count": 77,
     "metadata": {},
     "output_type": "execute_result"
    }
   ],
   "source": [
    "[ _ for _ in text_clumps[9] if \"LANGUAGE\" in _ ]"
   ]
  },
  {
   "cell_type": "markdown",
   "id": "6c38b16e-266d-42f4-96c7-8fecc5fe8fb5",
   "metadata": {},
   "source": [
    "# 10's through 12's are data elements"
   ]
  },
  {
   "cell_type": "code",
   "execution_count": 78,
   "id": "f23dd3cb-24f9-497a-b96f-3395817c0d8b",
   "metadata": {},
   "outputs": [
    {
     "data": {
      "text/plain": [
       "['          14500   05 DTE-LST-CNCLTN-RDA                       9(6)                             DISPLAY',\n",
       " '          14600   05 PRIN-INSTLMT-BOND-ACCTS-RDA              S9(7)V99                         COMP-3',\n",
       " '          14700   05 INSTLMT-OC-DATA-320-RDA                                                   DISPLAY',\n",
       " '          14800    10 DTE-INSTLMT-DUE-320-RDA                 9(6)                             DISPLAY',\n",
       " '          14900    10 INSTLMT-DUE-AMT-320-RDA                 S9(06)V99                        COMP-3',\n",
       " '          15000    10 INSTLMT-TYP-CDE-320-RDA                 9(1)                             DISPLAY',\n",
       " '          15100    10 MTURD-CDE-DIR-RE-320-RDA                9(1)                             DISPLAY',\n",
       " '          15200   05 RCVB-AMT-DUE-RDA                         S9(09)V99                        COMP-3',\n",
       " '          15300   05 RCVB-AMT-PD-RDA                          S9(09)V99                        COMP-3',\n",
       " '          15400   05 FILLER                                   X(0027)                          DISPLAY']"
      ]
     },
     "execution_count": 78,
     "metadata": {},
     "output_type": "execute_result"
    }
   ],
   "source": [
    "text_clumps[10][-10:]"
   ]
  },
  {
   "cell_type": "code",
   "execution_count": 79,
   "id": "5d966816-9328-4376-acdc-9621f3a9bbb5",
   "metadata": {},
   "outputs": [
    {
     "data": {
      "text/plain": [
       "['           4600   05 W502-RGSTR-TYP-LST-CHNG                  9(2)                             DISPLAY',\n",
       " '           4700   05 FILLER                                   X(0014)                          DISPLAY',\n",
       " '           4800   05 W502-DTE-APPRVL-OBLGN                    9(5)                             DISPLAY',\n",
       " '           4900   05 W502-ETHNCTY-TYP-CDE                     X                                DISPLAY',\n",
       " '           5000   05 W502-RACE-TYP-CDE                        X                                DISPLAY',\n",
       " '           5100   05 W502-RACE-DTRMNTN-CDE                    X                                DISPLAY',\n",
       " '           5200   05 W502-ST-CDE                              9(2)                             DISPLAY',\n",
       " '           5300   05 FILLER                                   X(0002)                          DISPLAY',\n",
       " '           5400   05 W502-CR-REPT-FEE-CDE                     9(1)                             DISPLAY',\n",
       " '           5500   05 W502-PROJ-NBR-GRP-REDFND                 9(4)                             DISPLAY']"
      ]
     },
     "execution_count": 79,
     "metadata": {},
     "output_type": "execute_result"
    }
   ],
   "source": [
    "text_clumps[11][-10:]"
   ]
  },
  {
   "cell_type": "code",
   "execution_count": 80,
   "id": "b7f96247-fd03-4a39-99bb-a165f82c8143",
   "metadata": {},
   "outputs": [
    {
     "data": {
      "text/plain": [
       "['            900    10 W502-PPB-CDE-1ST                        9                                DISPLAY',\n",
       " '            100   05 W502-RCRD-TYP                            9(2)                             DISPLAY',\n",
       " '            200   05 W502-RGSTR-TYP-CDE                       9(2)                             DISPLAY',\n",
       " '            300   05 W502-MO-OBLGN                            9(2)                             DISPLAY',\n",
       " '            400   05 W502-FY                                  9(2)                             DISPLAY',\n",
       " '            500   05 W502-APROPTN-MAJ-CLS-CDE                                                  DISPLAY',\n",
       " '            600    10 W502-APROPTN-CDE                        9(2)                             DISPLAY',\n",
       " '            700    10 W502-MAJ-CLS                            9(2)                             DISPLAY',\n",
       " '            800   05 W502-PROG-PLANG-BDGTG-CDE                                                 DISPLAY',\n",
       " '            900    10 W502-PPB-CDE-1ST                        9                                DISPLAY']"
      ]
     },
     "execution_count": 80,
     "metadata": {},
     "output_type": "execute_result"
    }
   ],
   "source": [
    "text_clumps[12][-10:]"
   ]
  },
  {
   "cell_type": "code",
   "execution_count": 81,
   "id": "a0f394fe-c003-4b28-b262-bc0467ab19a4",
   "metadata": {},
   "outputs": [],
   "source": [
    "all_data_elements = [ *text_clumps[10], *text_clumps[11], *text_clumps[12] ]"
   ]
  },
  {
   "cell_type": "code",
   "execution_count": 82,
   "id": "aa6b2a95-063a-4259-bce3-18f1380a982a",
   "metadata": {},
   "outputs": [
    {
     "data": {
      "text/plain": [
       "101435"
      ]
     },
     "execution_count": 82,
     "metadata": {},
     "output_type": "execute_result"
    }
   ],
   "source": [
    "len( all_data_elements )"
   ]
  },
  {
   "cell_type": "markdown",
   "id": "835803c8-d820-48cf-906c-f00dca19138c",
   "metadata": {},
   "source": [
    "## Get a count of all elements in the base (non-synonym version) of a table"
   ]
  },
  {
   "cell_type": "code",
   "execution_count": 83,
   "id": "379ce91e-2796-411e-8c6c-6c64dfe50a0c",
   "metadata": {},
   "outputs": [],
   "source": [
    "all_elements = lines_df[ (lines_df['leading_space_count'] >= 10) & (lines_df['leading_space_count'] <= 12) & (lines_df['synonym_index'] == 0) ] "
   ]
  },
  {
   "cell_type": "code",
   "execution_count": 84,
   "id": "fe0a7248-e2cb-45fa-9997-6f5e9cf2f7ed",
   "metadata": {},
   "outputs": [
    {
     "data": {
      "text/plain": [
       "(89288, 5)"
      ]
     },
     "execution_count": 84,
     "metadata": {},
     "output_type": "execute_result"
    }
   ],
   "source": [
    "all_elements.shape"
   ]
  },
  {
   "cell_type": "code",
   "execution_count": 85,
   "id": "19ca7a9a-5d72-4bcb-8684-77656db2087c",
   "metadata": {},
   "outputs": [
    {
     "data": {
      "text/plain": [
       "table_index\n",
       "0        6\n",
       "1       48\n",
       "2       48\n",
       "3        7\n",
       "4       15\n",
       "        ..\n",
       "3656    57\n",
       "3657    57\n",
       "3658    57\n",
       "3659    55\n",
       "3660    55\n",
       "Name: line, Length: 3601, dtype: int64"
      ]
     },
     "execution_count": 85,
     "metadata": {},
     "output_type": "execute_result"
    }
   ],
   "source": [
    "all_elements.groupby( 'table_index' )['line'].count()"
   ]
  },
  {
   "cell_type": "markdown",
   "id": "4d51b670-f1e6-4556-aaa0-63839917932f",
   "metadata": {},
   "source": [
    "# 13's are data elements as well as descriptions"
   ]
  },
  {
   "cell_type": "code",
   "execution_count": 86,
   "id": "f70364bc-3e99-4ece-94f5-ac0a2ceca70e",
   "metadata": {},
   "outputs": [
    {
     "data": {
      "text/plain": [
       "63"
      ]
     },
     "execution_count": 86,
     "metadata": {},
     "output_type": "execute_result"
    }
   ],
   "source": [
    "len(text_clumps[13])"
   ]
  },
  {
   "cell_type": "code",
   "execution_count": 87,
   "id": "b297a0e1-da41-4016-83b3-784e1d76135f",
   "metadata": {},
   "outputs": [
    {
     "data": {
      "text/plain": [
       "['             10   05 TRNSCTN-CDE-UPDTE                        X(2)                             DISPLAY',\n",
       " '             20   05 CASE-NBR                                 X(15)                            DISPLAY',\n",
       " '             30   05 OK-TO-PROC-CDE                           X(1)                             DISPLAY',\n",
       " '             40   05 FD-CDE-2                                 X(2)                             DISPLAY',\n",
       " '             50   05 LN-TYP-ABBR                              X(2)                             DISPLAY',\n",
       " '             60   05 LN-NBR                                   X(2)                             DISPLAY',\n",
       " '             70   05 COLLCTN-TYP-CDE-MISC                     X(2)                             DISPLAY',\n",
       " '             80   05 FILLER                                   X(0005)                          DISPLAY',\n",
       " '             90   05 PYMT-AMT                                 X(7)                             DISPLAY',\n",
       " '             1000 INT-RATE-CTGRY IS  05  WHEN 04 <= INT-RATE-SBSZD <  05',\n",
       " '             1100 INT-RATE-CTGRY IS  06  WHEN 05 <= INT-RATE-SBSZD <  06',\n",
       " '             1200 INT-RATE-CTGRY IS  07  WHEN 06 <= INT-RATE-SBSZD <  07',\n",
       " '             1300 INT-RATE-CTGRY IS  08  WHEN 07 <= INT-RATE-SBSZD <  08',\n",
       " '             1400 INT-RATE-CTGRY IS  09  WHEN 08 <= INT-RATE-SBSZD <  09',\n",
       " '             1500 INT-RATE-CTGRY IS  10  WHEN 09 <= INT-RATE-SBSZD <  10',\n",
       " '             1600 INT-RATE-CTGRY IS  11  WHEN 10 <= INT-RATE-SBSZD <  11',\n",
       " '             1700 INT-RATE-CTGRY IS  12  WHEN 11 <= INT-RATE-SBSZD <  12',\n",
       " '             1800 INT-RATE-CTGRY IS  13  WHEN 12 <= INT-RATE-SBSZD <  13',\n",
       " '             1900 INT-RATE-CTGRY IS  14  WHEN 13 <= INT-RATE-SBSZD <  14',\n",
       " '             2000 INT-RATE-CTGRY IS  15  WHEN 14 <= INT-RATE-SBSZD <  15']"
      ]
     },
     "execution_count": 87,
     "metadata": {},
     "output_type": "execute_result"
    }
   ],
   "source": [
    "text_clumps[13][:20]"
   ]
  },
  {
   "cell_type": "code",
   "execution_count": 88,
   "id": "759df383-8397-4e23-9c03-0cc935c3fa26",
   "metadata": {},
   "outputs": [],
   "source": [
    "data_elements_13 = [ _ for _ in text_clumps[13] if _[16] == ' ' ]"
   ]
  },
  {
   "cell_type": "code",
   "execution_count": 89,
   "id": "8f6e3aa3-8b47-4c50-a25d-11c7a953b639",
   "metadata": {},
   "outputs": [
    {
     "data": {
      "text/plain": [
       "9"
      ]
     },
     "execution_count": 89,
     "metadata": {},
     "output_type": "execute_result"
    }
   ],
   "source": [
    "len( data_elements_13 )"
   ]
  },
  {
   "cell_type": "code",
   "execution_count": 90,
   "id": "e2bd2cbb-6330-4119-8f33-98c964e3e39d",
   "metadata": {},
   "outputs": [
    {
     "data": {
      "text/plain": [
       "['             10   05 TRNSCTN-CDE-UPDTE                        X(2)                             DISPLAY',\n",
       " '             20   05 CASE-NBR                                 X(15)                            DISPLAY',\n",
       " '             30   05 OK-TO-PROC-CDE                           X(1)                             DISPLAY',\n",
       " '             40   05 FD-CDE-2                                 X(2)                             DISPLAY',\n",
       " '             50   05 LN-TYP-ABBR                              X(2)                             DISPLAY',\n",
       " '             60   05 LN-NBR                                   X(2)                             DISPLAY',\n",
       " '             70   05 COLLCTN-TYP-CDE-MISC                     X(2)                             DISPLAY',\n",
       " '             80   05 FILLER                                   X(0005)                          DISPLAY',\n",
       " '             90   05 PYMT-AMT                                 X(7)                             DISPLAY']"
      ]
     },
     "execution_count": 90,
     "metadata": {},
     "output_type": "execute_result"
    }
   ],
   "source": [
    "data_elements_13"
   ]
  },
  {
   "cell_type": "code",
   "execution_count": 91,
   "id": "f72e58ff-7841-40ab-8cc3-f4bc210954f0",
   "metadata": {},
   "outputs": [],
   "source": [
    "all_data_elements.extend( data_elements_13 )"
   ]
  },
  {
   "cell_type": "code",
   "execution_count": 92,
   "id": "cfd8fc57-58b0-4adf-a1ab-e1c87ac1b403",
   "metadata": {},
   "outputs": [
    {
     "data": {
      "text/plain": [
       "101444"
      ]
     },
     "execution_count": 92,
     "metadata": {},
     "output_type": "execute_result"
    }
   ],
   "source": [
    "len( all_data_elements )"
   ]
  },
  {
   "cell_type": "markdown",
   "id": "4c08a0a4-3df5-4ae8-8fed-acd5991a084a",
   "metadata": {
    "tags": []
   },
   "source": [
    "## Locations\n",
    "\n",
    "* [0:15] - declaration step\n",
    "* [15:62] - (\\s+)(\\d+) (\\s+)\n",
    "* [62:95] - data format\n",
    "* [95:] - end"
   ]
  },
  {
   "cell_type": "code",
   "execution_count": 93,
   "id": "3efc4541-94ca-4490-afd1-3a344dede339",
   "metadata": {},
   "outputs": [
    {
     "name": "stdout",
     "output_type": "stream",
     "text": [
      "<class 'pandas.core.frame.DataFrame'>\n",
      "Int64Index: 89288 entries, 5 to 171641\n",
      "Data columns (total 5 columns):\n",
      " #   Column               Non-Null Count  Dtype \n",
      "---  ------               --------------  ----- \n",
      " 0   leading_space_count  89288 non-null  int64 \n",
      " 1   table_index          89288 non-null  int64 \n",
      " 2   synonym_index        89288 non-null  int64 \n",
      " 3   modifies_line        89288 non-null  int64 \n",
      " 4   line                 89288 non-null  object\n",
      "dtypes: int64(4), object(1)\n",
      "memory usage: 4.1+ MB\n"
     ]
    }
   ],
   "source": [
    "all_elements.info()"
   ]
  },
  {
   "cell_type": "code",
   "execution_count": 94,
   "id": "70ce8ef3-5e96-4404-af77-bc5c18cce85e",
   "metadata": {},
   "outputs": [],
   "source": [
    "p = re.compile( r'^\\s+(\\d+)(\\s+)(\\d+) (\\S+)' )#\\s+(\\S+)?\\s+(\\S)$' )\n",
    "#p = re.compile( r'^\\s+(\\d+)\\s+(\\d+) (\\S+)\\s+(\\S+)?\\s+(\\S)$' )"
   ]
  },
  {
   "cell_type": "code",
   "execution_count": 95,
   "id": "63155f8d-747e-458f-8c2f-a584f0b60d55",
   "metadata": {},
   "outputs": [
    {
     "data": {
      "text/plain": [
       "('10000', '   ', '05', 'AW-U-YR')"
      ]
     },
     "execution_count": 95,
     "metadata": {},
     "output_type": "execute_result"
    }
   ],
   "source": [
    "p.match( all_data_elements[0] ).groups()"
   ]
  },
  {
   "cell_type": "code",
   "execution_count": 97,
   "id": "67e32597-5f14-4a17-bdf5-05ce10a4c336",
   "metadata": {},
   "outputs": [],
   "source": [
    "declaration_steps, indent, indent_number, field_name  = zip( *all_elements['line'].transform( lambda l: p.match( l ).groups() ).values )"
   ]
  },
  {
   "cell_type": "code",
   "execution_count": 98,
   "id": "96c5c57a-eee4-45c9-90a6-0c21e00ce1e9",
   "metadata": {},
   "outputs": [],
   "source": [
    "data_types = all_elements['line'].transform( lambda l: l[62:95].strip() )"
   ]
  },
  {
   "cell_type": "code",
   "execution_count": 99,
   "id": "b4f1aa67-d0af-4587-a1b6-437ef79ea610",
   "metadata": {},
   "outputs": [],
   "source": [
    "# not sure to what to call the \"DISPLAY\" etc that brings up the rear of these data field lines\n",
    "end_types = all_elements['line'].transform( lambda l: l[95:].strip() )"
   ]
  },
  {
   "cell_type": "code",
   "execution_count": 100,
   "id": "7edcb08f-e98f-4f0a-b254-d263620d29d9",
   "metadata": {},
   "outputs": [
    {
     "data": {
      "text/plain": [
       "89288"
      ]
     },
     "execution_count": 100,
     "metadata": {},
     "output_type": "execute_result"
    }
   ],
   "source": [
    "len( data_types )"
   ]
  },
  {
   "cell_type": "code",
   "execution_count": 101,
   "id": "89186bb7-ff69-411e-aed9-e4e0c1de7228",
   "metadata": {},
   "outputs": [
    {
     "data": {
      "text/plain": [
       "89288"
      ]
     },
     "execution_count": 101,
     "metadata": {},
     "output_type": "execute_result"
    }
   ],
   "source": [
    "len( indent )"
   ]
  },
  {
   "cell_type": "code",
   "execution_count": 102,
   "id": "840c4aea-b167-4f25-9544-eead39a6521c",
   "metadata": {},
   "outputs": [],
   "source": [
    "indent = [ len(_) for _ in indent ]"
   ]
  },
  {
   "cell_type": "code",
   "execution_count": 103,
   "id": "0d14c712-a9d7-4732-96ce-240a3dc60a73",
   "metadata": {},
   "outputs": [],
   "source": [
    "data_fields = pd.DataFrame(\n",
    "    data = dict(\n",
    "        declaration_step = declaration_steps,\n",
    "        indent_space_count = indent,\n",
    "        indent_number = indent_number,\n",
    "        field_name = field_name,\n",
    "        data_type = data_types,\n",
    "        end = end_types\n",
    "    ),\n",
    "    index = all_elements.index\n",
    ")"
   ]
  },
  {
   "cell_type": "code",
   "execution_count": 105,
   "id": "3e3a2ff5-051e-4162-9354-ef0d71a540d3",
   "metadata": {},
   "outputs": [
    {
     "data": {
      "text/html": [
       "<div>\n",
       "<style scoped>\n",
       "    .dataframe tbody tr th:only-of-type {\n",
       "        vertical-align: middle;\n",
       "    }\n",
       "\n",
       "    .dataframe tbody tr th {\n",
       "        vertical-align: top;\n",
       "    }\n",
       "\n",
       "    .dataframe thead th {\n",
       "        text-align: right;\n",
       "    }\n",
       "</style>\n",
       "<table border=\"1\" class=\"dataframe\">\n",
       "  <thead>\n",
       "    <tr style=\"text-align: right;\">\n",
       "      <th></th>\n",
       "      <th>declaration_step</th>\n",
       "      <th>indent_space_count</th>\n",
       "      <th>indent_number</th>\n",
       "      <th>field_name</th>\n",
       "      <th>data_type</th>\n",
       "      <th>end</th>\n",
       "    </tr>\n",
       "  </thead>\n",
       "  <tbody>\n",
       "    <tr>\n",
       "      <th>165300</th>\n",
       "      <td>500</td>\n",
       "      <td>4</td>\n",
       "      <td>10</td>\n",
       "      <td>ID-NBR-OBLR-8P12</td>\n",
       "      <td>X(10)</td>\n",
       "      <td>DISPLAY</td>\n",
       "    </tr>\n",
       "    <tr>\n",
       "      <th>83001</th>\n",
       "      <td>3400</td>\n",
       "      <td>4</td>\n",
       "      <td>10</td>\n",
       "      <td>W011-DTE-JULIAN-GRP-MFH</td>\n",
       "      <td></td>\n",
       "      <td>DISPLAY</td>\n",
       "    </tr>\n",
       "    <tr>\n",
       "      <th>124329</th>\n",
       "      <td>1000</td>\n",
       "      <td>4</td>\n",
       "      <td>10</td>\n",
       "      <td>W236-OBLGN-EXPNTR-CDE-MFH</td>\n",
       "      <td></td>\n",
       "      <td>DISPLAY</td>\n",
       "    </tr>\n",
       "    <tr>\n",
       "      <th>128982</th>\n",
       "      <td>2300</td>\n",
       "      <td>3</td>\n",
       "      <td>05</td>\n",
       "      <td>CRC-FO-APPEAL-INDCTR</td>\n",
       "      <td>X(1)</td>\n",
       "      <td>DISPLAY</td>\n",
       "    </tr>\n",
       "    <tr>\n",
       "      <th>146835</th>\n",
       "      <td>700</td>\n",
       "      <td>4</td>\n",
       "      <td>10</td>\n",
       "      <td>TYP-SRVC-CDE-BI57M</td>\n",
       "      <td>99</td>\n",
       "      <td>DISPLAY</td>\n",
       "    </tr>\n",
       "    <tr>\n",
       "      <th>83321</th>\n",
       "      <td>3100</td>\n",
       "      <td>4</td>\n",
       "      <td>10</td>\n",
       "      <td>W055-APROPTN-CDE</td>\n",
       "      <td>9(2)</td>\n",
       "      <td>DISPLAY</td>\n",
       "    </tr>\n",
       "    <tr>\n",
       "      <th>33621</th>\n",
       "      <td>600</td>\n",
       "      <td>4</td>\n",
       "      <td>10</td>\n",
       "      <td>FD-CDE-4TH</td>\n",
       "      <td>9(1)</td>\n",
       "      <td>DISPLAY</td>\n",
       "    </tr>\n",
       "    <tr>\n",
       "      <th>71256</th>\n",
       "      <td>14700</td>\n",
       "      <td>3</td>\n",
       "      <td>05</td>\n",
       "      <td>D014-ACQD-PROP-CST</td>\n",
       "      <td>S9(9)V99</td>\n",
       "      <td>COMP-3</td>\n",
       "    </tr>\n",
       "    <tr>\n",
       "      <th>14504</th>\n",
       "      <td>12800</td>\n",
       "      <td>3</td>\n",
       "      <td>05</td>\n",
       "      <td>PR-SBSY-AMT</td>\n",
       "      <td>S9(5)</td>\n",
       "      <td>COMP-3</td>\n",
       "    </tr>\n",
       "    <tr>\n",
       "      <th>161125</th>\n",
       "      <td>1600</td>\n",
       "      <td>3</td>\n",
       "      <td>05</td>\n",
       "      <td>LN-NBR-4VP</td>\n",
       "      <td>9(2)</td>\n",
       "      <td>DISPLAY</td>\n",
       "    </tr>\n",
       "  </tbody>\n",
       "</table>\n",
       "</div>"
      ],
      "text/plain": [
       "       declaration_step  indent_space_count indent_number  \\\n",
       "165300              500                   4            10   \n",
       "83001              3400                   4            10   \n",
       "124329             1000                   4            10   \n",
       "128982             2300                   3            05   \n",
       "146835              700                   4            10   \n",
       "83321              3100                   4            10   \n",
       "33621               600                   4            10   \n",
       "71256             14700                   3            05   \n",
       "14504             12800                   3            05   \n",
       "161125             1600                   3            05   \n",
       "\n",
       "                       field_name data_type      end  \n",
       "165300           ID-NBR-OBLR-8P12     X(10)  DISPLAY  \n",
       "83001     W011-DTE-JULIAN-GRP-MFH            DISPLAY  \n",
       "124329  W236-OBLGN-EXPNTR-CDE-MFH            DISPLAY  \n",
       "128982       CRC-FO-APPEAL-INDCTR      X(1)  DISPLAY  \n",
       "146835         TYP-SRVC-CDE-BI57M        99  DISPLAY  \n",
       "83321            W055-APROPTN-CDE      9(2)  DISPLAY  \n",
       "33621                  FD-CDE-4TH      9(1)  DISPLAY  \n",
       "71256          D014-ACQD-PROP-CST  S9(9)V99   COMP-3  \n",
       "14504                 PR-SBSY-AMT     S9(5)   COMP-3  \n",
       "161125                 LN-NBR-4VP      9(2)  DISPLAY  "
      ]
     },
     "execution_count": 105,
     "metadata": {},
     "output_type": "execute_result"
    }
   ],
   "source": [
    "data_fields.sample( 10 )"
   ]
  },
  {
   "cell_type": "code",
   "execution_count": 108,
   "id": "e5d6c42f-93fa-4575-bd11-aa2501d22ca7",
   "metadata": {},
   "outputs": [
    {
     "data": {
      "text/plain": [
       "indent_space_count  indent_number\n",
       "3                   05               53625\n",
       "4                   10               24046\n",
       "5                   15                6156\n",
       "7                   88                2718\n",
       "3                   03                1375\n",
       "6                   20                 906\n",
       "3                   04                 151\n",
       "                    02                 146\n",
       "7                   25                 112\n",
       "4                   07                  49\n",
       "                    09                   4\n",
       "dtype: int64"
      ]
     },
     "execution_count": 108,
     "metadata": {},
     "output_type": "execute_result"
    }
   ],
   "source": [
    "data_fields[ ['indent_space_count', 'indent_number' ] ].value_counts()"
   ]
  },
  {
   "cell_type": "code",
   "execution_count": 110,
   "id": "48cf433e-3555-470b-ae40-71c67837b553",
   "metadata": {},
   "outputs": [
    {
     "data": {
      "text/html": [
       "<div>\n",
       "<style scoped>\n",
       "    .dataframe tbody tr th:only-of-type {\n",
       "        vertical-align: middle;\n",
       "    }\n",
       "\n",
       "    .dataframe tbody tr th {\n",
       "        vertical-align: top;\n",
       "    }\n",
       "\n",
       "    .dataframe thead th {\n",
       "        text-align: right;\n",
       "    }\n",
       "</style>\n",
       "<table border=\"1\" class=\"dataframe\">\n",
       "  <thead>\n",
       "    <tr style=\"text-align: right;\">\n",
       "      <th></th>\n",
       "      <th>declaration_step</th>\n",
       "      <th>indent_space_count</th>\n",
       "      <th>indent_number</th>\n",
       "      <th>field_name</th>\n",
       "      <th>data_type</th>\n",
       "      <th>end</th>\n",
       "    </tr>\n",
       "  </thead>\n",
       "  <tbody>\n",
       "    <tr>\n",
       "      <th>111534</th>\n",
       "      <td>6100</td>\n",
       "      <td>4</td>\n",
       "      <td>09</td>\n",
       "      <td>DCSTR4</td>\n",
       "      <td>X(4)</td>\n",
       "      <td>DISPLAY</td>\n",
       "    </tr>\n",
       "    <tr>\n",
       "      <th>111535</th>\n",
       "      <td>6200</td>\n",
       "      <td>4</td>\n",
       "      <td>09</td>\n",
       "      <td>DCSTR5</td>\n",
       "      <td>X(4)</td>\n",
       "      <td>DISPLAY</td>\n",
       "    </tr>\n",
       "    <tr>\n",
       "      <th>112045</th>\n",
       "      <td>7100</td>\n",
       "      <td>4</td>\n",
       "      <td>09</td>\n",
       "      <td>DCSTR4</td>\n",
       "      <td>X(4)</td>\n",
       "      <td>DISPLAY</td>\n",
       "    </tr>\n",
       "    <tr>\n",
       "      <th>112046</th>\n",
       "      <td>7200</td>\n",
       "      <td>4</td>\n",
       "      <td>09</td>\n",
       "      <td>DCSTR5</td>\n",
       "      <td>X(4)</td>\n",
       "      <td>DISPLAY</td>\n",
       "    </tr>\n",
       "  </tbody>\n",
       "</table>\n",
       "</div>"
      ],
      "text/plain": [
       "       declaration_step  indent_space_count indent_number field_name  \\\n",
       "111534             6100                   4            09     DCSTR4   \n",
       "111535             6200                   4            09     DCSTR5   \n",
       "112045             7100                   4            09     DCSTR4   \n",
       "112046             7200                   4            09     DCSTR5   \n",
       "\n",
       "       data_type      end  \n",
       "111534      X(4)  DISPLAY  \n",
       "111535      X(4)  DISPLAY  \n",
       "112045      X(4)  DISPLAY  \n",
       "112046      X(4)  DISPLAY  "
      ]
     },
     "execution_count": 110,
     "metadata": {},
     "output_type": "execute_result"
    }
   ],
   "source": [
    "data_fields[ data_fields[ 'indent_number' ] =='09']"
   ]
  },
  {
   "cell_type": "code",
   "execution_count": 120,
   "id": "bc0d3bbe-5226-4125-9045-fc978ad6dfc7",
   "metadata": {},
   "outputs": [],
   "source": [
    "unique_data_types = set( data_types )"
   ]
  },
  {
   "cell_type": "code",
   "execution_count": null,
   "id": "b861197f-2ffa-45eb-8fdb-f94d0b021f71",
   "metadata": {},
   "outputs": [],
   "source": [
    "all_elements"
   ]
  },
  {
   "cell_type": "code",
   "execution_count": 121,
   "id": "ed85ee3a-258c-4e9a-94a5-c6e37a1afa03",
   "metadata": {},
   "outputs": [],
   "source": [
    "unique_data_types = sorted( list( unique_data_types ), key=lambda t: ( len(t), t ) )"
   ]
  },
  {
   "cell_type": "code",
   "execution_count": 78,
   "id": "ba62b315-5d1f-4944-be26-ba8faa2fcf19",
   "metadata": {},
   "outputs": [
    {
     "data": {
      "text/plain": [
       "5115"
      ]
     },
     "execution_count": 78,
     "metadata": {},
     "output_type": "execute_result"
    }
   ],
   "source": [
    "Path( '2022-10-17_IDMS_COBOL_datatypes.txt' ).write_text( '\\n'.join( unique_data_types ) )"
   ]
  },
  {
   "cell_type": "markdown",
   "id": "db9ac61a-a40e-4bb0-b207-89a75268e7ad",
   "metadata": {},
   "source": [
    "# 14's are DEFINITION, COMMENT, and PURPOSE"
   ]
  },
  {
   "cell_type": "code",
   "execution_count": 79,
   "id": "ad068105-b4f6-47cb-9430-297c90ad4782",
   "metadata": {},
   "outputs": [
    {
     "data": {
      "text/plain": [
       "['              100 THIS RECORD IS USED TO PASS TO AND',\n",
       " '              200 FROM INFORMATION REQUIRED TO COMPLETE',\n",
       " '              300 AN ACCRUAL',\n",
       " '              100 THIS RECORD IS USED TO PASS TO AND',\n",
       " '              200 FROM INFORMATION REQUIRED TO COMPLETE',\n",
       " '              300 AN ACCRUAL',\n",
       " '              100 THE AMOUNT IN THAT DFIS ACCOUNT.',\n",
       " '              100 AT THE END OF EACH ACCOUNTING MONTH BEFORE THE',\n",
       " '              200 STATE-CNTL AND THE CYCLE-CNTL RECORDS ARE RESET',\n",
       " '              300 TO ZERO FOR THE NEXT MONTH, THE ACTIVITY CONTROL',\n",
       " '              400 TOTALS FOR THE COMPLETED MONTH WILL BE MOVED',\n",
       " '              500 INTO THIS 15 MONTH ACCTG-CNTL FILE.',\n",
       " '              100 ACQUIRED PROPERTY QUEUE RECORD',\n",
       " '              100 STANDARD RECORD DESCRIPTION FOR ACQUIRED',\n",
       " '              200 PROPERTY TAPE FILE',\n",
       " '              100 PICTURE AND USAGE FOR SOME ELEMENTS HAVE BEEN OVERRIDDEN',\n",
       " '              200 TO CREATE RECORD AS ESTABLISHED DURING CONVERSION',\n",
       " '              100 TRANSACTION RECORD USED IN AMAS TO RECORD',\n",
       " '              200 ACTUAL TRADE ITEM COST DATA FOR THE M5VA.',\n",
       " '              100 THIS RECORD CONTAINS THE SYNTAX OF \"ADD\" TO']"
      ]
     },
     "execution_count": 79,
     "metadata": {},
     "output_type": "execute_result"
    }
   ],
   "source": [
    "text_clumps[14][:20]"
   ]
  },
  {
   "cell_type": "code",
   "execution_count": 80,
   "id": "fa73063a-26c4-455d-8ab2-63ff875aa049",
   "metadata": {},
   "outputs": [],
   "source": [
    "comment_lines = lines_df[ lines_df['leading_space_count'] == 14 ]"
   ]
  },
  {
   "cell_type": "code",
   "execution_count": 81,
   "id": "14eb45a5-18a1-4f94-8934-0e5b17f003b9",
   "metadata": {},
   "outputs": [],
   "source": [
    "comments = comment_lines.groupby( 'table_index' ).apply( lambda group: \" \".join( _[18:] for _ in group['lines'].values  ) )"
   ]
  },
  {
   "cell_type": "code",
   "execution_count": 82,
   "id": "4d95f043-d678-4d46-95d4-d341f7cddcb4",
   "metadata": {},
   "outputs": [
    {
     "data": {
      "text/plain": [
       "'THIS RECORD IS USED TO PASS TO AND FROM INFORMATION REQUIRED TO COMPLETE AN ACCRUAL'"
      ]
     },
     "execution_count": 82,
     "metadata": {},
     "output_type": "execute_result"
    }
   ],
   "source": [
    "comments[2]"
   ]
  },
  {
   "cell_type": "code",
   "execution_count": 83,
   "id": "d8dd1c3b-4fca-4751-986e-57d09c1f236a",
   "metadata": {},
   "outputs": [
    {
     "data": {
      "text/plain": [
       "table_index\n",
       "1       THIS RECORD IS USED TO PASS TO AND FROM INFORM...\n",
       "2       THIS RECORD IS USED TO PASS TO AND FROM INFORM...\n",
       "3                        THE AMOUNT IN THAT DFIS ACCOUNT.\n",
       "4       AT THE END OF EACH ACCOUNTING MONTH BEFORE THE...\n",
       "7                          ACQUIRED PROPERTY QUEUE RECORD\n",
       "                              ...                        \n",
       "3656    CHANGED BLK-NBR TO  PROJ-CHK-DIGIT CHANGED DTE...\n",
       "3657    CHANGED BLK-NBR TO  PROJ-CHK-DIGIT CHANGED DTE...\n",
       "3658    CHANGED BLK-NBR TO  PROJ-CHK-DIGIT CHANGED DTE...\n",
       "3659    THIS RECORD IS USED FOR A WORKING STORAGE AREA...\n",
       "3660    THIS RECORD IS USED FOR A WORKING STORAGE AREA...\n",
       "Length: 1307, dtype: object"
      ]
     },
     "execution_count": 83,
     "metadata": {},
     "output_type": "execute_result"
    }
   ],
   "source": [
    "comments"
   ]
  },
  {
   "cell_type": "code",
   "execution_count": 84,
   "id": "b2d65c98-c53e-4102-8766-150acdf3c7d4",
   "metadata": {
    "scrolled": true,
    "tags": []
   },
   "outputs": [],
   "source": [
    "comments.name = 'comments'"
   ]
  },
  {
   "cell_type": "code",
   "execution_count": 85,
   "id": "bc20427a-42e9-42a1-821b-b0a634792118",
   "metadata": {},
   "outputs": [],
   "source": [
    "merged_table_info = merged_table_info.merge( comments, how='left', left_index=True, right_index=True )"
   ]
  },
  {
   "cell_type": "code",
   "execution_count": 86,
   "id": "62dc78b2-e989-4c40-a36b-14b1ddfdcb1c",
   "metadata": {},
   "outputs": [],
   "source": [
    "merged_table_info = merged_table_info.sort_values( ['created_dates', 'table_names', 'table_vers'] )"
   ]
  },
  {
   "cell_type": "code",
   "execution_count": 87,
   "id": "6b9bc12e-59a3-4d22-baad-cc3519c4dcea",
   "metadata": {},
   "outputs": [],
   "source": [
    "merged_table_info.to_csv( '2022-10-17_IDMS_table_descriptions.csv' )"
   ]
  },
  {
   "cell_type": "code",
   "execution_count": 88,
   "id": "85d0543d-df81-4ce0-b6be-92e8638e5b8a",
   "metadata": {},
   "outputs": [
    {
     "data": {
      "text/html": [
       "<div>\n",
       "<style scoped>\n",
       "    .dataframe tbody tr th:only-of-type {\n",
       "        vertical-align: middle;\n",
       "    }\n",
       "\n",
       "    .dataframe tbody tr th {\n",
       "        vertical-align: top;\n",
       "    }\n",
       "\n",
       "    .dataframe thead th {\n",
       "        text-align: right;\n",
       "    }\n",
       "</style>\n",
       "<table border=\"1\" class=\"dataframe\">\n",
       "  <thead>\n",
       "    <tr style=\"text-align: right;\">\n",
       "      <th></th>\n",
       "      <th>table_names</th>\n",
       "      <th>table_vers</th>\n",
       "      <th>created_dates</th>\n",
       "      <th>updated_dates</th>\n",
       "      <th>descriptions</th>\n",
       "      <th>comments</th>\n",
       "    </tr>\n",
       "  </thead>\n",
       "  <tbody>\n",
       "    <tr>\n",
       "      <th>522</th>\n",
       "      <td>DB-STATISTICS</td>\n",
       "      <td>1</td>\n",
       "      <td>1981-08-25</td>\n",
       "      <td>2010-07-16</td>\n",
       "      <td>NaN</td>\n",
       "      <td>NaN</td>\n",
       "    </tr>\n",
       "    <tr>\n",
       "      <th>525</th>\n",
       "      <td>DB_STATISTICS</td>\n",
       "      <td>1</td>\n",
       "      <td>1981-08-25</td>\n",
       "      <td>2010-07-16</td>\n",
       "      <td>WORK RECORD FOR DBMG06 MAP</td>\n",
       "      <td>NaN</td>\n",
       "    </tr>\n",
       "    <tr>\n",
       "      <th>532</th>\n",
       "      <td>DC-AID-CONDITION-NAMES</td>\n",
       "      <td>1</td>\n",
       "      <td>1981-08-25</td>\n",
       "      <td>2010-07-16</td>\n",
       "      <td>NaN</td>\n",
       "      <td>NaN</td>\n",
       "    </tr>\n",
       "    <tr>\n",
       "      <th>1118</th>\n",
       "      <td>MRB-</td>\n",
       "      <td>1</td>\n",
       "      <td>1981-08-25</td>\n",
       "      <td>2010-07-16</td>\n",
       "      <td>NaN</td>\n",
       "      <td>THIS RECORD IS REQUIRED FOR MAPPING FUNCTIONS,...</td>\n",
       "    </tr>\n",
       "    <tr>\n",
       "      <th>2020</th>\n",
       "      <td>SSCTRL</td>\n",
       "      <td>1</td>\n",
       "      <td>1981-08-25</td>\n",
       "      <td>1994-10-22</td>\n",
       "      <td>NaN</td>\n",
       "      <td>NaN</td>\n",
       "    </tr>\n",
       "    <tr>\n",
       "      <th>...</th>\n",
       "      <td>...</td>\n",
       "      <td>...</td>\n",
       "      <td>...</td>\n",
       "      <td>...</td>\n",
       "      <td>...</td>\n",
       "      <td>...</td>\n",
       "    </tr>\n",
       "    <tr>\n",
       "      <th>1724</th>\n",
       "      <td>SDDLD560-MAPWORK</td>\n",
       "      <td>4</td>\n",
       "      <td>2020-09-15</td>\n",
       "      <td>2020-09-16</td>\n",
       "      <td>SDDLD560 MAPWORK</td>\n",
       "      <td>NaN</td>\n",
       "    </tr>\n",
       "    <tr>\n",
       "      <th>1721</th>\n",
       "      <td>SDDLD560-MAPDAVE</td>\n",
       "      <td>1</td>\n",
       "      <td>2020-09-24</td>\n",
       "      <td>2020-09-24</td>\n",
       "      <td>SDDLD560 MAPWORK</td>\n",
       "      <td>NaN</td>\n",
       "    </tr>\n",
       "    <tr>\n",
       "      <th>69</th>\n",
       "      <td>ADPTS601-REC</td>\n",
       "      <td>1</td>\n",
       "      <td>2021-02-19</td>\n",
       "      <td>NaT</td>\n",
       "      <td>UNCLOSED LOANS</td>\n",
       "      <td>NaN</td>\n",
       "    </tr>\n",
       "    <tr>\n",
       "      <th>60</th>\n",
       "      <td>ADPTSU01-REC</td>\n",
       "      <td>1</td>\n",
       "      <td>2021-02-19</td>\n",
       "      <td>NaT</td>\n",
       "      <td>GRANT</td>\n",
       "      <td>NaN</td>\n",
       "    </tr>\n",
       "    <tr>\n",
       "      <th>412</th>\n",
       "      <td>CHKISSN</td>\n",
       "      <td>6</td>\n",
       "      <td>2021-08-13</td>\n",
       "      <td>NaT</td>\n",
       "      <td>CHKISSN</td>\n",
       "      <td>AMAS DATABASE RECORD USED TO STORE CHECK INFOR...</td>\n",
       "    </tr>\n",
       "  </tbody>\n",
       "</table>\n",
       "<p>3661 rows × 6 columns</p>\n",
       "</div>"
      ],
      "text/plain": [
       "                 table_names table_vers created_dates updated_dates  \\\n",
       "522            DB-STATISTICS          1    1981-08-25    2010-07-16   \n",
       "525            DB_STATISTICS          1    1981-08-25    2010-07-16   \n",
       "532   DC-AID-CONDITION-NAMES          1    1981-08-25    2010-07-16   \n",
       "1118                    MRB-          1    1981-08-25    2010-07-16   \n",
       "2020                  SSCTRL          1    1981-08-25    1994-10-22   \n",
       "...                      ...        ...           ...           ...   \n",
       "1724        SDDLD560-MAPWORK          4    2020-09-15    2020-09-16   \n",
       "1721        SDDLD560-MAPDAVE          1    2020-09-24    2020-09-24   \n",
       "69              ADPTS601-REC          1    2021-02-19           NaT   \n",
       "60              ADPTSU01-REC          1    2021-02-19           NaT   \n",
       "412                  CHKISSN          6    2021-08-13           NaT   \n",
       "\n",
       "                    descriptions  \\\n",
       "522                          NaN   \n",
       "525   WORK RECORD FOR DBMG06 MAP   \n",
       "532                          NaN   \n",
       "1118                         NaN   \n",
       "2020                         NaN   \n",
       "...                          ...   \n",
       "1724            SDDLD560 MAPWORK   \n",
       "1721            SDDLD560 MAPWORK   \n",
       "69                UNCLOSED LOANS   \n",
       "60                         GRANT   \n",
       "412                      CHKISSN   \n",
       "\n",
       "                                               comments  \n",
       "522                                                 NaN  \n",
       "525                                                 NaN  \n",
       "532                                                 NaN  \n",
       "1118  THIS RECORD IS REQUIRED FOR MAPPING FUNCTIONS,...  \n",
       "2020                                                NaN  \n",
       "...                                                 ...  \n",
       "1724                                                NaN  \n",
       "1721                                                NaN  \n",
       "69                                                  NaN  \n",
       "60                                                  NaN  \n",
       "412   AMAS DATABASE RECORD USED TO STORE CHECK INFOR...  \n",
       "\n",
       "[3661 rows x 6 columns]"
      ]
     },
     "execution_count": 88,
     "metadata": {},
     "output_type": "execute_result"
    }
   ],
   "source": [
    "merged_table_info"
   ]
  },
  {
   "cell_type": "markdown",
   "id": "cbcedc0b-bafc-43cd-a11c-65406b01b161",
   "metadata": {},
   "source": [
    "# 22's "
   ]
  },
  {
   "cell_type": "code",
   "execution_count": 89,
   "id": "03f4bb22-202c-4394-96bd-d3962caabe39",
   "metadata": {},
   "outputs": [
    {
     "data": {
      "text/plain": [
       "['                      EXT PICT  ZZ/ZZ/ZZ',\n",
       " '                      EXT PICT  ZZ/ZZ/ZZ',\n",
       " '                      EXT PICT  ZZ',\n",
       " '                      EXT PICT  ZZ9',\n",
       " '                      EXT PICT  ZZ/ZZ/ZZ',\n",
       " '                      EXT PICT  ZZ/ZZ/ZZ',\n",
       " '                      EXT PICT  ZZ',\n",
       " '                      EXT PICT  ZZ9',\n",
       " '                      EXT PICT  ZZZ9',\n",
       " '                      EXT PICT  ZZZ9',\n",
       " '                      EXT PICT  Z9',\n",
       " '                      EXT PICT  Z9',\n",
       " '                      EXT PICT  Z9',\n",
       " '                      EXT PICT  Z9',\n",
       " '                      EXT PICT  ZZZ9',\n",
       " '                      EXT PICT  ZZZ9',\n",
       " '                      EXT PICT  Z9',\n",
       " '                      EXT PICT  Z9',\n",
       " '                      EXT PICT  Z9',\n",
       " '                      EXT PICT  Z9']"
      ]
     },
     "execution_count": 89,
     "metadata": {},
     "output_type": "execute_result"
    }
   ],
   "source": [
    "text_clumps[22][:20]"
   ]
  },
  {
   "cell_type": "markdown",
   "id": "89e45a7a-3c16-48cb-bedf-a9cf195cd016",
   "metadata": {},
   "source": [
    "# 26's: REDEFINES, OCCURS, VALUE"
   ]
  },
  {
   "cell_type": "code",
   "execution_count": 78,
   "id": "0b55db03-041b-4a27-8061-49f3042c938a",
   "metadata": {},
   "outputs": [
    {
     "data": {
      "text/plain": [
       "13934"
      ]
     },
     "execution_count": 78,
     "metadata": {},
     "output_type": "execute_result"
    }
   ],
   "source": [
    "len( text_clumps[26] )"
   ]
  },
  {
   "cell_type": "code",
   "execution_count": 90,
   "id": "f817bcb1-4897-488c-b067-e1ca839df9d2",
   "metadata": {},
   "outputs": [
    {
     "data": {
      "text/plain": [
       "['                          REDEFINES               W019-RQST-AREA-MFH',\n",
       " '                          OCCURS            4',\n",
       " \"                          VALUE                   'A'\",\n",
       " \"                          VALUE                   'U'\",\n",
       " '                          REDEFINES               W019-RQST-AREA-MFH',\n",
       " '                          OCCURS            4',\n",
       " \"                          VALUE                   'A'\",\n",
       " \"                          VALUE                   'U'\",\n",
       " '                          VALUE                   0',\n",
       " '                          VALUE                   0',\n",
       " '                          REDEFINES               W138-CTY-OFC-MAILG',\n",
       " \"                          VALUE                   '0'\",\n",
       " \"                          VALUE                   '1'\",\n",
       " '                          OCCURS           65',\n",
       " '                          OCCURS           65',\n",
       " '                          OCCURS           12',\n",
       " '                          OCCURS           12',\n",
       " '                          OCCURS           12',\n",
       " '                          OCCURS           12',\n",
       " '                          OCCURS           12']"
      ]
     },
     "execution_count": 90,
     "metadata": {},
     "output_type": "execute_result"
    }
   ],
   "source": [
    "text_clumps[26][:20]"
   ]
  },
  {
   "cell_type": "code",
   "execution_count": 91,
   "id": "191cab12-7c03-4db9-b5b4-c5f5d4f3b9b4",
   "metadata": {},
   "outputs": [
    {
     "data": {
      "text/plain": [
       "['                           100   COMMENT DATA',\n",
       " '                           100   OPERATOR',\n",
       " '                           200   NUMBER']"
      ]
     },
     "execution_count": 91,
     "metadata": {},
     "output_type": "execute_result"
    }
   ],
   "source": [
    "text_clumps[27][:20]"
   ]
  },
  {
   "cell_type": "code",
   "execution_count": null,
   "id": "66ce4a1b-040a-4a2d-9957-c568f2afc18d",
   "metadata": {},
   "outputs": [],
   "source": []
  }
 ],
 "metadata": {
  "kernelspec": {
   "display_name": "Python 3 (ipykernel)",
   "language": "python",
   "name": "python3"
  },
  "language_info": {
   "codemirror_mode": {
    "name": "ipython",
    "version": 3
   },
   "file_extension": ".py",
   "mimetype": "text/x-python",
   "name": "python",
   "nbconvert_exporter": "python",
   "pygments_lexer": "ipython3",
   "version": "3.10.4"
  }
 },
 "nbformat": 4,
 "nbformat_minor": 5
}
