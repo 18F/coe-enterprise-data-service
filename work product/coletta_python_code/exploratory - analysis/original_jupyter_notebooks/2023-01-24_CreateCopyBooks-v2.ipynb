{
 "cells": [
  {
   "cell_type": "code",
   "execution_count": 1,
   "id": "cfdbfe91-3ef3-482b-bfec-6ef2fdf0a6cc",
   "metadata": {},
   "outputs": [],
   "source": [
    "import pandas as pd"
   ]
  },
  {
   "cell_type": "code",
   "execution_count": 2,
   "id": "83b9f5ce-2ce5-41d6-b58e-694ad3196f9a",
   "metadata": {},
   "outputs": [],
   "source": [
    "from pathlib import Path"
   ]
  },
  {
   "cell_type": "code",
   "execution_count": 3,
   "id": "8358cdd3-3ffb-4299-b361-9690611fc12a",
   "metadata": {},
   "outputs": [],
   "source": [
    "#copybook_data[ ['leading_whitespace','new_leading_whitespace'] ]\n",
    "#metadata = pd.read_excel( '2022-12-15_IDMS_table_descriptions.xlsx', index_col=0 )\n",
    "#metadata.index.name = \"table_index\"\n",
    "#wanted_subsystem = \"DISCREPANCY PROCESSING AND ACCOUNT INFORMATION INQUIRY\"\n",
    "#metadata[ metadata[ wanted_subsystem ] == 1 ].copy()"
   ]
  },
  {
   "cell_type": "code",
   "execution_count": 4,
   "id": "560fac24-0414-41c5-82bd-f1a1b5877dd6",
   "metadata": {},
   "outputs": [],
   "source": [
    "data = pd.read_excel( \"2022-12-08_PLAS_IDMS_data_structure_WITH_VALID_VALUES.xlsx\", index_col=0 )"
   ]
  },
  {
   "cell_type": "code",
   "execution_count": 5,
   "id": "bbd1524b-8675-4b3e-9971-d4268f3f7bd4",
   "metadata": {},
   "outputs": [],
   "source": [
    "data = data.rename( columns={ 'indent_number': 'data_level'  } )"
   ]
  },
  {
   "cell_type": "code",
   "execution_count": 6,
   "id": "d1a5ecdc-0ca7-4566-9aa1-d82a2a43f65b",
   "metadata": {},
   "outputs": [
    {
     "data": {
      "text/plain": [
       "(89288, 18)"
      ]
     },
     "execution_count": 6,
     "metadata": {},
     "output_type": "execute_result"
    }
   ],
   "source": [
    "data.shape"
   ]
  },
  {
   "cell_type": "code",
   "execution_count": 7,
   "id": "4221b428-d23a-4fd5-afa3-2ff51577ae01",
   "metadata": {},
   "outputs": [],
   "source": [
    "farms_table_indices = pd.read_csv( \"2023-02-01_table_indices_within_FPAC_schema.csv\", index_col=0)"
   ]
  },
  {
   "cell_type": "code",
   "execution_count": 8,
   "id": "e8999faf-db96-437d-95a2-8429a6cd9982",
   "metadata": {},
   "outputs": [],
   "source": [
    "wanted_table_indices = farms_table_indices['table_index'].to_list()"
   ]
  },
  {
   "cell_type": "code",
   "execution_count": 9,
   "id": "337f51e1-40f6-4488-9813-3ed7e2706788",
   "metadata": {},
   "outputs": [],
   "source": [
    "farms_data = data[ data['table_index'].isin( wanted_table_indices ) ]"
   ]
  },
  {
   "cell_type": "code",
   "execution_count": 10,
   "id": "321fe132-e847-42a3-a178-40ae609df51a",
   "metadata": {},
   "outputs": [],
   "source": [
    "#set( [ tuple(_) for _ in farms_data[ ['table_name','table_created_date'] ].values] )"
   ]
  },
  {
   "cell_type": "code",
   "execution_count": 11,
   "id": "7213f663-a957-4acb-8903-7806001ee42c",
   "metadata": {},
   "outputs": [
    {
     "data": {
      "text/plain": [
       "array(['ACCT', 'APPEAL', 'APPLCMT', 'AREAOFC', 'AVLBLFD', 'BDGTCTRL',\n",
       "       'BDGTSTAF', 'CMMTS-RCRD', 'CODEREC', 'CRBREC', 'DIVREC', 'EQPMTS',\n",
       "       'EQPTCTRL', 'EVENT-HN', 'EXPSCTRL', 'FARMS-ACCT-DATA',\n",
       "       'FARMS-ACQD-PROP', 'FARMS-ADPS-CNTRL', 'FARMS-ADVANCE',\n",
       "       'FARMS-AID', 'FARMS-ALTMADJ', 'FARMS-ALTMADJ-NEW', 'FARMS-ALTMT',\n",
       "       'FARMS-AMORTD-CST', 'FARMS-APROPTN-LOOKUP', 'FARMS-ASSISTANCE',\n",
       "       'FARMS-ASSOC-PRIN-BOND', 'FARMS-CASE', 'FARMS-CDEJUNC',\n",
       "       'FARMS-CDESTR', 'FARMS-CHECKS', 'FARMS-CK-CNTRL', 'FARMS-CK-INFO',\n",
       "       'FARMS-CK-INFO-FRADS', 'FARMS-CLIENT', 'FARMS-CLIENT-SFSI',\n",
       "       'FARMS-COHORT', 'FARMS-CRBUR', 'FARMS-CRCLAIMS', 'FARMS-CRRATE',\n",
       "       'FARMS-CTY-LOOKUP', 'FARMS-DALLOT', 'FARMS-DALLOT-DTL',\n",
       "       'FARMS-DALLOT-OBLGN', 'FARMS-DALLOT-OTH', 'FARMS-DAPROC',\n",
       "       'FARMS-DISCRP', 'FARMS-DISCRP-MISC', 'FARMS-DSTR-SETASD',\n",
       "       'FARMS-DTEREC', 'FARMS-DTL-RATE', 'FARMS-EASMNT', 'FARMS-EQTYRVRS',\n",
       "       'FARMS-EQUITY', 'FARMS-FD-SIDE', 'FARMS-FDCDE', 'FARMS-GLBORR',\n",
       "       'FARMS-GLLNDR', 'FARMS-IMCASE', 'FARMS-INITMAN',\n",
       "       'FARMS-INSRNC-AUTHY', 'FARMS-INSTALLMENT', 'FARMS-INSURANCE',\n",
       "       'FARMS-INT-ASSTNC', 'FARMS-INT-BDWN', 'FARMS-INVSTR-DTL',\n",
       "       'FARMS-INVSTR-INFO', 'FARMS-INVSTR-INFO-MISC',\n",
       "       'FARMS-JDGMT-3RD-PARTY', 'FARMS-JOB-RESTART', 'FARMS-JURDCTN',\n",
       "       'FARMS-LESSEE', 'FARMS-LN-AID', 'FARMS-LN-NO-INT', 'FARMS-LNRATE',\n",
       "       'FARMS-LOAN', 'FARMS-LOAN-DRE', 'FARMS-LOAN-OTC',\n",
       "       'FARMS-LOAN-SFSI', 'FARMS-LSE-INFO', 'FARMS-MALLOT',\n",
       "       'FARMS-MALLOT-OBLGN', 'FARMS-MALLOT-OTH', 'FARMS-MSTR-RATE',\n",
       "       'FARMS-NOTIFY', 'FARMS-NOTIFY-CNTRL', 'FARMS-OBLGN',\n",
       "       'FARMS-ORDERS', 'FARMS-ORGZTN-LOOKUP', 'FARMS-OVFLO',\n",
       "       'FARMS-PD-ACCT-RVRSL', 'FARMS-PLEREP', 'FARMS-PROG-SAVE',\n",
       "       'FARMS-PRTLSALE', 'FARMS-RDA-ALTMT', 'FARMS-RDA-AREA-DALLOT',\n",
       "       'FARMS-RDA-AREA-OBLGN', 'FARMS-RDA-DALLOT-DTL',\n",
       "       'FARMS-RDA-DALLOT-OBLGN', 'FARMS-RDA-FD-SIDE',\n",
       "       'FARMS-RDA-INSRNC-AUTHY', 'FARMS-RDA-MALLOT',\n",
       "       'FARMS-RDA-MALLOT-OBLGN', 'FARMS-RDA-RGN-DTL',\n",
       "       'FARMS-RDA-RGN-OBLGN', 'FARMS-REJECT-TRNSCTN', 'FARMS-RENTL-CNTRL',\n",
       "       'FARMS-RENTL-DTL', 'FARMS-RENTL-FY-UNIT', 'FARMS-RENTL-TTL',\n",
       "       'FARMS-RESCHEDULE', 'FARMS-RH-DFRL', 'FARMS-SRCFDS',\n",
       "       'FARMS-ST-LOOKUP', 'FARMS-STAT', 'FARMS-STOPPER', 'FARMS-SUBSIDY',\n",
       "       'FARMS-SUBSRC', 'FARMS-TRNSCTN-CNTRL', 'FARMS-TRNSCTN-RVRSL',\n",
       "       'FARMS-TRRATE', 'FARMS-TRSTR', 'FARMS-USER-AUTHY',\n",
       "       'FARMS-USER-DOMAIN', 'FARMS-USER-STATCS', 'FARMS-USERS', 'FDBDGT',\n",
       "       'FHARREC', 'FIELD-HN', 'GL-MSTACCT', 'GLACCT', 'GLACCTC', 'GLBLKC',\n",
       "       'GLBLKD', 'GLCNTRL', 'GLENTRY', 'GLENTTL', 'GLMNCDE', 'GLMNCDEC',\n",
       "       'GLMSTR', 'GLNTRYC', 'GLNTRYD', 'GLOVA', 'HEAROFC', 'LOCTN-LOOKUP',\n",
       "       'NATIONAL', 'NHEAROFC', 'OBLGCTRL', 'OBLGDTL', 'OFCSPC',\n",
       "       'PRESBDGT', 'PROJHDR', 'PROJREC', 'PSTNFIL', 'RDADATA',\n",
       "       'RECORD-HN', 'RMSADRS', 'RMSDATA', 'RMSTIME', 'SITE-LOOKUP',\n",
       "       'SOCCDE', 'ST-RCRD', 'STAFF-RCRD', 'STAFFYR', 'STNDBDGT', 'SYMBOL',\n",
       "       'TRNING', 'TRUCKRNT', 'USER-HN', 'USERINFO', 'USGLACT'],\n",
       "      dtype=object)"
      ]
     },
     "execution_count": 11,
     "metadata": {},
     "output_type": "execute_result"
    }
   ],
   "source": [
    "farms_data['table_name'].unique()"
   ]
  },
  {
   "cell_type": "code",
   "execution_count": 12,
   "id": "48474c99-9a58-4b15-b4cc-e679d666c05d",
   "metadata": {},
   "outputs": [],
   "source": [
    "data = farms_data"
   ]
  },
  {
   "cell_type": "code",
   "execution_count": 13,
   "id": "c9b8e9c8-34b9-4340-9261-8a0cae7bdc17",
   "metadata": {},
   "outputs": [
    {
     "data": {
      "text/html": [
       "<div>\n",
       "<style scoped>\n",
       "    .dataframe tbody tr th:only-of-type {\n",
       "        vertical-align: middle;\n",
       "    }\n",
       "\n",
       "    .dataframe tbody tr th {\n",
       "        vertical-align: top;\n",
       "    }\n",
       "\n",
       "    .dataframe thead th {\n",
       "        text-align: right;\n",
       "    }\n",
       "</style>\n",
       "<table border=\"1\" class=\"dataframe\">\n",
       "  <thead>\n",
       "    <tr style=\"text-align: right;\">\n",
       "      <th></th>\n",
       "      <th>table_name</th>\n",
       "      <th>table_index</th>\n",
       "      <th>table_vers</th>\n",
       "      <th>table_created_date</th>\n",
       "      <th>table_updated_date</th>\n",
       "      <th>field_name</th>\n",
       "      <th>data_type</th>\n",
       "      <th>data_level</th>\n",
       "      <th>indent_space_count</th>\n",
       "      <th>declaration_step</th>\n",
       "      <th>end</th>\n",
       "      <th>raw_field_name</th>\n",
       "      <th>BLANK ON</th>\n",
       "      <th>INDEXED BY</th>\n",
       "      <th>OCCURS</th>\n",
       "      <th>OLQ</th>\n",
       "      <th>REDEFINES</th>\n",
       "      <th>VALUE</th>\n",
       "    </tr>\n",
       "  </thead>\n",
       "  <tbody>\n",
       "    <tr>\n",
       "      <th>102</th>\n",
       "      <td>ACCT</td>\n",
       "      <td>3</td>\n",
       "      <td>1</td>\n",
       "      <td>1987-09-21</td>\n",
       "      <td>1987-09-24</td>\n",
       "      <td>GOVT-ACCT</td>\n",
       "      <td>NaN</td>\n",
       "      <td>5</td>\n",
       "      <td>3</td>\n",
       "      <td>100</td>\n",
       "      <td>DISPLAY</td>\n",
       "      <td>GOVT-ACCT-821</td>\n",
       "      <td>NaN</td>\n",
       "      <td>NaN</td>\n",
       "      <td>NaN</td>\n",
       "      <td>NaN</td>\n",
       "      <td>NaN</td>\n",
       "      <td>NaN</td>\n",
       "    </tr>\n",
       "    <tr>\n",
       "      <th>103</th>\n",
       "      <td>ACCT</td>\n",
       "      <td>3</td>\n",
       "      <td>1</td>\n",
       "      <td>1987-09-21</td>\n",
       "      <td>1987-09-24</td>\n",
       "      <td>ACCT</td>\n",
       "      <td>9(4)</td>\n",
       "      <td>10</td>\n",
       "      <td>4</td>\n",
       "      <td>200</td>\n",
       "      <td>DISPLAY</td>\n",
       "      <td>ACCT-821</td>\n",
       "      <td>NaN</td>\n",
       "      <td>NaN</td>\n",
       "      <td>NaN</td>\n",
       "      <td>NaN</td>\n",
       "      <td>NaN</td>\n",
       "      <td>NaN</td>\n",
       "    </tr>\n",
       "    <tr>\n",
       "      <th>104</th>\n",
       "      <td>ACCT</td>\n",
       "      <td>3</td>\n",
       "      <td>1</td>\n",
       "      <td>1987-09-21</td>\n",
       "      <td>1987-09-24</td>\n",
       "      <td>SUB-ACCT</td>\n",
       "      <td>99</td>\n",
       "      <td>10</td>\n",
       "      <td>4</td>\n",
       "      <td>300</td>\n",
       "      <td>DISPLAY</td>\n",
       "      <td>SUB-ACCT-821</td>\n",
       "      <td>NaN</td>\n",
       "      <td>NaN</td>\n",
       "      <td>NaN</td>\n",
       "      <td>NaN</td>\n",
       "      <td>NaN</td>\n",
       "      <td>NaN</td>\n",
       "    </tr>\n",
       "    <tr>\n",
       "      <th>105</th>\n",
       "      <td>ACCT</td>\n",
       "      <td>3</td>\n",
       "      <td>1</td>\n",
       "      <td>1987-09-21</td>\n",
       "      <td>1987-09-24</td>\n",
       "      <td>OBJ-CLS</td>\n",
       "      <td>XX</td>\n",
       "      <td>5</td>\n",
       "      <td>3</td>\n",
       "      <td>400</td>\n",
       "      <td>DISPLAY</td>\n",
       "      <td>OBJ-CLS-821</td>\n",
       "      <td>NaN</td>\n",
       "      <td>NaN</td>\n",
       "      <td>NaN</td>\n",
       "      <td>NaN</td>\n",
       "      <td>NaN</td>\n",
       "      <td>NaN</td>\n",
       "    </tr>\n",
       "    <tr>\n",
       "      <th>106</th>\n",
       "      <td>ACCT</td>\n",
       "      <td>3</td>\n",
       "      <td>1</td>\n",
       "      <td>1987-09-21</td>\n",
       "      <td>1987-09-24</td>\n",
       "      <td>AMT</td>\n",
       "      <td>9(12)V99</td>\n",
       "      <td>5</td>\n",
       "      <td>3</td>\n",
       "      <td>500</td>\n",
       "      <td>COMP-3</td>\n",
       "      <td>AMT-821</td>\n",
       "      <td>NaN</td>\n",
       "      <td>NaN</td>\n",
       "      <td>NaN</td>\n",
       "      <td>NaN</td>\n",
       "      <td>NaN</td>\n",
       "      <td>NaN</td>\n",
       "    </tr>\n",
       "  </tbody>\n",
       "</table>\n",
       "</div>"
      ],
      "text/plain": [
       "    table_name  table_index  table_vers table_created_date table_updated_date  \\\n",
       "102       ACCT            3           1         1987-09-21         1987-09-24   \n",
       "103       ACCT            3           1         1987-09-21         1987-09-24   \n",
       "104       ACCT            3           1         1987-09-21         1987-09-24   \n",
       "105       ACCT            3           1         1987-09-21         1987-09-24   \n",
       "106       ACCT            3           1         1987-09-21         1987-09-24   \n",
       "\n",
       "    field_name data_type  data_level  indent_space_count  declaration_step  \\\n",
       "102  GOVT-ACCT       NaN           5                   3               100   \n",
       "103       ACCT      9(4)          10                   4               200   \n",
       "104   SUB-ACCT        99          10                   4               300   \n",
       "105    OBJ-CLS        XX           5                   3               400   \n",
       "106        AMT  9(12)V99           5                   3               500   \n",
       "\n",
       "         end raw_field_name BLANK ON INDEXED BY OCCURS  OLQ REDEFINES VALUE  \n",
       "102  DISPLAY  GOVT-ACCT-821      NaN        NaN    NaN  NaN       NaN   NaN  \n",
       "103  DISPLAY       ACCT-821      NaN        NaN    NaN  NaN       NaN   NaN  \n",
       "104  DISPLAY   SUB-ACCT-821      NaN        NaN    NaN  NaN       NaN   NaN  \n",
       "105  DISPLAY    OBJ-CLS-821      NaN        NaN    NaN  NaN       NaN   NaN  \n",
       "106   COMP-3        AMT-821      NaN        NaN    NaN  NaN       NaN   NaN  "
      ]
     },
     "execution_count": 13,
     "metadata": {},
     "output_type": "execute_result"
    }
   ],
   "source": [
    "data.head()"
   ]
  },
  {
   "cell_type": "code",
   "execution_count": 14,
   "id": "d43eba6d-c0e0-4d42-9ada-19ab87d68e0a",
   "metadata": {},
   "outputs": [
    {
     "data": {
      "text/plain": [
       "3115"
      ]
     },
     "execution_count": 14,
     "metadata": {},
     "output_type": "execute_result"
    }
   ],
   "source": [
    "len( data )"
   ]
  },
  {
   "cell_type": "code",
   "execution_count": 15,
   "id": "409b60e2-5c3e-4e9a-8a9b-b30a0fa9d725",
   "metadata": {},
   "outputs": [
    {
     "data": {
      "text/plain": [
       "3115"
      ]
     },
     "execution_count": 15,
     "metadata": {},
     "output_type": "execute_result"
    }
   ],
   "source": [
    "data['data_level'].value_counts().sum()"
   ]
  },
  {
   "cell_type": "code",
   "execution_count": 16,
   "id": "255cfcdc-add3-435f-994c-da6e7a1b096f",
   "metadata": {},
   "outputs": [
    {
     "data": {
      "text/plain": [
       "3    1896\n",
       "4     848\n",
       "5     280\n",
       "7      76\n",
       "6      15\n",
       "Name: indent_space_count, dtype: int64"
      ]
     },
     "execution_count": 16,
     "metadata": {},
     "output_type": "execute_result"
    }
   ],
   "source": [
    "data['indent_space_count'].value_counts()"
   ]
  },
  {
   "cell_type": "code",
   "execution_count": 17,
   "id": "880bc165-db66-4c34-93f3-371d5ea7e992",
   "metadata": {},
   "outputs": [],
   "source": [
    "import numpy as np"
   ]
  },
  {
   "cell_type": "code",
   "execution_count": 18,
   "id": "3530503f-5d02-4011-9fda-5514aed9f300",
   "metadata": {},
   "outputs": [
    {
     "name": "stdout",
     "output_type": "stream",
     "text": [
      "<class 'pandas.core.frame.DataFrame'>\n",
      "Int64Index: 3115 entries, 102 to 59294\n",
      "Data columns (total 18 columns):\n",
      " #   Column              Non-Null Count  Dtype         \n",
      "---  ------              --------------  -----         \n",
      " 0   table_name          3115 non-null   object        \n",
      " 1   table_index         3115 non-null   int64         \n",
      " 2   table_vers          3115 non-null   int64         \n",
      " 3   table_created_date  3115 non-null   datetime64[ns]\n",
      " 4   table_updated_date  2901 non-null   datetime64[ns]\n",
      " 5   field_name          3115 non-null   object        \n",
      " 6   data_type           2733 non-null   object        \n",
      " 7   data_level          3115 non-null   int64         \n",
      " 8   indent_space_count  3115 non-null   int64         \n",
      " 9   declaration_step    3115 non-null   int64         \n",
      " 10  end                 3115 non-null   object        \n",
      " 11  raw_field_name      3115 non-null   object        \n",
      " 12  BLANK ON            0 non-null      object        \n",
      " 13  INDEXED BY          0 non-null      object        \n",
      " 14  OCCURS              184 non-null    object        \n",
      " 15  OLQ                 2 non-null      object        \n",
      " 16  REDEFINES           29 non-null     object        \n",
      " 17  VALUE               81 non-null     object        \n",
      "dtypes: datetime64[ns](2), int64(5), object(11)\n",
      "memory usage: 462.4+ KB\n"
     ]
    }
   ],
   "source": [
    "data.info()"
   ]
  },
  {
   "cell_type": "code",
   "execution_count": 19,
   "id": "598a06e8-e82b-41c7-a2f7-50a2694e31a8",
   "metadata": {},
   "outputs": [
    {
     "data": {
      "text/html": [
       "<div>\n",
       "<style scoped>\n",
       "    .dataframe tbody tr th:only-of-type {\n",
       "        vertical-align: middle;\n",
       "    }\n",
       "\n",
       "    .dataframe tbody tr th {\n",
       "        vertical-align: top;\n",
       "    }\n",
       "\n",
       "    .dataframe thead th {\n",
       "        text-align: right;\n",
       "    }\n",
       "</style>\n",
       "<table border=\"1\" class=\"dataframe\">\n",
       "  <thead>\n",
       "    <tr style=\"text-align: right;\">\n",
       "      <th></th>\n",
       "      <th>table_name</th>\n",
       "      <th>table_index</th>\n",
       "      <th>table_vers</th>\n",
       "      <th>table_created_date</th>\n",
       "      <th>table_updated_date</th>\n",
       "      <th>field_name</th>\n",
       "      <th>data_type</th>\n",
       "      <th>data_level</th>\n",
       "      <th>indent_space_count</th>\n",
       "      <th>declaration_step</th>\n",
       "      <th>end</th>\n",
       "      <th>raw_field_name</th>\n",
       "      <th>BLANK ON</th>\n",
       "      <th>INDEXED BY</th>\n",
       "      <th>OCCURS</th>\n",
       "      <th>OLQ</th>\n",
       "      <th>REDEFINES</th>\n",
       "      <th>VALUE</th>\n",
       "    </tr>\n",
       "  </thead>\n",
       "  <tbody>\n",
       "    <tr>\n",
       "      <th>18147</th>\n",
       "      <td>FARMS-DISCRP</td>\n",
       "      <td>710</td>\n",
       "      <td>89</td>\n",
       "      <td>1983-03-03</td>\n",
       "      <td>1999-11-18</td>\n",
       "      <td>DISCRP-CDE</td>\n",
       "      <td>X(2)</td>\n",
       "      <td>5</td>\n",
       "      <td>3</td>\n",
       "      <td>1600</td>\n",
       "      <td>DISPLAY</td>\n",
       "      <td>DISCRP-CDE</td>\n",
       "      <td>NaN</td>\n",
       "      <td>NaN</td>\n",
       "      <td>4</td>\n",
       "      <td>NaN</td>\n",
       "      <td>NaN</td>\n",
       "      <td>NaN</td>\n",
       "    </tr>\n",
       "    <tr>\n",
       "      <th>9593</th>\n",
       "      <td>BDGTSTAF</td>\n",
       "      <td>361</td>\n",
       "      <td>2</td>\n",
       "      <td>1987-12-16</td>\n",
       "      <td>NaT</td>\n",
       "      <td>OFC-SPC-CTY-PTIME-NBR</td>\n",
       "      <td>9(06)</td>\n",
       "      <td>5</td>\n",
       "      <td>3</td>\n",
       "      <td>800</td>\n",
       "      <td>DISPLAY</td>\n",
       "      <td>OFC-SPC-CTY-PTIME-NBR-4533</td>\n",
       "      <td>NaN</td>\n",
       "      <td>NaN</td>\n",
       "      <td>3</td>\n",
       "      <td>NaN</td>\n",
       "      <td>NaN</td>\n",
       "      <td>NaN</td>\n",
       "    </tr>\n",
       "    <tr>\n",
       "      <th>20000</th>\n",
       "      <td>FARMS-MSTR-RATE</td>\n",
       "      <td>761</td>\n",
       "      <td>1</td>\n",
       "      <td>1990-12-20</td>\n",
       "      <td>1999-11-18</td>\n",
       "      <td>SBSY-RATE</td>\n",
       "      <td>9(08)V9999</td>\n",
       "      <td>5</td>\n",
       "      <td>3</td>\n",
       "      <td>1000</td>\n",
       "      <td>COMP-3</td>\n",
       "      <td>SBSY-RATE</td>\n",
       "      <td>NaN</td>\n",
       "      <td>NaN</td>\n",
       "      <td>NaN</td>\n",
       "      <td>NaN</td>\n",
       "      <td>NaN</td>\n",
       "      <td>NaN</td>\n",
       "    </tr>\n",
       "    <tr>\n",
       "      <th>19667</th>\n",
       "      <td>FARMS-INVSTR-INFO</td>\n",
       "      <td>740</td>\n",
       "      <td>1</td>\n",
       "      <td>1982-09-29</td>\n",
       "      <td>1999-11-18</td>\n",
       "      <td>FILLER</td>\n",
       "      <td>XXX</td>\n",
       "      <td>5</td>\n",
       "      <td>3</td>\n",
       "      <td>2400</td>\n",
       "      <td>DISPLAY</td>\n",
       "      <td>FILLER</td>\n",
       "      <td>NaN</td>\n",
       "      <td>NaN</td>\n",
       "      <td>NaN</td>\n",
       "      <td>NaN</td>\n",
       "      <td>NaN</td>\n",
       "      <td>NaN</td>\n",
       "    </tr>\n",
       "    <tr>\n",
       "      <th>39253</th>\n",
       "      <td>RMSDATA</td>\n",
       "      <td>1473</td>\n",
       "      <td>2</td>\n",
       "      <td>1984-10-30</td>\n",
       "      <td>1988-03-29</td>\n",
       "      <td>SBORDNTN-SCRTY-INT-OL-AMT</td>\n",
       "      <td>S9(9)</td>\n",
       "      <td>5</td>\n",
       "      <td>3</td>\n",
       "      <td>8600</td>\n",
       "      <td>COMP-3</td>\n",
       "      <td>SBORDNTN-SCRTY-INT-OL-AMT-101</td>\n",
       "      <td>NaN</td>\n",
       "      <td>NaN</td>\n",
       "      <td>NaN</td>\n",
       "      <td>NaN</td>\n",
       "      <td>NaN</td>\n",
       "      <td>NaN</td>\n",
       "    </tr>\n",
       "    <tr>\n",
       "      <th>17280</th>\n",
       "      <td>FARMS-CK-INFO-FRADS</td>\n",
       "      <td>683</td>\n",
       "      <td>1</td>\n",
       "      <td>1983-02-01</td>\n",
       "      <td>1999-11-18</td>\n",
       "      <td>CR-REPT-FEE-CDE</td>\n",
       "      <td>9(1)</td>\n",
       "      <td>5</td>\n",
       "      <td>3</td>\n",
       "      <td>1200</td>\n",
       "      <td>DISPLAY</td>\n",
       "      <td>CR-REPT-FEE-CDE</td>\n",
       "      <td>NaN</td>\n",
       "      <td>NaN</td>\n",
       "      <td>NaN</td>\n",
       "      <td>NaN</td>\n",
       "      <td>NaN</td>\n",
       "      <td>NaN</td>\n",
       "    </tr>\n",
       "    <tr>\n",
       "      <th>20001</th>\n",
       "      <td>FARMS-MSTR-RATE</td>\n",
       "      <td>761</td>\n",
       "      <td>1</td>\n",
       "      <td>1990-12-20</td>\n",
       "      <td>1999-11-18</td>\n",
       "      <td>FILLER</td>\n",
       "      <td>X(0046)</td>\n",
       "      <td>5</td>\n",
       "      <td>3</td>\n",
       "      <td>1100</td>\n",
       "      <td>DISPLAY</td>\n",
       "      <td>FILLER</td>\n",
       "      <td>NaN</td>\n",
       "      <td>NaN</td>\n",
       "      <td>NaN</td>\n",
       "      <td>NaN</td>\n",
       "      <td>NaN</td>\n",
       "      <td>NaN</td>\n",
       "    </tr>\n",
       "    <tr>\n",
       "      <th>17010</th>\n",
       "      <td>FARMS-ALTMADJ</td>\n",
       "      <td>664</td>\n",
       "      <td>3</td>\n",
       "      <td>2005-04-01</td>\n",
       "      <td>2005-04-07</td>\n",
       "      <td>BLK-NBR</td>\n",
       "      <td>9(4)</td>\n",
       "      <td>5</td>\n",
       "      <td>3</td>\n",
       "      <td>800</td>\n",
       "      <td>DISPLAY</td>\n",
       "      <td>BLK-NBR</td>\n",
       "      <td>NaN</td>\n",
       "      <td>NaN</td>\n",
       "      <td>NaN</td>\n",
       "      <td>NaN</td>\n",
       "      <td>NaN</td>\n",
       "      <td>NaN</td>\n",
       "    </tr>\n",
       "    <tr>\n",
       "      <th>29171</th>\n",
       "      <td>NATIONAL</td>\n",
       "      <td>1150</td>\n",
       "      <td>1</td>\n",
       "      <td>1988-05-25</td>\n",
       "      <td>1988-06-10</td>\n",
       "      <td>LST-APPEAL-FY</td>\n",
       "      <td>9(02)</td>\n",
       "      <td>10</td>\n",
       "      <td>4</td>\n",
       "      <td>1100</td>\n",
       "      <td>DISPLAY</td>\n",
       "      <td>LST-APPEAL-FY-4600</td>\n",
       "      <td>NaN</td>\n",
       "      <td>NaN</td>\n",
       "      <td>NaN</td>\n",
       "      <td>NaN</td>\n",
       "      <td>NaN</td>\n",
       "      <td>NaN</td>\n",
       "    </tr>\n",
       "    <tr>\n",
       "      <th>20435</th>\n",
       "      <td>FARMS-RDA-MALLOT-OBLGN</td>\n",
       "      <td>784</td>\n",
       "      <td>1</td>\n",
       "      <td>1992-06-12</td>\n",
       "      <td>1999-11-18</td>\n",
       "      <td>PPB-CDE-2-3</td>\n",
       "      <td>9(2)</td>\n",
       "      <td>15</td>\n",
       "      <td>5</td>\n",
       "      <td>400</td>\n",
       "      <td>DISPLAY</td>\n",
       "      <td>PPB-CDE-2-3</td>\n",
       "      <td>NaN</td>\n",
       "      <td>NaN</td>\n",
       "      <td>NaN</td>\n",
       "      <td>NaN</td>\n",
       "      <td>NaN</td>\n",
       "      <td>NaN</td>\n",
       "    </tr>\n",
       "  </tbody>\n",
       "</table>\n",
       "</div>"
      ],
      "text/plain": [
       "                   table_name  table_index  table_vers table_created_date  \\\n",
       "18147            FARMS-DISCRP          710          89         1983-03-03   \n",
       "9593                 BDGTSTAF          361           2         1987-12-16   \n",
       "20000         FARMS-MSTR-RATE          761           1         1990-12-20   \n",
       "19667       FARMS-INVSTR-INFO          740           1         1982-09-29   \n",
       "39253                 RMSDATA         1473           2         1984-10-30   \n",
       "17280     FARMS-CK-INFO-FRADS          683           1         1983-02-01   \n",
       "20001         FARMS-MSTR-RATE          761           1         1990-12-20   \n",
       "17010           FARMS-ALTMADJ          664           3         2005-04-01   \n",
       "29171                NATIONAL         1150           1         1988-05-25   \n",
       "20435  FARMS-RDA-MALLOT-OBLGN          784           1         1992-06-12   \n",
       "\n",
       "      table_updated_date                 field_name   data_type  data_level  \\\n",
       "18147         1999-11-18                 DISCRP-CDE        X(2)           5   \n",
       "9593                 NaT      OFC-SPC-CTY-PTIME-NBR       9(06)           5   \n",
       "20000         1999-11-18                  SBSY-RATE  9(08)V9999           5   \n",
       "19667         1999-11-18                     FILLER         XXX           5   \n",
       "39253         1988-03-29  SBORDNTN-SCRTY-INT-OL-AMT       S9(9)           5   \n",
       "17280         1999-11-18            CR-REPT-FEE-CDE        9(1)           5   \n",
       "20001         1999-11-18                     FILLER     X(0046)           5   \n",
       "17010         2005-04-07                    BLK-NBR        9(4)           5   \n",
       "29171         1988-06-10              LST-APPEAL-FY       9(02)          10   \n",
       "20435         1999-11-18                PPB-CDE-2-3        9(2)          15   \n",
       "\n",
       "       indent_space_count  declaration_step      end  \\\n",
       "18147                   3              1600  DISPLAY   \n",
       "9593                    3               800  DISPLAY   \n",
       "20000                   3              1000   COMP-3   \n",
       "19667                   3              2400  DISPLAY   \n",
       "39253                   3              8600   COMP-3   \n",
       "17280                   3              1200  DISPLAY   \n",
       "20001                   3              1100  DISPLAY   \n",
       "17010                   3               800  DISPLAY   \n",
       "29171                   4              1100  DISPLAY   \n",
       "20435                   5               400  DISPLAY   \n",
       "\n",
       "                      raw_field_name BLANK ON INDEXED BY OCCURS  OLQ  \\\n",
       "18147                     DISCRP-CDE      NaN        NaN      4  NaN   \n",
       "9593      OFC-SPC-CTY-PTIME-NBR-4533      NaN        NaN      3  NaN   \n",
       "20000                      SBSY-RATE      NaN        NaN    NaN  NaN   \n",
       "19667                         FILLER      NaN        NaN    NaN  NaN   \n",
       "39253  SBORDNTN-SCRTY-INT-OL-AMT-101      NaN        NaN    NaN  NaN   \n",
       "17280                CR-REPT-FEE-CDE      NaN        NaN    NaN  NaN   \n",
       "20001                         FILLER      NaN        NaN    NaN  NaN   \n",
       "17010                        BLK-NBR      NaN        NaN    NaN  NaN   \n",
       "29171             LST-APPEAL-FY-4600      NaN        NaN    NaN  NaN   \n",
       "20435                    PPB-CDE-2-3      NaN        NaN    NaN  NaN   \n",
       "\n",
       "      REDEFINES VALUE  \n",
       "18147       NaN   NaN  \n",
       "9593        NaN   NaN  \n",
       "20000       NaN   NaN  \n",
       "19667       NaN   NaN  \n",
       "39253       NaN   NaN  \n",
       "17280       NaN   NaN  \n",
       "20001       NaN   NaN  \n",
       "17010       NaN   NaN  \n",
       "29171       NaN   NaN  \n",
       "20435       NaN   NaN  "
      ]
     },
     "execution_count": 19,
     "metadata": {},
     "output_type": "execute_result"
    }
   ],
   "source": [
    "data.sample(10)"
   ]
  },
  {
   "cell_type": "markdown",
   "id": "d59676bc-c42a-44fc-81f6-9886f67a7ecd",
   "metadata": {},
   "source": [
    "# Remove suffixes from REDEFINES values\n",
    "\n",
    "* should have done this in previous notebook that prepared the excel file, but I'm short on time now"
   ]
  },
  {
   "cell_type": "code",
   "execution_count": 20,
   "id": "56599c99-cff1-474b-9a0c-6d6d432ca754",
   "metadata": {},
   "outputs": [],
   "source": [
    "suffix_data = pd.read_csv( '2023-01-10_IDMS_table_suffixes.csv' )"
   ]
  },
  {
   "cell_type": "code",
   "execution_count": 21,
   "id": "e2dac431-d037-4074-92bc-fde33c82b16d",
   "metadata": {},
   "outputs": [
    {
     "name": "stdout",
     "output_type": "stream",
     "text": [
      "<class 'pandas.core.frame.DataFrame'>\n",
      "RangeIndex: 4126 entries, 0 to 4125\n",
      "Data columns (total 9 columns):\n",
      " #   Column               Non-Null Count  Dtype \n",
      "---  ------               --------------  ----- \n",
      " 0   Unnamed: 0           4126 non-null   int64 \n",
      " 1   leading_space_count  4126 non-null   int64 \n",
      " 2   table_index          4126 non-null   int64 \n",
      " 3   synonym_index        4126 non-null   int64 \n",
      " 4   modifies_line        4126 non-null   int64 \n",
      " 5   line                 4126 non-null   object\n",
      " 6   synonym_name         4126 non-null   object\n",
      " 7   affix_type           3010 non-null   object\n",
      " 8   affix                3010 non-null   object\n",
      "dtypes: int64(5), object(4)\n",
      "memory usage: 290.2+ KB\n"
     ]
    }
   ],
   "source": [
    "suffix_data.info()"
   ]
  },
  {
   "cell_type": "code",
   "execution_count": 22,
   "id": "522b68b8-08bc-46e8-a955-a7490231104a",
   "metadata": {},
   "outputs": [
    {
     "data": {
      "text/html": [
       "<div>\n",
       "<style scoped>\n",
       "    .dataframe tbody tr th:only-of-type {\n",
       "        vertical-align: middle;\n",
       "    }\n",
       "\n",
       "    .dataframe tbody tr th {\n",
       "        vertical-align: top;\n",
       "    }\n",
       "\n",
       "    .dataframe thead th {\n",
       "        text-align: right;\n",
       "    }\n",
       "</style>\n",
       "<table border=\"1\" class=\"dataframe\">\n",
       "  <thead>\n",
       "    <tr style=\"text-align: right;\">\n",
       "      <th></th>\n",
       "      <th>Unnamed: 0</th>\n",
       "      <th>leading_space_count</th>\n",
       "      <th>table_index</th>\n",
       "      <th>synonym_index</th>\n",
       "      <th>modifies_line</th>\n",
       "      <th>line</th>\n",
       "      <th>synonym_name</th>\n",
       "      <th>affix_type</th>\n",
       "      <th>affix</th>\n",
       "    </tr>\n",
       "  </thead>\n",
       "  <tbody>\n",
       "    <tr>\n",
       "      <th>0</th>\n",
       "      <td>4</td>\n",
       "      <td>5</td>\n",
       "      <td>0</td>\n",
       "      <td>0</td>\n",
       "      <td>-1</td>\n",
       "      <td>RECORD               ABSDOMN             ...</td>\n",
       "      <td>ABSDOMN</td>\n",
       "      <td>SUFFIX</td>\n",
       "      <td>-4541</td>\n",
       "    </tr>\n",
       "    <tr>\n",
       "      <th>1</th>\n",
       "      <td>21</td>\n",
       "      <td>5</td>\n",
       "      <td>1</td>\n",
       "      <td>0</td>\n",
       "      <td>-1</td>\n",
       "      <td>RECORD               ACCRLINK            ...</td>\n",
       "      <td>ACCRLINK</td>\n",
       "      <td>PREFIX</td>\n",
       "      <td>W019-</td>\n",
       "    </tr>\n",
       "    <tr>\n",
       "      <th>2</th>\n",
       "      <td>115</td>\n",
       "      <td>5</td>\n",
       "      <td>2</td>\n",
       "      <td>0</td>\n",
       "      <td>-1</td>\n",
       "      <td>RECORD               ACCRLINK            ...</td>\n",
       "      <td>ACCRLINK</td>\n",
       "      <td>PREFIX</td>\n",
       "      <td>W019-</td>\n",
       "    </tr>\n",
       "    <tr>\n",
       "      <th>3</th>\n",
       "      <td>175</td>\n",
       "      <td>5</td>\n",
       "      <td>3</td>\n",
       "      <td>0</td>\n",
       "      <td>-1</td>\n",
       "      <td>RECORD               ACCT                ...</td>\n",
       "      <td>ACCT</td>\n",
       "      <td>SUFFIX</td>\n",
       "      <td>-821</td>\n",
       "    </tr>\n",
       "    <tr>\n",
       "      <th>4</th>\n",
       "      <td>194</td>\n",
       "      <td>5</td>\n",
       "      <td>4</td>\n",
       "      <td>0</td>\n",
       "      <td>-1</td>\n",
       "      <td>RECORD               ACCTG-CNTL          ...</td>\n",
       "      <td>ACCTG-CNTL</td>\n",
       "      <td>SUFFIX</td>\n",
       "      <td>-MTH</td>\n",
       "    </tr>\n",
       "    <tr>\n",
       "      <th>...</th>\n",
       "      <td>...</td>\n",
       "      <td>...</td>\n",
       "      <td>...</td>\n",
       "      <td>...</td>\n",
       "      <td>...</td>\n",
       "      <td>...</td>\n",
       "      <td>...</td>\n",
       "      <td>...</td>\n",
       "      <td>...</td>\n",
       "    </tr>\n",
       "    <tr>\n",
       "      <th>4121</th>\n",
       "      <td>171295</td>\n",
       "      <td>5</td>\n",
       "      <td>3656</td>\n",
       "      <td>0</td>\n",
       "      <td>-1</td>\n",
       "      <td>RECORD               502-REPT-DTL-RCRD   ...</td>\n",
       "      <td>502-REPT-DTL-RCRD</td>\n",
       "      <td>PREFIX</td>\n",
       "      <td>W139-</td>\n",
       "    </tr>\n",
       "    <tr>\n",
       "      <th>4122</th>\n",
       "      <td>171372</td>\n",
       "      <td>5</td>\n",
       "      <td>3657</td>\n",
       "      <td>0</td>\n",
       "      <td>-1</td>\n",
       "      <td>RECORD               502-REPT-DTL-RCRD   ...</td>\n",
       "      <td>502-REPT-DTL-RCRD</td>\n",
       "      <td>PREFIX</td>\n",
       "      <td>W139-</td>\n",
       "    </tr>\n",
       "    <tr>\n",
       "      <th>4123</th>\n",
       "      <td>171441</td>\n",
       "      <td>5</td>\n",
       "      <td>3658</td>\n",
       "      <td>0</td>\n",
       "      <td>-1</td>\n",
       "      <td>RECORD               502-REPT-DTL-RCRD   ...</td>\n",
       "      <td>502-REPT-DTL-RCRD</td>\n",
       "      <td>PREFIX</td>\n",
       "      <td>W139-</td>\n",
       "    </tr>\n",
       "    <tr>\n",
       "      <th>4124</th>\n",
       "      <td>171512</td>\n",
       "      <td>5</td>\n",
       "      <td>3659</td>\n",
       "      <td>0</td>\n",
       "      <td>-1</td>\n",
       "      <td>RECORD               502-TEMP-DTL-RCRD   ...</td>\n",
       "      <td>502-TEMP-DTL-RCRD</td>\n",
       "      <td>PREFIX</td>\n",
       "      <td>W502-</td>\n",
       "    </tr>\n",
       "    <tr>\n",
       "      <th>4125</th>\n",
       "      <td>171583</td>\n",
       "      <td>5</td>\n",
       "      <td>3660</td>\n",
       "      <td>0</td>\n",
       "      <td>-1</td>\n",
       "      <td>RECORD               502-TEMP-DTL-RCRD   ...</td>\n",
       "      <td>502-TEMP-DTL-RCRD</td>\n",
       "      <td>PREFIX</td>\n",
       "      <td>W502-</td>\n",
       "    </tr>\n",
       "  </tbody>\n",
       "</table>\n",
       "<p>4126 rows × 9 columns</p>\n",
       "</div>"
      ],
      "text/plain": [
       "      Unnamed: 0  leading_space_count  table_index  synonym_index  \\\n",
       "0              4                    5            0              0   \n",
       "1             21                    5            1              0   \n",
       "2            115                    5            2              0   \n",
       "3            175                    5            3              0   \n",
       "4            194                    5            4              0   \n",
       "...          ...                  ...          ...            ...   \n",
       "4121      171295                    5         3656              0   \n",
       "4122      171372                    5         3657              0   \n",
       "4123      171441                    5         3658              0   \n",
       "4124      171512                    5         3659              0   \n",
       "4125      171583                    5         3660              0   \n",
       "\n",
       "      modifies_line                                               line  \\\n",
       "0                -1       RECORD               ABSDOMN             ...   \n",
       "1                -1       RECORD               ACCRLINK            ...   \n",
       "2                -1       RECORD               ACCRLINK            ...   \n",
       "3                -1       RECORD               ACCT                ...   \n",
       "4                -1       RECORD               ACCTG-CNTL          ...   \n",
       "...             ...                                                ...   \n",
       "4121             -1       RECORD               502-REPT-DTL-RCRD   ...   \n",
       "4122             -1       RECORD               502-REPT-DTL-RCRD   ...   \n",
       "4123             -1       RECORD               502-REPT-DTL-RCRD   ...   \n",
       "4124             -1       RECORD               502-TEMP-DTL-RCRD   ...   \n",
       "4125             -1       RECORD               502-TEMP-DTL-RCRD   ...   \n",
       "\n",
       "           synonym_name affix_type  affix  \n",
       "0               ABSDOMN     SUFFIX  -4541  \n",
       "1              ACCRLINK     PREFIX  W019-  \n",
       "2              ACCRLINK     PREFIX  W019-  \n",
       "3                  ACCT     SUFFIX   -821  \n",
       "4            ACCTG-CNTL     SUFFIX   -MTH  \n",
       "...                 ...        ...    ...  \n",
       "4121  502-REPT-DTL-RCRD     PREFIX  W139-  \n",
       "4122  502-REPT-DTL-RCRD     PREFIX  W139-  \n",
       "4123  502-REPT-DTL-RCRD     PREFIX  W139-  \n",
       "4124  502-TEMP-DTL-RCRD     PREFIX  W502-  \n",
       "4125  502-TEMP-DTL-RCRD     PREFIX  W502-  \n",
       "\n",
       "[4126 rows x 9 columns]"
      ]
     },
     "execution_count": 22,
     "metadata": {},
     "output_type": "execute_result"
    }
   ],
   "source": [
    "suffix_data"
   ]
  },
  {
   "cell_type": "code",
   "execution_count": 23,
   "id": "aa176e6b-02ea-4ae8-95ae-6e919430a40a",
   "metadata": {},
   "outputs": [],
   "source": [
    "wanted_suffix_cols = [ 'table_index', 'affix_type', 'affix' ]"
   ]
  },
  {
   "cell_type": "code",
   "execution_count": 24,
   "id": "fc3cda35-bdd7-45eb-8f59-d9268cf91859",
   "metadata": {},
   "outputs": [],
   "source": [
    "replacements = suffix_data[ wanted_suffix_cols ].dropna().values"
   ]
  },
  {
   "cell_type": "code",
   "execution_count": 25,
   "id": "1624d6ae-f486-45cb-b8c2-e8e517be39ef",
   "metadata": {},
   "outputs": [
    {
     "data": {
      "text/plain": [
       "array([[0, 'SUFFIX', '-4541'],\n",
       "       [1, 'PREFIX', 'W019-'],\n",
       "       [2, 'PREFIX', 'W019-'],\n",
       "       ...,\n",
       "       [3658, 'PREFIX', 'W139-'],\n",
       "       [3659, 'PREFIX', 'W502-'],\n",
       "       [3660, 'PREFIX', 'W502-']], dtype=object)"
      ]
     },
     "execution_count": 25,
     "metadata": {},
     "output_type": "execute_result"
    }
   ],
   "source": [
    "replacements"
   ]
  },
  {
   "cell_type": "code",
   "execution_count": 26,
   "id": "cff6d7f4-bdde-4557-9d0b-7ff24fa60c76",
   "metadata": {},
   "outputs": [
    {
     "data": {
      "text/plain": [
       "3010"
      ]
     },
     "execution_count": 26,
     "metadata": {},
     "output_type": "execute_result"
    }
   ],
   "source": [
    "len( replacements )"
   ]
  },
  {
   "cell_type": "code",
   "execution_count": 27,
   "id": "03a0015d-2a71-4885-a98a-0d2499d2a1d3",
   "metadata": {},
   "outputs": [],
   "source": [
    "import re"
   ]
  },
  {
   "cell_type": "code",
   "execution_count": 28,
   "id": "2b0fbe14-c764-4e30-a86e-71a91af25657",
   "metadata": {
    "scrolled": true,
    "tags": []
   },
   "outputs": [
    {
     "name": "stdout",
     "output_type": "stream",
     "text": [
      "682 SUFFIX -350 n found= 1\n",
      "\t CTY-OFC-MAILG became CTY-OFC-MAILG\n",
      "683 SUFFIX -351 n found= 1\n",
      "\t CTY-OFC-MAILG became CTY-OFC-MAILG\n",
      "726 SUFFIX -605 n found= 4\n",
      "\t BORR-RCRD-TYP-1 became BORR-RCRD-TYP-1\n",
      "729 SUFFIX -600 n found= 1\n",
      "\t LNDR-RCRD-TYP-1 became LNDR-RCRD-TYP-1\n",
      "730 SUFFIX -216 n found= 1\n",
      "\t CASE-ID became CASE-ID\n",
      "769 SUFFIX -320 n found= 1\n",
      "\t INT-RATE-BORR became INT-RATE-BORR\n",
      "815 SUFFIX -205 n found= 1\n",
      "\t USER-ID became USER-ID\n",
      "1064 SUFFIX -151 n found= 3\n",
      "\t CTY-CDE-FMHA-151 became CTY-CDE-FMHA\n",
      "1330 SUFFIX -107 n found= 1\n",
      "\t SRVCG-OFC-CDE-RGN-107 became SRVCG-OFC-CDE-RGN\n",
      "1472 SUFFIX -100 n found= 5\n",
      "\t STAT-OF-WEEKS-UPDTE-ALL-100 became STAT-OF-WEEKS-UPDTE-ALL\n"
     ]
    }
   ],
   "source": [
    "for (table_index, affix_type, remove_me) in replacements:\n",
    "\n",
    "    selection_criterion = (data['table_index'] == table_index) & data['REDEFINES'].notna()\n",
    "\n",
    "    n_matches_found = selection_criterion.sum()\n",
    "\n",
    "    if n_matches_found == 0:\n",
    "        continue\n",
    "    print( table_index, affix_type, remove_me, \"n found=\", n_matches_found )\n",
    "\n",
    "    if affix_type == 'PREFIX':\n",
    "        pattern = re.compile( '^' + str( remove_me ) )\n",
    "    else:\n",
    "        pattern = re.compile( str( remove_me )+ '$' )\n",
    "\n",
    "    old = data.loc[ selection_criterion, 'REDEFINES' ].copy().iloc[0]\n",
    "    data.loc[ selection_criterion, 'REDEFINES' ] = data.loc[ selection_criterion, 'REDEFINES' ].str.replace( pattern, \"\" )\n",
    "    new = data.loc[ selection_criterion, 'REDEFINES' ].copy().iloc[0]\n",
    "    \n",
    "    print( \"\\t\", old, \"became\", new )"
   ]
  },
  {
   "cell_type": "code",
   "execution_count": 29,
   "id": "3f6bf298-3b4f-4391-969c-a5a365a40b50",
   "metadata": {},
   "outputs": [
    {
     "name": "stdout",
     "output_type": "stream",
     "text": [
      "<class 'pandas.core.frame.DataFrame'>\n",
      "Int64Index: 3115 entries, 102 to 59294\n",
      "Data columns (total 18 columns):\n",
      " #   Column              Non-Null Count  Dtype         \n",
      "---  ------              --------------  -----         \n",
      " 0   table_name          3115 non-null   object        \n",
      " 1   table_index         3115 non-null   int64         \n",
      " 2   table_vers          3115 non-null   int64         \n",
      " 3   table_created_date  3115 non-null   datetime64[ns]\n",
      " 4   table_updated_date  2901 non-null   datetime64[ns]\n",
      " 5   field_name          3115 non-null   object        \n",
      " 6   data_type           2733 non-null   object        \n",
      " 7   data_level          3115 non-null   int64         \n",
      " 8   indent_space_count  3115 non-null   int64         \n",
      " 9   declaration_step    3115 non-null   int64         \n",
      " 10  end                 3115 non-null   object        \n",
      " 11  raw_field_name      3115 non-null   object        \n",
      " 12  BLANK ON            0 non-null      object        \n",
      " 13  INDEXED BY          0 non-null      object        \n",
      " 14  OCCURS              184 non-null    object        \n",
      " 15  OLQ                 2 non-null      object        \n",
      " 16  REDEFINES           29 non-null     object        \n",
      " 17  VALUE               81 non-null     object        \n",
      "dtypes: datetime64[ns](2), int64(5), object(11)\n",
      "memory usage: 462.4+ KB\n"
     ]
    }
   ],
   "source": [
    "data.info()"
   ]
  },
  {
   "cell_type": "code",
   "execution_count": 30,
   "id": "1bcefa3f-c9b2-4c5e-8292-539f9031999e",
   "metadata": {},
   "outputs": [],
   "source": [
    "def Create_Copybook_Parts( grp ):\n",
    "    \n",
    "    table_index = grp['table_index'].iloc[0]\n",
    "    table_ver = grp['table_vers'].iloc[0]\n",
    "    table_n_fields = len(grp)\n",
    "    table_name = grp['table_name'].iloc[0]\n",
    "    \n",
    "    print( 'table', table_index,\n",
    "          'ver', table_ver,\n",
    "          'n fields =', table_n_fields,\n",
    "          'name =', table_name\n",
    "    )\n",
    "    \n",
    "    temp_index = grp.index\n",
    "          \n",
    "    sorted_grp = grp.sort_values( 'declaration_step' )\n",
    "    step_numbers = grp['declaration_step'].astype(str).str.zfill( 6 )\n",
    "    comment_column = pd.Series( [ \" \" for _ in range( len( grp ) ) ], index=temp_index )\n",
    "    indent = 1 + ( grp['indent_space_count'].astype( int ) - 2 ) * 4\n",
    "    indent_spaces = indent.apply( lambda i: \" \" * i )\n",
    "    # indent_number\n",
    "    sep = pd.Series( [ \"  \" for _ in range( len( grp ) ) ], index=temp_index )\n",
    "    \n",
    "    clauses = [ 'PIC', 'BLANK ON', 'INDEXED BY', 'OCCURS', 'OLQ', 'REDEFINES', 'VALUE' ]\n",
    "    formatted_cols = {}\n",
    "    for clause in clauses:\n",
    "        if clause == 'PIC':\n",
    "            col_name = 'data_type'\n",
    "        else:\n",
    "            col_name = clause\n",
    "        col = grp[col_name]\n",
    "        col[ col.notna() ] = col[ col.notna() ].apply( lambda t:  f'{clause} {t}' )\n",
    "        formatted_cols[ col_name ] = col \n",
    "    \n",
    "    formatted_data = dict(\n",
    "        step_numbers=step_numbers,\n",
    "        comment_column=comment_column,\n",
    "        indent_spaces=indent_spaces,\n",
    "        data_level = grp['data_level'].astype(str).str.zfill( 2 ),\n",
    "        sep = sep,\n",
    "        field_name = grp['field_name'],\n",
    "        pic_clauses= formatted_cols[ 'data_type' ],\n",
    "        comp_clause = grp[ 'end' ],\n",
    "        value_clauses = formatted_cols[ 'VALUE' ],\n",
    "        occurs_clauses = formatted_cols[ 'OCCURS' ],\n",
    "        redefines_clauses = formatted_cols[ 'REDEFINES' ],\n",
    "        blank_on_clauses = formatted_cols[ 'BLANK ON' ],\n",
    "        indexed_by_clauses = formatted_cols[ 'INDEXED BY' ],\n",
    "        olq_clauses = formatted_cols[ 'OLQ' ],\n",
    "    )\n",
    "    \n",
    "    lengths = { len(_) for _ in formatted_data.values() }\n",
    "    assert len( lengths ) == 1\n",
    "    assert lengths.pop() == table_n_fields\n",
    "    \n",
    "    df = pd.DataFrame( formatted_data )\n",
    "    \n",
    "    assert len( df ) == table_n_fields, f'len( df ) = {len( df )}, table_n_fields = {table_n_fields}\\n\\n{formatted_data}'\n",
    "\n",
    "    table_name_line = pd.DataFrame( columns=df.columns )\n",
    "    table_name_line.loc[ 0, 'step_numbers' ] = str( 50 ).zfill( 6 )\n",
    "    table_name_line.loc[ 0, 'comment_column' ] = \" \"\n",
    "    table_name_line.loc[ 0, 'indent_spaces' ] = \"\" # \" \"\n",
    "    table_name_line.loc[ 0, 'data_level' ] = '01'\n",
    "    table_name_line.loc[ 0, 'sep' ] = \"  \"\n",
    "    table_name_line.loc[ 0, 'field_name' ] = table_name\n",
    "    table_name_line = table_name_line.fillna( '' )\n",
    "\n",
    "    df = pd.concat( ( table_name_line, df ), axis=0 )\n",
    "    return df\n",
    "    "
   ]
  },
  {
   "cell_type": "code",
   "execution_count": 31,
   "id": "dcdc435c-304d-4270-9918-b7d7d308ce99",
   "metadata": {
    "scrolled": true,
    "tags": []
   },
   "outputs": [
    {
     "name": "stdout",
     "output_type": "stream",
     "text": [
      "table 3 ver 1 n fields = 7 name = ACCT\n",
      "table 281 ver 3 n fields = 142 name = APPEAL\n",
      "table 282 ver 1 n fields = 3 name = APPLCMT\n",
      "table 318 ver 2 n fields = 19 name = AREAOFC\n",
      "table 341 ver 3 n fields = 4 name = AVLBLFD\n",
      "table 360 ver 2 n fields = 6 name = BDGTCTRL\n",
      "table 361 ver 2 n fields = 20 name = BDGTSTAF\n",
      "table 425 ver 1 n fields = 4 name = CMMTS-RCRD\n",
      "table 450 ver 1 n fields = 9 name = CODEREC\n",
      "table 472 ver 1 n fields = 33 name = CRBREC\n",
      "table 575 ver 1 n fields = 8 name = DIVREC\n",
      "table 609 ver 1 n fields = 10 name = EQPMTS\n",
      "table 610 ver 1 n fields = 4 name = EQPTCTRL\n",
      "table 633 ver 1 n fields = 8 name = EVENT-HN\n",
      "table 637 ver 1 n fields = 4 name = EXPSCTRL\n",
      "table 652 ver 11 n fields = 29 name = FARMS-ACCT-DATA\n",
      "table 659 ver 11 n fields = 114 name = FARMS-ACQD-PROP\n",
      "table 660 ver 90 n fields = 5 name = FARMS-ADPS-CNTRL\n",
      "table 661 ver 1 n fields = 6 name = FARMS-ADVANCE\n",
      "table 662 ver 2 n fields = 16 name = FARMS-AID\n",
      "table 664 ver 3 n fields = 36 name = FARMS-ALTMADJ\n",
      "table 665 ver 1 n fields = 37 name = FARMS-ALTMADJ-NEW\n",
      "table 666 ver 1 n fields = 5 name = FARMS-ALTMT\n",
      "table 667 ver 1 n fields = 7 name = FARMS-AMORTD-CST\n",
      "table 668 ver 2 n fields = 10 name = FARMS-APROPTN-LOOKUP\n",
      "table 670 ver 3 n fields = 12 name = FARMS-ASSISTANCE\n",
      "table 671 ver 1 n fields = 7 name = FARMS-ASSOC-PRIN-BOND\n",
      "table 672 ver 90 n fields = 6 name = FARMS-CASE\n",
      "table 673 ver 1 n fields = 4 name = FARMS-CDEJUNC\n",
      "table 675 ver 4 n fields = 24 name = FARMS-CDESTR\n",
      "table 679 ver 5 n fields = 9 name = FARMS-CHECKS\n",
      "table 680 ver 2 n fields = 8 name = FARMS-CK-CNTRL\n",
      "table 682 ver 3 n fields = 28 name = FARMS-CK-INFO\n",
      "table 683 ver 1 n fields = 28 name = FARMS-CK-INFO-FRADS\n",
      "table 689 ver 15 n fields = 76 name = FARMS-CLIENT\n",
      "table 692 ver 5 n fields = 16 name = FARMS-CLIENT-SFSI\n",
      "table 693 ver 1 n fields = 2 name = FARMS-COHORT\n",
      "table 694 ver 1 n fields = 32 name = FARMS-CRBUR\n",
      "table 698 ver 4 n fields = 59 name = FARMS-CRCLAIMS\n",
      "table 701 ver 3 n fields = 8 name = FARMS-CRRATE\n",
      "table 702 ver 1 n fields = 16 name = FARMS-CTY-LOOKUP\n",
      "table 704 ver 2 n fields = 8 name = FARMS-DALLOT\n",
      "table 706 ver 4 n fields = 28 name = FARMS-DALLOT-DTL\n",
      "table 707 ver 2 n fields = 9 name = FARMS-DALLOT-OBLGN\n",
      "table 708 ver 1 n fields = 1 name = FARMS-DALLOT-OTH\n",
      "table 709 ver 2 n fields = 3 name = FARMS-DAPROC\n",
      "table 710 ver 89 n fields = 48 name = FARMS-DISCRP\n",
      "table 711 ver 2 n fields = 6 name = FARMS-DISCRP-MISC\n",
      "table 714 ver 3 n fields = 39 name = FARMS-DSTR-SETASD\n",
      "table 715 ver 1 n fields = 7 name = FARMS-DTEREC\n",
      "table 716 ver 1 n fields = 12 name = FARMS-DTL-RATE\n",
      "table 717 ver 2 n fields = 20 name = FARMS-EASMNT\n",
      "table 718 ver 1 n fields = 13 name = FARMS-EQTYRVRS\n",
      "table 721 ver 5 n fields = 34 name = FARMS-EQUITY\n",
      "table 722 ver 1 n fields = 6 name = FARMS-FD-SIDE\n",
      "table 723 ver 1 n fields = 4 name = FARMS-FDCDE\n",
      "table 726 ver 8 n fields = 233 name = FARMS-GLBORR\n",
      "table 729 ver 3 n fields = 121 name = FARMS-GLLNDR\n",
      "table 730 ver 1 n fields = 6 name = FARMS-IMCASE\n",
      "table 731 ver 1 n fields = 39 name = FARMS-INITMAN\n",
      "table 732 ver 2 n fields = 15 name = FARMS-INSRNC-AUTHY\n",
      "table 733 ver 1 n fields = 6 name = FARMS-INSTALLMENT\n",
      "table 734 ver 1 n fields = 5 name = FARMS-INSURANCE\n",
      "table 735 ver 1 n fields = 7 name = FARMS-INT-ASSTNC\n",
      "table 738 ver 7 n fields = 16 name = FARMS-INT-BDWN\n",
      "table 739 ver 3 n fields = 29 name = FARMS-INVSTR-DTL\n",
      "table 740 ver 1 n fields = 24 name = FARMS-INVSTR-INFO\n",
      "table 741 ver 1 n fields = 3 name = FARMS-INVSTR-INFO-MISC\n",
      "table 742 ver 2 n fields = 9 name = FARMS-JDGMT-3RD-PARTY\n",
      "table 743 ver 1 n fields = 4 name = FARMS-JOB-RESTART\n",
      "table 744 ver 90 n fields = 4 name = FARMS-JURDCTN\n",
      "table 745 ver 3 n fields = 15 name = FARMS-LESSEE\n",
      "table 746 ver 4 n fields = 13 name = FARMS-LN-AID\n",
      "table 747 ver 1 n fields = 4 name = FARMS-LN-NO-INT\n",
      "table 749 ver 2 n fields = 5 name = FARMS-LNRATE\n",
      "table 751 ver 5 n fields = 45 name = FARMS-LOAN\n",
      "table 752 ver 1 n fields = 5 name = FARMS-LOAN-DRE\n",
      "table 753 ver 1 n fields = 12 name = FARMS-LOAN-OTC\n",
      "table 754 ver 1 n fields = 8 name = FARMS-LOAN-SFSI\n",
      "table 757 ver 4 n fields = 32 name = FARMS-LSE-INFO\n",
      "table 758 ver 1 n fields = 16 name = FARMS-MALLOT\n",
      "table 759 ver 3 n fields = 9 name = FARMS-MALLOT-OBLGN\n",
      "table 760 ver 1 n fields = 1 name = FARMS-MALLOT-OTH\n",
      "table 761 ver 1 n fields = 11 name = FARMS-MSTR-RATE\n",
      "table 762 ver 2 n fields = 33 name = FARMS-NOTIFY\n",
      "table 763 ver 1 n fields = 3 name = FARMS-NOTIFY-CNTRL\n",
      "table 765 ver 4 n fields = 48 name = FARMS-OBLGN\n",
      "table 766 ver 89 n fields = 6 name = FARMS-ORDERS\n",
      "table 767 ver 1 n fields = 21 name = FARMS-ORGZTN-LOOKUP\n",
      "table 768 ver 90 n fields = 9 name = FARMS-OVFLO\n",
      "table 769 ver 2 n fields = 41 name = FARMS-PD-ACCT-RVRSL\n",
      "table 770 ver 1 n fields = 63 name = FARMS-PLEREP\n",
      "table 771 ver 1 n fields = 1 name = FARMS-PROG-SAVE\n",
      "table 773 ver 2 n fields = 14 name = FARMS-PRTLSALE\n",
      "table 775 ver 1 n fields = 5 name = FARMS-RDA-ALTMT\n",
      "table 776 ver 2 n fields = 24 name = FARMS-RDA-AREA-DALLOT\n",
      "table 777 ver 1 n fields = 10 name = FARMS-RDA-AREA-OBLGN\n",
      "table 779 ver 1 n fields = 24 name = FARMS-RDA-DALLOT-DTL\n",
      "table 780 ver 1 n fields = 10 name = FARMS-RDA-DALLOT-OBLGN\n",
      "table 781 ver 1 n fields = 6 name = FARMS-RDA-FD-SIDE\n",
      "table 782 ver 1 n fields = 16 name = FARMS-RDA-INSRNC-AUTHY\n",
      "table 783 ver 1 n fields = 19 name = FARMS-RDA-MALLOT\n",
      "table 784 ver 1 n fields = 10 name = FARMS-RDA-MALLOT-OBLGN\n",
      "table 785 ver 1 n fields = 14 name = FARMS-RDA-RGN-DTL\n",
      "table 786 ver 1 n fields = 16 name = FARMS-RDA-RGN-OBLGN\n",
      "table 787 ver 1 n fields = 4 name = FARMS-REJECT-TRNSCTN\n",
      "table 788 ver 1 n fields = 14 name = FARMS-RENTL-CNTRL\n",
      "table 789 ver 2 n fields = 23 name = FARMS-RENTL-DTL\n",
      "table 790 ver 1 n fields = 3 name = FARMS-RENTL-FY-UNIT\n",
      "table 791 ver 1 n fields = 10 name = FARMS-RENTL-TTL\n",
      "table 792 ver 1 n fields = 4 name = FARMS-RESCHEDULE\n",
      "table 794 ver 1 n fields = 22 name = FARMS-RH-DFRL\n",
      "table 796 ver 1 n fields = 2 name = FARMS-SRCFDS\n",
      "table 797 ver 1 n fields = 8 name = FARMS-ST-LOOKUP\n",
      "table 799 ver 2 n fields = 9 name = FARMS-STAT\n",
      "table 800 ver 1 n fields = 1 name = FARMS-STOPPER\n",
      "table 802 ver 4 n fields = 21 name = FARMS-SUBSIDY\n",
      "table 803 ver 1 n fields = 3 name = FARMS-SUBSRC\n",
      "table 804 ver 90 n fields = 2 name = FARMS-TRNSCTN-CNTRL\n",
      "table 808 ver 6 n fields = 28 name = FARMS-TRNSCTN-RVRSL\n",
      "table 809 ver 1 n fields = 5 name = FARMS-TRRATE\n",
      "table 810 ver 1 n fields = 6 name = FARMS-TRSTR\n",
      "table 811 ver 1 n fields = 4 name = FARMS-USER-AUTHY\n",
      "table 812 ver 90 n fields = 6 name = FARMS-USER-DOMAIN\n",
      "table 813 ver 1 n fields = 14 name = FARMS-USER-STATCS\n",
      "table 815 ver 2 n fields = 13 name = FARMS-USERS\n",
      "table 817 ver 1 n fields = 4 name = FDBDGT\n",
      "table 824 ver 5 n fields = 17 name = FHARREC\n",
      "table 825 ver 1 n fields = 4 name = FIELD-HN\n",
      "table 866 ver 2 n fields = 2 name = GL-MSTACCT\n",
      "table 873 ver 2 n fields = 11 name = GLACCT\n",
      "table 874 ver 1 n fields = 4 name = GLACCTC\n",
      "table 878 ver 2 n fields = 11 name = GLBLKC\n",
      "table 879 ver 1 n fields = 17 name = GLBLKD\n",
      "table 880 ver 1 n fields = 8 name = GLCNTRL\n",
      "table 881 ver 1 n fields = 13 name = GLENTRY\n",
      "table 884 ver 4 n fields = 14 name = GLENTTL\n",
      "table 891 ver 2 n fields = 5 name = GLMNCDE\n",
      "table 892 ver 1 n fields = 4 name = GLMNCDEC\n",
      "table 894 ver 3 n fields = 18 name = GLMSTR\n",
      "table 895 ver 1 n fields = 7 name = GLNTRYC\n",
      "table 896 ver 1 n fields = 11 name = GLNTRYD\n",
      "table 899 ver 3 n fields = 40 name = GLOVA\n",
      "table 916 ver 1 n fields = 12 name = HEAROFC\n",
      "table 1064 ver 2 n fields = 67 name = LOCTN-LOOKUP\n",
      "table 1150 ver 1 n fields = 14 name = NATIONAL\n",
      "table 1152 ver 1 n fields = 10 name = NHEAROFC\n",
      "table 1157 ver 1 n fields = 5 name = OBLGCTRL\n",
      "table 1158 ver 1 n fields = 9 name = OBLGDTL\n",
      "table 1183 ver 1 n fields = 9 name = OFCSPC\n",
      "table 1245 ver 1 n fields = 5 name = PRESBDGT\n",
      "table 1261 ver 1 n fields = 5 name = PROJHDR\n",
      "table 1270 ver 1 n fields = 14 name = PROJREC\n",
      "table 1284 ver 1 n fields = 10 name = PSTNFIL\n",
      "table 1330 ver 1 n fields = 27 name = RDADATA\n",
      "table 1351 ver 1 n fields = 3 name = RECORD-HN\n",
      "table 1472 ver 3 n fields = 38 name = RMSADRS\n",
      "table 1473 ver 2 n fields = 133 name = RMSDATA\n",
      "table 1476 ver 2 n fields = 5 name = RMSTIME\n",
      "table 1972 ver 1 n fields = 21 name = SITE-LOOKUP\n",
      "table 1994 ver 2 n fields = 6 name = SOCCDE\n",
      "table 2037 ver 1 n fields = 7 name = ST-RCRD\n",
      "table 2040 ver 1 n fields = 4 name = STAFF-RCRD\n",
      "table 2042 ver 1 n fields = 6 name = STAFFYR\n",
      "table 2060 ver 2 n fields = 29 name = STNDBDGT\n",
      "table 2092 ver 1 n fields = 14 name = SYMBOL\n",
      "table 2177 ver 3 n fields = 6 name = TRNING\n",
      "table 2186 ver 1 n fields = 8 name = TRUCKRNT\n",
      "table 2240 ver 1 n fields = 2 name = USER-HN\n",
      "table 2250 ver 1 n fields = 33 name = USERINFO\n",
      "table 2253 ver 1 n fields = 12 name = USGLACT\n"
     ]
    }
   ],
   "source": [
    "formatted_df = data.groupby( 'table_index' ).apply( Create_Copybook_Parts )"
   ]
  },
  {
   "cell_type": "code",
   "execution_count": 32,
   "id": "b4cc70f2-dc92-4764-8e79-214bed8b50b3",
   "metadata": {},
   "outputs": [
    {
     "data": {
      "text/plain": [
       "(3286, 14)"
      ]
     },
     "execution_count": 32,
     "metadata": {},
     "output_type": "execute_result"
    }
   ],
   "source": [
    "formatted_df.shape"
   ]
  },
  {
   "cell_type": "code",
   "execution_count": 33,
   "id": "395bc4f1-1f09-4bc5-a7ed-eef9a47a4ab9",
   "metadata": {},
   "outputs": [
    {
     "name": "stdout",
     "output_type": "stream",
     "text": [
      "<class 'pandas.core.frame.DataFrame'>\n",
      "MultiIndex: 3286 entries, (3, 0) to (2253, 59294)\n",
      "Data columns (total 14 columns):\n",
      " #   Column              Non-Null Count  Dtype \n",
      "---  ------              --------------  ----- \n",
      " 0   step_numbers        3286 non-null   object\n",
      " 1   comment_column      3286 non-null   object\n",
      " 2   indent_spaces       3286 non-null   object\n",
      " 3   data_level          3286 non-null   object\n",
      " 4   sep                 3286 non-null   object\n",
      " 5   field_name          3286 non-null   object\n",
      " 6   pic_clauses         2904 non-null   object\n",
      " 7   comp_clause         3286 non-null   object\n",
      " 8   value_clauses       252 non-null    object\n",
      " 9   occurs_clauses      355 non-null    object\n",
      " 10  redefines_clauses   200 non-null    object\n",
      " 11  blank_on_clauses    171 non-null    object\n",
      " 12  indexed_by_clauses  171 non-null    object\n",
      " 13  olq_clauses         173 non-null    object\n",
      "dtypes: object(14)\n",
      "memory usage: 466.6+ KB\n"
     ]
    }
   ],
   "source": [
    "formatted_df.info()"
   ]
  },
  {
   "cell_type": "code",
   "execution_count": 34,
   "id": "94b8343b-d3df-4102-a387-ca8443eed2ac",
   "metadata": {},
   "outputs": [],
   "source": [
    "formatted_df['first_part'] = \\\n",
    "    formatted_df['step_numbers'] + \\\n",
    "    formatted_df['comment_column'] + \\\n",
    "    formatted_df['indent_spaces'] + \\\n",
    "    formatted_df['data_level'] + \\\n",
    "    formatted_df['sep'] + \\\n",
    "    formatted_df['field_name']"
   ]
  },
  {
   "cell_type": "code",
   "execution_count": 35,
   "id": "3a9d7842-d6f6-4d62-8d5d-246f77247e6d",
   "metadata": {},
   "outputs": [
    {
     "data": {
      "text/html": [
       "<div>\n",
       "<style scoped>\n",
       "    .dataframe tbody tr th:only-of-type {\n",
       "        vertical-align: middle;\n",
       "    }\n",
       "\n",
       "    .dataframe tbody tr th {\n",
       "        vertical-align: top;\n",
       "    }\n",
       "\n",
       "    .dataframe thead th {\n",
       "        text-align: right;\n",
       "    }\n",
       "</style>\n",
       "<table border=\"1\" class=\"dataframe\">\n",
       "  <thead>\n",
       "    <tr style=\"text-align: right;\">\n",
       "      <th></th>\n",
       "      <th></th>\n",
       "      <th>step_numbers</th>\n",
       "      <th>comment_column</th>\n",
       "      <th>indent_spaces</th>\n",
       "      <th>data_level</th>\n",
       "      <th>sep</th>\n",
       "      <th>field_name</th>\n",
       "      <th>pic_clauses</th>\n",
       "      <th>comp_clause</th>\n",
       "      <th>value_clauses</th>\n",
       "      <th>occurs_clauses</th>\n",
       "      <th>redefines_clauses</th>\n",
       "      <th>blank_on_clauses</th>\n",
       "      <th>indexed_by_clauses</th>\n",
       "      <th>olq_clauses</th>\n",
       "      <th>first_part</th>\n",
       "    </tr>\n",
       "    <tr>\n",
       "      <th>table_index</th>\n",
       "      <th></th>\n",
       "      <th></th>\n",
       "      <th></th>\n",
       "      <th></th>\n",
       "      <th></th>\n",
       "      <th></th>\n",
       "      <th></th>\n",
       "      <th></th>\n",
       "      <th></th>\n",
       "      <th></th>\n",
       "      <th></th>\n",
       "      <th></th>\n",
       "      <th></th>\n",
       "      <th></th>\n",
       "      <th></th>\n",
       "      <th></th>\n",
       "    </tr>\n",
       "  </thead>\n",
       "  <tbody>\n",
       "    <tr>\n",
       "      <th rowspan=\"5\" valign=\"top\">3</th>\n",
       "      <th>0</th>\n",
       "      <td>000050</td>\n",
       "      <td></td>\n",
       "      <td></td>\n",
       "      <td>01</td>\n",
       "      <td></td>\n",
       "      <td>ACCT</td>\n",
       "      <td></td>\n",
       "      <td></td>\n",
       "      <td></td>\n",
       "      <td></td>\n",
       "      <td></td>\n",
       "      <td></td>\n",
       "      <td></td>\n",
       "      <td></td>\n",
       "      <td>000050 01  ACCT</td>\n",
       "    </tr>\n",
       "    <tr>\n",
       "      <th>102</th>\n",
       "      <td>000100</td>\n",
       "      <td></td>\n",
       "      <td></td>\n",
       "      <td>05</td>\n",
       "      <td></td>\n",
       "      <td>GOVT-ACCT</td>\n",
       "      <td>NaN</td>\n",
       "      <td>DISPLAY</td>\n",
       "      <td>NaN</td>\n",
       "      <td>NaN</td>\n",
       "      <td>NaN</td>\n",
       "      <td>NaN</td>\n",
       "      <td>NaN</td>\n",
       "      <td>NaN</td>\n",
       "      <td>000100      05  GOVT-ACCT</td>\n",
       "    </tr>\n",
       "    <tr>\n",
       "      <th>103</th>\n",
       "      <td>000200</td>\n",
       "      <td></td>\n",
       "      <td></td>\n",
       "      <td>10</td>\n",
       "      <td></td>\n",
       "      <td>ACCT</td>\n",
       "      <td>PIC 9(4)</td>\n",
       "      <td>DISPLAY</td>\n",
       "      <td>NaN</td>\n",
       "      <td>NaN</td>\n",
       "      <td>NaN</td>\n",
       "      <td>NaN</td>\n",
       "      <td>NaN</td>\n",
       "      <td>NaN</td>\n",
       "      <td>000200          10  ACCT</td>\n",
       "    </tr>\n",
       "    <tr>\n",
       "      <th>104</th>\n",
       "      <td>000300</td>\n",
       "      <td></td>\n",
       "      <td></td>\n",
       "      <td>10</td>\n",
       "      <td></td>\n",
       "      <td>SUB-ACCT</td>\n",
       "      <td>PIC 99</td>\n",
       "      <td>DISPLAY</td>\n",
       "      <td>NaN</td>\n",
       "      <td>NaN</td>\n",
       "      <td>NaN</td>\n",
       "      <td>NaN</td>\n",
       "      <td>NaN</td>\n",
       "      <td>NaN</td>\n",
       "      <td>000300          10  SUB-ACCT</td>\n",
       "    </tr>\n",
       "    <tr>\n",
       "      <th>105</th>\n",
       "      <td>000400</td>\n",
       "      <td></td>\n",
       "      <td></td>\n",
       "      <td>05</td>\n",
       "      <td></td>\n",
       "      <td>OBJ-CLS</td>\n",
       "      <td>PIC XX</td>\n",
       "      <td>DISPLAY</td>\n",
       "      <td>NaN</td>\n",
       "      <td>NaN</td>\n",
       "      <td>NaN</td>\n",
       "      <td>NaN</td>\n",
       "      <td>NaN</td>\n",
       "      <td>NaN</td>\n",
       "      <td>000400      05  OBJ-CLS</td>\n",
       "    </tr>\n",
       "    <tr>\n",
       "      <th>...</th>\n",
       "      <th>...</th>\n",
       "      <td>...</td>\n",
       "      <td>...</td>\n",
       "      <td>...</td>\n",
       "      <td>...</td>\n",
       "      <td>...</td>\n",
       "      <td>...</td>\n",
       "      <td>...</td>\n",
       "      <td>...</td>\n",
       "      <td>...</td>\n",
       "      <td>...</td>\n",
       "      <td>...</td>\n",
       "      <td>...</td>\n",
       "      <td>...</td>\n",
       "      <td>...</td>\n",
       "      <td>...</td>\n",
       "    </tr>\n",
       "    <tr>\n",
       "      <th rowspan=\"5\" valign=\"top\">2253</th>\n",
       "      <th>59290</th>\n",
       "      <td>000800</td>\n",
       "      <td></td>\n",
       "      <td></td>\n",
       "      <td>10</td>\n",
       "      <td></td>\n",
       "      <td>PRFX-LINE-NBR</td>\n",
       "      <td>PIC 99</td>\n",
       "      <td>DISPLAY</td>\n",
       "      <td>NaN</td>\n",
       "      <td>NaN</td>\n",
       "      <td>NaN</td>\n",
       "      <td>NaN</td>\n",
       "      <td>NaN</td>\n",
       "      <td>NaN</td>\n",
       "      <td>000800          10  PRFX-LINE-NBR</td>\n",
       "    </tr>\n",
       "    <tr>\n",
       "      <th>59291</th>\n",
       "      <td>000900</td>\n",
       "      <td></td>\n",
       "      <td></td>\n",
       "      <td>10</td>\n",
       "      <td></td>\n",
       "      <td>SFX-LINE-NBR</td>\n",
       "      <td>PIC X</td>\n",
       "      <td>DISPLAY</td>\n",
       "      <td>NaN</td>\n",
       "      <td>NaN</td>\n",
       "      <td>NaN</td>\n",
       "      <td>NaN</td>\n",
       "      <td>NaN</td>\n",
       "      <td>NaN</td>\n",
       "      <td>000900          10  SFX-LINE-NBR</td>\n",
       "    </tr>\n",
       "    <tr>\n",
       "      <th>59292</th>\n",
       "      <td>001000</td>\n",
       "      <td></td>\n",
       "      <td></td>\n",
       "      <td>10</td>\n",
       "      <td></td>\n",
       "      <td>SUB-SFX-LINE-NBR</td>\n",
       "      <td>PIC 9</td>\n",
       "      <td>DISPLAY</td>\n",
       "      <td>NaN</td>\n",
       "      <td>NaN</td>\n",
       "      <td>NaN</td>\n",
       "      <td>NaN</td>\n",
       "      <td>NaN</td>\n",
       "      <td>NaN</td>\n",
       "      <td>001000          10  SUB-SFX-LINE-NBR</td>\n",
       "    </tr>\n",
       "    <tr>\n",
       "      <th>59293</th>\n",
       "      <td>001100</td>\n",
       "      <td></td>\n",
       "      <td></td>\n",
       "      <td>05</td>\n",
       "      <td></td>\n",
       "      <td>DTE-LST-RGSTR-ACCT</td>\n",
       "      <td>PIC 9(06)</td>\n",
       "      <td>DISPLAY</td>\n",
       "      <td>NaN</td>\n",
       "      <td>NaN</td>\n",
       "      <td>NaN</td>\n",
       "      <td>NaN</td>\n",
       "      <td>NaN</td>\n",
       "      <td>NaN</td>\n",
       "      <td>001100      05  DTE-LST-RGSTR-ACCT</td>\n",
       "    </tr>\n",
       "    <tr>\n",
       "      <th>59294</th>\n",
       "      <td>001200</td>\n",
       "      <td></td>\n",
       "      <td></td>\n",
       "      <td>05</td>\n",
       "      <td></td>\n",
       "      <td>FILLER</td>\n",
       "      <td>PIC X(0027)</td>\n",
       "      <td>DISPLAY</td>\n",
       "      <td>NaN</td>\n",
       "      <td>NaN</td>\n",
       "      <td>NaN</td>\n",
       "      <td>NaN</td>\n",
       "      <td>NaN</td>\n",
       "      <td>NaN</td>\n",
       "      <td>001200      05  FILLER</td>\n",
       "    </tr>\n",
       "  </tbody>\n",
       "</table>\n",
       "<p>3286 rows × 15 columns</p>\n",
       "</div>"
      ],
      "text/plain": [
       "                  step_numbers comment_column indent_spaces data_level sep  \\\n",
       "table_index                                                                  \n",
       "3           0           000050                                      01       \n",
       "            102         000100                                      05       \n",
       "            103         000200                                      10       \n",
       "            104         000300                                      10       \n",
       "            105         000400                                      05       \n",
       "...                        ...            ...           ...        ...  ..   \n",
       "2253        59290       000800                                      10       \n",
       "            59291       000900                                      10       \n",
       "            59292       001000                                      10       \n",
       "            59293       001100                                      05       \n",
       "            59294       001200                                      05       \n",
       "\n",
       "                           field_name  pic_clauses comp_clause value_clauses  \\\n",
       "table_index                                                                    \n",
       "3           0                    ACCT                                          \n",
       "            102             GOVT-ACCT          NaN     DISPLAY           NaN   \n",
       "            103                  ACCT     PIC 9(4)     DISPLAY           NaN   \n",
       "            104              SUB-ACCT       PIC 99     DISPLAY           NaN   \n",
       "            105               OBJ-CLS       PIC XX     DISPLAY           NaN   \n",
       "...                               ...          ...         ...           ...   \n",
       "2253        59290       PRFX-LINE-NBR       PIC 99     DISPLAY           NaN   \n",
       "            59291        SFX-LINE-NBR        PIC X     DISPLAY           NaN   \n",
       "            59292    SUB-SFX-LINE-NBR        PIC 9     DISPLAY           NaN   \n",
       "            59293  DTE-LST-RGSTR-ACCT    PIC 9(06)     DISPLAY           NaN   \n",
       "            59294              FILLER  PIC X(0027)     DISPLAY           NaN   \n",
       "\n",
       "                  occurs_clauses redefines_clauses blank_on_clauses  \\\n",
       "table_index                                                           \n",
       "3           0                                                         \n",
       "            102              NaN               NaN              NaN   \n",
       "            103              NaN               NaN              NaN   \n",
       "            104              NaN               NaN              NaN   \n",
       "            105              NaN               NaN              NaN   \n",
       "...                          ...               ...              ...   \n",
       "2253        59290            NaN               NaN              NaN   \n",
       "            59291            NaN               NaN              NaN   \n",
       "            59292            NaN               NaN              NaN   \n",
       "            59293            NaN               NaN              NaN   \n",
       "            59294            NaN               NaN              NaN   \n",
       "\n",
       "                  indexed_by_clauses olq_clauses  \\\n",
       "table_index                                        \n",
       "3           0                                      \n",
       "            102                  NaN         NaN   \n",
       "            103                  NaN         NaN   \n",
       "            104                  NaN         NaN   \n",
       "            105                  NaN         NaN   \n",
       "...                              ...         ...   \n",
       "2253        59290                NaN         NaN   \n",
       "            59291                NaN         NaN   \n",
       "            59292                NaN         NaN   \n",
       "            59293                NaN         NaN   \n",
       "            59294                NaN         NaN   \n",
       "\n",
       "                                             first_part  \n",
       "table_index                                              \n",
       "3           0                           000050 01  ACCT  \n",
       "            102               000100      05  GOVT-ACCT  \n",
       "            103                000200          10  ACCT  \n",
       "            104            000300          10  SUB-ACCT  \n",
       "            105                 000400      05  OBJ-CLS  \n",
       "...                                                 ...  \n",
       "2253        59290     000800          10  PRFX-LINE-NBR  \n",
       "            59291      000900          10  SFX-LINE-NBR  \n",
       "            59292  001000          10  SUB-SFX-LINE-NBR  \n",
       "            59293    001100      05  DTE-LST-RGSTR-ACCT  \n",
       "            59294                001200      05  FILLER  \n",
       "\n",
       "[3286 rows x 15 columns]"
      ]
     },
     "execution_count": 35,
     "metadata": {},
     "output_type": "execute_result"
    }
   ],
   "source": [
    "formatted_df"
   ]
  },
  {
   "cell_type": "code",
   "execution_count": 36,
   "id": "eacfbb39-6703-4337-a32b-b6676463dd1e",
   "metadata": {},
   "outputs": [],
   "source": [
    "formatted_df['first_part_len'] = formatted_df['first_part'].apply( len )"
   ]
  },
  {
   "cell_type": "code",
   "execution_count": 37,
   "id": "8d7be78f-579f-4713-84d4-754a6cc661b8",
   "metadata": {},
   "outputs": [],
   "source": [
    "#formatted_df['first_part_len'].hist()"
   ]
  },
  {
   "cell_type": "code",
   "execution_count": 38,
   "id": "481c5e22-cdf1-4b9f-97f7-201d20655445",
   "metadata": {},
   "outputs": [
    {
     "data": {
      "text/plain": [
       "35"
      ]
     },
     "execution_count": 38,
     "metadata": {},
     "output_type": "execute_result"
    }
   ],
   "source": [
    "(formatted_df['first_part_len'] >= 49).sum()"
   ]
  },
  {
   "cell_type": "code",
   "execution_count": 39,
   "id": "47f3b4dc-b5bc-4a44-b224-1d9f8cfe5f29",
   "metadata": {},
   "outputs": [],
   "source": [
    "#formatted_df['first_part_len'].describe()"
   ]
  },
  {
   "cell_type": "code",
   "execution_count": 40,
   "id": "4a85abb5-ace5-422e-907a-3af9cca0bd74",
   "metadata": {},
   "outputs": [],
   "source": [
    "#long_rows = formatted_df[ formatted_df['first_part_len'] >= 49].index"
   ]
  },
  {
   "cell_type": "code",
   "execution_count": 41,
   "id": "b54815ec-4f81-4176-812c-17491a4327f1",
   "metadata": {},
   "outputs": [],
   "source": [
    "#formatted_df.loc[long_rows, 'first_part_len'].describe()"
   ]
  },
  {
   "cell_type": "code",
   "execution_count": 42,
   "id": "c718a014-17a0-4360-8198-7dabbb1a2113",
   "metadata": {},
   "outputs": [],
   "source": [
    "#formatted_df['first_part'] = formatted_df['first_part'].str.ljust(50)"
   ]
  },
  {
   "cell_type": "code",
   "execution_count": 43,
   "id": "7953e01b-8ff0-43c2-89bd-9b555024c7cf",
   "metadata": {},
   "outputs": [],
   "source": [
    "formatted_df['white_space_middle_part'] = formatted_df['first_part_len'].apply( lambda l: (\" \" * (50 - l)) if l < 49 else \" \" )"
   ]
  },
  {
   "cell_type": "code",
   "execution_count": 44,
   "id": "0f936c46-6eb9-4e3c-bc7a-a428fb30631a",
   "metadata": {},
   "outputs": [
    {
     "data": {
      "text/plain": [
       "array(['                                   ', '                         ',\n",
       "       '                          ', ..., '              ',\n",
       "       '                ', '                            '], dtype=object)"
      ]
     },
     "execution_count": 44,
     "metadata": {},
     "output_type": "execute_result"
    }
   ],
   "source": [
    "formatted_df['white_space_middle_part'].values"
   ]
  },
  {
   "cell_type": "markdown",
   "id": "a77b502f-7a32-415e-8ee4-b30161221c4e",
   "metadata": {},
   "source": [
    "# Copybook Syntax\n",
    "\n",
    "* \"OCCURS\" and \"REDEFINES\" clauses go before PIC clause\n",
    "* \"VALUE\" clause is either in lieu of or after PIC clause\n",
    "* COMP-3 goes after PIC clause"
   ]
  },
  {
   "cell_type": "code",
   "execution_count": 45,
   "id": "0f0a6bd4-a0ac-4a99-bd87-421a1a7f3c76",
   "metadata": {},
   "outputs": [],
   "source": [
    "formatted_df = formatted_df.fillna(\"\")"
   ]
  },
  {
   "cell_type": "code",
   "execution_count": 46,
   "id": "62f5d4bf-fe0f-438a-ab45-22e7570607e6",
   "metadata": {},
   "outputs": [
    {
     "name": "stdout",
     "output_type": "stream",
     "text": [
      "<class 'pandas.core.frame.DataFrame'>\n",
      "MultiIndex: 3286 entries, (3, 0) to (2253, 59294)\n",
      "Data columns (total 17 columns):\n",
      " #   Column                   Non-Null Count  Dtype \n",
      "---  ------                   --------------  ----- \n",
      " 0   step_numbers             3286 non-null   object\n",
      " 1   comment_column           3286 non-null   object\n",
      " 2   indent_spaces            3286 non-null   object\n",
      " 3   data_level               3286 non-null   object\n",
      " 4   sep                      3286 non-null   object\n",
      " 5   field_name               3286 non-null   object\n",
      " 6   pic_clauses              3286 non-null   object\n",
      " 7   comp_clause              3286 non-null   object\n",
      " 8   value_clauses            3286 non-null   object\n",
      " 9   occurs_clauses           3286 non-null   object\n",
      " 10  redefines_clauses        3286 non-null   object\n",
      " 11  blank_on_clauses         3286 non-null   object\n",
      " 12  indexed_by_clauses       3286 non-null   object\n",
      " 13  olq_clauses              3286 non-null   object\n",
      " 14  first_part               3286 non-null   object\n",
      " 15  first_part_len           3286 non-null   int64 \n",
      " 16  white_space_middle_part  3286 non-null   object\n",
      "dtypes: int64(1), object(16)\n",
      "memory usage: 543.6+ KB\n"
     ]
    }
   ],
   "source": [
    "formatted_df.info()"
   ]
  },
  {
   "cell_type": "code",
   "execution_count": 47,
   "id": "b50c3d73-4271-4d8b-9d33-154d16b855b0",
   "metadata": {},
   "outputs": [
    {
     "data": {
      "text/plain": [
       "5"
      ]
     },
     "execution_count": 47,
     "metadata": {},
     "output_type": "execute_result"
    }
   ],
   "source": [
    "( (formatted_df['occurs_clauses'] != \"\") & (formatted_df['redefines_clauses'] != \"\") ).sum()"
   ]
  },
  {
   "cell_type": "code",
   "execution_count": 48,
   "id": "71786bc9-3260-4aaf-a3d9-d5bf1c8a6bd6",
   "metadata": {},
   "outputs": [],
   "source": [
    "#formatted_df['redefines_clauses_len'] = formatted_df['redefines_clauses'].apply( len )"
   ]
  },
  {
   "cell_type": "code",
   "execution_count": 49,
   "id": "324f4261-b846-4bf7-943a-c9add801c556",
   "metadata": {},
   "outputs": [],
   "source": [
    "#formatted_df['redefines_clauses_len'].describe()"
   ]
  },
  {
   "cell_type": "code",
   "execution_count": 50,
   "id": "3cf0941a-82b6-4fbe-9f84-3166f5bd1292",
   "metadata": {},
   "outputs": [],
   "source": [
    "#formatted_df['occurs_clauses_len'] = formatted_df['occurs_clauses'].apply( len )"
   ]
  },
  {
   "cell_type": "code",
   "execution_count": 51,
   "id": "17932195-3fda-41b4-b149-443f2aea84d8",
   "metadata": {},
   "outputs": [],
   "source": [
    "#formatted_df['occurs_clauses_len'].describe()"
   ]
  },
  {
   "cell_type": "code",
   "execution_count": 52,
   "id": "ca1030ba-8816-4145-aa62-a3cf7a42308f",
   "metadata": {},
   "outputs": [],
   "source": [
    "# Add a separating space to the pre-pic clauses when you have both\n",
    "#formatted_df.loc[ (formatted_df['occurs_clauses'] != \"\") & (formatted_df['redefines_clauses'] != \"\"), 'occurs_clauses'] = \\\n",
    "#    formatted_df.loc[ (formatted_df['occurs_clauses'] != \"\") & (formatted_df['redefines_clauses'] != \"\"), 'occurs_clauses'].apply( lambda s: \" \" + s )"
   ]
  },
  {
   "cell_type": "code",
   "execution_count": 53,
   "id": "8a49bac2-740e-4b87-ae6b-7b041f5aa188",
   "metadata": {},
   "outputs": [],
   "source": [
    "formatted_df['pre_pic_clause'] = formatted_df['redefines_clauses'] + formatted_df['occurs_clauses']"
   ]
  },
  {
   "cell_type": "code",
   "execution_count": 54,
   "id": "1730ecbd-9d72-4e57-ba85-a28fe99f0ef8",
   "metadata": {},
   "outputs": [
    {
     "name": "stderr",
     "output_type": "stream",
     "text": [
      "/var/folders/s1/vxj18vbs5glbmwk65x_l6vbc0000gp/T/ipykernel_51736/1587098794.py:1: FutureWarning: The default value of regex will change from True to False in a future version.\n",
      "  formatted_df[ 'pre_pic_clause' ] = formatted_df[ 'pre_pic_clause' ].str.replace( r'\\s+', ' ' )\n"
     ]
    }
   ],
   "source": [
    "formatted_df[ 'pre_pic_clause' ] = formatted_df[ 'pre_pic_clause' ].str.replace( r'\\s+', ' ' )"
   ]
  },
  {
   "cell_type": "code",
   "execution_count": 55,
   "id": "e09fd433-0ec1-42f9-ac5f-a8ef300ec5d7",
   "metadata": {},
   "outputs": [],
   "source": [
    "formatted_df['second_part'] = formatted_df['pre_pic_clause']"
   ]
  },
  {
   "cell_type": "markdown",
   "id": "b12b0d47-d1e1-4a78-8d82-b9c92218ce08",
   "metadata": {},
   "source": [
    "# Diagnostic"
   ]
  },
  {
   "cell_type": "code",
   "execution_count": 56,
   "id": "89a7cf2b-d143-4394-babd-3b68bccada80",
   "metadata": {},
   "outputs": [
    {
     "data": {
      "text/plain": [
       "array(['OCCURS 35', 'OCCURS 3', 'OCCURS 3', 'OCCURS 3', 'OCCURS 3',\n",
       "       'OCCURS 3', 'OCCURS 3', 'OCCURS 3', 'OCCURS 3', 'OCCURS 2',\n",
       "       'OCCURS 4', 'OCCURS 4', 'OCCURS 5', 'OCCURS 5', 'OCCURS 5',\n",
       "       'OCCURS 5', 'OCCURS 4', 'OCCURS 4', 'OCCURS 4', 'OCCURS 4',\n",
       "       'OCCURS 4', 'OCCURS 4', 'OCCURS 4', 'OCCURS 3', 'OCCURS 2',\n",
       "       'OCCURS 2', 'OCCURS 10', 'OCCURS 12', 'OCCURS 12',\n",
       "       'REDEFINES INT-RATE-NOTE', 'REDEFINES INT-RATE-PREV',\n",
       "       'REDEFINES CTY-OFC-MAILG-ACQD',\n",
       "       'OCCURS 10 DEPENDING ON NBR-OF-OCCURS',\n",
       "       'OCCURS 10 DEPENDING ON NBR-OF-OCCURS', 'OCCURS 2',\n",
       "       'REDEFINES CASE-ID', 'OCCURS 10', 'OCCURS 4',\n",
       "       'REDEFINES CTY-OFC-MAILG', 'OCCURS 4', 'REDEFINES CTY-OFC-MAILG',\n",
       "       'OCCURS 2', 'REDEFINES CASE-NBR', 'REDEFINES CTY-OFC-MAILG-CLIENT',\n",
       "       'REDEFINES NME-OBLR-GRP-1', 'REDEFINES CTY-OFC-MAILG-FSA',\n",
       "       'OCCURS 16', 'OCCURS 4', 'OCCURS 10', 'OCCURS 4'], dtype=object)"
      ]
     },
     "execution_count": 56,
     "metadata": {},
     "output_type": "execute_result"
    }
   ],
   "source": [
    "formatted_df.loc[ (formatted_df['occurs_clauses'] != \"\") | (formatted_df['redefines_clauses'] != \"\"), 'second_part'].values[:50]"
   ]
  },
  {
   "cell_type": "code",
   "execution_count": 57,
   "id": "98fdb931-a70d-441d-9bc4-3bd874159512",
   "metadata": {},
   "outputs": [],
   "source": [
    "#formatted_df.loc[ (formatted_df['occurs_clauses'] != \"\") & (formatted_df['redefines_clauses'] != \"\"), 'first_and_second_part'].values[:50]"
   ]
  },
  {
   "cell_type": "code",
   "execution_count": 58,
   "id": "6498fd01-b443-4fb5-965a-752fef39fa3a",
   "metadata": {},
   "outputs": [],
   "source": [
    "formatted_df['second_part_len'] = formatted_df['second_part'].apply( len )"
   ]
  },
  {
   "cell_type": "code",
   "execution_count": 59,
   "id": "69bfe011-066b-4412-adda-17fdd06fbf8d",
   "metadata": {},
   "outputs": [
    {
     "data": {
      "text/plain": [
       "count    3286.000000\n",
       "mean        0.738284\n",
       "std         3.514654\n",
       "min         0.000000\n",
       "25%         0.000000\n",
       "50%         0.000000\n",
       "75%         0.000000\n",
       "max        49.000000\n",
       "Name: second_part_len, dtype: float64"
      ]
     },
     "execution_count": 59,
     "metadata": {},
     "output_type": "execute_result"
    }
   ],
   "source": [
    "formatted_df['second_part_len'].describe()"
   ]
  },
  {
   "cell_type": "code",
   "execution_count": 60,
   "id": "a9fb0b56-3051-4f72-9804-d9e5f0cf26c5",
   "metadata": {},
   "outputs": [],
   "source": [
    "pd.set_option( 'display.max_colwidth', None )"
   ]
  },
  {
   "cell_type": "code",
   "execution_count": 61,
   "id": "448b0cb5-f755-4e6e-8679-a2f294a80261",
   "metadata": {},
   "outputs": [
    {
     "data": {
      "text/plain": [
       "208"
      ]
     },
     "execution_count": 61,
     "metadata": {},
     "output_type": "execute_result"
    }
   ],
   "source": [
    "( formatted_df['pre_pic_clause'] != \"\" ).sum()"
   ]
  },
  {
   "cell_type": "code",
   "execution_count": 62,
   "id": "15a55f24-cd1d-4a3c-afc0-76b1c7a803c2",
   "metadata": {},
   "outputs": [],
   "source": [
    "# Add a separating space to the pic clauses when you have a pre-pic clause\n",
    "formatted_df.loc[ (formatted_df['pre_pic_clause'] != \"\") & (formatted_df['pic_clauses'] != \"\"), 'pic_clauses'] = \\\n",
    "    formatted_df.loc[ (formatted_df['pre_pic_clause'] != \"\") & (formatted_df['pic_clauses'] != \"\"), 'pic_clauses'].apply( lambda s: \" \" + s )"
   ]
  },
  {
   "cell_type": "code",
   "execution_count": 63,
   "id": "9991d337-1ac7-49d6-8186-2d35cafa318d",
   "metadata": {},
   "outputs": [],
   "source": [
    "formatted_df['second_and_third_part'] = formatted_df['second_part'] + formatted_df['pic_clauses']"
   ]
  },
  {
   "cell_type": "markdown",
   "id": "679fb24c-84f8-4653-ab36-0a717c2d6c90",
   "metadata": {},
   "source": [
    "### Training clauses are COMP and VALUE"
   ]
  },
  {
   "cell_type": "code",
   "execution_count": 64,
   "id": "a7657ddb-b3e1-4069-ae95-a8190fcbdc0a",
   "metadata": {},
   "outputs": [
    {
     "data": {
      "text/plain": [
       "table_index       \n",
       "3            0               \n",
       "             102      DISPLAY\n",
       "             103      DISPLAY\n",
       "             104      DISPLAY\n",
       "             105      DISPLAY\n",
       "                       ...   \n",
       "2253         59290    DISPLAY\n",
       "             59291    DISPLAY\n",
       "             59292    DISPLAY\n",
       "             59293    DISPLAY\n",
       "             59294    DISPLAY\n",
       "Name: comp_clause, Length: 3286, dtype: object"
      ]
     },
     "execution_count": 64,
     "metadata": {},
     "output_type": "execute_result"
    }
   ],
   "source": [
    "formatted_df['comp_clause']"
   ]
  },
  {
   "cell_type": "code",
   "execution_count": 65,
   "id": "f999b6ab-6f9b-4795-89bc-b2f89885672a",
   "metadata": {},
   "outputs": [
    {
     "data": {
      "text/plain": [
       "DISPLAY    2154\n",
       "COMP-3      876\n",
       "            171\n",
       "COND         76\n",
       "COMP          9\n",
       "Name: comp_clause, dtype: int64"
      ]
     },
     "execution_count": 65,
     "metadata": {},
     "output_type": "execute_result"
    }
   ],
   "source": [
    "formatted_df['comp_clause'].value_counts()"
   ]
  },
  {
   "cell_type": "code",
   "execution_count": 66,
   "id": "35be9e08-24a9-4421-98c7-dbd91940219a",
   "metadata": {},
   "outputs": [],
   "source": [
    "formatted_df.loc[ (formatted_df['comp_clause'] == 'DISPLAY'), 'comp_clause' ] = ''"
   ]
  },
  {
   "cell_type": "code",
   "execution_count": 67,
   "id": "c1c6befb-2164-4ee1-a688-1f6657dac5e5",
   "metadata": {},
   "outputs": [],
   "source": [
    "formatted_df.loc[ (formatted_df['comp_clause'] == 'COND'), 'comp_clause' ] = ''"
   ]
  },
  {
   "cell_type": "code",
   "execution_count": 68,
   "id": "953a6584-5044-43b1-85db-d1ebd9ba6468",
   "metadata": {},
   "outputs": [
    {
     "data": {
      "text/plain": [
       "               3205\n",
       "VALUE 'S'        12\n",
       "VALUE 'D'        12\n",
       "VALUE 'C'        12\n",
       "VALUE 'T'         8\n",
       "VALUE 'U'         8\n",
       "VALUE 'V'         8\n",
       "VALUE '0'         6\n",
       "VALUE '1'         6\n",
       "VALUE 01          3\n",
       "VALUE SPACE       2\n",
       "VALUE 'R'         2\n",
       "VALUE 'A'         2\n",
       "Name: value_clauses, dtype: int64"
      ]
     },
     "execution_count": 68,
     "metadata": {},
     "output_type": "execute_result"
    }
   ],
   "source": [
    "formatted_df['value_clauses'].value_counts()"
   ]
  },
  {
   "cell_type": "code",
   "execution_count": 69,
   "id": "bcba2963-683d-47a3-81d9-f0eb9c777a81",
   "metadata": {},
   "outputs": [
    {
     "data": {
      "text/plain": [
       "0"
      ]
     },
     "execution_count": 69,
     "metadata": {},
     "output_type": "execute_result"
    }
   ],
   "source": [
    "( (formatted_df['comp_clause'] != \"\") & (formatted_df['value_clauses'] != \"\") ).sum()"
   ]
  },
  {
   "cell_type": "code",
   "execution_count": 70,
   "id": "a37b421c-558f-4ecd-8435-0f38866ff59d",
   "metadata": {},
   "outputs": [],
   "source": [
    "# Add a separating space to the post-pic clauses when you have both\n",
    "formatted_df.loc[ (formatted_df['comp_clause'] != \"\") & (formatted_df['value_clauses'] != \"\"), 'value_clauses'] = \\\n",
    "    formatted_df.loc[ (formatted_df['comp_clause'] != \"\") & (formatted_df['value_clauses'] != \"\"), 'value_clauses'].apply( lambda s: \" \" + s )"
   ]
  },
  {
   "cell_type": "code",
   "execution_count": 71,
   "id": "da8e1da5-5bae-4ee0-b309-990b7acef0d4",
   "metadata": {},
   "outputs": [],
   "source": [
    "formatted_df['post_pic_clauses'] = formatted_df['comp_clause'] + formatted_df['value_clauses']"
   ]
  },
  {
   "cell_type": "code",
   "execution_count": 72,
   "id": "c098ffa9-547e-4893-a4ed-c4fdf202f9df",
   "metadata": {},
   "outputs": [],
   "source": [
    "# Add a separating space to the pic clauses when you have a post-pic clause\n",
    "formatted_df.loc[ (formatted_df['post_pic_clauses'] != \"\") & ((formatted_df['pre_pic_clause'] != \"\") | (formatted_df['pic_clauses'] != \"\")), 'post_pic_clauses'] = \\\n",
    "    formatted_df.loc[ (formatted_df['post_pic_clauses'] != \"\") & ((formatted_df['pre_pic_clause'] != \"\") | (formatted_df['pic_clauses'] != \"\")), 'post_pic_clauses'].apply( lambda s: \" \" + s )"
   ]
  },
  {
   "cell_type": "code",
   "execution_count": 73,
   "id": "99f5785c-e1e5-430b-9ba0-fa6caa8cefe0",
   "metadata": {},
   "outputs": [],
   "source": [
    "#formatted_df.loc[formatted_df['post_pic_clauses'] != \"\", 'post_pic_clauses'].values"
   ]
  },
  {
   "cell_type": "code",
   "execution_count": 74,
   "id": "69c7993c-1eb8-4526-be39-f6ad1013d341",
   "metadata": {},
   "outputs": [
    {
     "data": {
      "text/plain": [
       "array(['', '', 'PIC 9(4)', 'PIC 99', 'PIC XX', 'PIC 9(12)V99', 'PIC X',\n",
       "       'PIC X(0023)', '', '', 'PIC 99', 'PIC 9(06)', 'PIC X', '',\n",
       "       'PIC X(02)', 'PIC X(03)', 'PIC X(10)', '', 'PIC X(17)',\n",
       "       'PIC X(12)', 'PIC X', 'PIC X(01)', '', 'PIC X(17)', 'PIC X(12)',\n",
       "       '', '', 'PIC X(25)', 'PIC X(25)', 'PIC X(02)', '', 'PIC X(05)',\n",
       "       'PIC X(04)', '', 'PIC X(03)', 'PIC X(07)', 'PIC X(04)', '',\n",
       "       'PIC X(03)', 'PIC X(07)', 'PIC X(40)', '', 'PIC X(17)',\n",
       "       'PIC X(12)', '', '', 'PIC X(25)', 'PIC X(25)', 'PIC X(2)', ''],\n",
       "      dtype=object)"
      ]
     },
     "execution_count": 74,
     "metadata": {},
     "output_type": "execute_result"
    }
   ],
   "source": [
    "formatted_df[ 'second_and_third_part' ].values[:50]"
   ]
  },
  {
   "cell_type": "code",
   "execution_count": 75,
   "id": "63794687-b2ce-4d70-a1f9-610313aae391",
   "metadata": {},
   "outputs": [],
   "source": [
    "formatted_df[ 'second_third_and_forth_part'] = formatted_df[ 'second_and_third_part' ] + formatted_df['post_pic_clauses']"
   ]
  },
  {
   "cell_type": "code",
   "execution_count": 76,
   "id": "8bcdd7a1-b2f0-4cc8-98f1-8d528f332c33",
   "metadata": {},
   "outputs": [
    {
     "data": {
      "text/plain": [
       "array(['PIC 99', 'PIC X(1)', 'PIC 9(3)', 'PIC X(06)', 'PIC X',\n",
       "       \"VALUE '1'\", 'PIC 9(2)', 'PIC 9(06)', 'PIC X(07)',\n",
       "       'PIC S9(10)V99 COMP-3', 'PIC S9(08)V99 COMP-3',\n",
       "       'PIC S9(08)V99 COMP-3', '', 'PIC 9(06)', 'PIC 9(4)', '',\n",
       "       'PIC X(22)', 'PIC S9(5)V9 COMP-3', 'PIC 9(06)', 'PIC 9(6)',\n",
       "       'PIC 9', 'PIC 9(06)', 'PIC X', 'PIC 9(2)', 'PIC X(0034)', 'PIC 9',\n",
       "       'PIC X(2)', 'PIC 9(1)', 'PIC S9(7)V99 COMP-3', 'OCCURS 8 PIC 9(5)',\n",
       "       'PIC 99', 'PIC S9(10)V99 COMP-3', 'PIC S9(05) COMP-3',\n",
       "       'PIC X(0048)', 'PIC S9(13)V99 COMP-3', 'PIC 9(1)', '', 'PIC 9(2)',\n",
       "       'PIC X(19)', 'PIC 9(5)', '', 'PIC S9(5) COMP-3',\n",
       "       'PIC S9(5)V99 COMP-3', 'PIC 9(2)', 'PIC 9(06)', 'PIC X(25)', '',\n",
       "       '', '', 'PIC S9(7)V99 COMP-3'], dtype=object)"
      ]
     },
     "execution_count": 76,
     "metadata": {},
     "output_type": "execute_result"
    }
   ],
   "source": [
    "formatted_df[ 'second_third_and_forth_part'].sample(50).values"
   ]
  },
  {
   "cell_type": "code",
   "execution_count": 77,
   "id": "db6468f5-4d57-419e-8d9d-5b8e31748aec",
   "metadata": {},
   "outputs": [],
   "source": [
    "formatted_df[ 'second_third_and_forth_part_len'] = formatted_df[ 'second_third_and_forth_part' ].apply( len )"
   ]
  },
  {
   "cell_type": "code",
   "execution_count": 78,
   "id": "114cbb5f-9380-48fc-84ec-e1e01b54e671",
   "metadata": {},
   "outputs": [
    {
     "data": {
      "text/plain": [
       "count    3286.000000\n",
       "mean       10.642422\n",
       "std         7.065272\n",
       "min         0.000000\n",
       "25%         8.000000\n",
       "50%         9.000000\n",
       "75%        17.000000\n",
       "max        54.000000\n",
       "Name: second_third_and_forth_part_len, dtype: float64"
      ]
     },
     "execution_count": 78,
     "metadata": {},
     "output_type": "execute_result"
    }
   ],
   "source": [
    "formatted_df[ 'second_third_and_forth_part_len'].describe()"
   ]
  },
  {
   "cell_type": "code",
   "execution_count": 79,
   "id": "deb39954-4fb9-4ddf-8cec-57540c40bbb4",
   "metadata": {},
   "outputs": [],
   "source": [
    "formatted_df['content_len'] = formatted_df['first_part_len'] + formatted_df[ 'second_third_and_forth_part_len'] + 2 # separating space + period"
   ]
  },
  {
   "cell_type": "code",
   "execution_count": 80,
   "id": "35e17efc-5b88-4bdf-9fda-78a2e4ea29ac",
   "metadata": {},
   "outputs": [
    {
     "data": {
      "text/plain": [
       "table_index       \n",
       "1473         39276    67\n",
       "             39280    68\n",
       "664          17019    68\n",
       "751          19775    68\n",
       "726          18997    68\n",
       "652          16375    68\n",
       "769          20177    68\n",
       "361          9600     69\n",
       "1473         39175    70\n",
       "             39193    70\n",
       "             39187    70\n",
       "718          18347    70\n",
       "1473         39199    70\n",
       "             39181    70\n",
       "652          16394    71\n",
       "682          17255    71\n",
       "1064         27581    71\n",
       "665          17055    74\n",
       "1330         35095    77\n",
       "689          17715    79\n",
       "659          16849    81\n",
       "1472         39162    83\n",
       "824          20966    83\n",
       "689          17665    85\n",
       "731          19540    85\n",
       "1472         39158    85\n",
       "787          20475    91\n",
       "1472         39163    92\n",
       "             39160    94\n",
       "             39159    95\n",
       "Name: content_len, dtype: int64"
      ]
     },
     "execution_count": 80,
     "metadata": {},
     "output_type": "execute_result"
    }
   ],
   "source": [
    "formatted_df['content_len'].sort_values().tail(30)"
   ]
  },
  {
   "cell_type": "code",
   "execution_count": 81,
   "id": "64832ce0-9a96-4acd-9305-da2ec9445bbe",
   "metadata": {},
   "outputs": [
    {
     "name": "stdout",
     "output_type": "stream",
     "text": [
      "<class 'pandas.core.frame.DataFrame'>\n",
      "MultiIndex: 3286 entries, (3, 0) to (2253, 59294)\n",
      "Data columns (total 25 columns):\n",
      " #   Column                           Non-Null Count  Dtype \n",
      "---  ------                           --------------  ----- \n",
      " 0   step_numbers                     3286 non-null   object\n",
      " 1   comment_column                   3286 non-null   object\n",
      " 2   indent_spaces                    3286 non-null   object\n",
      " 3   data_level                       3286 non-null   object\n",
      " 4   sep                              3286 non-null   object\n",
      " 5   field_name                       3286 non-null   object\n",
      " 6   pic_clauses                      3286 non-null   object\n",
      " 7   comp_clause                      3286 non-null   object\n",
      " 8   value_clauses                    3286 non-null   object\n",
      " 9   occurs_clauses                   3286 non-null   object\n",
      " 10  redefines_clauses                3286 non-null   object\n",
      " 11  blank_on_clauses                 3286 non-null   object\n",
      " 12  indexed_by_clauses               3286 non-null   object\n",
      " 13  olq_clauses                      3286 non-null   object\n",
      " 14  first_part                       3286 non-null   object\n",
      " 15  first_part_len                   3286 non-null   int64 \n",
      " 16  white_space_middle_part          3286 non-null   object\n",
      " 17  pre_pic_clause                   3286 non-null   object\n",
      " 18  second_part                      3286 non-null   object\n",
      " 19  second_part_len                  3286 non-null   int64 \n",
      " 20  second_and_third_part            3286 non-null   object\n",
      " 21  post_pic_clauses                 3286 non-null   object\n",
      " 22  second_third_and_forth_part      3286 non-null   object\n",
      " 23  second_third_and_forth_part_len  3286 non-null   int64 \n",
      " 24  content_len                      3286 non-null   int64 \n",
      "dtypes: int64(4), object(21)\n",
      "memory usage: 749.0+ KB\n"
     ]
    }
   ],
   "source": [
    "formatted_df.info()"
   ]
  },
  {
   "cell_type": "code",
   "execution_count": 82,
   "id": "5a076050-8493-44fa-aad8-ad479c524b4b",
   "metadata": {},
   "outputs": [],
   "source": [
    "formatted_df['alternative_white_space_middle_part'] = [ \" \" * ( 72 - _ ) for _ in formatted_df['content_len'].values ]"
   ]
  },
  {
   "cell_type": "code",
   "execution_count": 83,
   "id": "2566a2ea-0463-4bfb-8d9c-cd53e5d6930e",
   "metadata": {},
   "outputs": [],
   "source": [
    "formatted_df['alternative_white_space_middle_part_len'] = formatted_df['alternative_white_space_middle_part'].apply( len )"
   ]
  },
  {
   "cell_type": "code",
   "execution_count": 84,
   "id": "ac15f306-2611-4d09-ae92-f81f55d264e6",
   "metadata": {},
   "outputs": [
    {
     "data": {
      "text/plain": [
       "count    3286.000000\n",
       "mean       27.902009\n",
       "std        10.559110\n",
       "min         0.000000\n",
       "25%        20.000000\n",
       "50%        29.000000\n",
       "75%        35.000000\n",
       "max        55.000000\n",
       "Name: alternative_white_space_middle_part_len, dtype: float64"
      ]
     },
     "execution_count": 84,
     "metadata": {},
     "output_type": "execute_result"
    }
   ],
   "source": [
    "formatted_df['alternative_white_space_middle_part_len'].describe()"
   ]
  },
  {
   "cell_type": "code",
   "execution_count": 85,
   "id": "eaec398f-ae72-4a12-943f-408b5ee51d16",
   "metadata": {},
   "outputs": [],
   "source": [
    "formatted_df.loc[ formatted_df['alternative_white_space_middle_part'] == \"\", 'alternative_white_space_middle_part' ] = \" \""
   ]
  },
  {
   "cell_type": "code",
   "execution_count": 86,
   "id": "f8492808-2405-4e79-b6f8-a139b7c6f545",
   "metadata": {},
   "outputs": [],
   "source": [
    "formatted_df['alternative_white_space_middle_part_len'] = formatted_df['alternative_white_space_middle_part'].apply( len )"
   ]
  },
  {
   "cell_type": "code",
   "execution_count": 87,
   "id": "9dcf0d10-4fad-47fe-8cd6-990bfa57461d",
   "metadata": {},
   "outputs": [
    {
     "data": {
      "text/plain": [
       "count    3286.000000\n",
       "mean       27.905965\n",
       "std        10.548835\n",
       "min         1.000000\n",
       "25%        20.000000\n",
       "50%        29.000000\n",
       "75%        35.000000\n",
       "max        55.000000\n",
       "Name: alternative_white_space_middle_part_len, dtype: float64"
      ]
     },
     "execution_count": 87,
     "metadata": {},
     "output_type": "execute_result"
    }
   ],
   "source": [
    "formatted_df['alternative_white_space_middle_part_len'].describe()"
   ]
  },
  {
   "cell_type": "code",
   "execution_count": 88,
   "id": "24875cd7-5bbf-47f8-9f3f-86de417a4148",
   "metadata": {},
   "outputs": [
    {
     "data": {
      "text/plain": [
       "table_index       \n",
       "3            0        55\n",
       "             102      45\n",
       "             103      38\n",
       "             104      36\n",
       "             105      41\n",
       "                      ..\n",
       "2253         59290    31\n",
       "             59291    33\n",
       "             59292    29\n",
       "             59293    27\n",
       "             59294    37\n",
       "Name: alternative_white_space_middle_part_len, Length: 3286, dtype: int64"
      ]
     },
     "execution_count": 88,
     "metadata": {},
     "output_type": "execute_result"
    }
   ],
   "source": [
    "formatted_df['alternative_white_space_middle_part_len']"
   ]
  },
  {
   "cell_type": "code",
   "execution_count": 89,
   "id": "72be2fa5-6d18-47f9-9238-57b1f3ff45ee",
   "metadata": {},
   "outputs": [],
   "source": [
    "formatted_df['white_space_middle_part_len'] = formatted_df['white_space_middle_part'].apply( len )"
   ]
  },
  {
   "cell_type": "code",
   "execution_count": 90,
   "id": "237b6363-d89b-49e4-ae34-7d595d0e78b2",
   "metadata": {},
   "outputs": [
    {
     "data": {
      "text/plain": [
       "489"
      ]
     },
     "execution_count": 90,
     "metadata": {},
     "output_type": "execute_result"
    }
   ],
   "source": [
    "(~(formatted_df['white_space_middle_part_len'] < formatted_df['alternative_white_space_middle_part_len'])).sum()"
   ]
  },
  {
   "cell_type": "code",
   "execution_count": 91,
   "id": "1de96ac3-eb83-4501-8b97-9bfcc571477b",
   "metadata": {},
   "outputs": [],
   "source": [
    "formatted_df['white_space_middle_part'] = formatted_df['white_space_middle_part'].where( \n",
    "    cond = formatted_df['white_space_middle_part_len'] < formatted_df['alternative_white_space_middle_part_len'],\n",
    "    other = formatted_df['alternative_white_space_middle_part']\n",
    ")"
   ]
  },
  {
   "cell_type": "code",
   "execution_count": 92,
   "id": "a3260b2f-198e-464f-8e79-308abc583fb7",
   "metadata": {},
   "outputs": [
    {
     "data": {
      "text/plain": [
       "440"
      ]
     },
     "execution_count": 92,
     "metadata": {},
     "output_type": "execute_result"
    }
   ],
   "source": [
    "(formatted_df[ 'second_third_and_forth_part_len'] == 0).sum()"
   ]
  },
  {
   "cell_type": "code",
   "execution_count": 93,
   "id": "c4e49ee1-1ea3-4bb7-b34e-66603f0c45bb",
   "metadata": {},
   "outputs": [],
   "source": [
    "formatted_df[ 'line_completion' ] = '.'"
   ]
  },
  {
   "cell_type": "code",
   "execution_count": 94,
   "id": "6ce27256-8180-4e23-b183-ec775c8d2488",
   "metadata": {},
   "outputs": [],
   "source": [
    "formatted_df[ 'line_completion' ] = formatted_df[ 'line_completion' ].where(\n",
    "    cond = formatted_df[ 'second_third_and_forth_part' ] == \"\",\n",
    "    other = formatted_df['white_space_middle_part'] + formatted_df[ 'second_third_and_forth_part' ] + '.'\n",
    ")"
   ]
  },
  {
   "cell_type": "code",
   "execution_count": 95,
   "id": "4eaf25ac-6bd0-4377-8d17-0694b79973f5",
   "metadata": {},
   "outputs": [],
   "source": [
    "formatted_df[ 'full_line'] = formatted_df['first_part'] + formatted_df[ 'line_completion' ]"
   ]
  },
  {
   "cell_type": "code",
   "execution_count": 96,
   "id": "09922584-002a-4878-b5d1-dd14fb8a13cb",
   "metadata": {},
   "outputs": [],
   "source": [
    "formatted_df[ 'full_line_len' ] = formatted_df[ 'full_line'].apply(len)"
   ]
  },
  {
   "cell_type": "code",
   "execution_count": 97,
   "id": "9379888a-01ab-4812-9e13-28dad03df60d",
   "metadata": {},
   "outputs": [
    {
     "data": {
      "text/plain": [
       "count    3286.000000\n",
       "mean       58.332319\n",
       "std        12.994989\n",
       "min        16.000000\n",
       "25%        59.000000\n",
       "50%        60.000000\n",
       "75%        68.000000\n",
       "max        95.000000\n",
       "Name: full_line_len, dtype: float64"
      ]
     },
     "execution_count": 97,
     "metadata": {},
     "output_type": "execute_result"
    }
   ],
   "source": [
    "formatted_df[ 'full_line_len' ].describe()"
   ]
  },
  {
   "cell_type": "code",
   "execution_count": 98,
   "id": "9429bae3-37f2-41b2-931a-cad79601e2f7",
   "metadata": {},
   "outputs": [
    {
     "data": {
      "text/plain": [
       "table_index       \n",
       "3            0        16\n",
       "899          0        17\n",
       "894          0        18\n",
       "879          0        18\n",
       "878          0        18\n",
       "                      ..\n",
       "689          17665    85\n",
       "787          20475    91\n",
       "1472         39163    92\n",
       "             39160    94\n",
       "             39159    95\n",
       "Name: full_line_len, Length: 3286, dtype: int64"
      ]
     },
     "execution_count": 98,
     "metadata": {},
     "output_type": "execute_result"
    }
   ],
   "source": [
    "formatted_df[ 'full_line_len' ].sort_values()"
   ]
  },
  {
   "cell_type": "code",
   "execution_count": 99,
   "id": "4c8a38d1-7fe9-4090-ab1f-8c9189cc6873",
   "metadata": {},
   "outputs": [
    {
     "data": {
      "text/plain": [
       "table_index       \n",
       "726          19143                            022900          10  PRIN-RCVB-CUM                 PIC S9(10)V99 COMP-3.\n",
       "             19106                            019200          10  DFRD-INT                      PIC S9(08)V99 COMP-3.\n",
       "             19105                            019100          10  DFRD-PRIN-CRS                 PIC S9(08)V99 COMP-3.\n",
       "             19104                            019000          10  DFRD-PRIN                     PIC S9(08)V99 COMP-3.\n",
       "             19103                            018900          10  DFRD-INT-CRS                  PIC S9(08)V99 COMP-3.\n",
       "             19102                            018800          10  INT-ACCRD-TO-LST-PRIN-DTE     PIC S9(08)V99 COMP-3.\n",
       "             19099                            018500          10  INT-CRS-RCVB                  PIC S9(07)V99 COMP-3.\n",
       "             19098                            018400          10  PRIN-CRS-RCVB                 PIC S9(08)V99 COMP-3.\n",
       "             19095                            018100          10  INT-PD-HLDR                   PIC S9(07)V99 COMP-3.\n",
       "             19094                            018000          10  PRIN-PD-HLDR                  PIC S9(08)V99 COMP-3.\n",
       "             19109                            019500          10  DFRD-INT-INCM                 PIC S9(08)V99 COMP-3.\n",
       "             19091                            017700          10  LN-AMT-PURCHD-BY-HLDR         PIC S9(08)V99 COMP-3.\n",
       "             19080                            016600          10  LNDR-INT-RATE-NON-GUARNTD     PIC S99V9(04) COMP-3.\n",
       "             19078                            016400              15  GUAR-LOSS-PCT-PD          PIC S999V9999 COMP-3.\n",
       "             19077                            016300              15  RECPTR-PYMT-AMT           PIC S9(08)V99 COMP-3.\n",
       "781          20395                            000500      05  ALTMT-4TH-ACCTG-PRD               PIC S9(10)V99 COMP-3.\n",
       "726          19073                            015900              15  INT-EARNED-REFUND         PIC S9(07)V99 COMP-3.\n",
       "             19072                            015800              15  INT-LOSS-PYMT-AMT         PIC S9(08)V99 COMP-3.\n",
       "             19071                            015700              15  LOSS-PYMT-AMT             PIC S9(08)V99 COMP-3.\n",
       "             19066                            015200              15  ORIG-MKT-VLU-GUARNTD      PIC S9(08)V99 COMP-3.\n",
       "             19062                            014800              15  APPRSL-FEE-REPYMT         PIC S9(07)V99 COMP-3.\n",
       "             19083                            016900      05  BORR-RCRD-TYP-3              REDEFINES BORR-RCRD-TYP-1.\n",
       "             19111                            019700          10  ACCRD-LOST-INCM               PIC S9(08)V99 COMP-3.\n",
       "             19115                            020100          10  SRVC-FEE-AMT                  PIC S9(08)V99 COMP-3.\n",
       "             19120                            020600          10  UNEARND-SBSY                  PIC S9(06)V99 COMP-3.\n",
       "             19142                            022800          10  RECPTR-RCVD-CUM               PIC S9(10)V99 COMP-3.\n",
       "             19141                            022700          10  LOSS-PYMT-AMT-CUM             PIC S9(12)V99 COMP-3.\n",
       "             19124                            021000      05  BORR-RCRD-TYP-4              REDEFINES BORR-RCRD-TYP-1.\n",
       "             19131                            021700          10  BORR-RCRD-TYP-4B        REDEFINES BORR-RCRD-TYP-4A.\n",
       "             19134                            022000          10  LN-AMT-CUM                    PIC S9(12)V99 COMP-3.\n",
       "             19140                            022600          10  ADVNCS-BY-FMHA-CUM            PIC S9(08)V99 COMP-3.\n",
       "             19135                            022100          10  PRIN-CR-CUM                   PIC S9(12)V99 COMP-3.\n",
       "             19136                            022200          10  ACCRD-INT-CUM                 PIC S9(12)V99 COMP-3.\n",
       "             19137                            022300          10  GUAR-FEE-CHGD-CUM             PIC S9(10)V99 COMP-3.\n",
       "             19138                            022400          10  GUAR-FEE-PD-CUM               PIC S9(10)V99 COMP-3.\n",
       "             19116                            020200          10  SRVC-FEE-PD                   PIC S9(08)V99 COMP-3.\n",
       "             19139                            022500          10  GUARNTD-LN-SBSY-CUM           PIC S9(10)V99 COMP-3.\n",
       "665          17055                         001700      05  ALTMT-LDGR-ADJMT-DTL OCCURS 10 DEPENDING ON NBR-OF-OCCURS.\n",
       "1330         35095                      000400          10  SRVCG-OFC-CDE-AREA REDEFINES SRVCG-OFC-CDE-RGN PIC 9(03).\n",
       "689          17715                    006900              15  DST-OFC-MAILG-FSA REDEFINES CTY-OFC-MAILG-FSA PIC 9(3).\n",
       "659          16849                  002300              15  DST-OFC-MAILG-ACQD REDEFINES CTY-OFC-MAILG-ACQD PIC 9(3).\n",
       "824          20966                001300      05  FRM-HSG-ACTV-GRP OCCURS 1500 DEPENDING ON MULTI-CARD-DATA-LGTH-106.\n",
       "1472         39162                003300      05  STAT-OF-MTLY-UPDTE REDEFINES STAT-OF-MTLY-UPDTE-ALLOCCURS 12 PIC X.\n",
       "             39158              002900      05  STAT-OF-WEEKS-UPDTE REDEFINES STAT-OF-WEEKS-UPDTE-ALLOCCURS 48 PIC X.\n",
       "731          19540              003900          10  TRNSCTN-ELMT-FLD OCCURS 1800 DEPENDING ON NBR-OF-OCCURS PIC X(1).\n",
       "689          17665              001900              15  DST-OFC-MAILG-CLIENT REDEFINES CTY-OFC-MAILG-CLIENT PIC 9(3).\n",
       "787          20475        000400          10  MULTI-CARD-DATA OCCURS 1850 DEPENDING ON MULTI-CARD-DATA-LGTH PIC X(1).\n",
       "1472         39163       003400      05  STAT-OF-MTLY-UPDTE-BY-QTR REDEFINES STAT-OF-MTLY-UPDTE-ALLOCCURS 4 PIC X(3).\n",
       "             39160     003100      05  STAT-OF-WEEKS-UPDTE-BY-MO REDEFINES STAT-OF-WEEKS-UPDTE-ALLOCCURS 12 PIC X(4).\n",
       "             39159    003000      05  STAT-OF-WEEKS-UPDTE-BY-QTR REDEFINES STAT-OF-WEEKS-UPDTE-ALLOCCURS 4 PIC X(12).\n",
       "Name: full_line, dtype: object"
      ]
     },
     "execution_count": 99,
     "metadata": {},
     "output_type": "execute_result"
    }
   ],
   "source": [
    "formatted_df.sort_values('full_line_len' )['full_line'].tail(50)"
   ]
  },
  {
   "cell_type": "code",
   "execution_count": 101,
   "id": "4e461968-b8bc-488c-83fe-7a938671044d",
   "metadata": {},
   "outputs": [],
   "source": [
    "formatted_df['full_line'].to_csv(\"2023-02-01_IDMS_Copybooks_FPAC_schemas.txt\", header=False, index=False )"
   ]
  },
  {
   "cell_type": "code",
   "execution_count": 103,
   "id": "57f52117-f57a-43af-8680-09f7a49ec60d",
   "metadata": {},
   "outputs": [
    {
     "name": "stdout",
     "output_type": "stream",
     "text": [
      "000050 01  ACCT.\n",
      "000100      05  GOVT-ACCT.\n",
      "000200          10  ACCT                          PIC 9(4).\n",
      "000300          10  SUB-ACCT                      PIC 99.\n",
      "000400      05  OBJ-CLS                           PIC XX.\n",
      "000500      05  AMT                               PIC 9(12)V99 COMP-3.\n",
      "000600      05  DR-CR                             PIC X.\n",
      "000700      05  FILLER                            PIC X(0023).\n",
      "000050 01  APPEAL.\n",
      "000100      05  APPEAL-NBR.\n"
     ]
    }
   ],
   "source": [
    "!head 2023-02-01_IDMS_Copybooks_FPAC_schemas.txt"
   ]
  },
  {
   "cell_type": "code",
   "execution_count": 104,
   "id": "bcd3b91f-5a81-4581-ae9a-d0d07d407c83",
   "metadata": {},
   "outputs": [
    {
     "name": "stdout",
     "output_type": "stream",
     "text": [
      "    3286 2023-02-01_IDMS_Copybooks_FPAC_schemas.txt\n"
     ]
    }
   ],
   "source": [
    "!wc -l 2023-02-01_IDMS_Copybooks_FPAC_schemas.txt"
   ]
  },
  {
   "cell_type": "code",
   "execution_count": null,
   "id": "2d442dda-0623-4189-a9f7-2d8144d14c44",
   "metadata": {},
   "outputs": [],
   "source": []
  }
 ],
 "metadata": {
  "kernelspec": {
   "display_name": "Python 3 (ipykernel)",
   "language": "python",
   "name": "python3"
  },
  "language_info": {
   "codemirror_mode": {
    "name": "ipython",
    "version": 3
   },
   "file_extension": ".py",
   "mimetype": "text/x-python",
   "name": "python",
   "nbconvert_exporter": "python",
   "pygments_lexer": "ipython3",
   "version": "3.11.0"
  }
 },
 "nbformat": 4,
 "nbformat_minor": 5
}
