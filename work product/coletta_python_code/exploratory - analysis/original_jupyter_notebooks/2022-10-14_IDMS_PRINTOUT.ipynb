{
 "cells": [
  {
   "cell_type": "code",
   "execution_count": 1,
   "id": "5dde6ef7-af86-4710-a885-148a91972f16",
   "metadata": {},
   "outputs": [],
   "source": [
    "from pathlib import Path"
   ]
  },
  {
   "cell_type": "code",
   "execution_count": 2,
   "id": "4eaf4ec4-a1cb-4bab-9d56-feeb5b0c1623",
   "metadata": {},
   "outputs": [],
   "source": [
    "import re"
   ]
  },
  {
   "cell_type": "code",
   "execution_count": 3,
   "id": "e5825678-c993-4066-b1c2-6266503d6c28",
   "metadata": {},
   "outputs": [
    {
     "name": "stdout",
     "output_type": "stream",
     "text": [
      "0          1        5,473        3,664        1,809            0            0                                                        \n",
      "           2        5,473        3,664        1,809            0            0                                                        \n",
      "           3        5,473        3,664        1,809            0            0                                                        \n",
      "           4        5,473        3,664        1,809            0            0                                                        \n",
      "           5        5,473        3,664        1,809            0            0                                                        \n",
      "           6        5,473        3,664        1,809            0            0                                                        \n",
      "           7        5,473        3,664        1,809            0            0                                                        \n",
      "           8        5,473        3,664        1,809            0            0                                                        \n",
      "           9        5,473        3,664        1,809            0            0                                                        \n",
      "          10        5,473        3,664        1,809            0            0                                                        \n",
      "          11        5,473        3,664        1,809            0            0                                                        \n",
      "          12        5,473        3,664        1,809            0            0                                                        \n",
      "          13        5,473        3,664        1,809            0            0                                                        \n",
      "          14        5,473        3,664        1,809            0            0                                                        \n",
      "1  C750009 RECORDS WRITTEN FOR REPORT 00 --           0                                                                              \n",
      "1REPORT NO. 08                                   DATA DICTIONARY REPORTER  REL 17.0                       09/23/21        PAGE     1 \n",
      " DREPORT 008                                               RECORD REPORT                                                             \n",
      "-************************************************************************************************************************************\n",
      "                                             RECORD               RECORD                    ---- D A T E ----                        \n",
      " RECORD NAME                                LENGTH  BUILDER        TYPE       OCCURRENCES   UPDATED   CREATED                        \n",
      " ************************************************************************************************************************************\n",
      "0                                                                                                                                    \n",
      " ABSDOMN                          VER     1    32      D                                    10/15/87 09/29/87                        \n",
      "     PREPARED BY          AWMC11                                                                                                     \n",
      "     REVISED BY           AWMC11                                                                                                     \n",
      "     DESCRIPTION          USER DOMAIN                                                                                                \n",
      "     PUBLIC ACCESS ALLOWED FOR ALL AUTHORITY                                                                                         \n",
      "     RECORD               ABSDOMN                                  VER     1 D  SUFFIX -4541                                         \n",
      "            100   05 ST-CTY-CDE-FMHA-4541                                                      DISPLAY                               \n",
      "            200    10 ST-CDE-FMHA-4541                        9(2)                             DISPLAY                               \n",
      "            300    10 CTY-CDE-FMHA-4541                       9(3)                             DISPLAY                               \n",
      "            400   05 NME-CTY-4541                             X(20)                            DISPLAY                               \n",
      "            500   05 LST-UPDTE-DTE-4541                       9(06)                            DISPLAY                               \n",
      "            600   05 FILLER                                   X                                DISPLAY                               \n",
      "1REPORT NO. 08                                   DATA DICTIONARY REPORTER  REL 17.0                       09/23/21        PAGE     2 \n",
      " DREPORT 008                                               RECORD REPORT                                                             \n",
      "-************************************************************************************************************************************\n",
      "                                             RECORD               RECORD                    ---- D A T E ----                        \n",
      " RECORD NAME                                LENGTH  BUILDER        TYPE       OCCURRENCES   UPDATED   CREATED                        \n",
      " ************************************************************************************************************************************\n",
      "0                                                                                                                                    \n",
      " ACCRLINK                         VER     1   176      D                                    03/09/98 02/21/84                        \n",
      "     PREPARED BY          AA-KGM                                                                                                     \n",
      "     REVISED BY           ASL034                                                                                                     \n",
      "     DESCRIPTION          ACCRUAL LINK RECORD                                                                                        \n",
      "     PUBLIC ACCESS ALLOWED FOR ALL AUTHORITY                                                                                         \n",
      "     RFA-ID               H-3973                                                                                                     \n",
      "     RFA-ID               H-3581A                                                                                                    \n",
      "     DEFINITION                                                                                                                      \n",
      "              100 THIS RECORD IS USED TO PASS TO AND                                                                                 \n"
     ]
    }
   ],
   "source": [
    "!head -150 IDMS_RECORDS_cpy.txt | tail -50"
   ]
  },
  {
   "cell_type": "markdown",
   "id": "283ad48d-cc29-4b6f-be78-dc2c485112f1",
   "metadata": {
    "tags": []
   },
   "source": [
    "# Initial cleaning"
   ]
  },
  {
   "cell_type": "code",
   "execution_count": 4,
   "id": "2f0444cd-76e8-4c39-b94b-7be927c6c64f",
   "metadata": {
    "tags": []
   },
   "outputs": [],
   "source": [
    "# !head -50 IDMS_RECORDS_cpy.txt\n",
    "\n",
    "# p = Path( \"2022-10-14_Whitespace_stripped.txt\" )\n",
    "\n",
    "# raw_text = p.read_text(encoding='latin1')\n",
    "\n",
    "# len( raw_text )\n",
    "\n",
    "# print( raw_text[:1000] )\n",
    "\n",
    "# \n",
    "\n",
    "# p = re.compile( r'^1REPORT.*?^0$', flags = re.MULTILINE | re.DOTALL )\n",
    "\n",
    "# len( p.findall( raw_text ) )\n",
    "\n",
    "# removed_headers = p.sub( \"\", raw_text )\n",
    "\n",
    "# len( removed_headers )"
   ]
  },
  {
   "cell_type": "code",
   "execution_count": 5,
   "id": "ca4fa232-3027-4c70-a45b-6592e189425d",
   "metadata": {
    "tags": []
   },
   "outputs": [],
   "source": [
    "out = Path( \"2022-10-14_Stripped_IDMS_RECORDS.txt\" )"
   ]
  },
  {
   "cell_type": "code",
   "execution_count": 6,
   "id": "ce63f5fe-6d9c-483b-a33d-56e896db6f38",
   "metadata": {},
   "outputs": [],
   "source": [
    "#out.write_text( removed_headers )"
   ]
  },
  {
   "cell_type": "code",
   "execution_count": 7,
   "id": "8318aa4f-697b-48db-ab56-9949ef30878c",
   "metadata": {},
   "outputs": [],
   "source": [
    "# reload after some hand-editing\n",
    "removed_headers = out.read_text()"
   ]
  },
  {
   "cell_type": "code",
   "execution_count": 8,
   "id": "d6f4d4f9-1194-4f69-9971-92beac236c62",
   "metadata": {},
   "outputs": [
    {
     "data": {
      "text/plain": [
       "15348439"
      ]
     },
     "execution_count": 8,
     "metadata": {},
     "output_type": "execute_result"
    }
   ],
   "source": [
    "len( removed_headers )"
   ]
  },
  {
   "cell_type": "code",
   "execution_count": 9,
   "id": "ff8e15cf-08d2-406e-a96a-8f910db71b63",
   "metadata": {},
   "outputs": [],
   "source": [
    "lines = removed_headers.split( '\\n' )"
   ]
  },
  {
   "cell_type": "code",
   "execution_count": 10,
   "id": "5e0036ec-0a22-4ace-a144-fc5945c4b389",
   "metadata": {},
   "outputs": [
    {
     "data": {
      "text/plain": [
       "171643"
      ]
     },
     "execution_count": 10,
     "metadata": {},
     "output_type": "execute_result"
    }
   ],
   "source": [
    "len( lines )"
   ]
  },
  {
   "cell_type": "code",
   "execution_count": 11,
   "id": "ba8a936d-9004-461e-97fc-bf51873976d9",
   "metadata": {},
   "outputs": [],
   "source": [
    "p = re.compile( r'^\\s+' )"
   ]
  },
  {
   "cell_type": "code",
   "execution_count": 12,
   "id": "b43c4449-0952-40c9-bfef-77249e4ca65e",
   "metadata": {},
   "outputs": [
    {
     "data": {
      "text/plain": [
       "[' ']"
      ]
     },
     "execution_count": 12,
     "metadata": {},
     "output_type": "execute_result"
    }
   ],
   "source": [
    "p.findall( lines[0] )"
   ]
  },
  {
   "cell_type": "code",
   "execution_count": 13,
   "id": "0386a087-007c-43f3-beee-134281257c59",
   "metadata": {},
   "outputs": [],
   "source": [
    "from collections import Counter"
   ]
  },
  {
   "cell_type": "code",
   "execution_count": 14,
   "id": "70feb966-90f7-4c30-a1d8-c4181db524da",
   "metadata": {},
   "outputs": [
    {
     "data": {
      "text/plain": [
       "[171642]"
      ]
     },
     "execution_count": 14,
     "metadata": {},
     "output_type": "execute_result"
    }
   ],
   "source": [
    "[ i for i, _ in enumerate( lines ) if len( p.findall( _ ) ) == 0 ]"
   ]
  },
  {
   "cell_type": "code",
   "execution_count": 15,
   "id": "d0d91552-5772-485c-87cf-e02879c9baa4",
   "metadata": {},
   "outputs": [],
   "source": [
    "lines = [ _ for _ in lines if _ != \"\" ]"
   ]
  },
  {
   "cell_type": "code",
   "execution_count": 16,
   "id": "15411d94-c940-4449-b2ae-32c884901712",
   "metadata": {},
   "outputs": [
    {
     "data": {
      "text/plain": [
       "171642"
      ]
     },
     "execution_count": 16,
     "metadata": {},
     "output_type": "execute_result"
    }
   ],
   "source": [
    "len( lines )"
   ]
  },
  {
   "cell_type": "code",
   "execution_count": 17,
   "id": "3709db6a-52bc-46e3-a280-5159454e061b",
   "metadata": {},
   "outputs": [
    {
     "data": {
      "text/plain": [
       "[]"
      ]
     },
     "execution_count": 17,
     "metadata": {},
     "output_type": "execute_result"
    }
   ],
   "source": [
    "[ i for i, _ in enumerate( lines ) if len( p.findall( _ ) ) == 0 ]"
   ]
  },
  {
   "cell_type": "code",
   "execution_count": 18,
   "id": "7f6b7e40-5da8-4cc0-918b-c77751227dac",
   "metadata": {},
   "outputs": [],
   "source": [
    "leading_space_count = [ len( p.findall( _ )[0] ) for _ in lines if len( p.findall( _ ) ) > 0 ]"
   ]
  },
  {
   "cell_type": "code",
   "execution_count": 19,
   "id": "433d4c85-22ef-4f75-a143-ab7779f8140f",
   "metadata": {},
   "outputs": [
    {
     "data": {
      "text/plain": [
       "Counter({1: 3661,\n",
       "         5: 18569,\n",
       "         12: 31763,\n",
       "         14: 2902,\n",
       "         9: 31042,\n",
       "         26: 13934,\n",
       "         11: 62916,\n",
       "         13: 63,\n",
       "         10: 6756,\n",
       "         27: 3,\n",
       "         22: 33})"
      ]
     },
     "execution_count": 19,
     "metadata": {},
     "output_type": "execute_result"
    }
   ],
   "source": [
    "Counter( leading_space_count )"
   ]
  },
  {
   "cell_type": "code",
   "execution_count": 20,
   "id": "a9c93fa3-83c0-41dd-a297-f7cf7df63ff7",
   "metadata": {},
   "outputs": [],
   "source": [
    "table_index = -1\n",
    "table_indices = [0]*len( lines )\n",
    "for i in range( len( lines ) ):\n",
    "    if lines[i][1] != ' ':\n",
    "        table_index += 1\n",
    "    table_indices[ i ] = table_index"
   ]
  },
  {
   "cell_type": "code",
   "execution_count": 21,
   "id": "0923b090-92cd-4d48-b101-f8e73ccf162e",
   "metadata": {},
   "outputs": [],
   "source": [
    "#table_indices"
   ]
  },
  {
   "cell_type": "code",
   "execution_count": 22,
   "id": "f2959bd3-4fe8-49ba-977b-cdbd8229c6a7",
   "metadata": {},
   "outputs": [
    {
     "data": {
      "text/plain": [
       "True"
      ]
     },
     "execution_count": 22,
     "metadata": {},
     "output_type": "execute_result"
    }
   ],
   "source": [
    "len( leading_space_count ) == len( lines )"
   ]
  },
  {
   "cell_type": "code",
   "execution_count": 23,
   "id": "06218a17-037f-4133-9e45-b1736db9ecf0",
   "metadata": {},
   "outputs": [],
   "source": [
    "import pandas as pd"
   ]
  },
  {
   "cell_type": "code",
   "execution_count": 24,
   "id": "1ae978ee-4f9a-49b1-bdaa-9d2c259f5500",
   "metadata": {},
   "outputs": [],
   "source": [
    "df = pd.DataFrame( dict(\n",
    "    leading_space_count = leading_space_count,\n",
    "    table_index = table_indices,\n",
    "    lines = lines ))"
   ]
  },
  {
   "cell_type": "code",
   "execution_count": 25,
   "id": "252c4d48-aa16-4ef1-9ed7-35a6b49ceb51",
   "metadata": {},
   "outputs": [
    {
     "name": "stdout",
     "output_type": "stream",
     "text": [
      "<class 'pandas.core.frame.DataFrame'>\n",
      "RangeIndex: 171642 entries, 0 to 171641\n",
      "Data columns (total 3 columns):\n",
      " #   Column               Non-Null Count   Dtype \n",
      "---  ------               --------------   ----- \n",
      " 0   leading_space_count  171642 non-null  int64 \n",
      " 1   table_index          171642 non-null  int64 \n",
      " 2   lines                171642 non-null  object\n",
      "dtypes: int64(2), object(1)\n",
      "memory usage: 3.9+ MB\n"
     ]
    }
   ],
   "source": [
    "df.info()"
   ]
  },
  {
   "cell_type": "code",
   "execution_count": 26,
   "id": "d40bc83b-0f2d-4ed1-81e8-1cb00e416cf3",
   "metadata": {},
   "outputs": [
    {
     "data": {
      "text/html": [
       "<div>\n",
       "<style scoped>\n",
       "    .dataframe tbody tr th:only-of-type {\n",
       "        vertical-align: middle;\n",
       "    }\n",
       "\n",
       "    .dataframe tbody tr th {\n",
       "        vertical-align: top;\n",
       "    }\n",
       "\n",
       "    .dataframe thead th {\n",
       "        text-align: right;\n",
       "    }\n",
       "</style>\n",
       "<table border=\"1\" class=\"dataframe\">\n",
       "  <thead>\n",
       "    <tr style=\"text-align: right;\">\n",
       "      <th></th>\n",
       "      <th>leading_space_count</th>\n",
       "      <th>table_index</th>\n",
       "      <th>lines</th>\n",
       "    </tr>\n",
       "  </thead>\n",
       "  <tbody>\n",
       "    <tr>\n",
       "      <th>0</th>\n",
       "      <td>1</td>\n",
       "      <td>0</td>\n",
       "      <td>ABSDOMN                          VER     1   ...</td>\n",
       "    </tr>\n",
       "    <tr>\n",
       "      <th>11</th>\n",
       "      <td>1</td>\n",
       "      <td>1</td>\n",
       "      <td>ACCRLINK                         VER     1   ...</td>\n",
       "    </tr>\n",
       "    <tr>\n",
       "      <th>104</th>\n",
       "      <td>1</td>\n",
       "      <td>2</td>\n",
       "      <td>ACCRLINK                         VER     2   ...</td>\n",
       "    </tr>\n",
       "    <tr>\n",
       "      <th>168</th>\n",
       "      <td>1</td>\n",
       "      <td>3</td>\n",
       "      <td>ACCT                             VER     1   ...</td>\n",
       "    </tr>\n",
       "    <tr>\n",
       "      <th>184</th>\n",
       "      <td>1</td>\n",
       "      <td>4</td>\n",
       "      <td>ACCTG-CNTL                       VER     1   ...</td>\n",
       "    </tr>\n",
       "    <tr>\n",
       "      <th>...</th>\n",
       "      <td>...</td>\n",
       "      <td>...</td>\n",
       "      <td>...</td>\n",
       "    </tr>\n",
       "    <tr>\n",
       "      <th>171288</th>\n",
       "      <td>1</td>\n",
       "      <td>3656</td>\n",
       "      <td>502-REPT-DTL-RCRD                VER     1   ...</td>\n",
       "    </tr>\n",
       "    <tr>\n",
       "      <th>171366</th>\n",
       "      <td>1</td>\n",
       "      <td>3657</td>\n",
       "      <td>502-REPT-DTL-RCRD                VER     2   ...</td>\n",
       "    </tr>\n",
       "    <tr>\n",
       "      <th>171433</th>\n",
       "      <td>1</td>\n",
       "      <td>3658</td>\n",
       "      <td>502-REPT-DTL-RCRD                VER     4   ...</td>\n",
       "    </tr>\n",
       "    <tr>\n",
       "      <th>171505</th>\n",
       "      <td>1</td>\n",
       "      <td>3659</td>\n",
       "      <td>502-TEMP-DTL-RCRD                VER     1   ...</td>\n",
       "    </tr>\n",
       "    <tr>\n",
       "      <th>171575</th>\n",
       "      <td>1</td>\n",
       "      <td>3660</td>\n",
       "      <td>502-TEMP-DTL-RCRD                VER     4   ...</td>\n",
       "    </tr>\n",
       "  </tbody>\n",
       "</table>\n",
       "<p>3661 rows × 3 columns</p>\n",
       "</div>"
      ],
      "text/plain": [
       "        leading_space_count  table_index  \\\n",
       "0                         1            0   \n",
       "11                        1            1   \n",
       "104                       1            2   \n",
       "168                       1            3   \n",
       "184                       1            4   \n",
       "...                     ...          ...   \n",
       "171288                    1         3656   \n",
       "171366                    1         3657   \n",
       "171433                    1         3658   \n",
       "171505                    1         3659   \n",
       "171575                    1         3660   \n",
       "\n",
       "                                                    lines  \n",
       "0        ABSDOMN                          VER     1   ...  \n",
       "11       ACCRLINK                         VER     1   ...  \n",
       "104      ACCRLINK                         VER     2   ...  \n",
       "168      ACCT                             VER     1   ...  \n",
       "184      ACCTG-CNTL                       VER     1   ...  \n",
       "...                                                   ...  \n",
       "171288   502-REPT-DTL-RCRD                VER     1   ...  \n",
       "171366   502-REPT-DTL-RCRD                VER     2   ...  \n",
       "171433   502-REPT-DTL-RCRD                VER     4   ...  \n",
       "171505   502-TEMP-DTL-RCRD                VER     1   ...  \n",
       "171575   502-TEMP-DTL-RCRD                VER     4   ...  \n",
       "\n",
       "[3661 rows x 3 columns]"
      ]
     },
     "execution_count": 26,
     "metadata": {},
     "output_type": "execute_result"
    }
   ],
   "source": [
    "df[ df['leading_space_count'] == 1 ]"
   ]
  },
  {
   "cell_type": "code",
   "execution_count": 27,
   "id": "bc6f1992-cd63-4cbb-b1d3-4ee57266c96f",
   "metadata": {},
   "outputs": [],
   "source": [
    "text_clumps = df.groupby( 'leading_space_count' ).apply( lambda group: group['lines'].to_list() )"
   ]
  },
  {
   "cell_type": "code",
   "execution_count": 28,
   "id": "cb2cf2f7-65f5-4f6d-9c42-091ec031f070",
   "metadata": {},
   "outputs": [
    {
     "name": "stdout",
     "output_type": "stream",
     "text": [
      "<class 'pandas.core.series.Series'>\n",
      "Int64Index: 11 entries, 1 to 27\n",
      "Series name: None\n",
      "Non-Null Count  Dtype \n",
      "--------------  ----- \n",
      "11 non-null     object\n",
      "dtypes: object(1)\n",
      "memory usage: 176.0+ bytes\n"
     ]
    }
   ],
   "source": [
    "text_clumps.info()"
   ]
  },
  {
   "cell_type": "code",
   "execution_count": 29,
   "id": "d1724b53-bdf5-4eab-bb4c-84a592fdbf86",
   "metadata": {},
   "outputs": [
    {
     "data": {
      "text/plain": [
       "[3661, 18569, 31042, 6756, 62916, 31763, 63, 2902, 33, 13934, 3]"
      ]
     },
     "execution_count": 29,
     "metadata": {},
     "output_type": "execute_result"
    }
   ],
   "source": [
    "[ len( _ ) for _ in text_clumps ]"
   ]
  },
  {
   "cell_type": "markdown",
   "id": "6d7db8c8-1573-4edb-8c61-d68556911ae5",
   "metadata": {},
   "source": [
    "# TABLE NAMES"
   ]
  },
  {
   "cell_type": "code",
   "execution_count": 30,
   "id": "b97d1654-cf8e-47f0-a297-2f511cacea0f",
   "metadata": {},
   "outputs": [
    {
     "data": {
      "text/plain": [
       "[' ABSDOMN                          VER     1    32      D                                    10/15/87 09/29/87',\n",
       " ' ACCRLINK                         VER     1   176      D                                    03/09/98 02/21/84',\n",
       " ' ACCRLINK                         VER     2   176      D                                    05/15/98 05/15/98',\n",
       " ' ACCT                             VER     1    40      S                                    09/24/87 09/21/87',\n",
       " ' ACCTG-CNTL                       VER     1   100      D                                    02/07/89 05/26/87',\n",
       " ' ACH-RCRD                         VER     1   148      D                                             06/22/84',\n",
       " ' ACQD-PROP-MAP-RCRD               VER     1   141      C                                    07/31/87 06/30/87',\n",
       " ' ACQD-PROP-QUEUE-RCRD             VER     1   260      C                                    01/20/93 06/30/87',\n",
       " ' ACQD-PROP-SALES-RCRD             VER     1   286      D                                    09/19/94 09/01/94',\n",
       " ' ACQD-PROP-SOLD                   VER     1   400      D                                    02/22/91 04/26/89',\n",
       " ' ACQPHIST                         VER     3   100      D                                    08/27/92 08/20/92',\n",
       " ' ACQPHIST                         VER     4   128      S                                    01/12/93 01/12/93',\n",
       " ' ACQPRO-RCRD                      VER     1   253      D                                    06/08/83 03/05/83',\n",
       " ' ACQPROP                          VER     3   100      D                                    08/27/92 08/20/92',\n",
       " ' ACQPROP                          VER     4   128      S                                    01/13/93 01/13/93',\n",
       " ' ACTL-TRADE-CST-TRNSCTN-RCRD      VER     1   374      C                                    04/27/93 01/30/93',\n",
       " ' ADBS-WORK-RECORD                 VER     1   169      D                                             12/01/83',\n",
       " ' ADD-SAVE-SYNTX-R                 VER     1    80      D                                             09/27/83',\n",
       " ' ADJMT-HIST-RCRD                  VER     1    69      D                                    05/12/93 11/03/86',\n",
       " ' ADM-ADJMT-AC-TRNSCTN-RCRD        VER     1    30      C                                    07/27/88 10/03/84']"
      ]
     },
     "execution_count": 30,
     "metadata": {},
     "output_type": "execute_result"
    }
   ],
   "source": [
    "text_clumps[1][:20]"
   ]
  },
  {
   "cell_type": "code",
   "execution_count": 31,
   "id": "1174a66a-f22f-4ad6-baf4-8aa0fd530168",
   "metadata": {},
   "outputs": [
    {
     "data": {
      "text/plain": [
       "Counter({109: 3661})"
      ]
     },
     "execution_count": 31,
     "metadata": {},
     "output_type": "execute_result"
    }
   ],
   "source": [
    "Counter( [ len(_) for _ in text_clumps[1] ] )"
   ]
  },
  {
   "cell_type": "code",
   "execution_count": 32,
   "id": "2a29c860-3076-44d8-a6bd-046d7be1cbcc",
   "metadata": {},
   "outputs": [],
   "source": [
    "p = re.compile( r'\\s(\\S+)\\s+VER\\s+(\\d+)' )"
   ]
  },
  {
   "cell_type": "code",
   "execution_count": 33,
   "id": "07003cc6-2d96-43f5-8837-0b14844b2899",
   "metadata": {},
   "outputs": [],
   "source": [
    "table_info_list = [ p.match( _ ).groups(1) for _ in text_clumps[1] ]"
   ]
  },
  {
   "cell_type": "code",
   "execution_count": 34,
   "id": "dab55e7d-0ab6-4d53-abf1-996c76ff898c",
   "metadata": {},
   "outputs": [
    {
     "data": {
      "text/plain": [
       "3661"
      ]
     },
     "execution_count": 34,
     "metadata": {},
     "output_type": "execute_result"
    }
   ],
   "source": [
    "len( table_info_list )"
   ]
  },
  {
   "cell_type": "code",
   "execution_count": 35,
   "id": "4b127d52-aa9a-431c-aa65-091892fd3eb1",
   "metadata": {},
   "outputs": [
    {
     "data": {
      "text/plain": [
       "[('ABSDOMN', '1'),\n",
       " ('ACCRLINK', '1'),\n",
       " ('ACCRLINK', '2'),\n",
       " ('ACCT', '1'),\n",
       " ('ACCTG-CNTL', '1'),\n",
       " ('ACH-RCRD', '1'),\n",
       " ('ACQD-PROP-MAP-RCRD', '1'),\n",
       " ('ACQD-PROP-QUEUE-RCRD', '1'),\n",
       " ('ACQD-PROP-SALES-RCRD', '1'),\n",
       " ('ACQD-PROP-SOLD', '1')]"
      ]
     },
     "execution_count": 35,
     "metadata": {},
     "output_type": "execute_result"
    }
   ],
   "source": [
    "table_info_list[:10]"
   ]
  },
  {
   "cell_type": "code",
   "execution_count": 36,
   "id": "63ae8acb-300a-4f9d-a519-793be65267c0",
   "metadata": {},
   "outputs": [],
   "source": [
    "table_names, table_vers = zip(*table_info_list )"
   ]
  },
  {
   "cell_type": "code",
   "execution_count": 37,
   "id": "70b9a4a1-96cb-43cd-8a9e-19a4af015785",
   "metadata": {},
   "outputs": [],
   "source": [
    "created_dates = pd.to_datetime( [ _[101:109] for _ in text_clumps[1] ] )"
   ]
  },
  {
   "cell_type": "code",
   "execution_count": 38,
   "id": "7046d0cc-8f78-4e6c-98f3-7bf93b6cb4ab",
   "metadata": {},
   "outputs": [
    {
     "data": {
      "text/plain": [
       "3661"
      ]
     },
     "execution_count": 38,
     "metadata": {},
     "output_type": "execute_result"
    }
   ],
   "source": [
    "len( created_dates )"
   ]
  },
  {
   "cell_type": "code",
   "execution_count": 39,
   "id": "cc14428a-7ce9-4a68-808d-adce4efdfb7c",
   "metadata": {},
   "outputs": [],
   "source": [
    "updated_dates = pd.to_datetime( [ _[92:100] for _ in text_clumps[1] ], errors='coerce' )"
   ]
  },
  {
   "cell_type": "code",
   "execution_count": 40,
   "id": "a2d398ac-262c-4ef7-a228-398f1bb7f4f3",
   "metadata": {},
   "outputs": [
    {
     "data": {
      "text/plain": [
       "DatetimeIndex(['1987-10-15', '1998-03-09', '1998-05-15', '1987-09-24',\n",
       "               '1989-02-07',        'NaT', '1987-07-31', '1993-01-20',\n",
       "               '1994-09-19', '1991-02-22',\n",
       "               ...\n",
       "               '2000-01-28', '1992-06-03', '1989-11-15', '1994-09-16',\n",
       "               '1983-09-15', '2002-12-09',        'NaT', '2002-03-14',\n",
       "               '2002-12-09', '2002-03-14'],\n",
       "              dtype='datetime64[ns]', length=3661, freq=None)"
      ]
     },
     "execution_count": 40,
     "metadata": {},
     "output_type": "execute_result"
    }
   ],
   "source": [
    "updated_dates"
   ]
  },
  {
   "cell_type": "code",
   "execution_count": 41,
   "id": "98a7f9c2-b326-4265-9f4b-237f5a013576",
   "metadata": {},
   "outputs": [],
   "source": [
    "table_info = pd.DataFrame( data=dict(\n",
    "    table_names=table_names,\n",
    "    table_vers=table_vers,\n",
    "    created_dates=created_dates,\n",
    "    updated_dates= updated_dates\n",
    "))"
   ]
  },
  {
   "cell_type": "code",
   "execution_count": 42,
   "id": "7d0e455e-d87b-4f5a-bd7f-b2d1093ec090",
   "metadata": {},
   "outputs": [
    {
     "data": {
      "text/html": [
       "<div>\n",
       "<style scoped>\n",
       "    .dataframe tbody tr th:only-of-type {\n",
       "        vertical-align: middle;\n",
       "    }\n",
       "\n",
       "    .dataframe tbody tr th {\n",
       "        vertical-align: top;\n",
       "    }\n",
       "\n",
       "    .dataframe thead th {\n",
       "        text-align: right;\n",
       "    }\n",
       "</style>\n",
       "<table border=\"1\" class=\"dataframe\">\n",
       "  <thead>\n",
       "    <tr style=\"text-align: right;\">\n",
       "      <th></th>\n",
       "      <th>table_names</th>\n",
       "      <th>table_vers</th>\n",
       "      <th>created_dates</th>\n",
       "      <th>updated_dates</th>\n",
       "    </tr>\n",
       "  </thead>\n",
       "  <tbody>\n",
       "    <tr>\n",
       "      <th>0</th>\n",
       "      <td>ABSDOMN</td>\n",
       "      <td>1</td>\n",
       "      <td>1987-09-29</td>\n",
       "      <td>1987-10-15</td>\n",
       "    </tr>\n",
       "    <tr>\n",
       "      <th>1</th>\n",
       "      <td>ACCRLINK</td>\n",
       "      <td>1</td>\n",
       "      <td>1984-02-21</td>\n",
       "      <td>1998-03-09</td>\n",
       "    </tr>\n",
       "    <tr>\n",
       "      <th>2</th>\n",
       "      <td>ACCRLINK</td>\n",
       "      <td>2</td>\n",
       "      <td>1998-05-15</td>\n",
       "      <td>1998-05-15</td>\n",
       "    </tr>\n",
       "    <tr>\n",
       "      <th>3</th>\n",
       "      <td>ACCT</td>\n",
       "      <td>1</td>\n",
       "      <td>1987-09-21</td>\n",
       "      <td>1987-09-24</td>\n",
       "    </tr>\n",
       "    <tr>\n",
       "      <th>4</th>\n",
       "      <td>ACCTG-CNTL</td>\n",
       "      <td>1</td>\n",
       "      <td>1987-05-26</td>\n",
       "      <td>1989-02-07</td>\n",
       "    </tr>\n",
       "    <tr>\n",
       "      <th>5</th>\n",
       "      <td>ACH-RCRD</td>\n",
       "      <td>1</td>\n",
       "      <td>1984-06-22</td>\n",
       "      <td>NaT</td>\n",
       "    </tr>\n",
       "    <tr>\n",
       "      <th>6</th>\n",
       "      <td>ACQD-PROP-MAP-RCRD</td>\n",
       "      <td>1</td>\n",
       "      <td>1987-06-30</td>\n",
       "      <td>1987-07-31</td>\n",
       "    </tr>\n",
       "    <tr>\n",
       "      <th>7</th>\n",
       "      <td>ACQD-PROP-QUEUE-RCRD</td>\n",
       "      <td>1</td>\n",
       "      <td>1987-06-30</td>\n",
       "      <td>1993-01-20</td>\n",
       "    </tr>\n",
       "    <tr>\n",
       "      <th>8</th>\n",
       "      <td>ACQD-PROP-SALES-RCRD</td>\n",
       "      <td>1</td>\n",
       "      <td>1994-09-01</td>\n",
       "      <td>1994-09-19</td>\n",
       "    </tr>\n",
       "    <tr>\n",
       "      <th>9</th>\n",
       "      <td>ACQD-PROP-SOLD</td>\n",
       "      <td>1</td>\n",
       "      <td>1989-04-26</td>\n",
       "      <td>1991-02-22</td>\n",
       "    </tr>\n",
       "    <tr>\n",
       "      <th>10</th>\n",
       "      <td>ACQPHIST</td>\n",
       "      <td>3</td>\n",
       "      <td>1992-08-20</td>\n",
       "      <td>1992-08-27</td>\n",
       "    </tr>\n",
       "    <tr>\n",
       "      <th>11</th>\n",
       "      <td>ACQPHIST</td>\n",
       "      <td>4</td>\n",
       "      <td>1993-01-12</td>\n",
       "      <td>1993-01-12</td>\n",
       "    </tr>\n",
       "    <tr>\n",
       "      <th>12</th>\n",
       "      <td>ACQPRO-RCRD</td>\n",
       "      <td>1</td>\n",
       "      <td>1983-03-05</td>\n",
       "      <td>1983-06-08</td>\n",
       "    </tr>\n",
       "    <tr>\n",
       "      <th>13</th>\n",
       "      <td>ACQPROP</td>\n",
       "      <td>3</td>\n",
       "      <td>1992-08-20</td>\n",
       "      <td>1992-08-27</td>\n",
       "    </tr>\n",
       "    <tr>\n",
       "      <th>14</th>\n",
       "      <td>ACQPROP</td>\n",
       "      <td>4</td>\n",
       "      <td>1993-01-13</td>\n",
       "      <td>1993-01-13</td>\n",
       "    </tr>\n",
       "    <tr>\n",
       "      <th>15</th>\n",
       "      <td>ACTL-TRADE-CST-TRNSCTN-RCRD</td>\n",
       "      <td>1</td>\n",
       "      <td>1993-01-30</td>\n",
       "      <td>1993-04-27</td>\n",
       "    </tr>\n",
       "    <tr>\n",
       "      <th>16</th>\n",
       "      <td>ADBS-WORK-RECORD</td>\n",
       "      <td>1</td>\n",
       "      <td>1983-12-01</td>\n",
       "      <td>NaT</td>\n",
       "    </tr>\n",
       "    <tr>\n",
       "      <th>17</th>\n",
       "      <td>ADD-SAVE-SYNTX-R</td>\n",
       "      <td>1</td>\n",
       "      <td>1983-09-27</td>\n",
       "      <td>NaT</td>\n",
       "    </tr>\n",
       "    <tr>\n",
       "      <th>18</th>\n",
       "      <td>ADJMT-HIST-RCRD</td>\n",
       "      <td>1</td>\n",
       "      <td>1986-11-03</td>\n",
       "      <td>1993-05-12</td>\n",
       "    </tr>\n",
       "    <tr>\n",
       "      <th>19</th>\n",
       "      <td>ADM-ADJMT-AC-TRNSCTN-RCRD</td>\n",
       "      <td>1</td>\n",
       "      <td>1984-10-03</td>\n",
       "      <td>1988-07-27</td>\n",
       "    </tr>\n",
       "  </tbody>\n",
       "</table>\n",
       "</div>"
      ],
      "text/plain": [
       "                    table_names table_vers created_dates updated_dates\n",
       "0                       ABSDOMN          1    1987-09-29    1987-10-15\n",
       "1                      ACCRLINK          1    1984-02-21    1998-03-09\n",
       "2                      ACCRLINK          2    1998-05-15    1998-05-15\n",
       "3                          ACCT          1    1987-09-21    1987-09-24\n",
       "4                    ACCTG-CNTL          1    1987-05-26    1989-02-07\n",
       "5                      ACH-RCRD          1    1984-06-22           NaT\n",
       "6            ACQD-PROP-MAP-RCRD          1    1987-06-30    1987-07-31\n",
       "7          ACQD-PROP-QUEUE-RCRD          1    1987-06-30    1993-01-20\n",
       "8          ACQD-PROP-SALES-RCRD          1    1994-09-01    1994-09-19\n",
       "9                ACQD-PROP-SOLD          1    1989-04-26    1991-02-22\n",
       "10                     ACQPHIST          3    1992-08-20    1992-08-27\n",
       "11                     ACQPHIST          4    1993-01-12    1993-01-12\n",
       "12                  ACQPRO-RCRD          1    1983-03-05    1983-06-08\n",
       "13                      ACQPROP          3    1992-08-20    1992-08-27\n",
       "14                      ACQPROP          4    1993-01-13    1993-01-13\n",
       "15  ACTL-TRADE-CST-TRNSCTN-RCRD          1    1993-01-30    1993-04-27\n",
       "16             ADBS-WORK-RECORD          1    1983-12-01           NaT\n",
       "17             ADD-SAVE-SYNTX-R          1    1983-09-27           NaT\n",
       "18              ADJMT-HIST-RCRD          1    1986-11-03    1993-05-12\n",
       "19    ADM-ADJMT-AC-TRNSCTN-RCRD          1    1984-10-03    1988-07-27"
      ]
     },
     "execution_count": 42,
     "metadata": {},
     "output_type": "execute_result"
    }
   ],
   "source": [
    "table_info.head(20)"
   ]
  },
  {
   "cell_type": "markdown",
   "id": "62529e43-a4e6-4eb9-8eec-d78cc5a29c99",
   "metadata": {},
   "source": [
    "# 5's are for metadata"
   ]
  },
  {
   "cell_type": "code",
   "execution_count": 43,
   "id": "9e95a4c7-754e-426b-b957-f9c4f1511905",
   "metadata": {},
   "outputs": [
    {
     "data": {
      "text/plain": [
       "['     PREPARED BY          AWMC11',\n",
       " '     REVISED BY           AWMC11',\n",
       " '     DESCRIPTION          USER DOMAIN',\n",
       " '     RECORD               ABSDOMN                                  VER     1 D  SUFFIX -4541',\n",
       " '     PREPARED BY          AA-KGM',\n",
       " '     REVISED BY           ASL034',\n",
       " '     DESCRIPTION          ACCRUAL LINK RECORD',\n",
       " '     RFA-ID               H-3973',\n",
       " '     RFA-ID               H-3581A',\n",
       " '     DEFINITION',\n",
       " '     RECORD               ACCRLINK                                 VER     1 D  PREFIX W019-',\n",
       " '     PREPARED BY          ASL70M',\n",
       " '     REVISED BY           ASL70M',\n",
       " '     DESCRIPTION          ACCRUAL LINK RECORD',\n",
       " '     RFA-ID               H-3973',\n",
       " '     RFA-ID               H-3581A',\n",
       " '     SAME AS              ACCRLINK                                 VER     1',\n",
       " '     DEFINITION',\n",
       " '     RECORD               ACCRLINK                                 VER     2 D  PREFIX W019-',\n",
       " '     PREPARED BY          ASL052']"
      ]
     },
     "execution_count": 43,
     "metadata": {},
     "output_type": "execute_result"
    }
   ],
   "source": [
    "text_clumps[5][:20]"
   ]
  },
  {
   "cell_type": "code",
   "execution_count": 44,
   "id": "bd7d3bc3-5cc7-405e-9de6-bf56fb53af06",
   "metadata": {},
   "outputs": [],
   "source": [
    "p = re.compile( r'     (\\S+)' )"
   ]
  },
  {
   "cell_type": "code",
   "execution_count": 45,
   "id": "f8d9ff52-b609-4301-ae02-eb086df48b67",
   "metadata": {},
   "outputs": [
    {
     "data": {
      "text/plain": [
       "Counter({'PREPARED': 3629,\n",
       "         'REVISED': 3032,\n",
       "         'DESCRIPTION': 3176,\n",
       "         'RECORD': 4126,\n",
       "         'RFA-ID': 729,\n",
       "         'DEFINITION': 1166,\n",
       "         'SAME': 573,\n",
       "         'IN': 1737,\n",
       "         'COMMENT': 203,\n",
       "         'PURPOSE': 63,\n",
       "         'PRIMARY': 27,\n",
       "         'FMHA-TRANS': 19,\n",
       "         'LANGUAGE': 44,\n",
       "         'SUB-SYSTEM': 2,\n",
       "         'MODE': 39,\n",
       "         'EGEN': 1,\n",
       "         'USER': 1,\n",
       "         'MEDIUM': 1,\n",
       "         'FREQUENCY': 1})"
      ]
     },
     "execution_count": 45,
     "metadata": {},
     "output_type": "execute_result"
    }
   ],
   "source": [
    "Counter( [ p.match( _ ).groups(1)[0] for _ in text_clumps[5] ] )"
   ]
  },
  {
   "cell_type": "code",
   "execution_count": 46,
   "id": "b86f362b-0cb6-437d-b2e7-b0accd0a6ad2",
   "metadata": {},
   "outputs": [],
   "source": [
    "p = re.compile( r'^ (\\S+)\\s+VER\\s+(\\d+).*?DESCRIPTION\\s+(.*?)$', flags=re.DOTALL | re.MULTILINE ) "
   ]
  },
  {
   "cell_type": "code",
   "execution_count": 47,
   "id": "20da797b-007e-4e28-a8ee-4641df4d1adb",
   "metadata": {},
   "outputs": [],
   "source": [
    "desc_table_names, desc_table_vers, desc_descs = zip( *p.findall( removed_headers ) )"
   ]
  },
  {
   "cell_type": "code",
   "execution_count": 48,
   "id": "1d5fbcce-13b9-4ee6-964a-438824d6a61c",
   "metadata": {},
   "outputs": [
    {
     "data": {
      "text/plain": [
       "3184"
      ]
     },
     "execution_count": 48,
     "metadata": {},
     "output_type": "execute_result"
    }
   ],
   "source": [
    "len( desc_table_names )"
   ]
  },
  {
   "cell_type": "code",
   "execution_count": 49,
   "id": "2de822c4-95d2-45e7-8959-95b87be3b2fa",
   "metadata": {},
   "outputs": [
    {
     "data": {
      "text/plain": [
       "3184"
      ]
     },
     "execution_count": 49,
     "metadata": {},
     "output_type": "execute_result"
    }
   ],
   "source": [
    "len( desc_table_vers )"
   ]
  },
  {
   "cell_type": "code",
   "execution_count": 50,
   "id": "62f919ab-b17c-4e51-adf2-5aeb7c093fb5",
   "metadata": {},
   "outputs": [
    {
     "data": {
      "text/plain": [
       "3184"
      ]
     },
     "execution_count": 50,
     "metadata": {},
     "output_type": "execute_result"
    }
   ],
   "source": [
    "len( desc_table_names) "
   ]
  },
  {
   "cell_type": "code",
   "execution_count": 51,
   "id": "401ab294-5cc8-4796-b98c-504c5cf58eaf",
   "metadata": {},
   "outputs": [],
   "source": [
    "descs = pd.DataFrame( dict(\n",
    "    table_names = desc_table_names,\n",
    "    table_vers = desc_table_vers,\n",
    "    descriptions = desc_descs ))"
   ]
  },
  {
   "cell_type": "code",
   "execution_count": 52,
   "id": "b2f6eacf-cbf7-47e8-b82b-110e86e20f21",
   "metadata": {},
   "outputs": [
    {
     "data": {
      "text/plain": [
       "(3661, 4)"
      ]
     },
     "execution_count": 52,
     "metadata": {},
     "output_type": "execute_result"
    }
   ],
   "source": [
    "table_info.shape"
   ]
  },
  {
   "cell_type": "code",
   "execution_count": 53,
   "id": "a7ea6f0c-a3de-4859-af63-96f523dcce5c",
   "metadata": {},
   "outputs": [
    {
     "data": {
      "text/plain": [
       "(3184, 3)"
      ]
     },
     "execution_count": 53,
     "metadata": {},
     "output_type": "execute_result"
    }
   ],
   "source": [
    "descs.shape"
   ]
  },
  {
   "cell_type": "code",
   "execution_count": 54,
   "id": "adb7985d-d1cb-4741-9db2-2afba069b1e0",
   "metadata": {},
   "outputs": [],
   "source": [
    "merged_table_info = table_info.merge( descs, on=['table_names', \"table_vers\"], how='left' )"
   ]
  },
  {
   "cell_type": "code",
   "execution_count": 55,
   "id": "a00e85f1-1760-46df-8bd7-89b80c32e57f",
   "metadata": {},
   "outputs": [
    {
     "data": {
      "text/html": [
       "<div>\n",
       "<style scoped>\n",
       "    .dataframe tbody tr th:only-of-type {\n",
       "        vertical-align: middle;\n",
       "    }\n",
       "\n",
       "    .dataframe tbody tr th {\n",
       "        vertical-align: top;\n",
       "    }\n",
       "\n",
       "    .dataframe thead th {\n",
       "        text-align: right;\n",
       "    }\n",
       "</style>\n",
       "<table border=\"1\" class=\"dataframe\">\n",
       "  <thead>\n",
       "    <tr style=\"text-align: right;\">\n",
       "      <th></th>\n",
       "      <th>table_names</th>\n",
       "      <th>table_vers</th>\n",
       "      <th>created_dates</th>\n",
       "      <th>updated_dates</th>\n",
       "      <th>descriptions</th>\n",
       "    </tr>\n",
       "  </thead>\n",
       "  <tbody>\n",
       "    <tr>\n",
       "      <th>0</th>\n",
       "      <td>ABSDOMN</td>\n",
       "      <td>1</td>\n",
       "      <td>1987-09-29</td>\n",
       "      <td>1987-10-15</td>\n",
       "      <td>USER DOMAIN</td>\n",
       "    </tr>\n",
       "    <tr>\n",
       "      <th>1</th>\n",
       "      <td>ACCRLINK</td>\n",
       "      <td>1</td>\n",
       "      <td>1984-02-21</td>\n",
       "      <td>1998-03-09</td>\n",
       "      <td>ACCRUAL LINK RECORD</td>\n",
       "    </tr>\n",
       "    <tr>\n",
       "      <th>2</th>\n",
       "      <td>ACCRLINK</td>\n",
       "      <td>2</td>\n",
       "      <td>1998-05-15</td>\n",
       "      <td>1998-05-15</td>\n",
       "      <td>ACCRUAL LINK RECORD</td>\n",
       "    </tr>\n",
       "    <tr>\n",
       "      <th>3</th>\n",
       "      <td>ACCT</td>\n",
       "      <td>1</td>\n",
       "      <td>1987-09-21</td>\n",
       "      <td>1987-09-24</td>\n",
       "      <td>DFIS ACCOUNT</td>\n",
       "    </tr>\n",
       "    <tr>\n",
       "      <th>4</th>\n",
       "      <td>ACCTG-CNTL</td>\n",
       "      <td>1</td>\n",
       "      <td>1987-05-26</td>\n",
       "      <td>1989-02-07</td>\n",
       "      <td>ACCOUNTING MONTH ACTIVITY TOTALS</td>\n",
       "    </tr>\n",
       "    <tr>\n",
       "      <th>...</th>\n",
       "      <td>...</td>\n",
       "      <td>...</td>\n",
       "      <td>...</td>\n",
       "      <td>...</td>\n",
       "      <td>...</td>\n",
       "    </tr>\n",
       "    <tr>\n",
       "      <th>3656</th>\n",
       "      <td>502-REPT-DTL-RCRD</td>\n",
       "      <td>1</td>\n",
       "      <td>1984-06-28</td>\n",
       "      <td>2002-12-09</td>\n",
       "      <td>COPY MODULE FOR 502-REPORT</td>\n",
       "    </tr>\n",
       "    <tr>\n",
       "      <th>3657</th>\n",
       "      <td>502-REPT-DTL-RCRD</td>\n",
       "      <td>2</td>\n",
       "      <td>2003-06-13</td>\n",
       "      <td>NaT</td>\n",
       "      <td>COPY MODULE FOR 502-REPORT</td>\n",
       "    </tr>\n",
       "    <tr>\n",
       "      <th>3658</th>\n",
       "      <td>502-REPT-DTL-RCRD</td>\n",
       "      <td>4</td>\n",
       "      <td>2002-03-12</td>\n",
       "      <td>2002-03-14</td>\n",
       "      <td>COPY MODULE FOR 502-REPORT</td>\n",
       "    </tr>\n",
       "    <tr>\n",
       "      <th>3659</th>\n",
       "      <td>502-TEMP-DTL-RCRD</td>\n",
       "      <td>1</td>\n",
       "      <td>1989-01-30</td>\n",
       "      <td>2002-12-09</td>\n",
       "      <td>WORK RECORD FOR 502 REPORT</td>\n",
       "    </tr>\n",
       "    <tr>\n",
       "      <th>3660</th>\n",
       "      <td>502-TEMP-DTL-RCRD</td>\n",
       "      <td>4</td>\n",
       "      <td>2002-03-12</td>\n",
       "      <td>2002-03-14</td>\n",
       "      <td>WORK RECORD FOR 502 REPORT</td>\n",
       "    </tr>\n",
       "  </tbody>\n",
       "</table>\n",
       "<p>3661 rows × 5 columns</p>\n",
       "</div>"
      ],
      "text/plain": [
       "            table_names table_vers created_dates updated_dates  \\\n",
       "0               ABSDOMN          1    1987-09-29    1987-10-15   \n",
       "1              ACCRLINK          1    1984-02-21    1998-03-09   \n",
       "2              ACCRLINK          2    1998-05-15    1998-05-15   \n",
       "3                  ACCT          1    1987-09-21    1987-09-24   \n",
       "4            ACCTG-CNTL          1    1987-05-26    1989-02-07   \n",
       "...                 ...        ...           ...           ...   \n",
       "3656  502-REPT-DTL-RCRD          1    1984-06-28    2002-12-09   \n",
       "3657  502-REPT-DTL-RCRD          2    2003-06-13           NaT   \n",
       "3658  502-REPT-DTL-RCRD          4    2002-03-12    2002-03-14   \n",
       "3659  502-TEMP-DTL-RCRD          1    1989-01-30    2002-12-09   \n",
       "3660  502-TEMP-DTL-RCRD          4    2002-03-12    2002-03-14   \n",
       "\n",
       "                          descriptions  \n",
       "0                          USER DOMAIN  \n",
       "1                  ACCRUAL LINK RECORD  \n",
       "2                  ACCRUAL LINK RECORD  \n",
       "3                         DFIS ACCOUNT  \n",
       "4     ACCOUNTING MONTH ACTIVITY TOTALS  \n",
       "...                                ...  \n",
       "3656        COPY MODULE FOR 502-REPORT  \n",
       "3657        COPY MODULE FOR 502-REPORT  \n",
       "3658        COPY MODULE FOR 502-REPORT  \n",
       "3659        WORK RECORD FOR 502 REPORT  \n",
       "3660        WORK RECORD FOR 502 REPORT  \n",
       "\n",
       "[3661 rows x 5 columns]"
      ]
     },
     "execution_count": 55,
     "metadata": {},
     "output_type": "execute_result"
    }
   ],
   "source": [
    "merged_table_info"
   ]
  },
  {
   "cell_type": "markdown",
   "id": "efa931ea-050d-44f0-817b-5de58256b261",
   "metadata": {},
   "source": [
    "# 9's indicate \"COPIED IN PROGRAM\", \"FILE\", AND \"SUBSCHEMA\""
   ]
  },
  {
   "cell_type": "code",
   "execution_count": 56,
   "id": "67817a9e-6011-4109-9a35-4926ebc95b38",
   "metadata": {},
   "outputs": [
    {
     "data": {
      "text/plain": [
       "['         SUBSCHEMA            SSPMF03M  OF SCHEMA SCMMF01M             VER     1',\n",
       " '         SUBSCHEMA            SSPMF03P  OF SCHEMA SCMMF01P             VER     1',\n",
       " '         SUBSCHEMA            XSSPMF03  OF SCHEMA XSCMMF01             VER     1',\n",
       " '         COPIED IN PROGRAM    SBMDD010                                 VER     1',\n",
       " '         COPIED IN PROGRAM    SCMDD021                                 VER     1',\n",
       " '         COPIED IN PROGRAM    SBDLD142                                 VER     1',\n",
       " '         COPIED IN PROGRAM    SDDLD355                                 VER     5',\n",
       " '         COPIED IN PROGRAM    SDDLD355                                 VER     3',\n",
       " '         COPIED IN PROGRAM    SBDLD101                                 VER     6',\n",
       " '         COPIED IN PROGRAM    SDDLD355                                 VER     1',\n",
       " '         COPIED IN PROGRAM    SBDLD101                                 VER     4',\n",
       " '         COPIED IN PROGRAM    SDDLD355                                 VER     4',\n",
       " '         COPIED IN PROGRAM    SBDLD101                                 VER     1',\n",
       " '         COPIED IN PROGRAM    SBDLD101                                 VER    10',\n",
       " '         COPIED IN PROGRAM    SBDLD142                                 VER     4',\n",
       " '         COPIED IN PROGRAM    SBDLD101                                 VER     5',\n",
       " '         COPIED IN PROGRAM    SDDLD355                                 VER     5',\n",
       " '         COPIED IN PROGRAM    SDDLD355                                 VER     3',\n",
       " '         COPIED IN PROGRAM    SDDLD355                                 VER     1',\n",
       " '         COPIED IN PROGRAM    SDDLD355                                 VER     4']"
      ]
     },
     "execution_count": 56,
     "metadata": {},
     "output_type": "execute_result"
    }
   ],
   "source": [
    "#text_clumps[9][-200:]\n",
    "text_clumps[9][-20:]"
   ]
  },
  {
   "cell_type": "markdown",
   "id": "6c38b16e-266d-42f4-96c7-8fecc5fe8fb5",
   "metadata": {},
   "source": [
    "# 10's through 12's are data elements"
   ]
  },
  {
   "cell_type": "code",
   "execution_count": 57,
   "id": "f23dd3cb-24f9-497a-b96f-3395817c0d8b",
   "metadata": {},
   "outputs": [
    {
     "data": {
      "text/plain": [
       "['          14500   05 DTE-LST-CNCLTN-RDA                       9(6)                             DISPLAY',\n",
       " '          14600   05 PRIN-INSTLMT-BOND-ACCTS-RDA              S9(7)V99                         COMP-3',\n",
       " '          14700   05 INSTLMT-OC-DATA-320-RDA                                                   DISPLAY',\n",
       " '          14800    10 DTE-INSTLMT-DUE-320-RDA                 9(6)                             DISPLAY',\n",
       " '          14900    10 INSTLMT-DUE-AMT-320-RDA                 S9(06)V99                        COMP-3',\n",
       " '          15000    10 INSTLMT-TYP-CDE-320-RDA                 9(1)                             DISPLAY',\n",
       " '          15100    10 MTURD-CDE-DIR-RE-320-RDA                9(1)                             DISPLAY',\n",
       " '          15200   05 RCVB-AMT-DUE-RDA                         S9(09)V99                        COMP-3',\n",
       " '          15300   05 RCVB-AMT-PD-RDA                          S9(09)V99                        COMP-3',\n",
       " '          15400   05 FILLER                                   X(0027)                          DISPLAY']"
      ]
     },
     "execution_count": 57,
     "metadata": {},
     "output_type": "execute_result"
    }
   ],
   "source": [
    "text_clumps[10][-10:]"
   ]
  },
  {
   "cell_type": "code",
   "execution_count": 58,
   "id": "5d966816-9328-4376-acdc-9621f3a9bbb5",
   "metadata": {},
   "outputs": [
    {
     "data": {
      "text/plain": [
       "['           4600   05 W502-RGSTR-TYP-LST-CHNG                  9(2)                             DISPLAY',\n",
       " '           4700   05 FILLER                                   X(0014)                          DISPLAY',\n",
       " '           4800   05 W502-DTE-APPRVL-OBLGN                    9(5)                             DISPLAY',\n",
       " '           4900   05 W502-ETHNCTY-TYP-CDE                     X                                DISPLAY',\n",
       " '           5000   05 W502-RACE-TYP-CDE                        X                                DISPLAY',\n",
       " '           5100   05 W502-RACE-DTRMNTN-CDE                    X                                DISPLAY',\n",
       " '           5200   05 W502-ST-CDE                              9(2)                             DISPLAY',\n",
       " '           5300   05 FILLER                                   X(0002)                          DISPLAY',\n",
       " '           5400   05 W502-CR-REPT-FEE-CDE                     9(1)                             DISPLAY',\n",
       " '           5500   05 W502-PROJ-NBR-GRP-REDFND                 9(4)                             DISPLAY']"
      ]
     },
     "execution_count": 58,
     "metadata": {},
     "output_type": "execute_result"
    }
   ],
   "source": [
    "text_clumps[11][-10:]"
   ]
  },
  {
   "cell_type": "code",
   "execution_count": 59,
   "id": "b7f96247-fd03-4a39-99bb-a165f82c8143",
   "metadata": {},
   "outputs": [
    {
     "data": {
      "text/plain": [
       "['            900    10 W502-PPB-CDE-1ST                        9                                DISPLAY',\n",
       " '            100   05 W502-RCRD-TYP                            9(2)                             DISPLAY',\n",
       " '            200   05 W502-RGSTR-TYP-CDE                       9(2)                             DISPLAY',\n",
       " '            300   05 W502-MO-OBLGN                            9(2)                             DISPLAY',\n",
       " '            400   05 W502-FY                                  9(2)                             DISPLAY',\n",
       " '            500   05 W502-APROPTN-MAJ-CLS-CDE                                                  DISPLAY',\n",
       " '            600    10 W502-APROPTN-CDE                        9(2)                             DISPLAY',\n",
       " '            700    10 W502-MAJ-CLS                            9(2)                             DISPLAY',\n",
       " '            800   05 W502-PROG-PLANG-BDGTG-CDE                                                 DISPLAY',\n",
       " '            900    10 W502-PPB-CDE-1ST                        9                                DISPLAY']"
      ]
     },
     "execution_count": 59,
     "metadata": {},
     "output_type": "execute_result"
    }
   ],
   "source": [
    "text_clumps[12][-10:]"
   ]
  },
  {
   "cell_type": "code",
   "execution_count": 60,
   "id": "a0f394fe-c003-4b28-b262-bc0467ab19a4",
   "metadata": {},
   "outputs": [],
   "source": [
    "all_data_elements = [ *text_clumps[10], *text_clumps[11], *text_clumps[12] ]"
   ]
  },
  {
   "cell_type": "code",
   "execution_count": 61,
   "id": "aa6b2a95-063a-4259-bce3-18f1380a982a",
   "metadata": {},
   "outputs": [
    {
     "data": {
      "text/plain": [
       "101435"
      ]
     },
     "execution_count": 61,
     "metadata": {},
     "output_type": "execute_result"
    }
   ],
   "source": [
    "len( all_data_elements )"
   ]
  },
  {
   "cell_type": "markdown",
   "id": "4d51b670-f1e6-4556-aaa0-63839917932f",
   "metadata": {},
   "source": [
    "# 13's are data elements as well as descriptions"
   ]
  },
  {
   "cell_type": "code",
   "execution_count": 62,
   "id": "f70364bc-3e99-4ece-94f5-ac0a2ceca70e",
   "metadata": {},
   "outputs": [
    {
     "data": {
      "text/plain": [
       "63"
      ]
     },
     "execution_count": 62,
     "metadata": {},
     "output_type": "execute_result"
    }
   ],
   "source": [
    "len(text_clumps[13])"
   ]
  },
  {
   "cell_type": "code",
   "execution_count": 63,
   "id": "b297a0e1-da41-4016-83b3-784e1d76135f",
   "metadata": {},
   "outputs": [
    {
     "data": {
      "text/plain": [
       "['             10   05 TRNSCTN-CDE-UPDTE                        X(2)                             DISPLAY',\n",
       " '             20   05 CASE-NBR                                 X(15)                            DISPLAY',\n",
       " '             30   05 OK-TO-PROC-CDE                           X(1)                             DISPLAY',\n",
       " '             40   05 FD-CDE-2                                 X(2)                             DISPLAY',\n",
       " '             50   05 LN-TYP-ABBR                              X(2)                             DISPLAY',\n",
       " '             60   05 LN-NBR                                   X(2)                             DISPLAY',\n",
       " '             70   05 COLLCTN-TYP-CDE-MISC                     X(2)                             DISPLAY',\n",
       " '             80   05 FILLER                                   X(0005)                          DISPLAY',\n",
       " '             90   05 PYMT-AMT                                 X(7)                             DISPLAY',\n",
       " '             1000 INT-RATE-CTGRY IS  05  WHEN 04 <= INT-RATE-SBSZD <  05',\n",
       " '             1100 INT-RATE-CTGRY IS  06  WHEN 05 <= INT-RATE-SBSZD <  06',\n",
       " '             1200 INT-RATE-CTGRY IS  07  WHEN 06 <= INT-RATE-SBSZD <  07',\n",
       " '             1300 INT-RATE-CTGRY IS  08  WHEN 07 <= INT-RATE-SBSZD <  08',\n",
       " '             1400 INT-RATE-CTGRY IS  09  WHEN 08 <= INT-RATE-SBSZD <  09',\n",
       " '             1500 INT-RATE-CTGRY IS  10  WHEN 09 <= INT-RATE-SBSZD <  10',\n",
       " '             1600 INT-RATE-CTGRY IS  11  WHEN 10 <= INT-RATE-SBSZD <  11',\n",
       " '             1700 INT-RATE-CTGRY IS  12  WHEN 11 <= INT-RATE-SBSZD <  12',\n",
       " '             1800 INT-RATE-CTGRY IS  13  WHEN 12 <= INT-RATE-SBSZD <  13',\n",
       " '             1900 INT-RATE-CTGRY IS  14  WHEN 13 <= INT-RATE-SBSZD <  14',\n",
       " '             2000 INT-RATE-CTGRY IS  15  WHEN 14 <= INT-RATE-SBSZD <  15']"
      ]
     },
     "execution_count": 63,
     "metadata": {},
     "output_type": "execute_result"
    }
   ],
   "source": [
    "text_clumps[13][:20]"
   ]
  },
  {
   "cell_type": "code",
   "execution_count": 64,
   "id": "759df383-8397-4e23-9c03-0cc935c3fa26",
   "metadata": {},
   "outputs": [],
   "source": [
    "data_elements_13 = [ _ for _ in text_clumps[13] if _[16] == ' ' ]"
   ]
  },
  {
   "cell_type": "code",
   "execution_count": 65,
   "id": "8f6e3aa3-8b47-4c50-a25d-11c7a953b639",
   "metadata": {},
   "outputs": [
    {
     "data": {
      "text/plain": [
       "9"
      ]
     },
     "execution_count": 65,
     "metadata": {},
     "output_type": "execute_result"
    }
   ],
   "source": [
    "len( data_elements_13 )"
   ]
  },
  {
   "cell_type": "code",
   "execution_count": 66,
   "id": "e2bd2cbb-6330-4119-8f33-98c964e3e39d",
   "metadata": {},
   "outputs": [
    {
     "data": {
      "text/plain": [
       "['             10   05 TRNSCTN-CDE-UPDTE                        X(2)                             DISPLAY',\n",
       " '             20   05 CASE-NBR                                 X(15)                            DISPLAY',\n",
       " '             30   05 OK-TO-PROC-CDE                           X(1)                             DISPLAY',\n",
       " '             40   05 FD-CDE-2                                 X(2)                             DISPLAY',\n",
       " '             50   05 LN-TYP-ABBR                              X(2)                             DISPLAY',\n",
       " '             60   05 LN-NBR                                   X(2)                             DISPLAY',\n",
       " '             70   05 COLLCTN-TYP-CDE-MISC                     X(2)                             DISPLAY',\n",
       " '             80   05 FILLER                                   X(0005)                          DISPLAY',\n",
       " '             90   05 PYMT-AMT                                 X(7)                             DISPLAY']"
      ]
     },
     "execution_count": 66,
     "metadata": {},
     "output_type": "execute_result"
    }
   ],
   "source": [
    "data_elements_13"
   ]
  },
  {
   "cell_type": "code",
   "execution_count": 67,
   "id": "f72e58ff-7841-40ab-8cc3-f4bc210954f0",
   "metadata": {},
   "outputs": [],
   "source": [
    "all_data_elements.extend( data_elements_13 )"
   ]
  },
  {
   "cell_type": "code",
   "execution_count": 68,
   "id": "cfd8fc57-58b0-4adf-a1ab-e1c87ac1b403",
   "metadata": {},
   "outputs": [
    {
     "data": {
      "text/plain": [
       "101444"
      ]
     },
     "execution_count": 68,
     "metadata": {},
     "output_type": "execute_result"
    }
   ],
   "source": [
    "len( all_data_elements )"
   ]
  },
  {
   "cell_type": "code",
   "execution_count": 69,
   "id": "70ce8ef3-5e96-4404-af77-bc5c18cce85e",
   "metadata": {},
   "outputs": [],
   "source": [
    "p = re.compile( r'^\\s+(\\d+)\\s+(\\d+) (\\S+)' )#\\s+(\\S+)?\\s+(\\S)$' )\n",
    "#p = re.compile( r'^\\s+(\\d+)\\s+(\\d+) (\\S+)\\s+(\\S+)?\\s+(\\S)$' )"
   ]
  },
  {
   "cell_type": "code",
   "execution_count": 70,
   "id": "63155f8d-747e-458f-8c2f-a584f0b60d55",
   "metadata": {},
   "outputs": [
    {
     "data": {
      "text/plain": [
       "('10000', '05', 'AW-U-YR')"
      ]
     },
     "execution_count": 70,
     "metadata": {},
     "output_type": "execute_result"
    }
   ],
   "source": [
    "p.match( all_data_elements[0] ).groups()"
   ]
  },
  {
   "cell_type": "code",
   "execution_count": 71,
   "id": "90cbbe62-a09d-4663-b205-eba2f39dc576",
   "metadata": {},
   "outputs": [],
   "source": [
    "data_steps, indent, element_name = zip( *[ p.match( _ ).groups() for _ in all_data_elements ] )"
   ]
  },
  {
   "cell_type": "code",
   "execution_count": 72,
   "id": "2445aafa-a6ed-4e84-9640-178b7e52c79b",
   "metadata": {},
   "outputs": [
    {
     "data": {
      "text/plain": [
       "101444"
      ]
     },
     "execution_count": 72,
     "metadata": {},
     "output_type": "execute_result"
    }
   ],
   "source": [
    "len( data_steps)"
   ]
  },
  {
   "cell_type": "code",
   "execution_count": 73,
   "id": "f894be04-8f36-463c-9c4e-b92df9928560",
   "metadata": {},
   "outputs": [
    {
     "data": {
      "text/plain": [
       "95"
      ]
     },
     "execution_count": 73,
     "metadata": {},
     "output_type": "execute_result"
    }
   ],
   "source": [
    "'          10000   05 AW-U-YR                                  99                               DISPLAY'.index( 'DISPLAY' )"
   ]
  },
  {
   "cell_type": "code",
   "execution_count": 74,
   "id": "8bd233d5-f529-4d1d-907d-580a50f128c9",
   "metadata": {},
   "outputs": [],
   "source": [
    "p = re.compile( r'(\\S+)' )"
   ]
  },
  {
   "cell_type": "code",
   "execution_count": 75,
   "id": "c2adac5b-6f77-4703-b90b-9ff9b303c5bb",
   "metadata": {},
   "outputs": [],
   "source": [
    "#pd.DataFrame(  ).to_csv( '2022-10-17_IDMS_COBOL_datatypes.csv ' )"
   ]
  },
  {
   "cell_type": "code",
   "execution_count": 76,
   "id": "96c5c57a-eee4-45c9-90a6-0c21e00ce1e9",
   "metadata": {},
   "outputs": [],
   "source": [
    "unique_data_types = set( [ p.match( _[62:95] ).groups()[0] for _ in all_data_elements if p.match( _[62:95] ) ] )"
   ]
  },
  {
   "cell_type": "code",
   "execution_count": 77,
   "id": "ed85ee3a-258c-4e9a-94a5-c6e37a1afa03",
   "metadata": {},
   "outputs": [],
   "source": [
    "unique_data_types = sorted( list( unique_data_types ), key=lambda t: ( len(t), t ) )"
   ]
  },
  {
   "cell_type": "code",
   "execution_count": 78,
   "id": "ba62b315-5d1f-4944-be26-ba8faa2fcf19",
   "metadata": {},
   "outputs": [
    {
     "data": {
      "text/plain": [
       "5115"
      ]
     },
     "execution_count": 78,
     "metadata": {},
     "output_type": "execute_result"
    }
   ],
   "source": [
    "Path( '2022-10-17_IDMS_COBOL_datatypes.txt' ).write_text( '\\n'.join( unique_data_types ) )"
   ]
  },
  {
   "cell_type": "markdown",
   "id": "db9ac61a-a40e-4bb0-b207-89a75268e7ad",
   "metadata": {},
   "source": [
    "# 14's are DEFINITION and COMMENTs only"
   ]
  },
  {
   "cell_type": "code",
   "execution_count": 79,
   "id": "ad068105-b4f6-47cb-9430-297c90ad4782",
   "metadata": {},
   "outputs": [
    {
     "data": {
      "text/plain": [
       "['              100 THIS RECORD IS USED TO PASS TO AND',\n",
       " '              200 FROM INFORMATION REQUIRED TO COMPLETE',\n",
       " '              300 AN ACCRUAL',\n",
       " '              100 THIS RECORD IS USED TO PASS TO AND',\n",
       " '              200 FROM INFORMATION REQUIRED TO COMPLETE',\n",
       " '              300 AN ACCRUAL',\n",
       " '              100 THE AMOUNT IN THAT DFIS ACCOUNT.',\n",
       " '              100 AT THE END OF EACH ACCOUNTING MONTH BEFORE THE',\n",
       " '              200 STATE-CNTL AND THE CYCLE-CNTL RECORDS ARE RESET',\n",
       " '              300 TO ZERO FOR THE NEXT MONTH, THE ACTIVITY CONTROL',\n",
       " '              400 TOTALS FOR THE COMPLETED MONTH WILL BE MOVED',\n",
       " '              500 INTO THIS 15 MONTH ACCTG-CNTL FILE.',\n",
       " '              100 ACQUIRED PROPERTY QUEUE RECORD',\n",
       " '              100 STANDARD RECORD DESCRIPTION FOR ACQUIRED',\n",
       " '              200 PROPERTY TAPE FILE',\n",
       " '              100 PICTURE AND USAGE FOR SOME ELEMENTS HAVE BEEN OVERRIDDEN',\n",
       " '              200 TO CREATE RECORD AS ESTABLISHED DURING CONVERSION',\n",
       " '              100 TRANSACTION RECORD USED IN AMAS TO RECORD',\n",
       " '              200 ACTUAL TRADE ITEM COST DATA FOR THE M5VA.',\n",
       " '              100 THIS RECORD CONTAINS THE SYNTAX OF \"ADD\" TO']"
      ]
     },
     "execution_count": 79,
     "metadata": {},
     "output_type": "execute_result"
    }
   ],
   "source": [
    "text_clumps[14][:20]"
   ]
  },
  {
   "cell_type": "code",
   "execution_count": 80,
   "id": "fa73063a-26c4-455d-8ab2-63ff875aa049",
   "metadata": {},
   "outputs": [],
   "source": [
    "comment_lines = df[ df['leading_space_count'] == 14 ]"
   ]
  },
  {
   "cell_type": "code",
   "execution_count": 81,
   "id": "14eb45a5-18a1-4f94-8934-0e5b17f003b9",
   "metadata": {},
   "outputs": [],
   "source": [
    "comments = comment_lines.groupby( 'table_index' ).apply( lambda group: \" \".join( _[18:] for _ in group['lines'].values  ) )"
   ]
  },
  {
   "cell_type": "code",
   "execution_count": 82,
   "id": "4d95f043-d678-4d46-95d4-d341f7cddcb4",
   "metadata": {},
   "outputs": [
    {
     "data": {
      "text/plain": [
       "'THIS RECORD IS USED TO PASS TO AND FROM INFORMATION REQUIRED TO COMPLETE AN ACCRUAL'"
      ]
     },
     "execution_count": 82,
     "metadata": {},
     "output_type": "execute_result"
    }
   ],
   "source": [
    "comments[2]"
   ]
  },
  {
   "cell_type": "code",
   "execution_count": 83,
   "id": "d8dd1c3b-4fca-4751-986e-57d09c1f236a",
   "metadata": {},
   "outputs": [
    {
     "data": {
      "text/plain": [
       "table_index\n",
       "1       THIS RECORD IS USED TO PASS TO AND FROM INFORM...\n",
       "2       THIS RECORD IS USED TO PASS TO AND FROM INFORM...\n",
       "3                        THE AMOUNT IN THAT DFIS ACCOUNT.\n",
       "4       AT THE END OF EACH ACCOUNTING MONTH BEFORE THE...\n",
       "7                          ACQUIRED PROPERTY QUEUE RECORD\n",
       "                              ...                        \n",
       "3656    CHANGED BLK-NBR TO  PROJ-CHK-DIGIT CHANGED DTE...\n",
       "3657    CHANGED BLK-NBR TO  PROJ-CHK-DIGIT CHANGED DTE...\n",
       "3658    CHANGED BLK-NBR TO  PROJ-CHK-DIGIT CHANGED DTE...\n",
       "3659    THIS RECORD IS USED FOR A WORKING STORAGE AREA...\n",
       "3660    THIS RECORD IS USED FOR A WORKING STORAGE AREA...\n",
       "Length: 1307, dtype: object"
      ]
     },
     "execution_count": 83,
     "metadata": {},
     "output_type": "execute_result"
    }
   ],
   "source": [
    "comments"
   ]
  },
  {
   "cell_type": "code",
   "execution_count": 84,
   "id": "b2d65c98-c53e-4102-8766-150acdf3c7d4",
   "metadata": {
    "scrolled": true,
    "tags": []
   },
   "outputs": [],
   "source": [
    "comments.name = 'comments'"
   ]
  },
  {
   "cell_type": "code",
   "execution_count": 85,
   "id": "bc20427a-42e9-42a1-821b-b0a634792118",
   "metadata": {},
   "outputs": [],
   "source": [
    "merged_table_info = merged_table_info.merge( comments, how='left', left_index=True, right_index=True )"
   ]
  },
  {
   "cell_type": "code",
   "execution_count": 86,
   "id": "62dc78b2-e989-4c40-a36b-14b1ddfdcb1c",
   "metadata": {},
   "outputs": [],
   "source": [
    "# Do not sort!\n",
    "merged_table_info = merged_table_info.sort_values( ['created_dates', 'table_names', 'table_vers'] )"
   ]
  },
  {
   "cell_type": "code",
   "execution_count": 87,
   "id": "6b9bc12e-59a3-4d22-baad-cc3519c4dcea",
   "metadata": {},
   "outputs": [],
   "source": [
    "merged_table_info.to_csv( '2022-10-17_IDMS_table_descriptions.csv' )"
   ]
  },
  {
   "cell_type": "code",
   "execution_count": 88,
   "id": "85d0543d-df81-4ce0-b6be-92e8638e5b8a",
   "metadata": {},
   "outputs": [
    {
     "data": {
      "text/html": [
       "<div>\n",
       "<style scoped>\n",
       "    .dataframe tbody tr th:only-of-type {\n",
       "        vertical-align: middle;\n",
       "    }\n",
       "\n",
       "    .dataframe tbody tr th {\n",
       "        vertical-align: top;\n",
       "    }\n",
       "\n",
       "    .dataframe thead th {\n",
       "        text-align: right;\n",
       "    }\n",
       "</style>\n",
       "<table border=\"1\" class=\"dataframe\">\n",
       "  <thead>\n",
       "    <tr style=\"text-align: right;\">\n",
       "      <th></th>\n",
       "      <th>table_names</th>\n",
       "      <th>table_vers</th>\n",
       "      <th>created_dates</th>\n",
       "      <th>updated_dates</th>\n",
       "      <th>descriptions</th>\n",
       "      <th>comments</th>\n",
       "    </tr>\n",
       "  </thead>\n",
       "  <tbody>\n",
       "    <tr>\n",
       "      <th>522</th>\n",
       "      <td>DB-STATISTICS</td>\n",
       "      <td>1</td>\n",
       "      <td>1981-08-25</td>\n",
       "      <td>2010-07-16</td>\n",
       "      <td>NaN</td>\n",
       "      <td>NaN</td>\n",
       "    </tr>\n",
       "    <tr>\n",
       "      <th>525</th>\n",
       "      <td>DB_STATISTICS</td>\n",
       "      <td>1</td>\n",
       "      <td>1981-08-25</td>\n",
       "      <td>2010-07-16</td>\n",
       "      <td>WORK RECORD FOR DBMG06 MAP</td>\n",
       "      <td>NaN</td>\n",
       "    </tr>\n",
       "    <tr>\n",
       "      <th>532</th>\n",
       "      <td>DC-AID-CONDITION-NAMES</td>\n",
       "      <td>1</td>\n",
       "      <td>1981-08-25</td>\n",
       "      <td>2010-07-16</td>\n",
       "      <td>NaN</td>\n",
       "      <td>NaN</td>\n",
       "    </tr>\n",
       "    <tr>\n",
       "      <th>1118</th>\n",
       "      <td>MRB-</td>\n",
       "      <td>1</td>\n",
       "      <td>1981-08-25</td>\n",
       "      <td>2010-07-16</td>\n",
       "      <td>NaN</td>\n",
       "      <td>THIS RECORD IS REQUIRED FOR MAPPING FUNCTIONS,...</td>\n",
       "    </tr>\n",
       "    <tr>\n",
       "      <th>2020</th>\n",
       "      <td>SSCTRL</td>\n",
       "      <td>1</td>\n",
       "      <td>1981-08-25</td>\n",
       "      <td>1994-10-22</td>\n",
       "      <td>NaN</td>\n",
       "      <td>NaN</td>\n",
       "    </tr>\n",
       "    <tr>\n",
       "      <th>...</th>\n",
       "      <td>...</td>\n",
       "      <td>...</td>\n",
       "      <td>...</td>\n",
       "      <td>...</td>\n",
       "      <td>...</td>\n",
       "      <td>...</td>\n",
       "    </tr>\n",
       "    <tr>\n",
       "      <th>1724</th>\n",
       "      <td>SDDLD560-MAPWORK</td>\n",
       "      <td>4</td>\n",
       "      <td>2020-09-15</td>\n",
       "      <td>2020-09-16</td>\n",
       "      <td>SDDLD560 MAPWORK</td>\n",
       "      <td>NaN</td>\n",
       "    </tr>\n",
       "    <tr>\n",
       "      <th>1721</th>\n",
       "      <td>SDDLD560-MAPDAVE</td>\n",
       "      <td>1</td>\n",
       "      <td>2020-09-24</td>\n",
       "      <td>2020-09-24</td>\n",
       "      <td>SDDLD560 MAPWORK</td>\n",
       "      <td>NaN</td>\n",
       "    </tr>\n",
       "    <tr>\n",
       "      <th>69</th>\n",
       "      <td>ADPTS601-REC</td>\n",
       "      <td>1</td>\n",
       "      <td>2021-02-19</td>\n",
       "      <td>NaT</td>\n",
       "      <td>UNCLOSED LOANS</td>\n",
       "      <td>NaN</td>\n",
       "    </tr>\n",
       "    <tr>\n",
       "      <th>60</th>\n",
       "      <td>ADPTSU01-REC</td>\n",
       "      <td>1</td>\n",
       "      <td>2021-02-19</td>\n",
       "      <td>NaT</td>\n",
       "      <td>GRANT</td>\n",
       "      <td>NaN</td>\n",
       "    </tr>\n",
       "    <tr>\n",
       "      <th>412</th>\n",
       "      <td>CHKISSN</td>\n",
       "      <td>6</td>\n",
       "      <td>2021-08-13</td>\n",
       "      <td>NaT</td>\n",
       "      <td>CHKISSN</td>\n",
       "      <td>AMAS DATABASE RECORD USED TO STORE CHECK INFOR...</td>\n",
       "    </tr>\n",
       "  </tbody>\n",
       "</table>\n",
       "<p>3661 rows × 6 columns</p>\n",
       "</div>"
      ],
      "text/plain": [
       "                 table_names table_vers created_dates updated_dates  \\\n",
       "522            DB-STATISTICS          1    1981-08-25    2010-07-16   \n",
       "525            DB_STATISTICS          1    1981-08-25    2010-07-16   \n",
       "532   DC-AID-CONDITION-NAMES          1    1981-08-25    2010-07-16   \n",
       "1118                    MRB-          1    1981-08-25    2010-07-16   \n",
       "2020                  SSCTRL          1    1981-08-25    1994-10-22   \n",
       "...                      ...        ...           ...           ...   \n",
       "1724        SDDLD560-MAPWORK          4    2020-09-15    2020-09-16   \n",
       "1721        SDDLD560-MAPDAVE          1    2020-09-24    2020-09-24   \n",
       "69              ADPTS601-REC          1    2021-02-19           NaT   \n",
       "60              ADPTSU01-REC          1    2021-02-19           NaT   \n",
       "412                  CHKISSN          6    2021-08-13           NaT   \n",
       "\n",
       "                    descriptions  \\\n",
       "522                          NaN   \n",
       "525   WORK RECORD FOR DBMG06 MAP   \n",
       "532                          NaN   \n",
       "1118                         NaN   \n",
       "2020                         NaN   \n",
       "...                          ...   \n",
       "1724            SDDLD560 MAPWORK   \n",
       "1721            SDDLD560 MAPWORK   \n",
       "69                UNCLOSED LOANS   \n",
       "60                         GRANT   \n",
       "412                      CHKISSN   \n",
       "\n",
       "                                               comments  \n",
       "522                                                 NaN  \n",
       "525                                                 NaN  \n",
       "532                                                 NaN  \n",
       "1118  THIS RECORD IS REQUIRED FOR MAPPING FUNCTIONS,...  \n",
       "2020                                                NaN  \n",
       "...                                                 ...  \n",
       "1724                                                NaN  \n",
       "1721                                                NaN  \n",
       "69                                                  NaN  \n",
       "60                                                  NaN  \n",
       "412   AMAS DATABASE RECORD USED TO STORE CHECK INFOR...  \n",
       "\n",
       "[3661 rows x 6 columns]"
      ]
     },
     "execution_count": 88,
     "metadata": {},
     "output_type": "execute_result"
    }
   ],
   "source": [
    "merged_table_info"
   ]
  },
  {
   "cell_type": "markdown",
   "id": "cbcedc0b-bafc-43cd-a11c-65406b01b161",
   "metadata": {},
   "source": [
    "# 22's "
   ]
  },
  {
   "cell_type": "code",
   "execution_count": 89,
   "id": "03f4bb22-202c-4394-96bd-d3962caabe39",
   "metadata": {},
   "outputs": [
    {
     "data": {
      "text/plain": [
       "['                      EXT PICT  ZZ/ZZ/ZZ',\n",
       " '                      EXT PICT  ZZ/ZZ/ZZ',\n",
       " '                      EXT PICT  ZZ',\n",
       " '                      EXT PICT  ZZ9',\n",
       " '                      EXT PICT  ZZ/ZZ/ZZ',\n",
       " '                      EXT PICT  ZZ/ZZ/ZZ',\n",
       " '                      EXT PICT  ZZ',\n",
       " '                      EXT PICT  ZZ9',\n",
       " '                      EXT PICT  ZZZ9',\n",
       " '                      EXT PICT  ZZZ9',\n",
       " '                      EXT PICT  Z9',\n",
       " '                      EXT PICT  Z9',\n",
       " '                      EXT PICT  Z9',\n",
       " '                      EXT PICT  Z9',\n",
       " '                      EXT PICT  ZZZ9',\n",
       " '                      EXT PICT  ZZZ9',\n",
       " '                      EXT PICT  Z9',\n",
       " '                      EXT PICT  Z9',\n",
       " '                      EXT PICT  Z9',\n",
       " '                      EXT PICT  Z9']"
      ]
     },
     "execution_count": 89,
     "metadata": {},
     "output_type": "execute_result"
    }
   ],
   "source": [
    "text_clumps[22][:20]"
   ]
  },
  {
   "cell_type": "code",
   "execution_count": 90,
   "id": "f817bcb1-4897-488c-b067-e1ca839df9d2",
   "metadata": {},
   "outputs": [
    {
     "data": {
      "text/plain": [
       "['                          REDEFINES               W019-RQST-AREA-MFH',\n",
       " '                          OCCURS            4',\n",
       " \"                          VALUE                   'A'\",\n",
       " \"                          VALUE                   'U'\",\n",
       " '                          REDEFINES               W019-RQST-AREA-MFH',\n",
       " '                          OCCURS            4',\n",
       " \"                          VALUE                   'A'\",\n",
       " \"                          VALUE                   'U'\",\n",
       " '                          VALUE                   0',\n",
       " '                          VALUE                   0',\n",
       " '                          REDEFINES               W138-CTY-OFC-MAILG',\n",
       " \"                          VALUE                   '0'\",\n",
       " \"                          VALUE                   '1'\",\n",
       " '                          OCCURS           65',\n",
       " '                          OCCURS           65',\n",
       " '                          OCCURS           12',\n",
       " '                          OCCURS           12',\n",
       " '                          OCCURS           12',\n",
       " '                          OCCURS           12',\n",
       " '                          OCCURS           12']"
      ]
     },
     "execution_count": 90,
     "metadata": {},
     "output_type": "execute_result"
    }
   ],
   "source": [
    "text_clumps[26][:20]"
   ]
  },
  {
   "cell_type": "code",
   "execution_count": 91,
   "id": "191cab12-7c03-4db9-b5b4-c5f5d4f3b9b4",
   "metadata": {},
   "outputs": [
    {
     "data": {
      "text/plain": [
       "['                           100   COMMENT DATA',\n",
       " '                           100   OPERATOR',\n",
       " '                           200   NUMBER']"
      ]
     },
     "execution_count": 91,
     "metadata": {},
     "output_type": "execute_result"
    }
   ],
   "source": [
    "text_clumps[27][:20]"
   ]
  },
  {
   "cell_type": "code",
   "execution_count": null,
   "id": "66ce4a1b-040a-4a2d-9957-c568f2afc18d",
   "metadata": {},
   "outputs": [],
   "source": []
  }
 ],
 "metadata": {
  "kernelspec": {
   "display_name": "Python 3 (ipykernel)",
   "language": "python",
   "name": "python3"
  },
  "language_info": {
   "codemirror_mode": {
    "name": "ipython",
    "version": 3
   },
   "file_extension": ".py",
   "mimetype": "text/x-python",
   "name": "python",
   "nbconvert_exporter": "python",
   "pygments_lexer": "ipython3",
   "version": "3.10.4"
  }
 },
 "nbformat": 4,
 "nbformat_minor": 5
}
