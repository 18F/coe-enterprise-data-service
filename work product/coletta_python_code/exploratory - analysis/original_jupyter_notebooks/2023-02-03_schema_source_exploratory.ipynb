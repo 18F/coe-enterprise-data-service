{
 "cells": [
  {
   "cell_type": "markdown",
   "id": "4d020164-abec-4268-8493-2cd996cd8e39",
   "metadata": {},
   "source": [
    "# Parsing IDMS schema syntax\n",
    "\n",
    "* [primer](https://www.sfu.ca/sasdoc/sashtml/idms/z0979730.htm)\n",
    "* [IDMS schema and subschema syntax](https://manualzz.com/doc/o/rziew/ca-idms-database-administration-guide-schema-and-subschema-compilers)\n",
    "\n",
    "\n",
    "## syntax components\n",
    "* areas\n",
    "* records - table\n",
    "* elements - field\n",
    "* sets"
   ]
  },
  {
   "cell_type": "code",
   "execution_count": 1,
   "id": "9053e9ff-648b-4636-829f-45059ece0347",
   "metadata": {},
   "outputs": [
    {
     "name": "stdout",
     "output_type": "stream",
     "text": [
      "     ADD                                                                        \n",
      "     SCHEMA NAME IS FARMS VERSION IS 1                                          \n",
      "*+       DATE CREATED IS      11/25/87                                          \n",
      "*+       TIME CREATED IS      09310537                                          \n",
      "*+       DATE LAST UPDATED IS 07/17/19                                          \n",
      "*+       TIME LAST UPDATED IS 16423642                                          \n",
      "*+       PREPARED BY ASL066                                                     \n",
      "*+       REVISED  BY ASL70R                                                     \n",
      "         MEMO DATE IS 01/06/86                                                  \n",
      "         ASSIGN RECORD IDS FROM 1001                                            \n"
     ]
    }
   ],
   "source": [
    "!head IDMS_schema_source/ASL300.SCHEMA.FARMS.TXT"
   ]
  },
  {
   "cell_type": "code",
   "execution_count": 2,
   "id": "4c96cfc5-a763-45a9-98a8-f5a24b2892ed",
   "metadata": {},
   "outputs": [
    {
     "data": {
      "text/plain": [
       "'/Users/ccoletta/projects/gsa_coe/usda/copybooks'"
      ]
     },
     "execution_count": 2,
     "metadata": {},
     "output_type": "execute_result"
    }
   ],
   "source": [
    "pwd"
   ]
  },
  {
   "cell_type": "code",
   "execution_count": 3,
   "id": "bb9971f8-27ea-42fb-93c3-08a3f9d1413b",
   "metadata": {},
   "outputs": [
    {
     "name": "stdout",
     "output_type": "stream",
     "text": [
      "    2375 IDMS_schema_source_ALL/EMPSCHM-V100-SCHEMA-020623.txt\n",
      "   16234 IDMS_schema_source_ALL/FARMS-V1-SCHEMA-020623.formatted.txt\n",
      "   16234 IDMS_schema_source_ALL/FARMS-V1-SCHEMA-020623.txt\n",
      "   16642 IDMS_schema_source_ALL/FARMS-V10-SCHEMA-020623.txt\n",
      "   25112 IDMS_schema_source_ALL/MCMMF01-SCHEMA-020623.txt\n",
      "      47 IDMS_schema_source_ALL/RDUSE01-SCHEMA-020623.txt\n",
      "    1599 IDMS_schema_source_ALL/RMS-SCHEMA-020623.txt\n",
      "    3387 IDMS_schema_source_ALL/SCHEMA-LISTING-020623.zip\n",
      "    1779 IDMS_schema_source_ALL/SCMAC01-SCHEMA-020623.txt\n",
      "      50 IDMS_schema_source_ALL/SCMACCT-SCHEMA-020623.txt\n",
      "    1538 IDMS_schema_source_ALL/SCMFA01-SCHEMA-020623.txt\n",
      "     263 IDMS_schema_source_ALL/SCMHN01-SCHEMA-020623.txt\n",
      "   26281 IDMS_schema_source_ALL/SCMMF01-SCHEMA-020623.txt\n",
      "   26039 IDMS_schema_source_ALL/SCMMF01L-SCHEMA-0206023.txt\n",
      "   26041 IDMS_schema_source_ALL/SCMMF01M-SCHEMA-020623.txt\n",
      "   26177 IDMS_schema_source_ALL/SCMMF01P-SCHEMA-020623.txt\n",
      "   25988 IDMS_schema_source_ALL/SCMMF02-SCHEMA-020623.txt\n",
      "     924 IDMS_schema_source_ALL/SCMQA01-SCHEMA-020623.txt\n",
      "   23935 IDMS_schema_source_ALL/SCMTEST-SCHEMA-020623.txt\n",
      "    2020 IDMS_schema_source_ALL/SCMTL01-SCHEMA-020623.txt\n",
      "    1924 IDMS_schema_source_ALL/SCMUA01-SCHEMA-020623.txt\n",
      "     196 IDMS_schema_source_ALL/SCMXREF-SCHEMA-020623.txt\n",
      "   16590 IDMS_schema_source_ALL/XARMS-SCHEMA-020623.txt\n",
      "   23992 IDMS_schema_source_ALL/XCMMF01-SCHEMA-020623.txt\n",
      "   26179 IDMS_schema_source_ALL/XSCMMF01-SCHEMA-020623.txt\n",
      "  311546 total\n"
     ]
    }
   ],
   "source": [
    "!wc -l  IDMS_schema_source_ALL/*"
   ]
  },
  {
   "cell_type": "code",
   "execution_count": 4,
   "id": "1e3375d5-0698-45f0-8292-8c93f7d294df",
   "metadata": {},
   "outputs": [],
   "source": [
    "import pandas as pd\n",
    "from pathlib import Path\n",
    "import re\n",
    "from collections import Counter"
   ]
  },
  {
   "cell_type": "code",
   "execution_count": 5,
   "id": "8b2ea88b-4bbd-4409-a0fc-9e9ab88141d3",
   "metadata": {},
   "outputs": [],
   "source": [
    "#test_path = 'IDMS_schema_source/ASL300.SCHEMA.FARMS.TXT'\n",
    "test_path = 'IDMS_schema_source_ALL/RMS-SCHEMA-020623.txt'"
   ]
  },
  {
   "cell_type": "code",
   "execution_count": 6,
   "id": "1790656c-4b0f-422e-881d-13f9cef78656",
   "metadata": {},
   "outputs": [],
   "source": [
    "lines_df = pd.read_csv( test_path, header=None )"
   ]
  },
  {
   "cell_type": "code",
   "execution_count": 7,
   "id": "82034fda-ad69-463a-b4c3-14d598184385",
   "metadata": {},
   "outputs": [],
   "source": [
    "lines_df.columns = [ 'raw_line' ]"
   ]
  },
  {
   "cell_type": "code",
   "execution_count": 8,
   "id": "33429719-1b8c-4576-881e-af6462700fb9",
   "metadata": {},
   "outputs": [],
   "source": [
    "lines_df[ 'stripped' ] = lines_df[ 'raw_line' ].str.slice( start = 5 )"
   ]
  },
  {
   "cell_type": "code",
   "execution_count": 9,
   "id": "5386e6f9-01a8-4fe1-b7ce-a31636907ebb",
   "metadata": {},
   "outputs": [],
   "source": [
    "lines_df[ 'stripped' ] = lines_df[ 'stripped' ].str.rstrip()"
   ]
  },
  {
   "cell_type": "code",
   "execution_count": 10,
   "id": "39baaf37-8808-4fcd-bab3-c8cba948ca43",
   "metadata": {},
   "outputs": [
    {
     "data": {
      "text/plain": [
       "0                                          ADD\n",
       "1              SCHEMA NAME IS RMS VERSION IS 1\n",
       "2                DATE LAST UPDATED IS 10/28/94\n",
       "3                TIME LAST UPDATED IS 10114932\n",
       "4                           REVISED  BY ASL066\n",
       "                         ...                  \n",
       "1594                       MANDATORY AUTOMATIC\n",
       "1595                                  KEY IS (\n",
       "1596                    YR-MO-101 DESCENDING )\n",
       "1597                DUPLICATES ARE NOT ALLOWED\n",
       "1598                                         .\n",
       "Name: stripped, Length: 1599, dtype: object"
      ]
     },
     "execution_count": 10,
     "metadata": {},
     "output_type": "execute_result"
    }
   ],
   "source": [
    "lines_df[ 'stripped' ]"
   ]
  },
  {
   "cell_type": "code",
   "execution_count": 11,
   "id": "5acea617-3dfe-4f6f-929a-7364fc36ada7",
   "metadata": {},
   "outputs": [],
   "source": [
    "stripped_whitespace_file = \"2023-02-03_IDMS_schema_source_stripped.txt\""
   ]
  },
  {
   "cell_type": "code",
   "execution_count": 12,
   "id": "7ef7f42f-e89e-4d20-b322-606503422fac",
   "metadata": {},
   "outputs": [],
   "source": [
    "lines_df[ 'stripped' ].to_csv( stripped_whitespace_file, header=False, index=False )"
   ]
  },
  {
   "cell_type": "code",
   "execution_count": 13,
   "id": "fa831ac3-679a-4680-a849-5cea39b69841",
   "metadata": {},
   "outputs": [],
   "source": [
    "raw_text = Path( stripped_whitespace_file ).read_text()"
   ]
  },
  {
   "cell_type": "code",
   "execution_count": 14,
   "id": "e64ca2d3-dde4-465d-bc46-c455e9cddbb7",
   "metadata": {},
   "outputs": [
    {
     "data": {
      "text/plain": [
       "'ADD\\n'"
      ]
     },
     "execution_count": 14,
     "metadata": {},
     "output_type": "execute_result"
    }
   ],
   "source": [
    "raw_text[:4]"
   ]
  },
  {
   "cell_type": "code",
   "execution_count": 15,
   "id": "36ec8c69-af5b-4997-a6a9-6fdcb45451fc",
   "metadata": {},
   "outputs": [],
   "source": [
    "p = re.compile( r'\\nADD\\n' )"
   ]
  },
  {
   "cell_type": "code",
   "execution_count": 16,
   "id": "d2fde370-9022-44bb-9e6a-b8d847010f61",
   "metadata": {},
   "outputs": [],
   "source": [
    "components = p.split(raw_text )"
   ]
  },
  {
   "cell_type": "code",
   "execution_count": 17,
   "id": "8779b8c4-9910-4dc5-ab82-4147686130f8",
   "metadata": {},
   "outputs": [
    {
     "data": {
      "text/plain": [
       "15"
      ]
     },
     "execution_count": 17,
     "metadata": {},
     "output_type": "execute_result"
    }
   ],
   "source": [
    "len( components )"
   ]
  },
  {
   "cell_type": "code",
   "execution_count": 18,
   "id": "68a4382d-171a-4c58-8a5c-9a56eb5bc3a1",
   "metadata": {},
   "outputs": [],
   "source": [
    "# remove the initial ADD\n",
    "components[0] = components[0][4:]"
   ]
  },
  {
   "cell_type": "code",
   "execution_count": 19,
   "id": "73ffbca8-c3c9-435f-850f-ef52fe0b6393",
   "metadata": {},
   "outputs": [],
   "source": [
    "p = re.compile( r'^(\\S+)' )"
   ]
  },
  {
   "cell_type": "code",
   "execution_count": 20,
   "id": "c37e96bb-3e20-40aa-9e8c-c4ecda52bf54",
   "metadata": {},
   "outputs": [
    {
     "data": {
      "text/plain": [
       "'SCHEMA'"
      ]
     },
     "execution_count": 20,
     "metadata": {},
     "output_type": "execute_result"
    }
   ],
   "source": [
    "p.match( components[0] ).group(1)"
   ]
  },
  {
   "cell_type": "code",
   "execution_count": 21,
   "id": "9d24074a-e60b-4520-87a7-3f61d55d9da7",
   "metadata": {},
   "outputs": [],
   "source": [
    "component_categories = [ p.match( _ ).group(1) for _ in components ]"
   ]
  },
  {
   "cell_type": "code",
   "execution_count": 22,
   "id": "0f13d743-dc70-440d-b9cc-13959d51cb3a",
   "metadata": {},
   "outputs": [],
   "source": [
    "c = Counter( component_categories )"
   ]
  },
  {
   "cell_type": "code",
   "execution_count": 23,
   "id": "8bd0710d-6b55-4b0a-b7e0-99851598fe35",
   "metadata": {},
   "outputs": [
    {
     "data": {
      "text/plain": [
       "[('RECORD', 8), ('AREA', 5), ('SCHEMA', 1), ('SET', 1)]"
      ]
     },
     "execution_count": 23,
     "metadata": {},
     "output_type": "execute_result"
    }
   ],
   "source": [
    "c.most_common()"
   ]
  },
  {
   "cell_type": "markdown",
   "id": "3fb9f213-934d-4fab-9d60-641ba808634e",
   "metadata": {},
   "source": [
    "# Analyze Record components"
   ]
  },
  {
   "cell_type": "code",
   "execution_count": 24,
   "id": "57f1d923-fde5-4fef-87fc-f08acf6485e9",
   "metadata": {},
   "outputs": [],
   "source": [
    "record_components = [ c for t, c in zip( component_categories, components ) if t == \"RECORD\" ]"
   ]
  },
  {
   "cell_type": "code",
   "execution_count": 25,
   "id": "7138a1ba-30b4-4fa8-80ff-8d3d7e7bda6a",
   "metadata": {
    "scrolled": true,
    "tags": []
   },
   "outputs": [],
   "source": [
    "#print( record_components[0] )"
   ]
  },
  {
   "cell_type": "code",
   "execution_count": 26,
   "id": "061ea05c-bf91-4d6d-9eda-b7541e76a556",
   "metadata": {},
   "outputs": [],
   "source": [
    "redefines_pattern = re.compile( r'REDEFINES' )\n",
    "occurs_pattern = re.compile( r'OCCURS' )"
   ]
  },
  {
   "cell_type": "code",
   "execution_count": 27,
   "id": "c63ac936-3a18-47e2-bf02-225bb10b8d47",
   "metadata": {},
   "outputs": [],
   "source": [
    "column_names = [ 'indent', 'data_level', 'element_name', 'raw_element_descriptors' ]\n",
    "element_search_pat = re.compile( r'^(\\s+)?(\\d\\d) (\\S+)\\n\\s+(.*?)\\n\\s+\\.', flags=re.MULTILINE | re.DOTALL )"
   ]
  },
  {
   "cell_type": "code",
   "execution_count": 28,
   "id": "35eb5fb7-6efe-4cfd-bce9-b84ccfff8dd5",
   "metadata": {},
   "outputs": [],
   "source": [
    "record_name_pat = re.compile( r'RECORD NAME IS (\\S+)' )"
   ]
  },
  {
   "cell_type": "code",
   "execution_count": 29,
   "id": "799a9470-676c-4378-9eff-f7cbc3c3e0d3",
   "metadata": {},
   "outputs": [],
   "source": [
    "IS_pat = re.compile( r' IS ' )"
   ]
  },
  {
   "cell_type": "code",
   "execution_count": 30,
   "id": "d57a9caa-20c2-44c1-9472-6be58018ead9",
   "metadata": {},
   "outputs": [],
   "source": [
    "def DescriptorsSplitter( raw_descriptor_string ):\n",
    "    \n",
    "    descriptors = [ _.strip() for _ in raw_descriptor_string.split( '\\n' ) ]\n",
    "    \n",
    "    key_value_pairs = [ IS_pat.split( _ ) for _ in descriptors ]\n",
    "    try:\n",
    "        index, values = zip( *key_value_pairs )\n",
    "    except:\n",
    "        # empty series\n",
    "        print( \"\\t\\tproblem splitting these characteristics\" )\n",
    "        print( key_value_pairs )\n",
    "        retval = pd.Series( dtype='object')\n",
    "    else:\n",
    "        retval = pd.Series( values, index=index )\n",
    "    #print( retval )\n",
    "    return retval"
   ]
  },
  {
   "cell_type": "code",
   "execution_count": 31,
   "id": "dc7c0ac3-79f1-4d78-949b-3d1a3ce58528",
   "metadata": {},
   "outputs": [],
   "source": [
    "def FormatRecord( component_text, debug=False ):\n",
    "    \n",
    "    if debug:\n",
    "        print( \"*\" * 50 )\n",
    "    record_name = record_name_pat.match( component_text ).group(1)\n",
    "    data_elements = element_search_pat.findall( component_text )\n",
    "    if debug:\n",
    "        print( \"record\", record_name, \"has\", len( data_elements ), \"elements.\" )\n",
    "    data_elements = pd.DataFrame( data_elements, columns = column_names )\n",
    "    data_elements['record'] = record_name\n",
    "    data_elements['data_step'] = [ (1+int(_)) * 100 for _ in data_elements.index ]\n",
    "    data_elements['indent'] = data_elements['indent'].apply( len )\n",
    "    data_elements['raw_element_descriptors'] = \\\n",
    "        data_elements['raw_element_descriptors'].str.replace( redefines_pattern, 'REDEFINES IS' )\n",
    "\n",
    "    data_elements['raw_element_descriptors'] = \\\n",
    "        data_elements['raw_element_descriptors'].str.replace( occurs_pattern, 'OCCURS IS' )\n",
    "    \n",
    "    modifiers_df = data_elements['raw_element_descriptors'].apply( DescriptorsSplitter )\n",
    "    \n",
    "    data_elements = pd.concat( (data_elements, modifiers_df), axis=1 )\n",
    "    \n",
    "    data_elements = data_elements.set_index( 'record', append=True )\n",
    "    return data_elements"
   ]
  },
  {
   "cell_type": "code",
   "execution_count": 32,
   "id": "adba21b1-b20d-4617-a8ac-54a8789b5e7e",
   "metadata": {},
   "outputs": [],
   "source": [
    "pd.set_option( 'display.max_rows', 100 )"
   ]
  },
  {
   "cell_type": "code",
   "execution_count": 33,
   "id": "72c9f09f-1d54-44e2-b2ab-e2d1694bbc4b",
   "metadata": {},
   "outputs": [],
   "source": [
    "#FormatRecord( record_components[0] )"
   ]
  },
  {
   "cell_type": "code",
   "execution_count": 34,
   "id": "30c16e71-631d-482b-9a11-f277a614f6e6",
   "metadata": {
    "scrolled": true,
    "tags": []
   },
   "outputs": [
    {
     "name": "stdout",
     "output_type": "stream",
     "text": [
      "\t\tproblem splitting these characteristics\n",
      "[['PICTURE', ' X(110)'], ['USAGE', 'DISPLAY'], ['ELEMENT LENGTH', '110'], ['POSITION', '3'], ['OLQ HEADER'], [\"'COMMENT DATA'\"]]\n",
      "\t\tproblem splitting these characteristics\n",
      "[['PICTURE', ' 9(3)'], ['USAGE', 'DISPLAY'], ['ELEMENT LENGTH', '3'], ['POSITION', '113'], ['OLQ HEADER'], [\"'OPERATOR'\"], [\"-     'NUMBER'\"]]\n"
     ]
    }
   ],
   "source": [
    "pivoted_record_data = pd.concat( [ FormatRecord(_) for _ in record_components ] )"
   ]
  },
  {
   "cell_type": "code",
   "execution_count": 35,
   "id": "6b824ea5-67c0-4889-b1e4-566dcbd4b223",
   "metadata": {},
   "outputs": [
    {
     "name": "stdout",
     "output_type": "stream",
     "text": [
      "<class 'pandas.core.frame.DataFrame'>\n",
      "MultiIndex: 235 entries, (0, 'RMSADRS') to (26, 'RDADATA')\n",
      "Data columns (total 12 columns):\n",
      " #   Column                   Non-Null Count  Dtype \n",
      "---  ------                   --------------  ----- \n",
      " 0   indent                   235 non-null    int64 \n",
      " 1   data_level               235 non-null    object\n",
      " 2   element_name             235 non-null    object\n",
      " 3   raw_element_descriptors  235 non-null    object\n",
      " 4   data_step                235 non-null    int64 \n",
      " 5   USAGE                    233 non-null    object\n",
      " 6   ELEMENT LENGTH           225 non-null    object\n",
      " 7   POSITION                 233 non-null    object\n",
      " 8   PICTURE                  199 non-null    object\n",
      " 9   VALUE                    8 non-null      object\n",
      " 10  OCCURS                   86 non-null     object\n",
      " 11  REDEFINES                6 non-null      object\n",
      "dtypes: int64(2), object(10)\n",
      "memory usage: 28.3+ KB\n"
     ]
    }
   ],
   "source": [
    "pivoted_record_data.info()"
   ]
  },
  {
   "cell_type": "code",
   "execution_count": 36,
   "id": "7cfb3a45-947e-4871-951f-2de51d572a5e",
   "metadata": {},
   "outputs": [],
   "source": [
    "#pivoted_record_data.sample(100)"
   ]
  },
  {
   "cell_type": "code",
   "execution_count": 37,
   "id": "876c99ac-fc7a-40c5-91c2-39013ba4adcc",
   "metadata": {},
   "outputs": [],
   "source": [
    "p = re.compile( r'SCHEMA NAME IS (\\S+) VERSION IS (\\d+)' )"
   ]
  },
  {
   "cell_type": "code",
   "execution_count": 38,
   "id": "ecc222e1-46f6-4a40-ad65-700667a0ffb7",
   "metadata": {},
   "outputs": [
    {
     "data": {
      "text/plain": [
       "('RMS', '1')"
      ]
     },
     "execution_count": 38,
     "metadata": {},
     "output_type": "execute_result"
    }
   ],
   "source": [
    "p.search( components[0] ).groups()"
   ]
  },
  {
   "cell_type": "code",
   "execution_count": 39,
   "id": "12a17b0e-ab46-44eb-9206-170ba3f5db24",
   "metadata": {},
   "outputs": [],
   "source": [
    "def ScrapeRecordsAndElements( schema_source_path ):\n",
    "\n",
    "    print( \"=\" * 50 )\n",
    "    lines_df = pd.read_csv( schema_source_path, header=None )\n",
    "    lines_df.columns = [ 'raw_line' ]\n",
    "    lines_df[ 'stripped' ] = lines_df[ 'raw_line' ].str.slice( start = 5 )\n",
    "    lines_df[ 'stripped' ] = lines_df[ 'stripped' ].str.rstrip()\n",
    "\n",
    "    stripped_whitespace_file = Path( schema_source_path ).with_suffix( \".formatted.txt\" )\n",
    "    print( \"writing\", f'\"{ str(stripped_whitespace_file) }\"' )\n",
    "    lines_df[ 'stripped' ].to_csv( stripped_whitespace_file, header=False, index=False )\n",
    "    raw_text = stripped_whitespace_file.read_text()\n",
    "\n",
    "    add_pat = re.compile( r'\\nADD\\n' )\n",
    "    components = add_pat.split( raw_text )\n",
    "\n",
    "    #len( components )\n",
    "    # remove the initial ADD\n",
    "    components[0] = components[0][4:]\n",
    "    \n",
    "    schema_name_ver_pat = re.compile( r'SCHEMA NAME IS (\\S+) VERSION IS (\\d+)' )\n",
    "    schema_info = schema_name_ver_pat.search( components[0] ).groups()\n",
    "    schema_name, schema_version = schema_info\n",
    "\n",
    "    first_word_pat = re.compile( r'^(\\S+)' )\n",
    "    component_categories = [ first_word_pat.match( _ ).group(1) for _ in components ]\n",
    "    c = Counter( component_categories )\n",
    "\n",
    "    print( schema_info, \"\\n\", c.most_common() )\n",
    "\n",
    "    # Analyze Record components\n",
    "\n",
    "    record_components = [ c for t, c in zip( component_categories, components ) if t == \"RECORD\" ]\n",
    "    \n",
    "    pivoted_record_data = pd.concat( [ FormatRecord(_) for _ in record_components ] )\n",
    "    pivoted_record_data = pivoted_record_data.swaplevel().sort_index()\n",
    "    return pivoted_record_data\n",
    "    "
   ]
  },
  {
   "cell_type": "code",
   "execution_count": 40,
   "id": "078f8923-b4f7-454b-be2d-b15b13fcd23a",
   "metadata": {},
   "outputs": [
    {
     "name": "stdout",
     "output_type": "stream",
     "text": [
      "==================================================\n",
      "writing \"IDMS_schema_source_ALL/FARMS-V1-SCHEMA-020623.formatted.txt\"\n",
      "('FARMS', '1') \n",
      " [('RECORD', 113), ('SET', 85), ('AREA', 20), ('SCHEMA', 1)]\n"
     ]
    }
   ],
   "source": [
    "retval = ScrapeRecordsAndElements( 'IDMS_schema_source_ALL/FARMS-V1-SCHEMA-020623.txt' )"
   ]
  },
  {
   "cell_type": "code",
   "execution_count": 41,
   "id": "47bd4834-331f-4d9e-8722-05cfc625d2be",
   "metadata": {},
   "outputs": [
    {
     "data": {
      "text/plain": [
       "( 'S' )      10\n",
       "( 'D' )      10\n",
       "( 'C' )      10\n",
       "( 'T' )       8\n",
       "( 'U' )       8\n",
       "( 'V' )       8\n",
       "( '0' )       4\n",
       "( '1' )       4\n",
       "( SPACE )     2\n",
       "( 'R' )       1\n",
       "( 'A' )       1\n",
       "Name: VALUE, dtype: int64"
      ]
     },
     "execution_count": 41,
     "metadata": {},
     "output_type": "execute_result"
    }
   ],
   "source": [
    "retval['VALUE'].value_counts()"
   ]
  },
  {
   "cell_type": "code",
   "execution_count": 42,
   "id": "a09534d7-0393-4789-a413-d61d34837bda",
   "metadata": {},
   "outputs": [],
   "source": [
    "retval['VALUE'] = retval['VALUE'].str.extract( r' (\\S+) ' )"
   ]
  },
  {
   "cell_type": "code",
   "execution_count": 43,
   "id": "3f0a7ed0-eb70-4639-9498-76835ed1ee15",
   "metadata": {},
   "outputs": [
    {
     "data": {
      "text/plain": [
       "'S'      10\n",
       "'D'      10\n",
       "'C'      10\n",
       "'T'       8\n",
       "'U'       8\n",
       "'V'       8\n",
       "'0'       4\n",
       "'1'       4\n",
       "SPACE     2\n",
       "'R'       1\n",
       "'A'       1\n",
       "Name: VALUE, dtype: int64"
      ]
     },
     "execution_count": 43,
     "metadata": {},
     "output_type": "execute_result"
    }
   ],
   "source": [
    "retval['VALUE'].value_counts()"
   ]
  },
  {
   "cell_type": "code",
   "execution_count": 44,
   "id": "a63c2dd5-07df-41d6-b76e-b4f22e8d7b36",
   "metadata": {},
   "outputs": [
    {
     "data": {
      "text/plain": [
       "05    1295\n",
       "10     626\n",
       "15     220\n",
       "88      64\n",
       "20      13\n",
       "Name: data_level, dtype: int64"
      ]
     },
     "execution_count": 44,
     "metadata": {},
     "output_type": "execute_result"
    }
   ],
   "source": [
    "retval['data_level'].value_counts()"
   ]
  },
  {
   "cell_type": "code",
   "execution_count": 45,
   "id": "d8d73f60-47a4-4e43-9520-810c865d0376",
   "metadata": {},
   "outputs": [
    {
     "data": {
      "text/plain": [
       "0     1295\n",
       "4      626\n",
       "8      220\n",
       "16      64\n",
       "12      13\n",
       "Name: indent, dtype: int64"
      ]
     },
     "execution_count": 45,
     "metadata": {},
     "output_type": "execute_result"
    }
   ],
   "source": [
    "retval['indent'].value_counts()"
   ]
  },
  {
   "cell_type": "code",
   "execution_count": 46,
   "id": "dafe587a-37e4-41e3-85e7-0e2f16efa8f9",
   "metadata": {},
   "outputs": [],
   "source": [
    "retval['indent'] = (retval['data_level'].astype(int) // 5 )"
   ]
  },
  {
   "cell_type": "code",
   "execution_count": 47,
   "id": "33c697cb-666b-4314-897e-4874bbe20a37",
   "metadata": {},
   "outputs": [],
   "source": [
    "retval.loc[ retval['indent'] >= 5, 'indent' ] = 5"
   ]
  },
  {
   "cell_type": "code",
   "execution_count": 48,
   "id": "0fb43c14-f8ec-4185-9756-0f3e874d702b",
   "metadata": {},
   "outputs": [],
   "source": [
    "retval['indent'] = retval['indent'] * 2"
   ]
  },
  {
   "cell_type": "code",
   "execution_count": 49,
   "id": "ad08f5a1-e1dc-481a-9b6c-a754731e9d4e",
   "metadata": {},
   "outputs": [
    {
     "data": {
      "text/plain": [
       "2     1295\n",
       "4      626\n",
       "6      220\n",
       "10      64\n",
       "8       13\n",
       "Name: indent, dtype: int64"
      ]
     },
     "execution_count": 49,
     "metadata": {},
     "output_type": "execute_result"
    }
   ],
   "source": [
    "retval['indent'].value_counts()"
   ]
  },
  {
   "cell_type": "code",
   "execution_count": 50,
   "id": "d5cb8206-113e-42bf-b126-db23dcf980b2",
   "metadata": {},
   "outputs": [
    {
     "data": {
      "text/plain": [
       "['ACCT-DATA', 'ACQD-PROP', 'ADPS-CNTRL', 'ADVANCE', 'AID']"
      ]
     },
     "execution_count": 50,
     "metadata": {},
     "output_type": "execute_result"
    }
   ],
   "source": [
    "sorted( retval.reset_index()['record'].unique() )[:5]"
   ]
  },
  {
   "cell_type": "code",
   "execution_count": 51,
   "id": "8ac80d3e-5434-4859-ae40-33495e3176ab",
   "metadata": {},
   "outputs": [
    {
     "data": {
      "text/html": [
       "<div>\n",
       "<style scoped>\n",
       "    .dataframe tbody tr th:only-of-type {\n",
       "        vertical-align: middle;\n",
       "    }\n",
       "\n",
       "    .dataframe tbody tr th {\n",
       "        vertical-align: top;\n",
       "    }\n",
       "\n",
       "    .dataframe thead th {\n",
       "        text-align: right;\n",
       "    }\n",
       "</style>\n",
       "<table border=\"1\" class=\"dataframe\">\n",
       "  <thead>\n",
       "    <tr style=\"text-align: right;\">\n",
       "      <th></th>\n",
       "      <th></th>\n",
       "      <th>indent</th>\n",
       "      <th>data_level</th>\n",
       "      <th>element_name</th>\n",
       "      <th>raw_element_descriptors</th>\n",
       "      <th>data_step</th>\n",
       "      <th>USAGE</th>\n",
       "      <th>ELEMENT LENGTH</th>\n",
       "      <th>POSITION</th>\n",
       "      <th>PICTURE</th>\n",
       "      <th>REDEFINES</th>\n",
       "      <th>VALUE</th>\n",
       "      <th>OCCURS</th>\n",
       "    </tr>\n",
       "    <tr>\n",
       "      <th>record</th>\n",
       "      <th></th>\n",
       "      <th></th>\n",
       "      <th></th>\n",
       "      <th></th>\n",
       "      <th></th>\n",
       "      <th></th>\n",
       "      <th></th>\n",
       "      <th></th>\n",
       "      <th></th>\n",
       "      <th></th>\n",
       "      <th></th>\n",
       "      <th></th>\n",
       "      <th></th>\n",
       "    </tr>\n",
       "  </thead>\n",
       "  <tbody>\n",
       "    <tr>\n",
       "      <th rowspan=\"5\" valign=\"top\">ACCT-DATA</th>\n",
       "      <th>0</th>\n",
       "      <td>2</td>\n",
       "      <td>05</td>\n",
       "      <td>LN-NBR</td>\n",
       "      <td>PICTURE IS  9(2)\\n    USAGE IS DISPLAY\\n    EL...</td>\n",
       "      <td>100</td>\n",
       "      <td>DISPLAY</td>\n",
       "      <td>2</td>\n",
       "      <td>1</td>\n",
       "      <td>9(2)</td>\n",
       "      <td>NaN</td>\n",
       "      <td>NaN</td>\n",
       "      <td>NaN</td>\n",
       "    </tr>\n",
       "    <tr>\n",
       "      <th>1</th>\n",
       "      <td>2</td>\n",
       "      <td>05</td>\n",
       "      <td>FD-CDE</td>\n",
       "      <td>USAGE IS DISPLAY\\n    ELEMENT LENGTH IS 4\\n   ...</td>\n",
       "      <td>200</td>\n",
       "      <td>DISPLAY</td>\n",
       "      <td>4</td>\n",
       "      <td>3</td>\n",
       "      <td>NaN</td>\n",
       "      <td>NaN</td>\n",
       "      <td>NaN</td>\n",
       "      <td>NaN</td>\n",
       "    </tr>\n",
       "    <tr>\n",
       "      <th>2</th>\n",
       "      <td>4</td>\n",
       "      <td>10</td>\n",
       "      <td>FD-CDE-3</td>\n",
       "      <td>USAGE IS DISPLAY\\n        ELEMENT LENGTH IS 3\\...</td>\n",
       "      <td>300</td>\n",
       "      <td>DISPLAY</td>\n",
       "      <td>3</td>\n",
       "      <td>3</td>\n",
       "      <td>NaN</td>\n",
       "      <td>NaN</td>\n",
       "      <td>NaN</td>\n",
       "      <td>NaN</td>\n",
       "    </tr>\n",
       "    <tr>\n",
       "      <th>3</th>\n",
       "      <td>6</td>\n",
       "      <td>15</td>\n",
       "      <td>FD-CDE-2</td>\n",
       "      <td>PICTURE IS  9(2)\\n            USAGE IS DISPLAY...</td>\n",
       "      <td>400</td>\n",
       "      <td>DISPLAY</td>\n",
       "      <td>2</td>\n",
       "      <td>3</td>\n",
       "      <td>9(2)</td>\n",
       "      <td>NaN</td>\n",
       "      <td>NaN</td>\n",
       "      <td>NaN</td>\n",
       "    </tr>\n",
       "    <tr>\n",
       "      <th>4</th>\n",
       "      <td>6</td>\n",
       "      <td>15</td>\n",
       "      <td>FD-CDE-3RD</td>\n",
       "      <td>PICTURE IS  9(1)\\n            USAGE IS DISPLAY...</td>\n",
       "      <td>500</td>\n",
       "      <td>DISPLAY</td>\n",
       "      <td>1</td>\n",
       "      <td>5</td>\n",
       "      <td>9(1)</td>\n",
       "      <td>NaN</td>\n",
       "      <td>NaN</td>\n",
       "      <td>NaN</td>\n",
       "    </tr>\n",
       "  </tbody>\n",
       "</table>\n",
       "</div>"
      ],
      "text/plain": [
       "             indent data_level element_name  \\\n",
       "record                                        \n",
       "ACCT-DATA 0       2         05       LN-NBR   \n",
       "          1       2         05       FD-CDE   \n",
       "          2       4         10     FD-CDE-3   \n",
       "          3       6         15     FD-CDE-2   \n",
       "          4       6         15   FD-CDE-3RD   \n",
       "\n",
       "                                       raw_element_descriptors  data_step  \\\n",
       "record                                                                      \n",
       "ACCT-DATA 0  PICTURE IS  9(2)\\n    USAGE IS DISPLAY\\n    EL...        100   \n",
       "          1  USAGE IS DISPLAY\\n    ELEMENT LENGTH IS 4\\n   ...        200   \n",
       "          2  USAGE IS DISPLAY\\n        ELEMENT LENGTH IS 3\\...        300   \n",
       "          3  PICTURE IS  9(2)\\n            USAGE IS DISPLAY...        400   \n",
       "          4  PICTURE IS  9(1)\\n            USAGE IS DISPLAY...        500   \n",
       "\n",
       "               USAGE ELEMENT LENGTH POSITION PICTURE REDEFINES VALUE OCCURS  \n",
       "record                                                                       \n",
       "ACCT-DATA 0  DISPLAY              2        1    9(2)       NaN   NaN    NaN  \n",
       "          1  DISPLAY              4        3     NaN       NaN   NaN    NaN  \n",
       "          2  DISPLAY              3        3     NaN       NaN   NaN    NaN  \n",
       "          3  DISPLAY              2        3    9(2)       NaN   NaN    NaN  \n",
       "          4  DISPLAY              1        5    9(1)       NaN   NaN    NaN  "
      ]
     },
     "execution_count": 51,
     "metadata": {},
     "output_type": "execute_result"
    }
   ],
   "source": [
    "retval.head()"
   ]
  },
  {
   "cell_type": "code",
   "execution_count": 52,
   "id": "2386f7a0-ab09-41f0-8903-c9fde7701c84",
   "metadata": {},
   "outputs": [],
   "source": [
    "retval['PICTURE'] = retval['PICTURE'].str.strip()"
   ]
  },
  {
   "cell_type": "markdown",
   "id": "9b029e40-3775-4a0e-88e1-92310d3561aa",
   "metadata": {},
   "source": [
    "# Add data formatting to the csv output to get it ready for ingestion by 2023-01-24_CreateCopyBooks-v2"
   ]
  },
  {
   "cell_type": "code",
   "execution_count": 53,
   "id": "b5172852-cddb-45f4-b7b2-baeff3dac2da",
   "metadata": {},
   "outputs": [],
   "source": [
    "table_index_dict = { table_name: i for i, table_name in enumerate( retval.index.levels[0] ) }"
   ]
  },
  {
   "cell_type": "code",
   "execution_count": 54,
   "id": "96cb0d6c-fd44-43b1-8d21-73360a297cf9",
   "metadata": {},
   "outputs": [],
   "source": [
    "retval = retval.reset_index( 'record', drop=False )"
   ]
  },
  {
   "cell_type": "code",
   "execution_count": 55,
   "id": "7ad40cd6-aeaa-4c52-b7c7-44721912cfa9",
   "metadata": {},
   "outputs": [],
   "source": [
    "retval['table_index'] = \\\n",
    "    [ table_index_dict[n] for n in retval['record'].values ]"
   ]
  },
  {
   "cell_type": "code",
   "execution_count": 56,
   "id": "a375d94b-5fbd-490a-b56a-82a4d3011501",
   "metadata": {},
   "outputs": [],
   "source": [
    "retval['table_vers'] = 1"
   ]
  },
  {
   "cell_type": "code",
   "execution_count": 57,
   "id": "6fdd40bd-f635-463a-8ed4-1cb0ab3979d2",
   "metadata": {},
   "outputs": [
    {
     "name": "stdout",
     "output_type": "stream",
     "text": [
      "<class 'pandas.core.frame.DataFrame'>\n",
      "Int64Index: 2218 entries, 0 to 12\n",
      "Data columns (total 15 columns):\n",
      " #   Column                   Non-Null Count  Dtype \n",
      "---  ------                   --------------  ----- \n",
      " 0   record                   2218 non-null   object\n",
      " 1   indent                   2218 non-null   int64 \n",
      " 2   data_level               2218 non-null   object\n",
      " 3   element_name             2218 non-null   object\n",
      " 4   raw_element_descriptors  2218 non-null   object\n",
      " 5   data_step                2218 non-null   int64 \n",
      " 6   USAGE                    2218 non-null   object\n",
      " 7   ELEMENT LENGTH           2154 non-null   object\n",
      " 8   POSITION                 2218 non-null   object\n",
      " 9   PICTURE                  1961 non-null   object\n",
      " 10  REDEFINES                23 non-null     object\n",
      " 11  VALUE                    66 non-null     object\n",
      " 12  OCCURS                   31 non-null     object\n",
      " 13  table_index              2218 non-null   int64 \n",
      " 14  table_vers               2218 non-null   int64 \n",
      "dtypes: int64(4), object(11)\n",
      "memory usage: 277.2+ KB\n"
     ]
    }
   ],
   "source": [
    "retval.info()"
   ]
  },
  {
   "cell_type": "code",
   "execution_count": 58,
   "id": "91ec1bca-2851-4683-ba0f-cb5eb82e9baa",
   "metadata": {},
   "outputs": [
    {
     "data": {
      "text/html": [
       "<div>\n",
       "<style scoped>\n",
       "    .dataframe tbody tr th:only-of-type {\n",
       "        vertical-align: middle;\n",
       "    }\n",
       "\n",
       "    .dataframe tbody tr th {\n",
       "        vertical-align: top;\n",
       "    }\n",
       "\n",
       "    .dataframe thead th {\n",
       "        text-align: right;\n",
       "    }\n",
       "</style>\n",
       "<table border=\"1\" class=\"dataframe\">\n",
       "  <thead>\n",
       "    <tr style=\"text-align: right;\">\n",
       "      <th></th>\n",
       "      <th>record</th>\n",
       "      <th>indent</th>\n",
       "      <th>data_level</th>\n",
       "      <th>element_name</th>\n",
       "      <th>raw_element_descriptors</th>\n",
       "      <th>data_step</th>\n",
       "      <th>USAGE</th>\n",
       "      <th>ELEMENT LENGTH</th>\n",
       "      <th>POSITION</th>\n",
       "      <th>PICTURE</th>\n",
       "      <th>REDEFINES</th>\n",
       "      <th>VALUE</th>\n",
       "      <th>OCCURS</th>\n",
       "      <th>table_index</th>\n",
       "      <th>table_vers</th>\n",
       "    </tr>\n",
       "  </thead>\n",
       "  <tbody>\n",
       "    <tr>\n",
       "      <th>0</th>\n",
       "      <td>ACCT-DATA</td>\n",
       "      <td>2</td>\n",
       "      <td>05</td>\n",
       "      <td>LN-NBR</td>\n",
       "      <td>PICTURE IS  9(2)\\n    USAGE IS DISPLAY\\n    EL...</td>\n",
       "      <td>100</td>\n",
       "      <td>DISPLAY</td>\n",
       "      <td>2</td>\n",
       "      <td>1</td>\n",
       "      <td>9(2)</td>\n",
       "      <td>NaN</td>\n",
       "      <td>NaN</td>\n",
       "      <td>NaN</td>\n",
       "      <td>0</td>\n",
       "      <td>1</td>\n",
       "    </tr>\n",
       "    <tr>\n",
       "      <th>1</th>\n",
       "      <td>ACCT-DATA</td>\n",
       "      <td>2</td>\n",
       "      <td>05</td>\n",
       "      <td>FD-CDE</td>\n",
       "      <td>USAGE IS DISPLAY\\n    ELEMENT LENGTH IS 4\\n   ...</td>\n",
       "      <td>200</td>\n",
       "      <td>DISPLAY</td>\n",
       "      <td>4</td>\n",
       "      <td>3</td>\n",
       "      <td>NaN</td>\n",
       "      <td>NaN</td>\n",
       "      <td>NaN</td>\n",
       "      <td>NaN</td>\n",
       "      <td>0</td>\n",
       "      <td>1</td>\n",
       "    </tr>\n",
       "    <tr>\n",
       "      <th>2</th>\n",
       "      <td>ACCT-DATA</td>\n",
       "      <td>4</td>\n",
       "      <td>10</td>\n",
       "      <td>FD-CDE-3</td>\n",
       "      <td>USAGE IS DISPLAY\\n        ELEMENT LENGTH IS 3\\...</td>\n",
       "      <td>300</td>\n",
       "      <td>DISPLAY</td>\n",
       "      <td>3</td>\n",
       "      <td>3</td>\n",
       "      <td>NaN</td>\n",
       "      <td>NaN</td>\n",
       "      <td>NaN</td>\n",
       "      <td>NaN</td>\n",
       "      <td>0</td>\n",
       "      <td>1</td>\n",
       "    </tr>\n",
       "    <tr>\n",
       "      <th>3</th>\n",
       "      <td>ACCT-DATA</td>\n",
       "      <td>6</td>\n",
       "      <td>15</td>\n",
       "      <td>FD-CDE-2</td>\n",
       "      <td>PICTURE IS  9(2)\\n            USAGE IS DISPLAY...</td>\n",
       "      <td>400</td>\n",
       "      <td>DISPLAY</td>\n",
       "      <td>2</td>\n",
       "      <td>3</td>\n",
       "      <td>9(2)</td>\n",
       "      <td>NaN</td>\n",
       "      <td>NaN</td>\n",
       "      <td>NaN</td>\n",
       "      <td>0</td>\n",
       "      <td>1</td>\n",
       "    </tr>\n",
       "    <tr>\n",
       "      <th>4</th>\n",
       "      <td>ACCT-DATA</td>\n",
       "      <td>6</td>\n",
       "      <td>15</td>\n",
       "      <td>FD-CDE-3RD</td>\n",
       "      <td>PICTURE IS  9(1)\\n            USAGE IS DISPLAY...</td>\n",
       "      <td>500</td>\n",
       "      <td>DISPLAY</td>\n",
       "      <td>1</td>\n",
       "      <td>5</td>\n",
       "      <td>9(1)</td>\n",
       "      <td>NaN</td>\n",
       "      <td>NaN</td>\n",
       "      <td>NaN</td>\n",
       "      <td>0</td>\n",
       "      <td>1</td>\n",
       "    </tr>\n",
       "  </tbody>\n",
       "</table>\n",
       "</div>"
      ],
      "text/plain": [
       "      record  indent data_level element_name  \\\n",
       "0  ACCT-DATA       2         05       LN-NBR   \n",
       "1  ACCT-DATA       2         05       FD-CDE   \n",
       "2  ACCT-DATA       4         10     FD-CDE-3   \n",
       "3  ACCT-DATA       6         15     FD-CDE-2   \n",
       "4  ACCT-DATA       6         15   FD-CDE-3RD   \n",
       "\n",
       "                             raw_element_descriptors  data_step    USAGE  \\\n",
       "0  PICTURE IS  9(2)\\n    USAGE IS DISPLAY\\n    EL...        100  DISPLAY   \n",
       "1  USAGE IS DISPLAY\\n    ELEMENT LENGTH IS 4\\n   ...        200  DISPLAY   \n",
       "2  USAGE IS DISPLAY\\n        ELEMENT LENGTH IS 3\\...        300  DISPLAY   \n",
       "3  PICTURE IS  9(2)\\n            USAGE IS DISPLAY...        400  DISPLAY   \n",
       "4  PICTURE IS  9(1)\\n            USAGE IS DISPLAY...        500  DISPLAY   \n",
       "\n",
       "  ELEMENT LENGTH POSITION PICTURE REDEFINES VALUE OCCURS  table_index  \\\n",
       "0              2        1    9(2)       NaN   NaN    NaN            0   \n",
       "1              4        3     NaN       NaN   NaN    NaN            0   \n",
       "2              3        3     NaN       NaN   NaN    NaN            0   \n",
       "3              2        3    9(2)       NaN   NaN    NaN            0   \n",
       "4              1        5    9(1)       NaN   NaN    NaN            0   \n",
       "\n",
       "   table_vers  \n",
       "0           1  \n",
       "1           1  \n",
       "2           1  \n",
       "3           1  \n",
       "4           1  "
      ]
     },
     "execution_count": 58,
     "metadata": {},
     "output_type": "execute_result"
    }
   ],
   "source": [
    "retval.head()"
   ]
  },
  {
   "cell_type": "code",
   "execution_count": 59,
   "id": "6bce9d28-61a7-4bc3-8e1d-7b3bd40a4b87",
   "metadata": {},
   "outputs": [],
   "source": [
    "reformatted_retval = retval.rename( \n",
    "    columns={ \n",
    "        'record': 'table_name',\n",
    "        'element_name' : 'field_name',\n",
    "        'USAGE' : 'end',\n",
    "        'PICTURE' : 'data_type',\n",
    "        'indent' : 'indent_space_count',\n",
    "        'data_step' : 'declaration_step'\n",
    "    } )"
   ]
  },
  {
   "cell_type": "code",
   "execution_count": 60,
   "id": "b6b4da39-3235-4505-92a5-439e2f2edb25",
   "metadata": {},
   "outputs": [],
   "source": [
    "reformatted_retval['BLANK ON'] = ''\n",
    "reformatted_retval['INDEXED BY'] = ''\n",
    "reformatted_retval['OLQ'] = ''"
   ]
  },
  {
   "cell_type": "code",
   "execution_count": 61,
   "id": "586905be-b30c-48ed-bb72-42e5ea69afab",
   "metadata": {},
   "outputs": [],
   "source": [
    "reformatted_retval = reformatted_retval.drop( columns=['raw_element_descriptors'] )"
   ]
  },
  {
   "cell_type": "code",
   "execution_count": 62,
   "id": "0801fe76-ce88-4598-98d5-a79831169e5e",
   "metadata": {},
   "outputs": [],
   "source": [
    "reformatted_retval.to_csv( '2023-02-14_FSA_FARMS_schema_from_source.csv' )"
   ]
  },
  {
   "cell_type": "code",
   "execution_count": 63,
   "id": "a82641dd-e931-4b3e-afaf-d907d4dd977b",
   "metadata": {},
   "outputs": [],
   "source": [
    "#retval.loc[ 'ACCT-DATA' ]\n",
    "#retval.loc[ ('ACCT-DATA', slice(None)), : ]"
   ]
  },
  {
   "cell_type": "code",
   "execution_count": 64,
   "id": "61fa77db-61a5-4e9b-9434-b18313c0b564",
   "metadata": {},
   "outputs": [
    {
     "name": "stdout",
     "output_type": "stream",
     "text": [
      ",table_name,indent_space_count,data_level,field_name,declaration_step,end,ELEMENT LENGTH,POSITION,data_type,REDEFINES,VALUE,OCCURS,table_index,table_vers,BLANK ON,INDEXED BY,OLQ\n",
      "0,ACCT-DATA,2,05,LN-NBR,100,DISPLAY,2,1,9(2),,,,0,1,,,\n",
      "1,ACCT-DATA,2,05,FD-CDE,200,DISPLAY,4,3,,,,,0,1,,,\n",
      "2,ACCT-DATA,4,10,FD-CDE-3,300,DISPLAY,3,3,,,,,0,1,,,\n",
      "3,ACCT-DATA,6,15,FD-CDE-2,400,DISPLAY,2,3,9(2),,,,0,1,,,\n",
      "4,ACCT-DATA,6,15,FD-CDE-3RD,500,DISPLAY,1,5,9(1),,,,0,1,,,\n",
      "5,ACCT-DATA,4,10,FD-CDE-4TH,600,DISPLAY,1,6,9(1),,,,0,1,,,\n",
      "6,ACCT-DATA,2,05,KIND-CDE-LN,700,DISPLAY,2,7,9(2),,,,0,1,,,\n",
      "7,ACCT-DATA,2,05,INT-RATE-NOTE,800,DISPLAY,6,9,9(2)V9(4),,,,0,1,,,\n",
      "8,ACCT-DATA,2,05,INT-RATE-NOTE-1ST,900,DISPLAY,6,9,V9(6),INT-RATE-NOTE,,,0,1,,,\n",
      "9,ACCT-DATA,2,05,PYMT-TYP-CDE,1000,DISPLAY,1,15,9(1),,,,0,1,,,\n",
      "10,ACCT-DATA,2,05,DIR-PYMT-CDE,1100,DISPLAY,1,16,9(1),,,,0,1,,,\n",
      "11,ACCT-DATA,2,05,DTE-AMORTN-EFCTV,1200,DISPLAY,6,17,9(06),,,,0,1,,,\n",
      "12,ACCT-DATA,2,05,DSTR-DCLRD-CDE,1300,DISPLAY,5,23,,,,,0,1,,,\n",
      "13,ACCT-DATA,4,10,DSTR-TYP-CDE,1400,DISPLAY,1,23,9(1),,,,0,1,,,\n",
      "14,ACCT-DATA,4,10,FY-DSTR-DCLRD,1500,DISPLAY,1,24,9(1),,,,0,1,,,\n",
      "15,ACCT-DATA,4,10,DSTR-DCLRD-NBR,1600,DISPLAY,3,25,9(3),,,,0,1,,,\n",
      "16,ACCT-DATA,2,05,MRG-CNTRL,1700,DISPLAY,2,28,9(2),,,,0,1,,,\n",
      "17,ACCT-DATA,2,05,DOCMT-TYP-CDE,1800,DISPLAY,1,30,X(1),,,,0,1,,,\n",
      "18,ACCT-DATA,2,05,DTE-OBLGN-LN,1900,DISPLAY,6,31,9(06),,,,0,1,,,\n",
      "19,ACCT-DATA,2,05,ASSTNC-TYP-CDE,2000,DISPLAY,3,37,9(3),,,,0,1,,,\n",
      "20,ACCT-DATA,2,05,LN-AMT-OBLGN,2100,COMP-3,6,40,S9(8)V99,,,,0,1,,,\n",
      "21,ACCT-DATA,2,05,BEGNG-FRMR-RNCHR-CDE,2200,DISPLAY,1,46,X(01),,,,0,1,,,\n",
      "22,ACCT-DATA,2,05,COLLTL-CDE,2300,DISPLAY,1,47,9(1),,,,0,1,,,\n",
      "23,ACCT-DATA,2,05,CPN-PROCG-DTE,2400,DISPLAY,6,48,9(6),,,,0,1,,,\n",
      "24,ACCT-DATA,2,05,CASE-NBR-CHNG-CDE,2500,DISPLAY,1,54,9(01),,,,0,1,,,\n",
      "25,ACCT-DATA,2,05,PYMT-ASSTNC-METH-CDE,2600,DISPLAY,1,55,9(1),,,,0,1,,,\n",
      "26,ACCT-DATA,2,05,INT-RATE-PREV,2700,DISPLAY,6,56,9(2)V9(4),,,,0,1,,,\n",
      "27,ACCT-DATA,2,05,INT-RATE-PREV-REDFND,2800,DISPLAY,6,56,V9(6),INT-RATE-PREV,,,0,1,,,\n",
      "28,ACCT-DATA,2,05,FILLER,2900,DISPLAY,19,62,X(0019),,,,0,1,,,\n"
     ]
    }
   ],
   "source": [
    "!head -30 2023-02-14_FSA_FARMS_schema_from_source.csv"
   ]
  },
  {
   "cell_type": "markdown",
   "id": "4c383f32-af47-4eb5-bbf9-132bd797e5aa",
   "metadata": {},
   "source": [
    "# Analyze sets"
   ]
  },
  {
   "cell_type": "code",
   "execution_count": 65,
   "id": "615035f0-daa9-4b99-94eb-b8f7f72eca02",
   "metadata": {},
   "outputs": [],
   "source": [
    "set_components = [ c for t, c in zip( component_categories, components ) if t == \"SET\" ]"
   ]
  },
  {
   "cell_type": "code",
   "execution_count": 66,
   "id": "03fc952e-3695-4fa3-8dcc-f3c92cc19ef8",
   "metadata": {},
   "outputs": [
    {
     "data": {
      "text/plain": [
       "1"
      ]
     },
     "execution_count": 66,
     "metadata": {},
     "output_type": "execute_result"
    }
   ],
   "source": [
    "len( set_components)"
   ]
  },
  {
   "cell_type": "code",
   "execution_count": 67,
   "id": "aa151daf-a573-476c-a878-1e999964b029",
   "metadata": {},
   "outputs": [
    {
     "name": "stdout",
     "output_type": "stream",
     "text": [
      "SET NAME IS RMS-SDC-ADRS-SET\n",
      "    ORDER IS SORTED\n",
      "    MODE IS CHAIN LINKED TO PRIOR\n",
      "    OWNER IS RMSADRS\n",
      "        WITHIN AREA RMS-SDC-AREA\n",
      "        NEXT DBKEY POSITION IS 1\n",
      "        PRIOR DBKEY POSITION IS 2\n",
      "    MEMBER IS RMSDATA\n",
      "        WITHIN AREA RMS-SDC-AREA\n",
      "        NEXT DBKEY POSITION IS 1\n",
      "        PRIOR DBKEY POSITION IS 2\n",
      "        LINKED TO OWNER\n",
      "        OWNER DBKEY POSITION IS 3\n",
      "        MANDATORY AUTOMATIC\n",
      "        KEY IS (\n",
      "            YR-MO-101 DESCENDING )\n",
      "            DUPLICATES ARE NOT ALLOWED\n",
      "    .\n",
      "\n"
     ]
    }
   ],
   "source": [
    "print( set_components[0] )"
   ]
  },
  {
   "cell_type": "code",
   "execution_count": 69,
   "id": "a2ccd24b-a1d1-4d34-b6f4-8f2050d8f904",
   "metadata": {},
   "outputs": [
    {
     "name": "stdout",
     "output_type": "stream",
     "text": [
      "['SET NAME IS RMS-SDC-ADRS-SET\\n    ORDER IS SORTED\\n    MODE IS CHAIN LINKED TO PRIOR\\n    OWNER IS RMSADRS\\n        WITHIN AREA RMS-SDC-AREA\\n        NEXT DBKEY POSITION IS 1\\n        PRIOR DBKEY POSITION IS 2\\n    MEMBER IS RMSDATA\\n        WITHIN AREA RMS-SDC-AREA\\n        NEXT DBKEY POSITION IS 1\\n        PRIOR DBKEY POSITION IS 2\\n        LINKED TO OWNER\\n        OWNER DBKEY POSITION IS 3\\n        MANDATORY AUTOMATIC\\n        KEY IS (\\n            YR-MO-101 DESCENDING )\\n            DUPLICATES ARE NOT ALLOWED\\n    .\\n']\n"
     ]
    }
   ],
   "source": [
    "print( set_components)"
   ]
  },
  {
   "cell_type": "code",
   "execution_count": 70,
   "id": "0f23cc12-0daf-46f6-a5a5-094415793a16",
   "metadata": {},
   "outputs": [],
   "source": [
    "test_str = \"\"\"        KEY IS (\n",
    "            CTRY-DIGIT DESCENDING\n",
    "            DTE-CK-SORT DESCENDING )\"\"\""
   ]
  },
  {
   "cell_type": "code",
   "execution_count": 71,
   "id": "cd8c1b8d-06ef-4252-8d46-d8c06bd0c8b5",
   "metadata": {},
   "outputs": [],
   "source": [
    "import numpy as np"
   ]
  },
  {
   "cell_type": "code",
   "execution_count": 72,
   "id": "5f2d2e1a-1d1a-4be2-a385-58e851fcf8a8",
   "metadata": {},
   "outputs": [],
   "source": [
    "key_search_pat = re.compile( r'KEY IS \\(\\s+(.*) \\)', flags=re.MULTILINE | re.DOTALL )"
   ]
  },
  {
   "cell_type": "code",
   "execution_count": 73,
   "id": "99fe8b26-7b67-48cd-b4ba-533d4b4977f5",
   "metadata": {},
   "outputs": [],
   "source": [
    "whitespace_search_pat = re.compile( r'\\s+', flags=re.MULTILINE )"
   ]
  },
  {
   "cell_type": "code",
   "execution_count": 74,
   "id": "161abb22-4020-4370-a4ad-4f0275d379f1",
   "metadata": {},
   "outputs": [
    {
     "name": "stdout",
     "output_type": "stream",
     "text": [
      "        KEY IS (\n",
      "            CTRY-DIGIT DESCENDING\n",
      "            DTE-CK-SORT DESCENDING )\n"
     ]
    }
   ],
   "source": [
    "print( test_str)"
   ]
  },
  {
   "cell_type": "code",
   "execution_count": 75,
   "id": "68287038-7296-4b86-89d5-84300d528145",
   "metadata": {},
   "outputs": [],
   "source": [
    "m = key_search_pat.search( test_str )"
   ]
  },
  {
   "cell_type": "code",
   "execution_count": 76,
   "id": "41b0c797-ec8f-45eb-be6c-d4ef3af31493",
   "metadata": {},
   "outputs": [
    {
     "data": {
      "text/plain": [
       "'CTRY-DIGIT DESCENDING\\n            DTE-CK-SORT DESCENDING'"
      ]
     },
     "execution_count": 76,
     "metadata": {},
     "output_type": "execute_result"
    }
   ],
   "source": [
    "m.group(1)"
   ]
  },
  {
   "cell_type": "code",
   "execution_count": 77,
   "id": "dc528752-7803-475a-bbb0-a44f84160d0a",
   "metadata": {},
   "outputs": [],
   "source": [
    "def FormatSet( component_text ):\n",
    "    \n",
    "    key_clause = None\n",
    "    m = key_search_pat.search( component_text )\n",
    "    if m:\n",
    "        key_clause = \" \".join( whitespace_search_pat.split( m.group(1) ) )\n",
    "    \n",
    "    lines_df = pd.DataFrame( { 'raw_line' : component_text.split( '\\n' ) } )\n",
    "    lines_df['indent'] = lines_df['raw_line'].str.extract( r'^(\\s+)' )\n",
    "    lines_df['indent'] = lines_df['indent'].fillna( \"\" ).apply( len )\n",
    "\n",
    "    lines_df[ ['attribute', 'value' ] ] = lines_df['raw_line'].str.extract( r'^\\s*(.+) IS (.+)' )\n",
    "    \n",
    "    lines_df.index.name = 'line'\n",
    "\n",
    "    set_name = lines_df.loc[ lines_df[ 'attribute' ] == 'SET NAME', 'value' ].values[0]\n",
    "    \n",
    "    lines_df['set_name'] = set_name\n",
    "    #lines_df = lines_df.set_index( 'set_name', append=True )\n",
    "    if key_clause:\n",
    "        lines_df.loc[ lines_df[ 'attribute' ] == 'KEY', 'value' ] = key_clause\n",
    "    \n",
    "    lines_df['group'] = np.nan\n",
    "    lines_df.loc[ lines_df['indent'] == 4, 'group'] = lines_df.loc[ lines_df['indent'] == 4, 'attribute' ]\n",
    "    lines_df['group'] = lines_df['group'].ffill()\n",
    "    \n",
    "    #print( lines_df )\n",
    "    # label multiple members\n",
    "    member_index = 0\n",
    "    new_group = []\n",
    "    new_attribute = []\n",
    "    new_value = []\n",
    "    for raw_line, group, indent, attribute, value in lines_df[ [ 'raw_line', 'group', 'indent', 'attribute', 'value' ] ].values:\n",
    "\n",
    "        if \"WITHIN AREA\" in raw_line:\n",
    "            attribute, value = raw_line.strip().rsplit( \" \", 1 )\n",
    "        else:\n",
    "            try:\n",
    "                if np.isnan( attribute ):\n",
    "                    attribute = raw_line\n",
    "                    value = True\n",
    "            except:\n",
    "                pass\n",
    "\n",
    "        if group != \"MEMBER\":\n",
    "            new_group.append( group )\n",
    "            new_attribute.append( attribute ) \n",
    "            new_value.append( value )\n",
    "            continue\n",
    "        if indent == 4 and attribute == \"MEMBER\":\n",
    "            member_index += 1\n",
    "            new_attribute.append( f\"MEMBER { str(member_index).zfill(2) }\" )\n",
    "            new_group.append( f\"MEMBER {str(member_index).zfill(2)}\" )\n",
    "            new_value.append( value )\n",
    "            continue\n",
    "        if indent == 12:\n",
    "            if ')' in raw_line:\n",
    "                attribute = value = None\n",
    "            else:\n",
    "                attribute = f\"MEMBER { str(member_index).zfill(2) } KEY {raw_line.strip()}\"\n",
    "                value = True\n",
    "                \n",
    "        new_group.append( f\"MEMBER {str(member_index).zfill(2)}\" )\n",
    "        new_attribute.append( attribute )\n",
    "        new_value.append( value )\n",
    "\n",
    "        \n",
    "    lines_df[ 'attribute' ] = new_attribute\n",
    "    lines_df[ 'group' ] = new_group\n",
    "    lines_df[ 'value' ] = new_value\n",
    "    \n",
    "    # label attributes as owner or member\n",
    "    relevant_rows = lines_df['indent'] == 8\n",
    "    lines_df.loc[ relevant_rows, 'attribute' ]  = lines_df.loc[ relevant_rows, 'group' ] + \" \" + lines_df.loc[ relevant_rows, 'attribute' ]\n",
    "    \n",
    "    wanted_rows = (lines_df['indent'] <= 8) & ( ~lines_df['attribute'].isna() )\n",
    "    \n",
    "    #try:\n",
    "    #    lines_df = lines_df.loc[ wanted_rows ].pivot( columns = 'attribute', values = 'value', index = 'set_name' )\n",
    "    #except ValueError:\n",
    "    #    print( lines_df )\n",
    "    #    raise\n",
    "                   \n",
    "    return lines_df\n",
    "    "
   ]
  },
  {
   "cell_type": "code",
   "execution_count": null,
   "id": "74c8c7f3-8701-49cb-885a-5486e2f360a0",
   "metadata": {},
   "outputs": [],
   "source": [
    "print( set_components[7] )"
   ]
  },
  {
   "cell_type": "code",
   "execution_count": null,
   "id": "384ea66e-1e7a-41d4-8537-591bff54dbb2",
   "metadata": {},
   "outputs": [],
   "source": [
    "FormatSet( set_components[7] )"
   ]
  },
  {
   "cell_type": "code",
   "execution_count": null,
   "id": "2da37e98-3d2b-4265-9ff6-74b7fb625e9b",
   "metadata": {},
   "outputs": [],
   "source": [
    "pivoted_data = pd.concat( [ FormatSet(_) for _ in set_components ] )"
   ]
  },
  {
   "cell_type": "code",
   "execution_count": null,
   "id": "31c95e56-bd23-4166-bd6f-c4bde03308d4",
   "metadata": {},
   "outputs": [],
   "source": [
    "pivoted_data"
   ]
  },
  {
   "cell_type": "code",
   "execution_count": null,
   "id": "5f46b52d-6cc7-4b1c-ac8d-25c4de6d7224",
   "metadata": {},
   "outputs": [],
   "source": [
    "#pivoted_data = pivoted_data[ sorted( pivoted_data.columns ) ]"
   ]
  },
  {
   "cell_type": "code",
   "execution_count": null,
   "id": "87393dcb-fc8a-412d-baf4-c938af71059c",
   "metadata": {},
   "outputs": [],
   "source": [
    "pivoted_data.to_excel( '2023-02-07_Farms_Set_Data.xlsx' )"
   ]
  },
  {
   "cell_type": "code",
   "execution_count": null,
   "id": "5240a00a-f53d-4987-9928-6cdb9a6dc320",
   "metadata": {},
   "outputs": [],
   "source": [
    "pwd"
   ]
  },
  {
   "cell_type": "code",
   "execution_count": null,
   "id": "36010b3d-5e2c-4a67-80a2-35915e8772ec",
   "metadata": {},
   "outputs": [],
   "source": []
  }
 ],
 "metadata": {
  "kernelspec": {
   "display_name": "Python 3 (ipykernel)",
   "language": "python",
   "name": "python3"
  },
  "language_info": {
   "codemirror_mode": {
    "name": "ipython",
    "version": 3
   },
   "file_extension": ".py",
   "mimetype": "text/x-python",
   "name": "python",
   "nbconvert_exporter": "python",
   "pygments_lexer": "ipython3",
   "version": "3.10.4"
  }
 },
 "nbformat": 4,
 "nbformat_minor": 5
}
