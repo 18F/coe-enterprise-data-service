{
 "cells": [
  {
   "cell_type": "markdown",
   "id": "b71edefa-1f14-4478-b07b-e2b73fd86044",
   "metadata": {},
   "source": [
    "* [Reading COBOL Layouts](http://www.3480-3590-data-conversion.com/article-reading-cobol-layouts-1.html)"
   ]
  },
  {
   "cell_type": "markdown",
   "id": "cfe0fc76-06f0-434c-9cfd-a510d0db60f3",
   "metadata": {},
   "source": [
    "# Load libraries. Requires install of 3rd party libraries Numpy, PANDAS and treelib"
   ]
  },
  {
   "cell_type": "code",
   "execution_count": 1,
   "id": "af2cfb68-8191-4b81-828f-112efac45715",
   "metadata": {},
   "outputs": [],
   "source": [
    "import pandas as pd\n",
    "from pathlib import Path\n",
    "from treelib import Tree\n",
    "import numpy as np"
   ]
  },
  {
   "cell_type": "markdown",
   "id": "cd9fef59-d661-445d-96b3-33a7236d5780",
   "metadata": {},
   "source": [
    "# Read in CSV containing parsed IDMS schema source"
   ]
  },
  {
   "cell_type": "code",
   "execution_count": 2,
   "id": "8358cdd3-3ffb-4299-b361-9690611fc12a",
   "metadata": {},
   "outputs": [],
   "source": [
    "#copybook_data[ ['leading_whitespace','new_leading_whitespace'] ]\n",
    "#metadata = pd.read_excel( '2022-12-15_IDMS_table_descriptions.xlsx', index_col=0 )\n",
    "#metadata.index.name = \"table_index\"\n",
    "#wanted_subsystem = \"DISCREPANCY PROCESSING AND ACCOUNT INFORMATION INQUIRY\"\n",
    "#metadata[ metadata[ wanted_subsystem ] == 1 ].copy()"
   ]
  },
  {
   "cell_type": "code",
   "execution_count": 3,
   "id": "560fac24-0414-41c5-82bd-f1a1b5877dd6",
   "metadata": {},
   "outputs": [],
   "source": [
    "data = pd.read_csv('2023-02-14_FSA_FARMS_schema_from_source.csv', index_col=0)\n",
    "#data = pd.read_excel( \"2022-12-08_PLAS_IDMS_data_structure_WITH_VALID_VALUES.xlsx\", index_col=0 )"
   ]
  },
  {
   "cell_type": "code",
   "execution_count": 4,
   "id": "3a631059-09c6-4435-a9d0-162216dc6088",
   "metadata": {},
   "outputs": [],
   "source": [
    "# Start off with all lines commented out and bring them back in\n",
    "# Only if they turn out to be un-redefined leaf nodes:\n",
    "data['commented_out'] = True"
   ]
  },
  {
   "cell_type": "code",
   "execution_count": 5,
   "id": "d3b88612-3cec-46e6-a3bf-c3c9a67e98e1",
   "metadata": {},
   "outputs": [
    {
     "name": "stdout",
     "output_type": "stream",
     "text": [
      "<class 'pandas.core.frame.DataFrame'>\n",
      "Int64Index: 2218 entries, 0 to 12\n",
      "Data columns (total 18 columns):\n",
      " #   Column              Non-Null Count  Dtype  \n",
      "---  ------              --------------  -----  \n",
      " 0   table_name          2218 non-null   object \n",
      " 1   indent_space_count  2218 non-null   int64  \n",
      " 2   data_level          2218 non-null   int64  \n",
      " 3   field_name          2218 non-null   object \n",
      " 4   declaration_step    2218 non-null   int64  \n",
      " 5   end                 2218 non-null   object \n",
      " 6   ELEMENT LENGTH      2154 non-null   float64\n",
      " 7   POSITION            2218 non-null   int64  \n",
      " 8   data_type           1961 non-null   object \n",
      " 9   REDEFINES           23 non-null     object \n",
      " 10  VALUE               66 non-null     object \n",
      " 11  OCCURS              31 non-null     object \n",
      " 12  table_index         2218 non-null   int64  \n",
      " 13  table_vers          2218 non-null   int64  \n",
      " 14  BLANK ON            0 non-null      float64\n",
      " 15  INDEXED BY          0 non-null      float64\n",
      " 16  OLQ                 0 non-null      float64\n",
      " 17  commented_out       2218 non-null   bool   \n",
      "dtypes: bool(1), float64(4), int64(6), object(7)\n",
      "memory usage: 314.1+ KB\n"
     ]
    }
   ],
   "source": [
    "data.info()"
   ]
  },
  {
   "cell_type": "code",
   "execution_count": 6,
   "id": "4f40cf78-6065-4122-a2df-457f328de27d",
   "metadata": {},
   "outputs": [
    {
     "data": {
      "text/plain": [
       "5     1295\n",
       "10     626\n",
       "15     220\n",
       "88      64\n",
       "20      13\n",
       "Name: data_level, dtype: int64"
      ]
     },
     "execution_count": 6,
     "metadata": {},
     "output_type": "execute_result"
    }
   ],
   "source": [
    "data['data_level'].value_counts()"
   ]
  },
  {
   "cell_type": "code",
   "execution_count": 7,
   "id": "f2ad4c34-c3c6-4584-a905-93c25e31bbc0",
   "metadata": {},
   "outputs": [],
   "source": [
    "pd.set_option( 'display.max_rows', None )"
   ]
  },
  {
   "cell_type": "code",
   "execution_count": 8,
   "id": "f784299c-786b-41ef-ba5a-f6361bafbcd8",
   "metadata": {},
   "outputs": [],
   "source": [
    "#data.groupby( 'table_name')[ 'data_level' ].value_counts().to_frame()"
   ]
  },
  {
   "cell_type": "code",
   "execution_count": 9,
   "id": "54b6d2e0-8a89-4f04-958d-5d75b7a2b88d",
   "metadata": {},
   "outputs": [],
   "source": [
    "#test_df = data[ data['table_name'] == 'CLIENT' ]"
   ]
  },
  {
   "cell_type": "markdown",
   "id": "3026b744-6e2a-4ea8-8191-861a4bbce556",
   "metadata": {},
   "source": [
    "## List all table/record names in this schema"
   ]
  },
  {
   "cell_type": "code",
   "execution_count": 10,
   "id": "7213f663-a957-4acb-8903-7806001ee42c",
   "metadata": {},
   "outputs": [
    {
     "data": {
      "text/plain": [
       "array(['ACCT-DATA', 'ACQD-PROP', 'ADPS-CNTRL', 'ADVANCE', 'AID',\n",
       "       'ALTMADJ', 'ALTMADJ-NEW', 'ALTMT', 'AMORTD-CST', 'APROPTN-LOOKUP',\n",
       "       'ASSISTANCE', 'ASSOC-PRIN-BOND', 'CASE', 'CDEJUNC', 'CDESTR',\n",
       "       'CHECKS', 'CK-CNTRL', 'CK-INFO', 'CK-INFO-FRADS', 'CLIENT',\n",
       "       'CLIENT-SFSI', 'COHORT', 'CRBUR', 'CRCLAIMS', 'CRRATE',\n",
       "       'CTY-LOOKUP', 'DALLOT', 'DALLOT-DTL', 'DALLOT-OBLGN', 'DALLOT-OTH',\n",
       "       'DAPROC', 'DISCRP', 'DISCRP-MISC', 'DSTR-SETASD', 'DTEREC',\n",
       "       'DTL-RATE', 'EASMNT', 'EQTYRVRS', 'EQUITY', 'FD-SIDE', 'FDCDE',\n",
       "       'GLBORR', 'GLLNDR', 'IMCASE', 'INITMAN', 'INSRNC-AUTHY',\n",
       "       'INSTALLMENT', 'INSURANCE', 'INT-ASSTNC', 'INT-BDWN', 'INVSTR-DTL',\n",
       "       'INVSTR-INFO', 'INVSTR-INFO-MISC', 'JDGMT-3RD-PARTY',\n",
       "       'JOB-RESTART', 'JURDCTN', 'LESSEE', 'LN-AID', 'LN-NO-INT',\n",
       "       'LNRATE', 'LOAN', 'LOAN-DRE', 'LOAN-OTC', 'LOAN-SFSI',\n",
       "       'LOCTN-LOOKUP', 'LSE-INFO', 'MALLOT', 'MALLOT-OBLGN', 'MALLOT-OTH',\n",
       "       'MSTR-RATE', 'NOTIFY', 'NOTIFY-CNTRL', 'OBLGN', 'ORDERS',\n",
       "       'ORGZTN-LOOKUP', 'OVFLO', 'PD-ACCT-RVRSL', 'PLEREP', 'PROG-SAVE',\n",
       "       'PRTLSALE', 'RDA-ALTMT', 'RDA-AREA-DALLOT', 'RDA-AREA-OBLGN',\n",
       "       'RDA-DALLOT-DTL', 'RDA-DALLOT-OBLGN', 'RDA-FD-SIDE',\n",
       "       'RDA-INSRNC-AUTHY', 'RDA-MALLOT', 'RDA-MALLOT-OBLGN',\n",
       "       'RDA-RGN-DTL', 'RDA-RGN-OBLGN', 'REJECT-TRNSCTN', 'RENTL-CNTRL',\n",
       "       'RENTL-DTL', 'RENTL-FY-UNIT', 'RENTL-TTL', 'RESCHEDULE', 'RH-DFRL',\n",
       "       'SITE-LOOKUP', 'SRCFDS', 'ST-LOOKUP', 'STAT', 'STOPPER', 'SUBSIDY',\n",
       "       'SUBSRC', 'TRNSCTN-CNTRL', 'TRNSCTN-RVRSL', 'TRRATE', 'TRSTR',\n",
       "       'USER-AUTHY', 'USER-DOMAIN', 'USER-STATCS', 'USERS'], dtype=object)"
      ]
     },
     "execution_count": 10,
     "metadata": {},
     "output_type": "execute_result"
    }
   ],
   "source": [
    "data['table_name'].unique()"
   ]
  },
  {
   "cell_type": "code",
   "execution_count": 11,
   "id": "409b60e2-5c3e-4e9a-8a9b-b30a0fa9d725",
   "metadata": {},
   "outputs": [
    {
     "data": {
      "text/plain": [
       "2218"
      ]
     },
     "execution_count": 11,
     "metadata": {},
     "output_type": "execute_result"
    }
   ],
   "source": [
    "data['data_level'].value_counts().sum()"
   ]
  },
  {
   "cell_type": "code",
   "execution_count": 12,
   "id": "255cfcdc-add3-435f-994c-da6e7a1b096f",
   "metadata": {},
   "outputs": [],
   "source": [
    "#data['indent_space_count'].value_counts()"
   ]
  },
  {
   "cell_type": "code",
   "execution_count": 13,
   "id": "598a06e8-e82b-41c7-a2f7-50a2694e31a8",
   "metadata": {},
   "outputs": [
    {
     "data": {
      "text/html": [
       "<div>\n",
       "<style scoped>\n",
       "    .dataframe tbody tr th:only-of-type {\n",
       "        vertical-align: middle;\n",
       "    }\n",
       "\n",
       "    .dataframe tbody tr th {\n",
       "        vertical-align: top;\n",
       "    }\n",
       "\n",
       "    .dataframe thead th {\n",
       "        text-align: right;\n",
       "    }\n",
       "</style>\n",
       "<table border=\"1\" class=\"dataframe\">\n",
       "  <thead>\n",
       "    <tr style=\"text-align: right;\">\n",
       "      <th></th>\n",
       "      <th>table_name</th>\n",
       "      <th>indent_space_count</th>\n",
       "      <th>data_level</th>\n",
       "      <th>field_name</th>\n",
       "      <th>declaration_step</th>\n",
       "      <th>end</th>\n",
       "      <th>ELEMENT LENGTH</th>\n",
       "      <th>POSITION</th>\n",
       "      <th>data_type</th>\n",
       "      <th>REDEFINES</th>\n",
       "      <th>VALUE</th>\n",
       "      <th>OCCURS</th>\n",
       "      <th>table_index</th>\n",
       "      <th>table_vers</th>\n",
       "      <th>BLANK ON</th>\n",
       "      <th>INDEXED BY</th>\n",
       "      <th>OLQ</th>\n",
       "      <th>commented_out</th>\n",
       "    </tr>\n",
       "  </thead>\n",
       "  <tbody>\n",
       "    <tr>\n",
       "      <th>65</th>\n",
       "      <td>GLBORR</td>\n",
       "      <td>6</td>\n",
       "      <td>15</td>\n",
       "      <td>DBT-ADJMT-CDE</td>\n",
       "      <td>6600</td>\n",
       "      <td>DISPLAY</td>\n",
       "      <td>1.0</td>\n",
       "      <td>138</td>\n",
       "      <td>9(01)</td>\n",
       "      <td>NaN</td>\n",
       "      <td>NaN</td>\n",
       "      <td>NaN</td>\n",
       "      <td>41</td>\n",
       "      <td>1</td>\n",
       "      <td>NaN</td>\n",
       "      <td>NaN</td>\n",
       "      <td>NaN</td>\n",
       "      <td>True</td>\n",
       "    </tr>\n",
       "    <tr>\n",
       "      <th>17</th>\n",
       "      <td>CK-INFO-FRADS</td>\n",
       "      <td>2</td>\n",
       "      <td>5</td>\n",
       "      <td>FY</td>\n",
       "      <td>1800</td>\n",
       "      <td>DISPLAY</td>\n",
       "      <td>2.0</td>\n",
       "      <td>82</td>\n",
       "      <td>9(2)</td>\n",
       "      <td>NaN</td>\n",
       "      <td>NaN</td>\n",
       "      <td>NaN</td>\n",
       "      <td>18</td>\n",
       "      <td>1</td>\n",
       "      <td>NaN</td>\n",
       "      <td>NaN</td>\n",
       "      <td>NaN</td>\n",
       "      <td>True</td>\n",
       "    </tr>\n",
       "    <tr>\n",
       "      <th>11</th>\n",
       "      <td>RENTL-CNTRL</td>\n",
       "      <td>2</td>\n",
       "      <td>5</td>\n",
       "      <td>FAM-UNIT-OBLGD-TTL</td>\n",
       "      <td>1200</td>\n",
       "      <td>COMP-3</td>\n",
       "      <td>5.0</td>\n",
       "      <td>54</td>\n",
       "      <td>S9(8)</td>\n",
       "      <td>NaN</td>\n",
       "      <td>NaN</td>\n",
       "      <td>NaN</td>\n",
       "      <td>92</td>\n",
       "      <td>1</td>\n",
       "      <td>NaN</td>\n",
       "      <td>NaN</td>\n",
       "      <td>NaN</td>\n",
       "      <td>True</td>\n",
       "    </tr>\n",
       "    <tr>\n",
       "      <th>25</th>\n",
       "      <td>ALTMADJ-NEW</td>\n",
       "      <td>6</td>\n",
       "      <td>15</td>\n",
       "      <td>PROG-PLANG-BDGTG-CDE</td>\n",
       "      <td>2600</td>\n",
       "      <td>DISPLAY</td>\n",
       "      <td>3.0</td>\n",
       "      <td>15</td>\n",
       "      <td>NaN</td>\n",
       "      <td>NaN</td>\n",
       "      <td>NaN</td>\n",
       "      <td>NaN</td>\n",
       "      <td>6</td>\n",
       "      <td>1</td>\n",
       "      <td>NaN</td>\n",
       "      <td>NaN</td>\n",
       "      <td>NaN</td>\n",
       "      <td>True</td>\n",
       "    </tr>\n",
       "    <tr>\n",
       "      <th>3</th>\n",
       "      <td>ACCT-DATA</td>\n",
       "      <td>6</td>\n",
       "      <td>15</td>\n",
       "      <td>FD-CDE-2</td>\n",
       "      <td>400</td>\n",
       "      <td>DISPLAY</td>\n",
       "      <td>2.0</td>\n",
       "      <td>3</td>\n",
       "      <td>9(2)</td>\n",
       "      <td>NaN</td>\n",
       "      <td>NaN</td>\n",
       "      <td>NaN</td>\n",
       "      <td>0</td>\n",
       "      <td>1</td>\n",
       "      <td>NaN</td>\n",
       "      <td>NaN</td>\n",
       "      <td>NaN</td>\n",
       "      <td>True</td>\n",
       "    </tr>\n",
       "    <tr>\n",
       "      <th>3</th>\n",
       "      <td>CLIENT</td>\n",
       "      <td>4</td>\n",
       "      <td>10</td>\n",
       "      <td>ID-NBR-OBLR</td>\n",
       "      <td>400</td>\n",
       "      <td>DISPLAY</td>\n",
       "      <td>10.0</td>\n",
       "      <td>6</td>\n",
       "      <td>9(10)</td>\n",
       "      <td>NaN</td>\n",
       "      <td>NaN</td>\n",
       "      <td>NaN</td>\n",
       "      <td>19</td>\n",
       "      <td>1</td>\n",
       "      <td>NaN</td>\n",
       "      <td>NaN</td>\n",
       "      <td>NaN</td>\n",
       "      <td>True</td>\n",
       "    </tr>\n",
       "    <tr>\n",
       "      <th>5</th>\n",
       "      <td>CTY-LOOKUP</td>\n",
       "      <td>2</td>\n",
       "      <td>5</td>\n",
       "      <td>FIPS-CTY-CDE</td>\n",
       "      <td>600</td>\n",
       "      <td>DISPLAY</td>\n",
       "      <td>3.0</td>\n",
       "      <td>18</td>\n",
       "      <td>9(3)</td>\n",
       "      <td>NaN</td>\n",
       "      <td>NaN</td>\n",
       "      <td>NaN</td>\n",
       "      <td>25</td>\n",
       "      <td>1</td>\n",
       "      <td>NaN</td>\n",
       "      <td>NaN</td>\n",
       "      <td>NaN</td>\n",
       "      <td>True</td>\n",
       "    </tr>\n",
       "    <tr>\n",
       "      <th>11</th>\n",
       "      <td>GLLNDR</td>\n",
       "      <td>4</td>\n",
       "      <td>10</td>\n",
       "      <td>LNDR-TYP</td>\n",
       "      <td>1200</td>\n",
       "      <td>DISPLAY</td>\n",
       "      <td>2.0</td>\n",
       "      <td>130</td>\n",
       "      <td>XX</td>\n",
       "      <td>NaN</td>\n",
       "      <td>NaN</td>\n",
       "      <td>NaN</td>\n",
       "      <td>42</td>\n",
       "      <td>1</td>\n",
       "      <td>NaN</td>\n",
       "      <td>NaN</td>\n",
       "      <td>NaN</td>\n",
       "      <td>True</td>\n",
       "    </tr>\n",
       "    <tr>\n",
       "      <th>87</th>\n",
       "      <td>GLLNDR</td>\n",
       "      <td>4</td>\n",
       "      <td>10</td>\n",
       "      <td>OL-LNS-LOSS-PD-CNT</td>\n",
       "      <td>8800</td>\n",
       "      <td>COMP-3</td>\n",
       "      <td>3.0</td>\n",
       "      <td>535</td>\n",
       "      <td>S9(04)</td>\n",
       "      <td>NaN</td>\n",
       "      <td>NaN</td>\n",
       "      <td>NaN</td>\n",
       "      <td>42</td>\n",
       "      <td>1</td>\n",
       "      <td>NaN</td>\n",
       "      <td>NaN</td>\n",
       "      <td>NaN</td>\n",
       "      <td>True</td>\n",
       "    </tr>\n",
       "    <tr>\n",
       "      <th>7</th>\n",
       "      <td>OVFLO</td>\n",
       "      <td>2</td>\n",
       "      <td>5</td>\n",
       "      <td>CARD-TYP</td>\n",
       "      <td>800</td>\n",
       "      <td>DISPLAY</td>\n",
       "      <td>1.0</td>\n",
       "      <td>76</td>\n",
       "      <td>X(01)</td>\n",
       "      <td>NaN</td>\n",
       "      <td>NaN</td>\n",
       "      <td>NaN</td>\n",
       "      <td>75</td>\n",
       "      <td>1</td>\n",
       "      <td>NaN</td>\n",
       "      <td>NaN</td>\n",
       "      <td>NaN</td>\n",
       "      <td>True</td>\n",
       "    </tr>\n",
       "  </tbody>\n",
       "</table>\n",
       "</div>"
      ],
      "text/plain": [
       "       table_name  indent_space_count  data_level            field_name  \\\n",
       "65         GLBORR                   6          15         DBT-ADJMT-CDE   \n",
       "17  CK-INFO-FRADS                   2           5                    FY   \n",
       "11    RENTL-CNTRL                   2           5    FAM-UNIT-OBLGD-TTL   \n",
       "25    ALTMADJ-NEW                   6          15  PROG-PLANG-BDGTG-CDE   \n",
       "3       ACCT-DATA                   6          15              FD-CDE-2   \n",
       "3          CLIENT                   4          10           ID-NBR-OBLR   \n",
       "5      CTY-LOOKUP                   2           5          FIPS-CTY-CDE   \n",
       "11         GLLNDR                   4          10              LNDR-TYP   \n",
       "87         GLLNDR                   4          10    OL-LNS-LOSS-PD-CNT   \n",
       "7           OVFLO                   2           5              CARD-TYP   \n",
       "\n",
       "    declaration_step      end  ELEMENT LENGTH  POSITION data_type REDEFINES  \\\n",
       "65              6600  DISPLAY             1.0       138     9(01)       NaN   \n",
       "17              1800  DISPLAY             2.0        82      9(2)       NaN   \n",
       "11              1200   COMP-3             5.0        54     S9(8)       NaN   \n",
       "25              2600  DISPLAY             3.0        15       NaN       NaN   \n",
       "3                400  DISPLAY             2.0         3      9(2)       NaN   \n",
       "3                400  DISPLAY            10.0         6     9(10)       NaN   \n",
       "5                600  DISPLAY             3.0        18      9(3)       NaN   \n",
       "11              1200  DISPLAY             2.0       130        XX       NaN   \n",
       "87              8800   COMP-3             3.0       535    S9(04)       NaN   \n",
       "7                800  DISPLAY             1.0        76     X(01)       NaN   \n",
       "\n",
       "   VALUE OCCURS  table_index  table_vers  BLANK ON  INDEXED BY  OLQ  \\\n",
       "65   NaN    NaN           41           1       NaN         NaN  NaN   \n",
       "17   NaN    NaN           18           1       NaN         NaN  NaN   \n",
       "11   NaN    NaN           92           1       NaN         NaN  NaN   \n",
       "25   NaN    NaN            6           1       NaN         NaN  NaN   \n",
       "3    NaN    NaN            0           1       NaN         NaN  NaN   \n",
       "3    NaN    NaN           19           1       NaN         NaN  NaN   \n",
       "5    NaN    NaN           25           1       NaN         NaN  NaN   \n",
       "11   NaN    NaN           42           1       NaN         NaN  NaN   \n",
       "87   NaN    NaN           42           1       NaN         NaN  NaN   \n",
       "7    NaN    NaN           75           1       NaN         NaN  NaN   \n",
       "\n",
       "    commented_out  \n",
       "65           True  \n",
       "17           True  \n",
       "11           True  \n",
       "25           True  \n",
       "3            True  \n",
       "3            True  \n",
       "5            True  \n",
       "11           True  \n",
       "87           True  \n",
       "7            True  "
      ]
     },
     "execution_count": 13,
     "metadata": {},
     "output_type": "execute_result"
    }
   ],
   "source": [
    "data.sample(10)"
   ]
  },
  {
   "cell_type": "markdown",
   "id": "8d94fb7e-81ea-458d-af29-01472a45d6d1",
   "metadata": {},
   "source": [
    "# Define functions related to flattening nested structure of data elements"
   ]
  },
  {
   "cell_type": "code",
   "execution_count": 14,
   "id": "6b63a7cd-7dd3-4ac5-bfd2-2d93e631e128",
   "metadata": {},
   "outputs": [],
   "source": [
    "def TreeifyElements( grp_df : pd.DataFrame ) -> Tree:\n",
    "    \"\"\"Build up a tree representation of the nested data element\n",
    "    structure within a single given record\"\"\"\n",
    "\n",
    "    table_name = grp_df['table_name'].unique().squeeze()\n",
    "    tree = Tree()\n",
    "    tree.create_node( tag = table_name, identifier = 'root' )\n",
    "    \n",
    "    prev_data_level = 0\n",
    "    prev_nodeid = 'root'\n",
    "    data_level_to_parent_nodeid_dict = { 5 : 'root' }\n",
    "    \n",
    "    for row in grp_df.itertuples():\n",
    "        \n",
    "        if row.data_level > prev_data_level:\n",
    "            # save this node as the parent of all nodes who have this data level\n",
    "            data_level_to_parent_nodeid_dict[ row.data_level ] = prev_nodeid\n",
    "        elif row.data_level < prev_data_level:\n",
    "            # erase any subparents that we know will not have further children\n",
    "            data_level_to_parent_nodeid_dict = \\\n",
    "                { level : node_id for level, node_id in data_level_to_parent_nodeid_dict.items() if level <= row.data_level }\n",
    "\n",
    "        parent_id = data_level_to_parent_nodeid_dict[ row.data_level ]\n",
    "        tree.create_node(\n",
    "            tag = row.field_name,\n",
    "            identifier = row.Index,\n",
    "            parent = parent_id,\n",
    "            data = row.data_level\n",
    "        )\n",
    "        prev_nodeid = row.Index\n",
    "        prev_data_level = row.data_level\n",
    "\n",
    "    return tree"
   ]
  },
  {
   "cell_type": "code",
   "execution_count": 15,
   "id": "d055b040-5031-4422-8029-0f3ab2f015d4",
   "metadata": {},
   "outputs": [],
   "source": [
    "def UncommentLeafElements( grp_df : pd.DataFrame ) -> pd.DataFrame:\n",
    "    \"\"\"Uses the tree structure of the elements listed within a record\n",
    "    to flatten out the element structure within a record for the purposes\n",
    "    of defining a logical data model.\n",
    "    \n",
    "    Elements that are \"leaf nodes\" within the nested element structure\n",
    "    are unnested and promoted to the top level, i.e., given a data level\n",
    "    of \"05\". Elements that are REDEFINED are removed from the model.\"\"\"\n",
    "\n",
    "    grp_df = grp_df.copy()\n",
    "    tree = TreeifyElements( grp_df )\n",
    "\n",
    "    overwrite_these = grp_df['REDEFINES'].dropna().values\n",
    "\n",
    "    delete_these = grp_df.index[ grp_df['field_name'].isin( overwrite_these ) ]\n",
    "\n",
    "    for delete_this_node in delete_these:\n",
    "        tree.remove_node( delete_this_node )\n",
    "\n",
    "    leaf_indices = [ _.identifier for _ in tree.leaves() ]\n",
    "    \n",
    "    # Add any non-leaf elements that have 88 valid values underneath them\n",
    "    all_nodes = [ tree[ nodeid ] for nodeid in tree.expand_tree() ]\n",
    "    named_value_nodes = [ _ for _ in all_nodes if _.data == 88 ]\n",
    "    parent_nodes_of_named_values = set( [ tree.parent( _.identifier ).identifier for _ in named_value_nodes ] )\n",
    "    \n",
    "    wanted_indices = leaf_indices + list( parent_nodes_of_named_values )\n",
    "\n",
    "    grp_df.loc[ wanted_indices, 'commented_out' ] = False\n",
    "    \n",
    "    # not necessary since all lines start off as False\n",
    "    #grp_df[ 'commented_out' ] = grp_df[ 'commented_out' ].fillna( True )\n",
    "    \n",
    "    named_value_node_indices = [ _.identifier for _ in named_value_nodes ]\n",
    "    non_88_leaf_node_indices = list( set( wanted_indices ) - set( named_value_node_indices ) )\n",
    "\n",
    "    # print( \"*\" * 100 )\n",
    "    # print( \"wanted_indices len=\", len(wanted_indices), wanted_indices )\n",
    "    # print( \"named_value_nodes len=\", len(named_value_nodes), named_value_nodes )\n",
    "    # print( \"non_88_leaf_nodes len=\", len(non_88_leaf_node_indices), non_88_leaf_node_indices )\n",
    "    # print()\n",
    "    # print( \"before:\\n\",  grp_df[ 'data_level' ].value_counts() )\n",
    "\n",
    "    grp_df.loc[ non_88_leaf_node_indices, 'data_level' ] = 5\n",
    "    \n",
    "    # print( \"after:\\n\",  grp_df[ 'data_level' ].value_counts() )\n",
    "    # print()\n",
    "    \n",
    "    return grp_df"
   ]
  },
  {
   "cell_type": "code",
   "execution_count": 16,
   "id": "e354b0f4-0a5b-4ea8-82e0-1e5967a70c35",
   "metadata": {},
   "outputs": [],
   "source": [
    "#test_tree = TreeifyElements( test_df )"
   ]
  },
  {
   "cell_type": "code",
   "execution_count": 17,
   "id": "e224d5d1-e3dd-4e7c-b04a-c43310b818c7",
   "metadata": {},
   "outputs": [],
   "source": [
    "#mod_test_df = UncommentLeafElements( test_df )"
   ]
  },
  {
   "cell_type": "code",
   "execution_count": 18,
   "id": "3c058d33-4748-4f68-a8a8-ded36fb31676",
   "metadata": {},
   "outputs": [],
   "source": [
    "#mod_test_df"
   ]
  },
  {
   "cell_type": "markdown",
   "id": "e8bc14a2-a778-4f40-82f6-182d68018124",
   "metadata": {},
   "source": [
    "# Define function to add a line for the record name, etc."
   ]
  },
  {
   "cell_type": "code",
   "execution_count": 19,
   "id": "1bcefa3f-c9b2-4c5e-8292-539f9031999e",
   "metadata": {},
   "outputs": [],
   "source": [
    "def Create_Copybook_Parts( grp : pd.DataFrame ) -> pd.DataFrame:\n",
    "    \"\"\"Massages the input spreadsheet. Takes one record's worth of\n",
    "    elements at a time and formats the component strings and gets them\n",
    "    ready for concatenation.\"\"\"\n",
    "    \n",
    "    grp = UncommentLeafElements( grp )\n",
    "    table_index = grp['table_index'].iloc[0]\n",
    "    table_ver = grp['table_vers'].iloc[0]\n",
    "    table_n_fields = len(grp)\n",
    "    table_name = grp['table_name'].iloc[0]\n",
    "    \n",
    "    print( 'table', table_index,\n",
    "          'ver', table_ver,\n",
    "          'n fields =', table_n_fields,\n",
    "          'name =', table_name\n",
    "    )\n",
    "    \n",
    "    temp_index = grp.index\n",
    "          \n",
    "    sorted_grp = grp.sort_values( 'declaration_step' )\n",
    "    step_numbers = grp['declaration_step'].astype(str).str.zfill( 6 )\n",
    "    comment_column = np.where( grp['commented_out'], '*', ' ' )\n",
    "    #indent = 1 + ( grp['indent_space_count'].astype( int ) - 2 ) * 4\n",
    "    #indent_spaces = indent.apply( lambda i: \" \" * i )\n",
    "    indent_spaces = grp['indent_space_count'].apply( lambda i: \" \" * i )\n",
    "    # indent_number\n",
    "    sep = pd.Series( [ \"  \" for _ in range( len( grp ) ) ], index=temp_index )\n",
    "    \n",
    "    clauses = [ 'PIC', 'BLANK ON', 'INDEXED BY', 'OCCURS', 'OLQ', 'REDEFINES', 'VALUE' ]\n",
    "    formatted_cols = {}\n",
    "    for clause in clauses:\n",
    "        if clause == 'PIC':\n",
    "            col_name = 'data_type'\n",
    "        else:\n",
    "            col_name = clause\n",
    "        col = grp[col_name]\n",
    "        col[ col.notna() ] = col[ col.notna() ].apply( lambda t:  f'{clause} {t}' )\n",
    "        formatted_cols[ col_name ] = col \n",
    "    \n",
    "    formatted_data = dict(\n",
    "        step_numbers=step_numbers,\n",
    "        comment_column=comment_column,\n",
    "        indent_spaces=indent_spaces,\n",
    "        data_level = grp['data_level'].astype(str).str.zfill( 2 ),\n",
    "        sep = sep,\n",
    "        field_name = grp['field_name'],\n",
    "        pic_clauses= formatted_cols[ 'data_type' ],\n",
    "        comp_clause = grp[ 'end' ],\n",
    "        value_clauses = formatted_cols[ 'VALUE' ],\n",
    "        occurs_clauses = formatted_cols[ 'OCCURS' ],\n",
    "        #redefines_clauses = formatted_cols[ 'REDEFINES' ],\n",
    "        redefines_clauses = [ \"\" for _ in range( len( grp ) ) ],\n",
    "        blank_on_clauses = formatted_cols[ 'BLANK ON' ],\n",
    "        indexed_by_clauses = formatted_cols[ 'INDEXED BY' ],\n",
    "        olq_clauses = formatted_cols[ 'OLQ' ],\n",
    "    )\n",
    "    \n",
    "    lengths = { len(_) for _ in formatted_data.values() }\n",
    "    assert len( lengths ) == 1\n",
    "    assert lengths.pop() == table_n_fields\n",
    "    \n",
    "    df = pd.DataFrame( formatted_data )\n",
    "    \n",
    "    assert len( df ) == table_n_fields, f'len( df ) = {len( df )}, table_n_fields = {table_n_fields}\\n\\n{formatted_data}'\n",
    "\n",
    "    table_name_line = pd.DataFrame( columns=df.columns )\n",
    "    table_name_line.loc[ 0, 'step_numbers' ] = str( 50 ).zfill( 6 )\n",
    "    table_name_line.loc[ 0, 'comment_column' ] = \" \"\n",
    "    table_name_line.loc[ 0, 'indent_spaces' ] = \"\" # \" \"\n",
    "    table_name_line.loc[ 0, 'data_level' ] = '01'\n",
    "    table_name_line.loc[ 0, 'sep' ] = \"  \"\n",
    "    table_name_line.loc[ 0, 'field_name' ] = table_name\n",
    "    table_name_line = table_name_line.fillna( '' )\n",
    "\n",
    "    df = pd.concat( ( table_name_line, df ), axis=0 )\n",
    "    return df"
   ]
  },
  {
   "cell_type": "code",
   "execution_count": 20,
   "id": "79c9eae7-4de8-4ff7-a420-6bc1bea99dfd",
   "metadata": {},
   "outputs": [
    {
     "data": {
      "text/plain": [
       "(2218, 18)"
      ]
     },
     "execution_count": 20,
     "metadata": {},
     "output_type": "execute_result"
    }
   ],
   "source": [
    "data.shape"
   ]
  },
  {
   "cell_type": "code",
   "execution_count": 21,
   "id": "dcdc435c-304d-4270-9918-b7d7d308ce99",
   "metadata": {
    "scrolled": true,
    "tags": []
   },
   "outputs": [
    {
     "name": "stdout",
     "output_type": "stream",
     "text": [
      "table 0 ver 1 n fields = 29 name = ACCT-DATA\n",
      "table 1 ver 1 n fields = 114 name = ACQD-PROP\n",
      "table 2 ver 1 n fields = 5 name = ADPS-CNTRL\n",
      "table 3 ver 1 n fields = 6 name = ADVANCE\n",
      "table 4 ver 1 n fields = 16 name = AID\n",
      "table 5 ver 1 n fields = 36 name = ALTMADJ\n",
      "table 6 ver 1 n fields = 37 name = ALTMADJ-NEW\n",
      "table 7 ver 1 n fields = 5 name = ALTMT\n",
      "table 8 ver 1 n fields = 7 name = AMORTD-CST\n",
      "table 9 ver 1 n fields = 10 name = APROPTN-LOOKUP\n",
      "table 10 ver 1 n fields = 12 name = ASSISTANCE\n",
      "table 11 ver 1 n fields = 7 name = ASSOC-PRIN-BOND\n",
      "table 12 ver 1 n fields = 6 name = CASE\n",
      "table 13 ver 1 n fields = 4 name = CDEJUNC\n",
      "table 14 ver 1 n fields = 24 name = CDESTR\n",
      "table 15 ver 1 n fields = 9 name = CHECKS\n",
      "table 16 ver 1 n fields = 8 name = CK-CNTRL\n",
      "table 17 ver 1 n fields = 28 name = CK-INFO\n",
      "table 18 ver 1 n fields = 28 name = CK-INFO-FRADS\n",
      "table 19 ver 1 n fields = 76 name = CLIENT\n",
      "table 20 ver 1 n fields = 16 name = CLIENT-SFSI\n",
      "table 21 ver 1 n fields = 2 name = COHORT\n",
      "table 22 ver 1 n fields = 32 name = CRBUR\n",
      "table 23 ver 1 n fields = 59 name = CRCLAIMS\n",
      "table 24 ver 1 n fields = 8 name = CRRATE\n",
      "table 25 ver 1 n fields = 16 name = CTY-LOOKUP\n",
      "table 26 ver 1 n fields = 8 name = DALLOT\n",
      "table 27 ver 1 n fields = 28 name = DALLOT-DTL\n",
      "table 28 ver 1 n fields = 9 name = DALLOT-OBLGN\n",
      "table 29 ver 1 n fields = 1 name = DALLOT-OTH\n",
      "table 30 ver 1 n fields = 3 name = DAPROC\n",
      "table 31 ver 1 n fields = 48 name = DISCRP\n",
      "table 32 ver 1 n fields = 6 name = DISCRP-MISC\n",
      "table 33 ver 1 n fields = 39 name = DSTR-SETASD\n",
      "table 34 ver 1 n fields = 7 name = DTEREC\n",
      "table 35 ver 1 n fields = 12 name = DTL-RATE\n",
      "table 36 ver 1 n fields = 20 name = EASMNT\n",
      "table 37 ver 1 n fields = 13 name = EQTYRVRS\n",
      "table 38 ver 1 n fields = 34 name = EQUITY\n",
      "table 39 ver 1 n fields = 6 name = FD-SIDE\n",
      "table 40 ver 1 n fields = 4 name = FDCDE\n",
      "table 41 ver 1 n fields = 233 name = GLBORR\n",
      "table 42 ver 1 n fields = 121 name = GLLNDR\n",
      "table 43 ver 1 n fields = 6 name = IMCASE\n",
      "table 44 ver 1 n fields = 39 name = INITMAN\n",
      "table 45 ver 1 n fields = 15 name = INSRNC-AUTHY\n",
      "table 46 ver 1 n fields = 6 name = INSTALLMENT\n",
      "table 47 ver 1 n fields = 5 name = INSURANCE\n",
      "table 48 ver 1 n fields = 7 name = INT-ASSTNC\n",
      "table 49 ver 1 n fields = 16 name = INT-BDWN\n",
      "table 50 ver 1 n fields = 29 name = INVSTR-DTL\n",
      "table 51 ver 1 n fields = 24 name = INVSTR-INFO\n",
      "table 52 ver 1 n fields = 3 name = INVSTR-INFO-MISC\n",
      "table 53 ver 1 n fields = 9 name = JDGMT-3RD-PARTY\n",
      "table 54 ver 1 n fields = 4 name = JOB-RESTART\n",
      "table 55 ver 1 n fields = 4 name = JURDCTN\n",
      "table 56 ver 1 n fields = 15 name = LESSEE\n",
      "table 57 ver 1 n fields = 13 name = LN-AID\n",
      "table 58 ver 1 n fields = 4 name = LN-NO-INT\n",
      "table 59 ver 1 n fields = 5 name = LNRATE\n",
      "table 60 ver 1 n fields = 45 name = LOAN\n",
      "table 61 ver 1 n fields = 5 name = LOAN-DRE\n",
      "table 62 ver 1 n fields = 12 name = LOAN-OTC\n",
      "table 63 ver 1 n fields = 8 name = LOAN-SFSI\n",
      "table 64 ver 1 n fields = 67 name = LOCTN-LOOKUP\n",
      "table 65 ver 1 n fields = 32 name = LSE-INFO\n",
      "table 66 ver 1 n fields = 16 name = MALLOT\n",
      "table 67 ver 1 n fields = 9 name = MALLOT-OBLGN\n",
      "table 68 ver 1 n fields = 1 name = MALLOT-OTH\n",
      "table 69 ver 1 n fields = 11 name = MSTR-RATE\n",
      "table 70 ver 1 n fields = 33 name = NOTIFY\n",
      "table 71 ver 1 n fields = 3 name = NOTIFY-CNTRL\n",
      "table 72 ver 1 n fields = 48 name = OBLGN\n",
      "table 73 ver 1 n fields = 6 name = ORDERS\n",
      "table 74 ver 1 n fields = 21 name = ORGZTN-LOOKUP\n",
      "table 75 ver 1 n fields = 9 name = OVFLO\n",
      "table 76 ver 1 n fields = 41 name = PD-ACCT-RVRSL\n",
      "table 77 ver 1 n fields = 63 name = PLEREP\n",
      "table 78 ver 1 n fields = 1 name = PROG-SAVE\n",
      "table 79 ver 1 n fields = 14 name = PRTLSALE\n",
      "table 80 ver 1 n fields = 5 name = RDA-ALTMT\n",
      "table 81 ver 1 n fields = 24 name = RDA-AREA-DALLOT\n",
      "table 82 ver 1 n fields = 10 name = RDA-AREA-OBLGN\n",
      "table 83 ver 1 n fields = 24 name = RDA-DALLOT-DTL\n",
      "table 84 ver 1 n fields = 10 name = RDA-DALLOT-OBLGN\n",
      "table 85 ver 1 n fields = 6 name = RDA-FD-SIDE\n",
      "table 86 ver 1 n fields = 16 name = RDA-INSRNC-AUTHY\n",
      "table 87 ver 1 n fields = 19 name = RDA-MALLOT\n",
      "table 88 ver 1 n fields = 10 name = RDA-MALLOT-OBLGN\n",
      "table 89 ver 1 n fields = 14 name = RDA-RGN-DTL\n",
      "table 90 ver 1 n fields = 16 name = RDA-RGN-OBLGN\n",
      "table 91 ver 1 n fields = 4 name = REJECT-TRNSCTN\n",
      "table 92 ver 1 n fields = 14 name = RENTL-CNTRL\n",
      "table 93 ver 1 n fields = 23 name = RENTL-DTL\n",
      "table 94 ver 1 n fields = 3 name = RENTL-FY-UNIT\n",
      "table 95 ver 1 n fields = 10 name = RENTL-TTL\n",
      "table 96 ver 1 n fields = 4 name = RESCHEDULE\n",
      "table 97 ver 1 n fields = 22 name = RH-DFRL\n",
      "table 98 ver 1 n fields = 21 name = SITE-LOOKUP\n",
      "table 99 ver 1 n fields = 2 name = SRCFDS\n",
      "table 100 ver 1 n fields = 8 name = ST-LOOKUP\n",
      "table 101 ver 1 n fields = 9 name = STAT\n",
      "table 102 ver 1 n fields = 1 name = STOPPER\n",
      "table 103 ver 1 n fields = 21 name = SUBSIDY\n",
      "table 104 ver 1 n fields = 3 name = SUBSRC\n",
      "table 105 ver 1 n fields = 2 name = TRNSCTN-CNTRL\n",
      "table 106 ver 1 n fields = 28 name = TRNSCTN-RVRSL\n",
      "table 107 ver 1 n fields = 5 name = TRRATE\n",
      "table 108 ver 1 n fields = 6 name = TRSTR\n",
      "table 109 ver 1 n fields = 4 name = USER-AUTHY\n",
      "table 110 ver 1 n fields = 6 name = USER-DOMAIN\n",
      "table 111 ver 1 n fields = 14 name = USER-STATCS\n",
      "table 112 ver 1 n fields = 13 name = USERS\n"
     ]
    }
   ],
   "source": [
    "formatted_df = data.groupby( 'table_index' ).apply( Create_Copybook_Parts )"
   ]
  },
  {
   "cell_type": "code",
   "execution_count": 22,
   "id": "b4cc70f2-dc92-4764-8e79-214bed8b50b3",
   "metadata": {},
   "outputs": [
    {
     "data": {
      "text/plain": [
       "(2331, 14)"
      ]
     },
     "execution_count": 22,
     "metadata": {},
     "output_type": "execute_result"
    }
   ],
   "source": [
    "formatted_df.shape"
   ]
  },
  {
   "cell_type": "code",
   "execution_count": 23,
   "id": "395bc4f1-1f09-4bc5-a7ed-eef9a47a4ab9",
   "metadata": {},
   "outputs": [
    {
     "name": "stdout",
     "output_type": "stream",
     "text": [
      "<class 'pandas.core.frame.DataFrame'>\n",
      "MultiIndex: 2331 entries, (0, 0) to (112, 12)\n",
      "Data columns (total 14 columns):\n",
      " #   Column              Non-Null Count  Dtype \n",
      "---  ------              --------------  ----- \n",
      " 0   step_numbers        2331 non-null   object\n",
      " 1   comment_column      2331 non-null   object\n",
      " 2   indent_spaces       2331 non-null   object\n",
      " 3   data_level          2331 non-null   object\n",
      " 4   sep                 2331 non-null   object\n",
      " 5   field_name          2331 non-null   object\n",
      " 6   pic_clauses         2074 non-null   object\n",
      " 7   comp_clause         2331 non-null   object\n",
      " 8   value_clauses       179 non-null    object\n",
      " 9   occurs_clauses      144 non-null    object\n",
      " 10  redefines_clauses   2331 non-null   object\n",
      " 11  blank_on_clauses    113 non-null    object\n",
      " 12  indexed_by_clauses  113 non-null    object\n",
      " 13  olq_clauses         113 non-null    object\n",
      "dtypes: object(14)\n",
      "memory usage: 276.7+ KB\n"
     ]
    }
   ],
   "source": [
    "formatted_df.info()"
   ]
  },
  {
   "cell_type": "markdown",
   "id": "9503ead9-396b-4020-97f2-46ab9336d70f",
   "metadata": {},
   "source": [
    "# Begin concatenating copybook syntax components"
   ]
  },
  {
   "cell_type": "code",
   "execution_count": 24,
   "id": "eff61d88-7214-4d27-8526-abd5ac731039",
   "metadata": {
    "tags": []
   },
   "outputs": [],
   "source": [
    "#formatted_df"
   ]
  },
  {
   "cell_type": "code",
   "execution_count": 25,
   "id": "94b8343b-d3df-4102-a387-ca8443eed2ac",
   "metadata": {},
   "outputs": [],
   "source": [
    "formatted_df['first_part'] = \\\n",
    "    formatted_df['step_numbers'] + \\\n",
    "    formatted_df['comment_column'] + \\\n",
    "    formatted_df['indent_spaces'] + \\\n",
    "    formatted_df['data_level'] + \\\n",
    "    formatted_df['sep'] + \\\n",
    "    formatted_df['field_name']"
   ]
  },
  {
   "cell_type": "code",
   "execution_count": 26,
   "id": "3a9d7842-d6f6-4d62-8d5d-246f77247e6d",
   "metadata": {},
   "outputs": [],
   "source": [
    "#formatted_df"
   ]
  },
  {
   "cell_type": "markdown",
   "id": "8270a6ec-bfbd-4993-8a42-b66123e45db7",
   "metadata": {},
   "source": [
    "# Add enough space between element name and PICTURE clause to right justify text"
   ]
  },
  {
   "cell_type": "code",
   "execution_count": 27,
   "id": "eacfbb39-6703-4337-a32b-b6676463dd1e",
   "metadata": {},
   "outputs": [],
   "source": [
    "formatted_df['first_part_len'] = formatted_df['first_part'].apply( len )"
   ]
  },
  {
   "cell_type": "code",
   "execution_count": 28,
   "id": "8d7be78f-579f-4713-84d4-754a6cc661b8",
   "metadata": {},
   "outputs": [],
   "source": [
    "#formatted_df['first_part_len'].hist()"
   ]
  },
  {
   "cell_type": "code",
   "execution_count": 29,
   "id": "481c5e22-cdf1-4b9f-97f7-201d20655445",
   "metadata": {},
   "outputs": [
    {
     "data": {
      "text/plain": [
       "0"
      ]
     },
     "execution_count": 29,
     "metadata": {},
     "output_type": "execute_result"
    }
   ],
   "source": [
    "(formatted_df['first_part_len'] >= 49).sum()"
   ]
  },
  {
   "cell_type": "code",
   "execution_count": 30,
   "id": "47f3b4dc-b5bc-4a44-b224-1d9f8cfe5f29",
   "metadata": {},
   "outputs": [],
   "source": [
    "#formatted_df['first_part_len'].describe()"
   ]
  },
  {
   "cell_type": "code",
   "execution_count": 31,
   "id": "4a85abb5-ace5-422e-907a-3af9cca0bd74",
   "metadata": {},
   "outputs": [],
   "source": [
    "#long_rows = formatted_df[ formatted_df['first_part_len'] >= 49].index"
   ]
  },
  {
   "cell_type": "code",
   "execution_count": 32,
   "id": "b54815ec-4f81-4176-812c-17491a4327f1",
   "metadata": {},
   "outputs": [],
   "source": [
    "#formatted_df.loc[long_rows, 'first_part_len'].describe()"
   ]
  },
  {
   "cell_type": "code",
   "execution_count": 33,
   "id": "c718a014-17a0-4360-8198-7dabbb1a2113",
   "metadata": {},
   "outputs": [],
   "source": [
    "#formatted_df['first_part'] = formatted_df['first_part'].str.ljust(50)"
   ]
  },
  {
   "cell_type": "code",
   "execution_count": 34,
   "id": "7953e01b-8ff0-43c2-89bd-9b555024c7cf",
   "metadata": {},
   "outputs": [],
   "source": [
    "formatted_df['white_space_middle_part'] = formatted_df['first_part_len'].apply( lambda l: (\" \" * (50 - l)) if l < 49 else \" \" )"
   ]
  },
  {
   "cell_type": "code",
   "execution_count": 35,
   "id": "0f936c46-6eb9-4e3c-bc7a-a428fb30631a",
   "metadata": {},
   "outputs": [
    {
     "data": {
      "text/plain": [
       "array(['                              ',\n",
       "       '                               ',\n",
       "       '                               ', ..., '                     ',\n",
       "       '                    ', '                               '],\n",
       "      dtype=object)"
      ]
     },
     "execution_count": 35,
     "metadata": {},
     "output_type": "execute_result"
    }
   ],
   "source": [
    "formatted_df['white_space_middle_part'].values"
   ]
  },
  {
   "cell_type": "markdown",
   "id": "a77b502f-7a32-415e-8ee4-b30161221c4e",
   "metadata": {},
   "source": [
    "# Add copybook syntax after element name, including the following clauses:\n",
    "\n",
    "* \"OCCURS\" and \"REDEFINES\" clauses go before PIC clause\n",
    "* \"VALUE\" clause is either in lieu of or after PIC clause\n",
    "* COMP-3 goes after PIC clause"
   ]
  },
  {
   "cell_type": "code",
   "execution_count": 36,
   "id": "0f0a6bd4-a0ac-4a99-bd87-421a1a7f3c76",
   "metadata": {},
   "outputs": [],
   "source": [
    "formatted_df = formatted_df.fillna(\"\")"
   ]
  },
  {
   "cell_type": "code",
   "execution_count": 37,
   "id": "62f5d4bf-fe0f-438a-ab45-22e7570607e6",
   "metadata": {},
   "outputs": [
    {
     "name": "stdout",
     "output_type": "stream",
     "text": [
      "<class 'pandas.core.frame.DataFrame'>\n",
      "MultiIndex: 2331 entries, (0, 0) to (112, 12)\n",
      "Data columns (total 17 columns):\n",
      " #   Column                   Non-Null Count  Dtype \n",
      "---  ------                   --------------  ----- \n",
      " 0   step_numbers             2331 non-null   object\n",
      " 1   comment_column           2331 non-null   object\n",
      " 2   indent_spaces            2331 non-null   object\n",
      " 3   data_level               2331 non-null   object\n",
      " 4   sep                      2331 non-null   object\n",
      " 5   field_name               2331 non-null   object\n",
      " 6   pic_clauses              2331 non-null   object\n",
      " 7   comp_clause              2331 non-null   object\n",
      " 8   value_clauses            2331 non-null   object\n",
      " 9   occurs_clauses           2331 non-null   object\n",
      " 10  redefines_clauses        2331 non-null   object\n",
      " 11  blank_on_clauses         2331 non-null   object\n",
      " 12  indexed_by_clauses       2331 non-null   object\n",
      " 13  olq_clauses              2331 non-null   object\n",
      " 14  first_part               2331 non-null   object\n",
      " 15  first_part_len           2331 non-null   int64 \n",
      " 16  white_space_middle_part  2331 non-null   object\n",
      "dtypes: int64(1), object(16)\n",
      "memory usage: 331.4+ KB\n"
     ]
    }
   ],
   "source": [
    "formatted_df.info()"
   ]
  },
  {
   "cell_type": "code",
   "execution_count": 38,
   "id": "b50c3d73-4271-4d8b-9d33-154d16b855b0",
   "metadata": {},
   "outputs": [
    {
     "data": {
      "text/plain": [
       "0"
      ]
     },
     "execution_count": 38,
     "metadata": {},
     "output_type": "execute_result"
    }
   ],
   "source": [
    "( (formatted_df['occurs_clauses'] != \"\") & (formatted_df['redefines_clauses'] != \"\") ).sum()"
   ]
  },
  {
   "cell_type": "code",
   "execution_count": 39,
   "id": "71786bc9-3260-4aaf-a3d9-d5bf1c8a6bd6",
   "metadata": {},
   "outputs": [],
   "source": [
    "#formatted_df['redefines_clauses_len'] = formatted_df['redefines_clauses'].apply( len )"
   ]
  },
  {
   "cell_type": "code",
   "execution_count": 40,
   "id": "324f4261-b846-4bf7-943a-c9add801c556",
   "metadata": {},
   "outputs": [],
   "source": [
    "#formatted_df['redefines_clauses_len'].describe()"
   ]
  },
  {
   "cell_type": "code",
   "execution_count": 41,
   "id": "3cf0941a-82b6-4fbe-9f84-3166f5bd1292",
   "metadata": {},
   "outputs": [],
   "source": [
    "#formatted_df['occurs_clauses_len'] = formatted_df['occurs_clauses'].apply( len )"
   ]
  },
  {
   "cell_type": "code",
   "execution_count": 42,
   "id": "17932195-3fda-41b4-b149-443f2aea84d8",
   "metadata": {},
   "outputs": [],
   "source": [
    "#formatted_df['occurs_clauses_len'].describe()"
   ]
  },
  {
   "cell_type": "code",
   "execution_count": 43,
   "id": "ca1030ba-8816-4145-aa62-a3cf7a42308f",
   "metadata": {},
   "outputs": [],
   "source": [
    "# Add a separating space to the pre-pic clauses when you have both\n",
    "#formatted_df.loc[ (formatted_df['occurs_clauses'] != \"\") & (formatted_df['redefines_clauses'] != \"\"), 'occurs_clauses'] = \\\n",
    "#    formatted_df.loc[ (formatted_df['occurs_clauses'] != \"\") & (formatted_df['redefines_clauses'] != \"\"), 'occurs_clauses'].apply( lambda s: \" \" + s )"
   ]
  },
  {
   "cell_type": "code",
   "execution_count": 44,
   "id": "8a49bac2-740e-4b87-ae6b-7b041f5aa188",
   "metadata": {},
   "outputs": [],
   "source": [
    "formatted_df['pre_pic_clause'] = formatted_df['redefines_clauses'] + formatted_df['occurs_clauses']"
   ]
  },
  {
   "cell_type": "markdown",
   "id": "204d03b2-5b9d-4248-9093-706c7251e244",
   "metadata": {},
   "source": [
    "## Remove any big clumps of whitespace that make lines unnecessarily wide"
   ]
  },
  {
   "cell_type": "code",
   "execution_count": 45,
   "id": "1730ecbd-9d72-4e57-ba85-a28fe99f0ef8",
   "metadata": {},
   "outputs": [],
   "source": [
    "formatted_df[ 'pre_pic_clause' ] = formatted_df[ 'pre_pic_clause' ].str.replace( pat=r'\\s+', repl=' ', regex=True )"
   ]
  },
  {
   "cell_type": "code",
   "execution_count": 46,
   "id": "e09fd433-0ec1-42f9-ac5f-a8ef300ec5d7",
   "metadata": {},
   "outputs": [],
   "source": [
    "formatted_df['second_part'] = formatted_df['pre_pic_clause']"
   ]
  },
  {
   "cell_type": "markdown",
   "id": "b12b0d47-d1e1-4a78-8d82-b9c92218ce08",
   "metadata": {},
   "source": [
    "# Diagnostic: show me some examples where a data element has an OCCURS clause or a REDEFINES CLAUSE"
   ]
  },
  {
   "cell_type": "code",
   "execution_count": 47,
   "id": "89a7cf2b-d143-4394-babd-3b68bccada80",
   "metadata": {},
   "outputs": [
    {
     "data": {
      "text/plain": [
       "array(['OCCURS 0 TO 10 TIMES DEPENDING ON NBR-OF-OCCURS',\n",
       "       'OCCURS 0 TO 10 TIMES DEPENDING ON NBR-OF-OCCURS',\n",
       "       'OCCURS 2 TIMES', 'OCCURS 10 TIMES', 'OCCURS 4 TIMES',\n",
       "       'OCCURS 4 TIMES', 'OCCURS 2 TIMES', 'OCCURS 16 TIMES',\n",
       "       'OCCURS 4 TIMES', 'OCCURS 10 TIMES', 'OCCURS 4 TIMES',\n",
       "       'OCCURS 6 TIMES', 'OCCURS 6 TIMES', 'OCCURS 3 TIMES',\n",
       "       'OCCURS 3 TIMES', 'OCCURS 3 TIMES',\n",
       "       'OCCURS 0 TO 1800 TIMES DEPENDING ON NBR-OF-OCCURS',\n",
       "       'OCCURS 5 TIMES', 'OCCURS 6 TIMES', 'OCCURS 6 TIMES',\n",
       "       'OCCURS 2 TIMES', 'OCCURS 4 TIMES', 'OCCURS 8 TIMES',\n",
       "       'OCCURS 4 TIMES', 'OCCURS 10 TIMES', 'OCCURS 10 TIMES',\n",
       "       'OCCURS 0 TO 1850 TIMES DEPENDING ON MULTI-CARD-DATA-LGTH',\n",
       "       'OCCURS 3 TIMES', 'OCCURS 4 TIMES', 'OCCURS 200 TIMES',\n",
       "       'OCCURS 2 TIMES'], dtype=object)"
      ]
     },
     "execution_count": 47,
     "metadata": {},
     "output_type": "execute_result"
    }
   ],
   "source": [
    "formatted_df.loc[ (formatted_df['occurs_clauses'] != \"\") | (formatted_df['redefines_clauses'] != \"\"), 'second_part'].values[:50]"
   ]
  },
  {
   "cell_type": "code",
   "execution_count": 48,
   "id": "98fdb931-a70d-441d-9bc4-3bd874159512",
   "metadata": {},
   "outputs": [],
   "source": [
    "#formatted_df.loc[ (formatted_df['occurs_clauses'] != \"\") & (formatted_df['redefines_clauses'] != \"\"), 'first_and_second_part'].values[:50]"
   ]
  },
  {
   "cell_type": "code",
   "execution_count": 49,
   "id": "6498fd01-b443-4fb5-965a-752fef39fa3a",
   "metadata": {},
   "outputs": [],
   "source": [
    "formatted_df['second_part_len'] = formatted_df['second_part'].apply( len )"
   ]
  },
  {
   "cell_type": "code",
   "execution_count": 50,
   "id": "69bfe011-066b-4412-adda-17fdd06fbf8d",
   "metadata": {},
   "outputs": [
    {
     "data": {
      "text/plain": [
       "count    2331.000000\n",
       "mean        0.250536\n",
       "std         2.562999\n",
       "min         0.000000\n",
       "25%         0.000000\n",
       "50%         0.000000\n",
       "75%         0.000000\n",
       "max        56.000000\n",
       "Name: second_part_len, dtype: float64"
      ]
     },
     "execution_count": 50,
     "metadata": {},
     "output_type": "execute_result"
    }
   ],
   "source": [
    "formatted_df['second_part_len'].describe()"
   ]
  },
  {
   "cell_type": "code",
   "execution_count": 51,
   "id": "a9fb0b56-3051-4f72-9804-d9e5f0cf26c5",
   "metadata": {},
   "outputs": [],
   "source": [
    "pd.set_option( 'display.max_colwidth', None )"
   ]
  },
  {
   "cell_type": "code",
   "execution_count": 52,
   "id": "448b0cb5-f755-4e6e-8679-a2f294a80261",
   "metadata": {},
   "outputs": [
    {
     "data": {
      "text/plain": [
       "31"
      ]
     },
     "execution_count": 52,
     "metadata": {},
     "output_type": "execute_result"
    }
   ],
   "source": [
    "( formatted_df['pre_pic_clause'] != \"\" ).sum()"
   ]
  },
  {
   "cell_type": "code",
   "execution_count": 53,
   "id": "15a55f24-cd1d-4a3c-afc0-76b1c7a803c2",
   "metadata": {},
   "outputs": [],
   "source": [
    "# Add a separating space to the pic clauses when you have a pre-pic clause\n",
    "formatted_df.loc[ (formatted_df['pre_pic_clause'] != \"\") & (formatted_df['pic_clauses'] != \"\"), 'pic_clauses'] = \\\n",
    "    formatted_df.loc[ (formatted_df['pre_pic_clause'] != \"\") & (formatted_df['pic_clauses'] != \"\"), 'pic_clauses'].apply( lambda s: \" \" + s )"
   ]
  },
  {
   "cell_type": "code",
   "execution_count": 54,
   "id": "9991d337-1ac7-49d6-8186-2d35cafa318d",
   "metadata": {},
   "outputs": [],
   "source": [
    "formatted_df['second_and_third_part'] = formatted_df['second_part'] + formatted_df['pic_clauses']"
   ]
  },
  {
   "cell_type": "markdown",
   "id": "679fb24c-84f8-4653-ab36-0a717c2d6c90",
   "metadata": {},
   "source": [
    "# Trailing clauses are COMP and VALUE"
   ]
  },
  {
   "cell_type": "code",
   "execution_count": 55,
   "id": "a7657ddb-b3e1-4069-ae95-a8190fcbdc0a",
   "metadata": {
    "tags": []
   },
   "outputs": [],
   "source": [
    "#formatted_df['comp_clause']"
   ]
  },
  {
   "cell_type": "code",
   "execution_count": 56,
   "id": "f999b6ab-6f9b-4795-89bc-b2f89885672a",
   "metadata": {},
   "outputs": [
    {
     "data": {
      "text/plain": [
       "DISPLAY           1502\n",
       "COMP-3             647\n",
       "                   113\n",
       "CONDITION-NAME      64\n",
       "COMP                 5\n",
       "Name: comp_clause, dtype: int64"
      ]
     },
     "execution_count": 56,
     "metadata": {},
     "output_type": "execute_result"
    }
   ],
   "source": [
    "formatted_df['comp_clause'].value_counts()"
   ]
  },
  {
   "cell_type": "code",
   "execution_count": 57,
   "id": "35be9e08-24a9-4421-98c7-dbd91940219a",
   "metadata": {},
   "outputs": [],
   "source": [
    "formatted_df.loc[ (formatted_df['comp_clause'] == 'DISPLAY'), 'comp_clause' ] = ''"
   ]
  },
  {
   "cell_type": "code",
   "execution_count": 58,
   "id": "c1c6befb-2164-4ee1-a688-1f6657dac5e5",
   "metadata": {},
   "outputs": [],
   "source": [
    "formatted_df.loc[ (formatted_df['comp_clause'] == 'COND'), 'comp_clause' ] = ''"
   ]
  },
  {
   "cell_type": "code",
   "execution_count": 59,
   "id": "7147e342-2967-4e4e-8379-9504577c01de",
   "metadata": {},
   "outputs": [],
   "source": [
    "formatted_df.loc[ (formatted_df['comp_clause'] == 'CONDITION-NAME'), 'comp_clause' ] = ''"
   ]
  },
  {
   "cell_type": "code",
   "execution_count": 60,
   "id": "953a6584-5044-43b1-85db-d1ebd9ba6468",
   "metadata": {},
   "outputs": [
    {
     "data": {
      "text/plain": [
       "               2265\n",
       "VALUE 'S'        10\n",
       "VALUE 'D'        10\n",
       "VALUE 'C'        10\n",
       "VALUE 'T'         8\n",
       "VALUE 'U'         8\n",
       "VALUE 'V'         8\n",
       "VALUE '0'         4\n",
       "VALUE '1'         4\n",
       "VALUE SPACE       2\n",
       "VALUE 'R'         1\n",
       "VALUE 'A'         1\n",
       "Name: value_clauses, dtype: int64"
      ]
     },
     "execution_count": 60,
     "metadata": {},
     "output_type": "execute_result"
    }
   ],
   "source": [
    "formatted_df['value_clauses'].value_counts()"
   ]
  },
  {
   "cell_type": "code",
   "execution_count": 61,
   "id": "bcba2963-683d-47a3-81d9-f0eb9c777a81",
   "metadata": {},
   "outputs": [
    {
     "data": {
      "text/plain": [
       "0"
      ]
     },
     "execution_count": 61,
     "metadata": {},
     "output_type": "execute_result"
    }
   ],
   "source": [
    "( (formatted_df['comp_clause'] != \"\") & (formatted_df['value_clauses'] != \"\") ).sum()"
   ]
  },
  {
   "cell_type": "code",
   "execution_count": 62,
   "id": "a37b421c-558f-4ecd-8435-0f38866ff59d",
   "metadata": {},
   "outputs": [],
   "source": [
    "# Add a separating space to the post-pic clauses when you have both\n",
    "formatted_df.loc[ (formatted_df['comp_clause'] != \"\") & (formatted_df['value_clauses'] != \"\"), 'value_clauses'] = \\\n",
    "    formatted_df.loc[ (formatted_df['comp_clause'] != \"\") & (formatted_df['value_clauses'] != \"\"), 'value_clauses'].apply( lambda s: \" \" + s )"
   ]
  },
  {
   "cell_type": "code",
   "execution_count": 63,
   "id": "da8e1da5-5bae-4ee0-b309-990b7acef0d4",
   "metadata": {},
   "outputs": [],
   "source": [
    "formatted_df['post_pic_clauses'] = formatted_df['comp_clause'] + formatted_df['value_clauses']"
   ]
  },
  {
   "cell_type": "code",
   "execution_count": 64,
   "id": "c098ffa9-547e-4893-a4ed-c4fdf202f9df",
   "metadata": {},
   "outputs": [],
   "source": [
    "# Add a separating space to the pic clauses when you have a post-pic clause\n",
    "formatted_df.loc[ (formatted_df['post_pic_clauses'] != \"\") & ((formatted_df['pre_pic_clause'] != \"\") | (formatted_df['pic_clauses'] != \"\")), 'post_pic_clauses'] = \\\n",
    "    formatted_df.loc[ (formatted_df['post_pic_clauses'] != \"\") & ((formatted_df['pre_pic_clause'] != \"\") | (formatted_df['pic_clauses'] != \"\")), 'post_pic_clauses'].apply( lambda s: \" \" + s )"
   ]
  },
  {
   "cell_type": "code",
   "execution_count": 65,
   "id": "99f5785c-e1e5-430b-9ba0-fa6caa8cefe0",
   "metadata": {},
   "outputs": [],
   "source": [
    "#formatted_df.loc[formatted_df['post_pic_clauses'] != \"\", 'post_pic_clauses'].values"
   ]
  },
  {
   "cell_type": "code",
   "execution_count": 66,
   "id": "69c7993c-1eb8-4526-be39-f6ad1013d341",
   "metadata": {},
   "outputs": [
    {
     "data": {
      "text/plain": [
       "array(['', 'PIC 9(2)', '', '', 'PIC 9(2)', 'PIC 9(1)', 'PIC 9(1)',\n",
       "       'PIC 9(2)', 'PIC 9(2)V9(4)', 'PIC V9(6)', 'PIC 9(1)', 'PIC 9(1)',\n",
       "       'PIC 9(06)', '', 'PIC 9(1)', 'PIC 9(1)', 'PIC 9(3)', 'PIC 9(2)',\n",
       "       'PIC X(1)', 'PIC 9(06)', 'PIC 9(3)', 'PIC S9(8)V99', 'PIC X(01)',\n",
       "       'PIC 9(1)', 'PIC 9(6)', 'PIC 9(01)', 'PIC 9(1)', 'PIC 9(2)V9(4)',\n",
       "       'PIC V9(6)', 'PIC X(0019)', '', '', '', 'PIC 9(2)', 'PIC 9(1)',\n",
       "       'PIC 9(1)', 'PIC X(07)', 'PIC X(07)', '', 'PIC 9(2)', 'PIC 9(3)',\n",
       "       'PIC 9(5)', '', 'PIC X(1)', '', '', '', '', '', ''], dtype=object)"
      ]
     },
     "execution_count": 66,
     "metadata": {},
     "output_type": "execute_result"
    }
   ],
   "source": [
    "formatted_df[ 'second_and_third_part' ].values[:50]"
   ]
  },
  {
   "cell_type": "code",
   "execution_count": 67,
   "id": "63794687-b2ce-4d70-a1f9-610313aae391",
   "metadata": {},
   "outputs": [],
   "source": [
    "formatted_df[ 'second_third_and_forth_part'] = formatted_df[ 'second_and_third_part' ] + formatted_df['post_pic_clauses']"
   ]
  },
  {
   "cell_type": "code",
   "execution_count": 68,
   "id": "8bcdd7a1-b2f0-4cc8-98f1-8d528f332c33",
   "metadata": {},
   "outputs": [
    {
     "data": {
      "text/plain": [
       "array(['PIC 9(5)', 'PIC 9(1)', 'PIC S9(9)V99 COMP-3', 'PIC 9(2)',\n",
       "       'PIC 9(2)', 'PIC 9', 'PIC 9(3)', '', 'PIC S9(08)V99 COMP-3',\n",
       "       'PIC 9(2)', '', 'PIC X(01)', 'PIC S9(04) COMP-3', 'PIC 9(1)', '',\n",
       "       'PIC 9(2)', 'PIC 9(06)', 'PIC 9(06)', 'PIC 9(2)', 'PIC XX',\n",
       "       'PIC X(19)', 'PIC X(19)', 'PIC 9(3)', 'PIC 9(02)', '', 'PIC 9(6)',\n",
       "       '', 'PIC 9(2)', 'PIC S9(08) COMP', 'PIC S9(10)V99 COMP-3',\n",
       "       'PIC 9(3)', 'PIC 9(2)', 'PIC 9(06)', 'PIC 9', 'PIC 9(2)',\n",
       "       'PIC S9(8) COMP-3', 'PIC 9(5)', 'PIC S9(7)V99 COMP-3', 'PIC 9(02)',\n",
       "       'PIC 9(1)', 'PIC S9(11)V99 COMP-3', '', '', 'PIC S9(05) COMP-3',\n",
       "       'PIC 9(2)', 'PIC 9(3)', '', 'PIC S9(06) COMP-3', '', 'PIC 9(02)'],\n",
       "      dtype=object)"
      ]
     },
     "execution_count": 68,
     "metadata": {},
     "output_type": "execute_result"
    }
   ],
   "source": [
    "formatted_df[ 'second_third_and_forth_part'].sample(50).values"
   ]
  },
  {
   "cell_type": "code",
   "execution_count": 69,
   "id": "db6468f5-4d57-419e-8d9d-5b8e31748aec",
   "metadata": {},
   "outputs": [],
   "source": [
    "formatted_df[ 'second_third_and_forth_part_len'] = formatted_df[ 'second_third_and_forth_part' ].apply( len )"
   ]
  },
  {
   "cell_type": "code",
   "execution_count": 70,
   "id": "114cbb5f-9380-48fc-84ec-e1e01b54e671",
   "metadata": {},
   "outputs": [
    {
     "data": {
      "text/plain": [
       "count    2331.000000\n",
       "mean       10.506650\n",
       "std         6.630099\n",
       "min         0.000000\n",
       "25%         8.000000\n",
       "50%         9.000000\n",
       "75%        17.000000\n",
       "max        65.000000\n",
       "Name: second_third_and_forth_part_len, dtype: float64"
      ]
     },
     "execution_count": 70,
     "metadata": {},
     "output_type": "execute_result"
    }
   ],
   "source": [
    "formatted_df[ 'second_third_and_forth_part_len'].describe()"
   ]
  },
  {
   "cell_type": "code",
   "execution_count": 71,
   "id": "deb39954-4fb9-4ddf-8cec-57540c40bbb4",
   "metadata": {},
   "outputs": [],
   "source": [
    "formatted_df['content_len'] = formatted_df['first_part_len'] + formatted_df[ 'second_third_and_forth_part_len'] + 2 # separating space + period"
   ]
  },
  {
   "cell_type": "markdown",
   "id": "234b5798-4352-4d47-9389-20cd12fb2dca",
   "metadata": {},
   "source": [
    "# Diagnostic: show me the widest lines, because they're not supposed to be wider than 72 characters\n",
    "\n",
    "* IMPORTANT NOTE: YOU MUST GO IN AND HAND EDIT THESE LINES IN THE OUTPUT COPYBOOK TO BREAK THEM APART INTO MULTIPLE LINES"
   ]
  },
  {
   "cell_type": "code",
   "execution_count": 72,
   "id": "35e17efc-5b88-4bdf-9fda-78a2e4ea29ac",
   "metadata": {},
   "outputs": [
    {
     "data": {
      "text/plain": [
       "table_index     \n",
       "26           3      60\n",
       "51           10     60\n",
       "77           3      60\n",
       "26           2      60\n",
       "41           81     60\n",
       "77           6      60\n",
       "             24     60\n",
       "             11     60\n",
       "26           1      60\n",
       "41           82     61\n",
       "10           5      61\n",
       "48           3      61\n",
       "16           3      61\n",
       "11           3      61\n",
       "48           2      61\n",
       "83           22     62\n",
       "41           165    62\n",
       "77           9      62\n",
       "             8      62\n",
       "96           1      62\n",
       "41           187    62\n",
       "27           26     62\n",
       "81           22     62\n",
       "1            35     62\n",
       "11           4      62\n",
       "37           11     71\n",
       "5            16     76\n",
       "6            16     82\n",
       "44           38     91\n",
       "91           3      97\n",
       "Name: content_len, dtype: int64"
      ]
     },
     "execution_count": 72,
     "metadata": {},
     "output_type": "execute_result"
    }
   ],
   "source": [
    "formatted_df['content_len'].sort_values().tail(30)"
   ]
  },
  {
   "cell_type": "code",
   "execution_count": 73,
   "id": "64832ce0-9a96-4acd-9305-da2ec9445bbe",
   "metadata": {},
   "outputs": [
    {
     "name": "stdout",
     "output_type": "stream",
     "text": [
      "<class 'pandas.core.frame.DataFrame'>\n",
      "MultiIndex: 2331 entries, (0, 0) to (112, 12)\n",
      "Data columns (total 25 columns):\n",
      " #   Column                           Non-Null Count  Dtype \n",
      "---  ------                           --------------  ----- \n",
      " 0   step_numbers                     2331 non-null   object\n",
      " 1   comment_column                   2331 non-null   object\n",
      " 2   indent_spaces                    2331 non-null   object\n",
      " 3   data_level                       2331 non-null   object\n",
      " 4   sep                              2331 non-null   object\n",
      " 5   field_name                       2331 non-null   object\n",
      " 6   pic_clauses                      2331 non-null   object\n",
      " 7   comp_clause                      2331 non-null   object\n",
      " 8   value_clauses                    2331 non-null   object\n",
      " 9   occurs_clauses                   2331 non-null   object\n",
      " 10  redefines_clauses                2331 non-null   object\n",
      " 11  blank_on_clauses                 2331 non-null   object\n",
      " 12  indexed_by_clauses               2331 non-null   object\n",
      " 13  olq_clauses                      2331 non-null   object\n",
      " 14  first_part                       2331 non-null   object\n",
      " 15  first_part_len                   2331 non-null   int64 \n",
      " 16  white_space_middle_part          2331 non-null   object\n",
      " 17  pre_pic_clause                   2331 non-null   object\n",
      " 18  second_part                      2331 non-null   object\n",
      " 19  second_part_len                  2331 non-null   int64 \n",
      " 20  second_and_third_part            2331 non-null   object\n",
      " 21  post_pic_clauses                 2331 non-null   object\n",
      " 22  second_third_and_forth_part      2331 non-null   object\n",
      " 23  second_third_and_forth_part_len  2331 non-null   int64 \n",
      " 24  content_len                      2331 non-null   int64 \n",
      "dtypes: int64(4), object(21)\n",
      "memory usage: 477.1+ KB\n"
     ]
    }
   ],
   "source": [
    "formatted_df.info()"
   ]
  },
  {
   "cell_type": "markdown",
   "id": "d8722499-e604-49eb-b610-1c23a9c7b735",
   "metadata": {},
   "source": [
    "## If the line is too wide, cut down on the whitespace in the middle for right justifying the PIC clauses, etc."
   ]
  },
  {
   "cell_type": "code",
   "execution_count": 74,
   "id": "5a076050-8493-44fa-aad8-ad479c524b4b",
   "metadata": {},
   "outputs": [],
   "source": [
    "formatted_df['alternative_white_space_middle_part'] = [ \" \" * ( 72 - _ ) for _ in formatted_df['content_len'].values ]"
   ]
  },
  {
   "cell_type": "code",
   "execution_count": 75,
   "id": "2566a2ea-0463-4bfb-8d9c-cd53e5d6930e",
   "metadata": {},
   "outputs": [],
   "source": [
    "formatted_df['alternative_white_space_middle_part_len'] = formatted_df['alternative_white_space_middle_part'].apply( len )"
   ]
  },
  {
   "cell_type": "code",
   "execution_count": 76,
   "id": "ac15f306-2611-4d09-ae92-f81f55d264e6",
   "metadata": {},
   "outputs": [
    {
     "data": {
      "text/plain": [
       "count    2331.000000\n",
       "mean       31.470184\n",
       "std         9.770251\n",
       "min         0.000000\n",
       "25%        24.000000\n",
       "50%        32.000000\n",
       "75%        38.000000\n",
       "max        56.000000\n",
       "Name: alternative_white_space_middle_part_len, dtype: float64"
      ]
     },
     "execution_count": 76,
     "metadata": {},
     "output_type": "execute_result"
    }
   ],
   "source": [
    "formatted_df['alternative_white_space_middle_part_len'].describe()"
   ]
  },
  {
   "cell_type": "code",
   "execution_count": 77,
   "id": "eaec398f-ae72-4a12-943f-408b5ee51d16",
   "metadata": {},
   "outputs": [],
   "source": [
    "formatted_df.loc[ formatted_df['alternative_white_space_middle_part'] == \"\", 'alternative_white_space_middle_part' ] = \" \""
   ]
  },
  {
   "cell_type": "code",
   "execution_count": 78,
   "id": "f8492808-2405-4e79-b6f8-a139b7c6f545",
   "metadata": {},
   "outputs": [],
   "source": [
    "formatted_df['alternative_white_space_middle_part_len'] = formatted_df['alternative_white_space_middle_part'].apply( len )"
   ]
  },
  {
   "cell_type": "code",
   "execution_count": 79,
   "id": "9dcf0d10-4fad-47fe-8cd6-990bfa57461d",
   "metadata": {},
   "outputs": [
    {
     "data": {
      "text/plain": [
       "count    2331.000000\n",
       "mean       31.471900\n",
       "std         9.764807\n",
       "min         1.000000\n",
       "25%        24.000000\n",
       "50%        32.000000\n",
       "75%        38.000000\n",
       "max        56.000000\n",
       "Name: alternative_white_space_middle_part_len, dtype: float64"
      ]
     },
     "execution_count": 79,
     "metadata": {},
     "output_type": "execute_result"
    }
   ],
   "source": [
    "formatted_df['alternative_white_space_middle_part_len'].describe()"
   ]
  },
  {
   "cell_type": "code",
   "execution_count": 80,
   "id": "24875cd7-5bbf-47f8-9f3f-86de417a4148",
   "metadata": {
    "tags": []
   },
   "outputs": [],
   "source": [
    "#formatted_df['alternative_white_space_middle_part_len']"
   ]
  },
  {
   "cell_type": "code",
   "execution_count": 81,
   "id": "72be2fa5-6d18-47f9-9238-57b1f3ff45ee",
   "metadata": {},
   "outputs": [],
   "source": [
    "formatted_df['white_space_middle_part_len'] = formatted_df['white_space_middle_part'].apply( len )"
   ]
  },
  {
   "cell_type": "code",
   "execution_count": 82,
   "id": "237b6363-d89b-49e4-ae34-7d595d0e78b2",
   "metadata": {},
   "outputs": [
    {
     "data": {
      "text/plain": [
       "363"
      ]
     },
     "execution_count": 82,
     "metadata": {},
     "output_type": "execute_result"
    }
   ],
   "source": [
    "(~(formatted_df['white_space_middle_part_len'] < formatted_df['alternative_white_space_middle_part_len'])).sum()"
   ]
  },
  {
   "cell_type": "code",
   "execution_count": 83,
   "id": "1de96ac3-eb83-4501-8b97-9bfcc571477b",
   "metadata": {},
   "outputs": [],
   "source": [
    "formatted_df['white_space_middle_part'] = formatted_df['white_space_middle_part'].where( \n",
    "    cond = formatted_df['white_space_middle_part_len'] < formatted_df['alternative_white_space_middle_part_len'],\n",
    "    other = formatted_df['alternative_white_space_middle_part']\n",
    ")"
   ]
  },
  {
   "cell_type": "code",
   "execution_count": 84,
   "id": "a3260b2f-198e-464f-8e79-308abc583fb7",
   "metadata": {},
   "outputs": [
    {
     "data": {
      "text/plain": [
       "293"
      ]
     },
     "execution_count": 84,
     "metadata": {},
     "output_type": "execute_result"
    }
   ],
   "source": [
    "(formatted_df[ 'second_third_and_forth_part_len'] == 0).sum()"
   ]
  },
  {
   "cell_type": "markdown",
   "id": "35034240-ac17-4eed-bb3f-40ed2b191b83",
   "metadata": {},
   "source": [
    "# Add the period to the end of each line and we're done!"
   ]
  },
  {
   "cell_type": "code",
   "execution_count": 85,
   "id": "c4e49ee1-1ea3-4bb7-b34e-66603f0c45bb",
   "metadata": {},
   "outputs": [],
   "source": [
    "formatted_df[ 'line_completion' ] = '.'"
   ]
  },
  {
   "cell_type": "code",
   "execution_count": 86,
   "id": "6ce27256-8180-4e23-b183-ec775c8d2488",
   "metadata": {},
   "outputs": [],
   "source": [
    "formatted_df[ 'line_completion' ] = formatted_df[ 'line_completion' ].where(\n",
    "    cond = formatted_df[ 'second_third_and_forth_part' ] == \"\",\n",
    "    other = formatted_df['white_space_middle_part'] + formatted_df[ 'second_third_and_forth_part' ] + '.'\n",
    ")"
   ]
  },
  {
   "cell_type": "code",
   "execution_count": 87,
   "id": "4eaf25ac-6bd0-4377-8d17-0694b79973f5",
   "metadata": {},
   "outputs": [],
   "source": [
    "formatted_df[ 'full_line'] = formatted_df['first_part'] + formatted_df[ 'line_completion' ]"
   ]
  },
  {
   "cell_type": "code",
   "execution_count": 88,
   "id": "09922584-002a-4878-b5d1-dd14fb8a13cb",
   "metadata": {},
   "outputs": [],
   "source": [
    "formatted_df[ 'full_line_len' ] = formatted_df[ 'full_line'].apply(len)"
   ]
  },
  {
   "cell_type": "code",
   "execution_count": 89,
   "id": "9379888a-01ab-4812-9e13-28dad03df60d",
   "metadata": {},
   "outputs": [
    {
     "data": {
      "text/plain": [
       "count    2331.000000\n",
       "mean       58.208494\n",
       "std        13.494025\n",
       "min        15.000000\n",
       "25%        59.000000\n",
       "50%        60.000000\n",
       "75%        68.000000\n",
       "max        97.000000\n",
       "Name: full_line_len, dtype: float64"
      ]
     },
     "execution_count": 89,
     "metadata": {},
     "output_type": "execute_result"
    }
   ],
   "source": [
    "formatted_df[ 'full_line_len' ].describe()"
   ]
  },
  {
   "cell_type": "code",
   "execution_count": 90,
   "id": "9429bae3-37f2-41b2-931a-cad79601e2f7",
   "metadata": {
    "tags": []
   },
   "outputs": [],
   "source": [
    "#formatted_df[ 'full_line_len' ].sort_values()"
   ]
  },
  {
   "cell_type": "code",
   "execution_count": 91,
   "id": "4c8a38d1-7fe9-4090-ab1f-8c9189cc6873",
   "metadata": {},
   "outputs": [],
   "source": [
    "#formatted_df.sort_values('full_line_len' )['full_line'].tail(50)"
   ]
  },
  {
   "cell_type": "markdown",
   "id": "691110b1-b59f-4694-9ad4-5a4d4f0e4ad3",
   "metadata": {},
   "source": [
    "# Dump the lines to a Copybook text file and give to Samee"
   ]
  },
  {
   "cell_type": "code",
   "execution_count": 92,
   "id": "4e461968-b8bc-488c-83fe-7a938671044d",
   "metadata": {},
   "outputs": [],
   "source": [
    "formatted_df['full_line'].to_csv(\"2023-02-21_IDMS_Copybooks_FARMS_FLAT_STRUCTURE.txt\", header=False, index=False )"
   ]
  },
  {
   "cell_type": "code",
   "execution_count": 93,
   "id": "57f52117-f57a-43af-8680-09f7a49ec60d",
   "metadata": {},
   "outputs": [
    {
     "name": "stdout",
     "output_type": "stream",
     "text": [
      "000050 01  ACCT-DATA.\n",
      "000100   05  LN-NBR                               PIC 9(2).\n",
      "000200*  05  FD-CDE.\n",
      "000300*    10  FD-CDE-3.\n",
      "000400       05  FD-CDE-2                         PIC 9(2).\n",
      "000500       05  FD-CDE-3RD                       PIC 9(1).\n",
      "000600     05  FD-CDE-4TH                         PIC 9(1).\n",
      "000700   05  KIND-CDE-LN                          PIC 9(2).\n",
      "000800*  05  INT-RATE-NOTE                        PIC 9(2)V9(4).\n",
      "000900   05  INT-RATE-NOTE-1ST                    PIC V9(6).\n"
     ]
    }
   ],
   "source": [
    "!head 2023-02-21_IDMS_Copybooks_FARMS_FLAT_STRUCTURE.txt"
   ]
  }
 ],
 "metadata": {
  "kernelspec": {
   "display_name": "Python 3 (ipykernel)",
   "language": "python",
   "name": "python3"
  },
  "language_info": {
   "codemirror_mode": {
    "name": "ipython",
    "version": 3
   },
   "file_extension": ".py",
   "mimetype": "text/x-python",
   "name": "python",
   "nbconvert_exporter": "python",
   "pygments_lexer": "ipython3",
   "version": "3.11.0"
  }
 },
 "nbformat": 4,
 "nbformat_minor": 5
}
