{
 "cells": [
  {
   "cell_type": "markdown",
   "id": "4d020164-abec-4268-8493-2cd996cd8e39",
   "metadata": {
    "tags": []
   },
   "source": [
    "# Parsing IDMS schema syntax\n",
    "\n",
    "* [primer](https://www.sfu.ca/sasdoc/sashtml/idms/z0979730.htm)\n",
    "* [IDMS schema and subschema syntax](https://manualzz.com/doc/o/rziew/ca-idms-database-administration-guide-schema-and-subschema-compilers)\n",
    "\n",
    "\n",
    "## syntax components\n",
    "* areas\n",
    "* records - table\n",
    "* elements - field\n",
    "* sets"
   ]
  },
  {
   "cell_type": "markdown",
   "id": "b8ee9649-6d29-4911-bf34-f7c03e85ec97",
   "metadata": {},
   "source": [
    "# Import libraries"
   ]
  },
  {
   "cell_type": "code",
   "execution_count": 1,
   "id": "1e3375d5-0698-45f0-8292-8c93f7d294df",
   "metadata": {},
   "outputs": [],
   "source": [
    "import pandas as pd\n",
    "from pathlib import Path\n",
    "import re\n",
    "from collections import Counter"
   ]
  },
  {
   "cell_type": "markdown",
   "id": "dce446c9-7045-42d6-bbdf-cb22b7585741",
   "metadata": {},
   "source": [
    "# List of all the IDMS subschema files we were provided"
   ]
  },
  {
   "cell_type": "code",
   "execution_count": 2,
   "id": "4c96cfc5-a763-45a9-98a8-f5a24b2892ed",
   "metadata": {},
   "outputs": [
    {
     "data": {
      "text/plain": [
       "'/Users/ccoletta/projects/gsa_coe/usda/copybooks'"
      ]
     },
     "execution_count": 2,
     "metadata": {},
     "output_type": "execute_result"
    }
   ],
   "source": [
    "pwd"
   ]
  },
  {
   "cell_type": "markdown",
   "id": "15e956b5-c47d-467f-b65f-99ed9de973cd",
   "metadata": {},
   "source": [
    "## Do a line count for each file we received"
   ]
  },
  {
   "cell_type": "code",
   "execution_count": 3,
   "id": "8b8e44bf-9bb6-4ac1-aa56-e85f8463e12d",
   "metadata": {},
   "outputs": [
    {
     "name": "stdout",
     "output_type": "stream",
     "text": [
      "    2375 IDMS_schema_source_ALL/EMPSCHM-V100-SCHEMA-020623.txt\n",
      "   16234 IDMS_schema_source_ALL/FARMS-V1-SCHEMA-020623.formatted.txt\n",
      "   16234 IDMS_schema_source_ALL/FARMS-V1-SCHEMA-020623.txt\n",
      "   16642 IDMS_schema_source_ALL/FARMS-V10-SCHEMA-020623.txt\n",
      "   25112 IDMS_schema_source_ALL/MCMMF01-SCHEMA-020623.txt\n",
      "      47 IDMS_schema_source_ALL/RDUSE01-SCHEMA-020623.txt\n",
      "    1599 IDMS_schema_source_ALL/RMS-SCHEMA-020623.txt\n",
      "    3387 IDMS_schema_source_ALL/SCHEMA-LISTING-020623.zip\n",
      "    1779 IDMS_schema_source_ALL/SCMAC01-SCHEMA-020623.txt\n",
      "      50 IDMS_schema_source_ALL/SCMACCT-SCHEMA-020623.txt\n",
      "    1538 IDMS_schema_source_ALL/SCMFA01-SCHEMA-020623.txt\n",
      "     263 IDMS_schema_source_ALL/SCMHN01-SCHEMA-020623.txt\n",
      "   26281 IDMS_schema_source_ALL/SCMMF01-SCHEMA-020623.txt\n",
      "   26039 IDMS_schema_source_ALL/SCMMF01L-SCHEMA-0206023.txt\n",
      "   26041 IDMS_schema_source_ALL/SCMMF01M-SCHEMA-020623.txt\n",
      "   26177 IDMS_schema_source_ALL/SCMMF01P-SCHEMA-020623.txt\n",
      "   25988 IDMS_schema_source_ALL/SCMMF02-SCHEMA-020623.txt\n",
      "     924 IDMS_schema_source_ALL/SCMQA01-SCHEMA-020623.txt\n",
      "   23935 IDMS_schema_source_ALL/SCMTEST-SCHEMA-020623.txt\n",
      "    2020 IDMS_schema_source_ALL/SCMTL01-SCHEMA-020623.txt\n",
      "    1924 IDMS_schema_source_ALL/SCMUA01-SCHEMA-020623.txt\n",
      "     196 IDMS_schema_source_ALL/SCMXREF-SCHEMA-020623.txt\n",
      "   16590 IDMS_schema_source_ALL/XARMS-SCHEMA-020623.txt\n",
      "   23992 IDMS_schema_source_ALL/XCMMF01-SCHEMA-020623.txt\n",
      "   26179 IDMS_schema_source_ALL/XSCMMF01-SCHEMA-020623.txt\n",
      "  311546 total\n"
     ]
    }
   ],
   "source": [
    "!wc -l  IDMS_schema_source_ALL/*"
   ]
  },
  {
   "cell_type": "markdown",
   "id": "f56dde9f-0392-41ca-a5fe-1063e267714d",
   "metadata": {},
   "source": [
    "# Examine the contents of one of the subschema files"
   ]
  },
  {
   "cell_type": "code",
   "execution_count": 4,
   "id": "9053e9ff-648b-4636-829f-45059ece0347",
   "metadata": {},
   "outputs": [
    {
     "name": "stdout",
     "output_type": "stream",
     "text": [
      "*+           USAGE IS DISPLAY                                                   \n",
      "*+           ELEMENT LENGTH IS 19                                               \n",
      "*+           POSITION IS 24                                                     \n",
      "*+           .                                                                  \n",
      "*+       10 NME-ADRS-OBLR-1                                                     \n",
      "*+           PICTURE IS  X(19)                                                  \n",
      "*+           USAGE IS DISPLAY                                                   \n",
      "*+           ELEMENT LENGTH IS 19                                               \n",
      "*+           POSITION IS 43                                                     \n",
      "*+           .                                                                  \n",
      "*+       10 NME-ADRS-OBLR-2                                                     \n",
      "*+           PICTURE IS  X(19)                                                  \n",
      "*+           USAGE IS DISPLAY                                                   \n",
      "*+           ELEMENT LENGTH IS 19                                               \n",
      "*+           POSITION IS 62                                                     \n",
      "*+           .                                                                  \n",
      "*+   05 NME-OBLR-GRP-2                                                          \n",
      "*+       REDEFINES NME-OBLR-GRP-1                                               \n",
      "*+       USAGE IS DISPLAY                                                       \n",
      "*+       ELEMENT LENGTH IS 57                                                   \n",
      "*+       POSITION IS 24                                                         \n",
      "*+       .                                                                      \n",
      "*+       10 NME-OBLR-KEY                                                        \n",
      "*+           PICTURE IS  X(20)                                                  \n",
      "*+           USAGE IS DISPLAY                                                   \n",
      "*+           ELEMENT LENGTH IS 20                                               \n",
      "*+           POSITION IS 24                                                     \n",
      "*+           .                                                                  \n",
      "*+       10 FILLER                                                              \n",
      "*+           PICTURE IS  X(0037)                                                \n",
      "*+           USAGE IS DISPLAY                                                   \n",
      "*+           ELEMENT LENGTH IS 37                                               \n",
      "*+           POSITION IS 44                                                     \n",
      "*+           .                                                                  \n",
      "*+   05 NME-ADRS-OBLR-3                                                         \n",
      "*+       PICTURE IS  X(19)                                                      \n",
      "*+       USAGE IS DISPLAY                                                       \n",
      "*+       ELEMENT LENGTH IS 19                                                   \n",
      "*+       POSITION IS 81                                                         \n",
      "*+       .                                                                      \n",
      "*+   05 NME-ADRS-OBLR-4                                                         \n",
      "*+       PICTURE IS  X(19)                                                      \n",
      "*+       USAGE IS DISPLAY                                                       \n",
      "*+       ELEMENT LENGTH IS 19                                                   \n",
      "*+       POSITION IS 100                                                        \n",
      "*+       .                                                                      \n",
      "*+   05 ZIP-CDE                                                                 \n",
      "*+       PICTURE IS  9(5)                                                       \n",
      "*+       USAGE IS DISPLAY                                                       \n",
      "*+       ELEMENT LENGTH IS 5                                                    \n"
     ]
    }
   ],
   "source": [
    "!head -300 IDMS_schema_source_ALL/FARMS-V1-SCHEMA-020623.txt | tail -50"
   ]
  },
  {
   "cell_type": "markdown",
   "id": "9e0b620c-5d82-4d23-af26-7aaef5a629f4",
   "metadata": {},
   "source": [
    "# Create some regular expressions to help us parse schema text"
   ]
  },
  {
   "cell_type": "code",
   "execution_count": 5,
   "id": "7138a1ba-30b4-4fa8-80ff-8d3d7e7bda6a",
   "metadata": {
    "scrolled": true,
    "tags": []
   },
   "outputs": [],
   "source": [
    "#print( record_components[0] )"
   ]
  },
  {
   "cell_type": "code",
   "execution_count": 6,
   "id": "061ea05c-bf91-4d6d-9eda-b7541e76a556",
   "metadata": {},
   "outputs": [],
   "source": [
    "redefines_pattern = re.compile( r'REDEFINES' )\n",
    "occurs_pattern = re.compile( r' OCCURS ' )"
   ]
  },
  {
   "cell_type": "code",
   "execution_count": 7,
   "id": "c63ac936-3a18-47e2-bf02-225bb10b8d47",
   "metadata": {},
   "outputs": [],
   "source": [
    "column_names = [ 'indent', 'data_level', 'element_name', 'raw_element_descriptors' ]\n",
    "element_search_pat = re.compile( r'^(\\s+)?(\\d\\d) (\\S+)\\n\\s+(.*?)\\n\\s+\\.', flags=re.MULTILINE | re.DOTALL )"
   ]
  },
  {
   "cell_type": "code",
   "execution_count": 8,
   "id": "35eb5fb7-6efe-4cfd-bce9-b84ccfff8dd5",
   "metadata": {},
   "outputs": [],
   "source": [
    "record_name_pat = re.compile( r'RECORD NAME IS (\\S+)' )"
   ]
  },
  {
   "cell_type": "code",
   "execution_count": 9,
   "id": "799a9470-676c-4378-9eff-f7cbc3c3e0d3",
   "metadata": {},
   "outputs": [],
   "source": [
    "IS_pat = re.compile( r' IS ' )"
   ]
  },
  {
   "cell_type": "markdown",
   "id": "52874f55-c4eb-471c-95d6-887855bd3d8d",
   "metadata": {},
   "source": [
    "# Define parsing functions"
   ]
  },
  {
   "cell_type": "code",
   "execution_count": 10,
   "id": "d57a9caa-20c2-44c1-9472-6be58018ead9",
   "metadata": {},
   "outputs": [],
   "source": [
    "def DescriptorsSplitter( raw_descriptor_string : str ) -> pd.Series:\n",
    "    \"\"\"This function parses the descriptors after one single data element,\n",
    "    including PICTURE, USAGE, ELEMENT LENGTH, POSITION, etc. Returns a single\n",
    "    row's worth of element descriptors.\"\"\"\n",
    "\n",
    "    descriptors = [ _.strip() for _ in raw_descriptor_string.split( '\\n' ) ]\n",
    "    \n",
    "    key_value_pairs = [ IS_pat.split( _ ) for _ in descriptors ]\n",
    "    try:\n",
    "        index, values = zip( *key_value_pairs )\n",
    "    except:\n",
    "        # empty series\n",
    "        print( \"\\t\\tproblem splitting these characteristics\" )\n",
    "        print( key_value_pairs )\n",
    "        retval = pd.Series( dtype='object')\n",
    "    else:\n",
    "        retval = pd.Series( values, index=index )\n",
    "    #print( retval )\n",
    "    return retval"
   ]
  },
  {
   "cell_type": "code",
   "execution_count": 11,
   "id": "dc7c0ac3-79f1-4d78-949b-3d1a3ce58528",
   "metadata": {},
   "outputs": [],
   "source": [
    "def FormatRecord( component_text : str, debug=False ) -> pd.DataFrame:\n",
    "    \"\"\"Takes the raw text of one record's worth of schema definition\n",
    "    and parses all data elements from it.\"\"\"\n",
    "    \n",
    "    if debug:\n",
    "        print( \"*\" * 50 )\n",
    "    record_name = record_name_pat.match( component_text ).group(1)\n",
    "    data_elements = element_search_pat.findall( component_text )\n",
    "    if debug:\n",
    "        print( \"record\", record_name, \"has\", len( data_elements ), \"elements.\" )\n",
    "    data_elements = pd.DataFrame( data_elements, columns = column_names )\n",
    "    data_elements['record'] = record_name\n",
    "    data_elements['data_step'] = [ (1+int(_)) * 100 for _ in data_elements.index ]\n",
    "    data_elements['indent'] = data_elements['indent'].apply( len )\n",
    "    \n",
    "    # Here, we add in an \"IS\" to REDEFINES and OCCURS descriptors to allow for\n",
    "    # DescriptorSplitter() to work in a uniform way across all descriptors that\n",
    "    # already use the \"IS\", e.g., \"PICTURE\", \"ELEMENT LENGTH\" etc.\n",
    "    data_elements['raw_element_descriptors'] = \\\n",
    "        data_elements['raw_element_descriptors'].str.replace( redefines_pattern, 'REDEFINES IS' )\n",
    "\n",
    "    data_elements['raw_element_descriptors'] = \\\n",
    "        data_elements['raw_element_descriptors'].str.replace( occurs_pattern, ' OCCURS IS ' )\n",
    "    \n",
    "    modifiers_df = data_elements['raw_element_descriptors'].apply( DescriptorsSplitter )\n",
    "    \n",
    "    data_elements = pd.concat( (data_elements, modifiers_df), axis=1 )\n",
    "    \n",
    "    data_elements = data_elements.set_index( 'record', append=True )\n",
    "    return data_elements"
   ]
  },
  {
   "cell_type": "code",
   "execution_count": 12,
   "id": "12a17b0e-ab46-44eb-9206-170ba3f5db24",
   "metadata": {},
   "outputs": [],
   "source": [
    "def ScrapeRecordsAndElements( schema_source_path : Path ) -> pd.DataFrame:\n",
    "    \"\"\"Takes the path of one schema source file, parses out its component parts\n",
    "    including SCHEMA, AREA, RECORD, and SET, and parses each record. Output is\n",
    "    a PANDAS dataframe containing parsed info.\"\"\"\n",
    "\n",
    "    print( \"=\" * 50 )\n",
    "    lines_df = pd.read_csv( schema_source_path, header=None )\n",
    "    lines_df.columns = [ 'raw_line' ]\n",
    "    lines_df[ 'stripped' ] = lines_df[ 'raw_line' ].str.slice( start = 5 )\n",
    "    lines_df[ 'stripped' ] = lines_df[ 'stripped' ].str.rstrip()\n",
    "\n",
    "    stripped_whitespace_file = Path( schema_source_path ).with_suffix( \".formatted.txt\" )\n",
    "    print( \"writing\", f'\"{ str(stripped_whitespace_file) }\"' )\n",
    "    lines_df[ 'stripped' ].to_csv( stripped_whitespace_file, header=False, index=False )\n",
    "    raw_text = stripped_whitespace_file.read_text()\n",
    "\n",
    "    add_pat = re.compile( r'\\nADD\\n' )\n",
    "    components = add_pat.split( raw_text )\n",
    "\n",
    "    #len( components )\n",
    "    # remove the initial ADD\n",
    "    components[0] = components[0][4:]\n",
    "    \n",
    "    schema_name_ver_pat = re.compile( r'SCHEMA NAME IS (\\S+) VERSION IS (\\d+)' )\n",
    "    schema_info = schema_name_ver_pat.search( components[0] ).groups()\n",
    "    schema_name, schema_version = schema_info\n",
    "\n",
    "    first_word_pat = re.compile( r'^(\\S+)' )\n",
    "    component_categories = [ first_word_pat.match( _ ).group(1) for _ in components ]\n",
    "    c = Counter( component_categories )\n",
    "\n",
    "    print( schema_info, \"\\n\", c.most_common() )\n",
    "\n",
    "    # Analyze Record components\n",
    "\n",
    "    record_components = [ c for t, c in zip( component_categories, components ) if t == \"RECORD\" ]\n",
    "    \n",
    "    pivoted_record_data = pd.concat( [ FormatRecord(_) for _ in record_components ] )\n",
    "    pivoted_record_data = pivoted_record_data.swaplevel().sort_index()\n",
    "    return pivoted_record_data"
   ]
  },
  {
   "cell_type": "markdown",
   "id": "9afd76a5-4270-4dfa-86cc-9fc3bec6ca74",
   "metadata": {},
   "source": [
    "# INPUT THE SCHEMA FILE YOU WANT TO PARSE HERE:"
   ]
  },
  {
   "cell_type": "code",
   "execution_count": 13,
   "id": "078f8923-b4f7-454b-be2d-b15b13fcd23a",
   "metadata": {},
   "outputs": [
    {
     "name": "stdout",
     "output_type": "stream",
     "text": [
      "==================================================\n",
      "writing \"IDMS_schema_source_ALL/FARMS-V1-SCHEMA-020623.formatted.txt\"\n",
      "('FARMS', '1') \n",
      " [('RECORD', 113), ('SET', 85), ('AREA', 20), ('SCHEMA', 1)]\n"
     ]
    }
   ],
   "source": [
    "retval = ScrapeRecordsAndElements( 'IDMS_schema_source_ALL/FARMS-V1-SCHEMA-020623.txt' )"
   ]
  },
  {
   "cell_type": "code",
   "execution_count": 14,
   "id": "530bbdd6-2bc3-4d90-9d8c-c7e0c6efe403",
   "metadata": {},
   "outputs": [
    {
     "name": "stdout",
     "output_type": "stream",
     "text": [
      "<class 'pandas.core.frame.DataFrame'>\n",
      "MultiIndex: 2218 entries, ('ACCT-DATA', 0) to ('USERS', 12)\n",
      "Data columns (total 12 columns):\n",
      " #   Column                   Non-Null Count  Dtype \n",
      "---  ------                   --------------  ----- \n",
      " 0   indent                   2218 non-null   int64 \n",
      " 1   data_level               2218 non-null   object\n",
      " 2   element_name             2218 non-null   object\n",
      " 3   raw_element_descriptors  2218 non-null   object\n",
      " 4   data_step                2218 non-null   int64 \n",
      " 5   USAGE                    2218 non-null   object\n",
      " 6   ELEMENT LENGTH           2154 non-null   object\n",
      " 7   POSITION                 2218 non-null   object\n",
      " 8   PICTURE                  1961 non-null   object\n",
      " 9   REDEFINES                23 non-null     object\n",
      " 10  VALUE                    66 non-null     object\n",
      " 11  OCCURS                   31 non-null     object\n",
      "dtypes: int64(2), object(10)\n",
      "memory usage: 229.4+ KB\n"
     ]
    }
   ],
   "source": [
    "retval.info()"
   ]
  },
  {
   "cell_type": "code",
   "execution_count": 15,
   "id": "723dbdda-beb0-4a22-b5d5-79de09465f4f",
   "metadata": {},
   "outputs": [
    {
     "data": {
      "text/html": [
       "<div>\n",
       "<style scoped>\n",
       "    .dataframe tbody tr th:only-of-type {\n",
       "        vertical-align: middle;\n",
       "    }\n",
       "\n",
       "    .dataframe tbody tr th {\n",
       "        vertical-align: top;\n",
       "    }\n",
       "\n",
       "    .dataframe thead th {\n",
       "        text-align: right;\n",
       "    }\n",
       "</style>\n",
       "<table border=\"1\" class=\"dataframe\">\n",
       "  <thead>\n",
       "    <tr style=\"text-align: right;\">\n",
       "      <th></th>\n",
       "      <th></th>\n",
       "      <th>indent</th>\n",
       "      <th>data_level</th>\n",
       "      <th>element_name</th>\n",
       "      <th>raw_element_descriptors</th>\n",
       "      <th>data_step</th>\n",
       "      <th>USAGE</th>\n",
       "      <th>ELEMENT LENGTH</th>\n",
       "      <th>POSITION</th>\n",
       "      <th>PICTURE</th>\n",
       "      <th>REDEFINES</th>\n",
       "      <th>VALUE</th>\n",
       "      <th>OCCURS</th>\n",
       "    </tr>\n",
       "    <tr>\n",
       "      <th>record</th>\n",
       "      <th></th>\n",
       "      <th></th>\n",
       "      <th></th>\n",
       "      <th></th>\n",
       "      <th></th>\n",
       "      <th></th>\n",
       "      <th></th>\n",
       "      <th></th>\n",
       "      <th></th>\n",
       "      <th></th>\n",
       "      <th></th>\n",
       "      <th></th>\n",
       "      <th></th>\n",
       "    </tr>\n",
       "  </thead>\n",
       "  <tbody>\n",
       "    <tr>\n",
       "      <th rowspan=\"5\" valign=\"top\">ACCT-DATA</th>\n",
       "      <th>0</th>\n",
       "      <td>0</td>\n",
       "      <td>05</td>\n",
       "      <td>LN-NBR</td>\n",
       "      <td>PICTURE IS  9(2)\\n    USAGE IS DISPLAY\\n    EL...</td>\n",
       "      <td>100</td>\n",
       "      <td>DISPLAY</td>\n",
       "      <td>2</td>\n",
       "      <td>1</td>\n",
       "      <td>9(2)</td>\n",
       "      <td>NaN</td>\n",
       "      <td>NaN</td>\n",
       "      <td>NaN</td>\n",
       "    </tr>\n",
       "    <tr>\n",
       "      <th>1</th>\n",
       "      <td>0</td>\n",
       "      <td>05</td>\n",
       "      <td>FD-CDE</td>\n",
       "      <td>USAGE IS DISPLAY\\n    ELEMENT LENGTH IS 4\\n   ...</td>\n",
       "      <td>200</td>\n",
       "      <td>DISPLAY</td>\n",
       "      <td>4</td>\n",
       "      <td>3</td>\n",
       "      <td>NaN</td>\n",
       "      <td>NaN</td>\n",
       "      <td>NaN</td>\n",
       "      <td>NaN</td>\n",
       "    </tr>\n",
       "    <tr>\n",
       "      <th>2</th>\n",
       "      <td>4</td>\n",
       "      <td>10</td>\n",
       "      <td>FD-CDE-3</td>\n",
       "      <td>USAGE IS DISPLAY\\n        ELEMENT LENGTH IS 3\\...</td>\n",
       "      <td>300</td>\n",
       "      <td>DISPLAY</td>\n",
       "      <td>3</td>\n",
       "      <td>3</td>\n",
       "      <td>NaN</td>\n",
       "      <td>NaN</td>\n",
       "      <td>NaN</td>\n",
       "      <td>NaN</td>\n",
       "    </tr>\n",
       "    <tr>\n",
       "      <th>3</th>\n",
       "      <td>8</td>\n",
       "      <td>15</td>\n",
       "      <td>FD-CDE-2</td>\n",
       "      <td>PICTURE IS  9(2)\\n            USAGE IS DISPLAY...</td>\n",
       "      <td>400</td>\n",
       "      <td>DISPLAY</td>\n",
       "      <td>2</td>\n",
       "      <td>3</td>\n",
       "      <td>9(2)</td>\n",
       "      <td>NaN</td>\n",
       "      <td>NaN</td>\n",
       "      <td>NaN</td>\n",
       "    </tr>\n",
       "    <tr>\n",
       "      <th>4</th>\n",
       "      <td>8</td>\n",
       "      <td>15</td>\n",
       "      <td>FD-CDE-3RD</td>\n",
       "      <td>PICTURE IS  9(1)\\n            USAGE IS DISPLAY...</td>\n",
       "      <td>500</td>\n",
       "      <td>DISPLAY</td>\n",
       "      <td>1</td>\n",
       "      <td>5</td>\n",
       "      <td>9(1)</td>\n",
       "      <td>NaN</td>\n",
       "      <td>NaN</td>\n",
       "      <td>NaN</td>\n",
       "    </tr>\n",
       "  </tbody>\n",
       "</table>\n",
       "</div>"
      ],
      "text/plain": [
       "             indent data_level element_name  \\\n",
       "record                                        \n",
       "ACCT-DATA 0       0         05       LN-NBR   \n",
       "          1       0         05       FD-CDE   \n",
       "          2       4         10     FD-CDE-3   \n",
       "          3       8         15     FD-CDE-2   \n",
       "          4       8         15   FD-CDE-3RD   \n",
       "\n",
       "                                       raw_element_descriptors  data_step  \\\n",
       "record                                                                      \n",
       "ACCT-DATA 0  PICTURE IS  9(2)\\n    USAGE IS DISPLAY\\n    EL...        100   \n",
       "          1  USAGE IS DISPLAY\\n    ELEMENT LENGTH IS 4\\n   ...        200   \n",
       "          2  USAGE IS DISPLAY\\n        ELEMENT LENGTH IS 3\\...        300   \n",
       "          3  PICTURE IS  9(2)\\n            USAGE IS DISPLAY...        400   \n",
       "          4  PICTURE IS  9(1)\\n            USAGE IS DISPLAY...        500   \n",
       "\n",
       "               USAGE ELEMENT LENGTH POSITION PICTURE REDEFINES VALUE OCCURS  \n",
       "record                                                                       \n",
       "ACCT-DATA 0  DISPLAY              2        1    9(2)       NaN   NaN    NaN  \n",
       "          1  DISPLAY              4        3     NaN       NaN   NaN    NaN  \n",
       "          2  DISPLAY              3        3     NaN       NaN   NaN    NaN  \n",
       "          3  DISPLAY              2        3    9(2)       NaN   NaN    NaN  \n",
       "          4  DISPLAY              1        5    9(1)       NaN   NaN    NaN  "
      ]
     },
     "execution_count": 15,
     "metadata": {},
     "output_type": "execute_result"
    }
   ],
   "source": [
    "retval.head()"
   ]
  },
  {
   "cell_type": "markdown",
   "id": "f96a6cce-d8c8-4d06-b7f9-84e86e94bd14",
   "metadata": {},
   "source": [
    "# Cleanup"
   ]
  },
  {
   "cell_type": "markdown",
   "id": "6df1fc37-3f38-4f0b-af74-379b7195ad94",
   "metadata": {},
   "source": [
    "## Cleanup item 1: remove parentheses from valid values"
   ]
  },
  {
   "cell_type": "code",
   "execution_count": 16,
   "id": "47bd4834-331f-4d9e-8722-05cfc625d2be",
   "metadata": {},
   "outputs": [
    {
     "data": {
      "text/plain": [
       "( 'S' )      10\n",
       "( 'D' )      10\n",
       "( 'C' )      10\n",
       "( 'T' )       8\n",
       "( 'U' )       8\n",
       "( 'V' )       8\n",
       "( '0' )       4\n",
       "( '1' )       4\n",
       "( SPACE )     2\n",
       "( 'R' )       1\n",
       "( 'A' )       1\n",
       "Name: VALUE, dtype: int64"
      ]
     },
     "execution_count": 16,
     "metadata": {},
     "output_type": "execute_result"
    }
   ],
   "source": [
    "retval['VALUE'].value_counts()"
   ]
  },
  {
   "cell_type": "code",
   "execution_count": 17,
   "id": "a09534d7-0393-4789-a413-d61d34837bda",
   "metadata": {},
   "outputs": [],
   "source": [
    "retval['VALUE'] = retval['VALUE'].str.extract( r' (\\S+) ' )"
   ]
  },
  {
   "cell_type": "code",
   "execution_count": 18,
   "id": "3f0a7ed0-eb70-4639-9498-76835ed1ee15",
   "metadata": {},
   "outputs": [
    {
     "data": {
      "text/plain": [
       "'S'      10\n",
       "'D'      10\n",
       "'C'      10\n",
       "'T'       8\n",
       "'U'       8\n",
       "'V'       8\n",
       "'0'       4\n",
       "'1'       4\n",
       "SPACE     2\n",
       "'R'       1\n",
       "'A'       1\n",
       "Name: VALUE, dtype: int64"
      ]
     },
     "execution_count": 18,
     "metadata": {},
     "output_type": "execute_result"
    }
   ],
   "source": [
    "retval['VALUE'].value_counts()"
   ]
  },
  {
   "cell_type": "markdown",
   "id": "fd52033f-e719-4df0-8b5b-3175b28eb1c3",
   "metadata": {},
   "source": [
    "## Cleanup item 2: Reformat indents so copybooks look nice"
   ]
  },
  {
   "cell_type": "code",
   "execution_count": 19,
   "id": "a63c2dd5-07df-41d6-b76e-b4f22e8d7b36",
   "metadata": {},
   "outputs": [
    {
     "data": {
      "text/plain": [
       "05    1295\n",
       "10     626\n",
       "15     220\n",
       "88      64\n",
       "20      13\n",
       "Name: data_level, dtype: int64"
      ]
     },
     "execution_count": 19,
     "metadata": {},
     "output_type": "execute_result"
    }
   ],
   "source": [
    "retval['data_level'].value_counts()"
   ]
  },
  {
   "cell_type": "code",
   "execution_count": 20,
   "id": "d8d73f60-47a4-4e43-9520-810c865d0376",
   "metadata": {},
   "outputs": [
    {
     "data": {
      "text/plain": [
       "0     1295\n",
       "4      626\n",
       "8      220\n",
       "16      64\n",
       "12      13\n",
       "Name: indent, dtype: int64"
      ]
     },
     "execution_count": 20,
     "metadata": {},
     "output_type": "execute_result"
    }
   ],
   "source": [
    "retval['indent'].value_counts()"
   ]
  },
  {
   "cell_type": "code",
   "execution_count": 21,
   "id": "dafe587a-37e4-41e3-85e7-0e2f16efa8f9",
   "metadata": {},
   "outputs": [],
   "source": [
    "retval['indent'] = (retval['data_level'].astype(int) // 5 )"
   ]
  },
  {
   "cell_type": "code",
   "execution_count": 22,
   "id": "33c697cb-666b-4314-897e-4874bbe20a37",
   "metadata": {},
   "outputs": [],
   "source": [
    "retval.loc[ retval['indent'] >= 5, 'indent' ] = 5"
   ]
  },
  {
   "cell_type": "code",
   "execution_count": 23,
   "id": "0fb43c14-f8ec-4185-9756-0f3e874d702b",
   "metadata": {},
   "outputs": [],
   "source": [
    "retval['indent'] = retval['indent'] * 2"
   ]
  },
  {
   "cell_type": "code",
   "execution_count": 24,
   "id": "ad08f5a1-e1dc-481a-9b6c-a754731e9d4e",
   "metadata": {},
   "outputs": [
    {
     "data": {
      "text/plain": [
       "2     1295\n",
       "4      626\n",
       "6      220\n",
       "10      64\n",
       "8       13\n",
       "Name: indent, dtype: int64"
      ]
     },
     "execution_count": 24,
     "metadata": {},
     "output_type": "execute_result"
    }
   ],
   "source": [
    "retval['indent'].value_counts()"
   ]
  },
  {
   "cell_type": "markdown",
   "id": "9396e558-34a1-4bc2-9f72-0160bde9c63d",
   "metadata": {},
   "source": [
    "## Cleanup item 3: remove leading spaces from PICTURE clause"
   ]
  },
  {
   "cell_type": "code",
   "execution_count": 25,
   "id": "fefedd47-86b4-4be5-a08f-b9822b1f67c2",
   "metadata": {},
   "outputs": [
    {
     "data": {
      "text/plain": [
       "array([' 9(2)', nan, nan, ..., ' 9(1)', ' XX', ' X'], dtype=object)"
      ]
     },
     "execution_count": 25,
     "metadata": {},
     "output_type": "execute_result"
    }
   ],
   "source": [
    "retval['PICTURE'].values"
   ]
  },
  {
   "cell_type": "code",
   "execution_count": 26,
   "id": "8ac80d3e-5434-4859-ae40-33495e3176ab",
   "metadata": {},
   "outputs": [
    {
     "data": {
      "text/html": [
       "<div>\n",
       "<style scoped>\n",
       "    .dataframe tbody tr th:only-of-type {\n",
       "        vertical-align: middle;\n",
       "    }\n",
       "\n",
       "    .dataframe tbody tr th {\n",
       "        vertical-align: top;\n",
       "    }\n",
       "\n",
       "    .dataframe thead th {\n",
       "        text-align: right;\n",
       "    }\n",
       "</style>\n",
       "<table border=\"1\" class=\"dataframe\">\n",
       "  <thead>\n",
       "    <tr style=\"text-align: right;\">\n",
       "      <th></th>\n",
       "      <th></th>\n",
       "      <th>indent</th>\n",
       "      <th>data_level</th>\n",
       "      <th>element_name</th>\n",
       "      <th>raw_element_descriptors</th>\n",
       "      <th>data_step</th>\n",
       "      <th>USAGE</th>\n",
       "      <th>ELEMENT LENGTH</th>\n",
       "      <th>POSITION</th>\n",
       "      <th>PICTURE</th>\n",
       "      <th>REDEFINES</th>\n",
       "      <th>VALUE</th>\n",
       "      <th>OCCURS</th>\n",
       "    </tr>\n",
       "    <tr>\n",
       "      <th>record</th>\n",
       "      <th></th>\n",
       "      <th></th>\n",
       "      <th></th>\n",
       "      <th></th>\n",
       "      <th></th>\n",
       "      <th></th>\n",
       "      <th></th>\n",
       "      <th></th>\n",
       "      <th></th>\n",
       "      <th></th>\n",
       "      <th></th>\n",
       "      <th></th>\n",
       "      <th></th>\n",
       "    </tr>\n",
       "  </thead>\n",
       "  <tbody>\n",
       "    <tr>\n",
       "      <th rowspan=\"5\" valign=\"top\">ACCT-DATA</th>\n",
       "      <th>0</th>\n",
       "      <td>2</td>\n",
       "      <td>05</td>\n",
       "      <td>LN-NBR</td>\n",
       "      <td>PICTURE IS  9(2)\\n    USAGE IS DISPLAY\\n    EL...</td>\n",
       "      <td>100</td>\n",
       "      <td>DISPLAY</td>\n",
       "      <td>2</td>\n",
       "      <td>1</td>\n",
       "      <td>9(2)</td>\n",
       "      <td>NaN</td>\n",
       "      <td>NaN</td>\n",
       "      <td>NaN</td>\n",
       "    </tr>\n",
       "    <tr>\n",
       "      <th>1</th>\n",
       "      <td>2</td>\n",
       "      <td>05</td>\n",
       "      <td>FD-CDE</td>\n",
       "      <td>USAGE IS DISPLAY\\n    ELEMENT LENGTH IS 4\\n   ...</td>\n",
       "      <td>200</td>\n",
       "      <td>DISPLAY</td>\n",
       "      <td>4</td>\n",
       "      <td>3</td>\n",
       "      <td>NaN</td>\n",
       "      <td>NaN</td>\n",
       "      <td>NaN</td>\n",
       "      <td>NaN</td>\n",
       "    </tr>\n",
       "    <tr>\n",
       "      <th>2</th>\n",
       "      <td>4</td>\n",
       "      <td>10</td>\n",
       "      <td>FD-CDE-3</td>\n",
       "      <td>USAGE IS DISPLAY\\n        ELEMENT LENGTH IS 3\\...</td>\n",
       "      <td>300</td>\n",
       "      <td>DISPLAY</td>\n",
       "      <td>3</td>\n",
       "      <td>3</td>\n",
       "      <td>NaN</td>\n",
       "      <td>NaN</td>\n",
       "      <td>NaN</td>\n",
       "      <td>NaN</td>\n",
       "    </tr>\n",
       "    <tr>\n",
       "      <th>3</th>\n",
       "      <td>6</td>\n",
       "      <td>15</td>\n",
       "      <td>FD-CDE-2</td>\n",
       "      <td>PICTURE IS  9(2)\\n            USAGE IS DISPLAY...</td>\n",
       "      <td>400</td>\n",
       "      <td>DISPLAY</td>\n",
       "      <td>2</td>\n",
       "      <td>3</td>\n",
       "      <td>9(2)</td>\n",
       "      <td>NaN</td>\n",
       "      <td>NaN</td>\n",
       "      <td>NaN</td>\n",
       "    </tr>\n",
       "    <tr>\n",
       "      <th>4</th>\n",
       "      <td>6</td>\n",
       "      <td>15</td>\n",
       "      <td>FD-CDE-3RD</td>\n",
       "      <td>PICTURE IS  9(1)\\n            USAGE IS DISPLAY...</td>\n",
       "      <td>500</td>\n",
       "      <td>DISPLAY</td>\n",
       "      <td>1</td>\n",
       "      <td>5</td>\n",
       "      <td>9(1)</td>\n",
       "      <td>NaN</td>\n",
       "      <td>NaN</td>\n",
       "      <td>NaN</td>\n",
       "    </tr>\n",
       "  </tbody>\n",
       "</table>\n",
       "</div>"
      ],
      "text/plain": [
       "             indent data_level element_name  \\\n",
       "record                                        \n",
       "ACCT-DATA 0       2         05       LN-NBR   \n",
       "          1       2         05       FD-CDE   \n",
       "          2       4         10     FD-CDE-3   \n",
       "          3       6         15     FD-CDE-2   \n",
       "          4       6         15   FD-CDE-3RD   \n",
       "\n",
       "                                       raw_element_descriptors  data_step  \\\n",
       "record                                                                      \n",
       "ACCT-DATA 0  PICTURE IS  9(2)\\n    USAGE IS DISPLAY\\n    EL...        100   \n",
       "          1  USAGE IS DISPLAY\\n    ELEMENT LENGTH IS 4\\n   ...        200   \n",
       "          2  USAGE IS DISPLAY\\n        ELEMENT LENGTH IS 3\\...        300   \n",
       "          3  PICTURE IS  9(2)\\n            USAGE IS DISPLAY...        400   \n",
       "          4  PICTURE IS  9(1)\\n            USAGE IS DISPLAY...        500   \n",
       "\n",
       "               USAGE ELEMENT LENGTH POSITION PICTURE REDEFINES VALUE OCCURS  \n",
       "record                                                                       \n",
       "ACCT-DATA 0  DISPLAY              2        1    9(2)       NaN   NaN    NaN  \n",
       "          1  DISPLAY              4        3     NaN       NaN   NaN    NaN  \n",
       "          2  DISPLAY              3        3     NaN       NaN   NaN    NaN  \n",
       "          3  DISPLAY              2        3    9(2)       NaN   NaN    NaN  \n",
       "          4  DISPLAY              1        5    9(1)       NaN   NaN    NaN  "
      ]
     },
     "execution_count": 26,
     "metadata": {},
     "output_type": "execute_result"
    }
   ],
   "source": [
    "retval.head()"
   ]
  },
  {
   "cell_type": "code",
   "execution_count": 27,
   "id": "2386f7a0-ab09-41f0-8903-c9fde7701c84",
   "metadata": {},
   "outputs": [],
   "source": [
    "retval['PICTURE'] = retval['PICTURE'].str.strip()"
   ]
  },
  {
   "cell_type": "markdown",
   "id": "9b029e40-3775-4a0e-88e1-92310d3561aa",
   "metadata": {},
   "source": [
    "# Add data formatting to the csv output to get it ready for ingestion by CreateCopyBooks notebook/script\n",
    "\n",
    "Here we are just changing the tablenames of the output spreadsheet and adding dummy columns so the next script can run unedited."
   ]
  },
  {
   "cell_type": "code",
   "execution_count": 28,
   "id": "b5172852-cddb-45f4-b7b2-baeff3dac2da",
   "metadata": {},
   "outputs": [],
   "source": [
    "table_index_dict = { table_name: i for i, table_name in enumerate( retval.index.levels[0] ) }"
   ]
  },
  {
   "cell_type": "code",
   "execution_count": 29,
   "id": "96cb0d6c-fd44-43b1-8d21-73360a297cf9",
   "metadata": {},
   "outputs": [],
   "source": [
    "retval = retval.reset_index( 'record', drop=False )"
   ]
  },
  {
   "cell_type": "code",
   "execution_count": 30,
   "id": "7ad40cd6-aeaa-4c52-b7c7-44721912cfa9",
   "metadata": {},
   "outputs": [],
   "source": [
    "retval['table_index'] = \\\n",
    "    [ table_index_dict[n] for n in retval['record'].values ]"
   ]
  },
  {
   "cell_type": "code",
   "execution_count": 31,
   "id": "a375d94b-5fbd-490a-b56a-82a4d3011501",
   "metadata": {},
   "outputs": [],
   "source": [
    "retval['table_vers'] = 1"
   ]
  },
  {
   "cell_type": "code",
   "execution_count": 32,
   "id": "6fdd40bd-f635-463a-8ed4-1cb0ab3979d2",
   "metadata": {},
   "outputs": [
    {
     "name": "stdout",
     "output_type": "stream",
     "text": [
      "<class 'pandas.core.frame.DataFrame'>\n",
      "Int64Index: 2218 entries, 0 to 12\n",
      "Data columns (total 15 columns):\n",
      " #   Column                   Non-Null Count  Dtype \n",
      "---  ------                   --------------  ----- \n",
      " 0   record                   2218 non-null   object\n",
      " 1   indent                   2218 non-null   int64 \n",
      " 2   data_level               2218 non-null   object\n",
      " 3   element_name             2218 non-null   object\n",
      " 4   raw_element_descriptors  2218 non-null   object\n",
      " 5   data_step                2218 non-null   int64 \n",
      " 6   USAGE                    2218 non-null   object\n",
      " 7   ELEMENT LENGTH           2154 non-null   object\n",
      " 8   POSITION                 2218 non-null   object\n",
      " 9   PICTURE                  1961 non-null   object\n",
      " 10  REDEFINES                23 non-null     object\n",
      " 11  VALUE                    66 non-null     object\n",
      " 12  OCCURS                   31 non-null     object\n",
      " 13  table_index              2218 non-null   int64 \n",
      " 14  table_vers               2218 non-null   int64 \n",
      "dtypes: int64(4), object(11)\n",
      "memory usage: 277.2+ KB\n"
     ]
    }
   ],
   "source": [
    "retval.info()"
   ]
  },
  {
   "cell_type": "code",
   "execution_count": 33,
   "id": "91ec1bca-2851-4683-ba0f-cb5eb82e9baa",
   "metadata": {},
   "outputs": [
    {
     "data": {
      "text/html": [
       "<div>\n",
       "<style scoped>\n",
       "    .dataframe tbody tr th:only-of-type {\n",
       "        vertical-align: middle;\n",
       "    }\n",
       "\n",
       "    .dataframe tbody tr th {\n",
       "        vertical-align: top;\n",
       "    }\n",
       "\n",
       "    .dataframe thead th {\n",
       "        text-align: right;\n",
       "    }\n",
       "</style>\n",
       "<table border=\"1\" class=\"dataframe\">\n",
       "  <thead>\n",
       "    <tr style=\"text-align: right;\">\n",
       "      <th></th>\n",
       "      <th>record</th>\n",
       "      <th>indent</th>\n",
       "      <th>data_level</th>\n",
       "      <th>element_name</th>\n",
       "      <th>raw_element_descriptors</th>\n",
       "      <th>data_step</th>\n",
       "      <th>USAGE</th>\n",
       "      <th>ELEMENT LENGTH</th>\n",
       "      <th>POSITION</th>\n",
       "      <th>PICTURE</th>\n",
       "      <th>REDEFINES</th>\n",
       "      <th>VALUE</th>\n",
       "      <th>OCCURS</th>\n",
       "      <th>table_index</th>\n",
       "      <th>table_vers</th>\n",
       "    </tr>\n",
       "  </thead>\n",
       "  <tbody>\n",
       "    <tr>\n",
       "      <th>0</th>\n",
       "      <td>ACCT-DATA</td>\n",
       "      <td>2</td>\n",
       "      <td>05</td>\n",
       "      <td>LN-NBR</td>\n",
       "      <td>PICTURE IS  9(2)\\n    USAGE IS DISPLAY\\n    EL...</td>\n",
       "      <td>100</td>\n",
       "      <td>DISPLAY</td>\n",
       "      <td>2</td>\n",
       "      <td>1</td>\n",
       "      <td>9(2)</td>\n",
       "      <td>NaN</td>\n",
       "      <td>NaN</td>\n",
       "      <td>NaN</td>\n",
       "      <td>0</td>\n",
       "      <td>1</td>\n",
       "    </tr>\n",
       "    <tr>\n",
       "      <th>1</th>\n",
       "      <td>ACCT-DATA</td>\n",
       "      <td>2</td>\n",
       "      <td>05</td>\n",
       "      <td>FD-CDE</td>\n",
       "      <td>USAGE IS DISPLAY\\n    ELEMENT LENGTH IS 4\\n   ...</td>\n",
       "      <td>200</td>\n",
       "      <td>DISPLAY</td>\n",
       "      <td>4</td>\n",
       "      <td>3</td>\n",
       "      <td>NaN</td>\n",
       "      <td>NaN</td>\n",
       "      <td>NaN</td>\n",
       "      <td>NaN</td>\n",
       "      <td>0</td>\n",
       "      <td>1</td>\n",
       "    </tr>\n",
       "    <tr>\n",
       "      <th>2</th>\n",
       "      <td>ACCT-DATA</td>\n",
       "      <td>4</td>\n",
       "      <td>10</td>\n",
       "      <td>FD-CDE-3</td>\n",
       "      <td>USAGE IS DISPLAY\\n        ELEMENT LENGTH IS 3\\...</td>\n",
       "      <td>300</td>\n",
       "      <td>DISPLAY</td>\n",
       "      <td>3</td>\n",
       "      <td>3</td>\n",
       "      <td>NaN</td>\n",
       "      <td>NaN</td>\n",
       "      <td>NaN</td>\n",
       "      <td>NaN</td>\n",
       "      <td>0</td>\n",
       "      <td>1</td>\n",
       "    </tr>\n",
       "    <tr>\n",
       "      <th>3</th>\n",
       "      <td>ACCT-DATA</td>\n",
       "      <td>6</td>\n",
       "      <td>15</td>\n",
       "      <td>FD-CDE-2</td>\n",
       "      <td>PICTURE IS  9(2)\\n            USAGE IS DISPLAY...</td>\n",
       "      <td>400</td>\n",
       "      <td>DISPLAY</td>\n",
       "      <td>2</td>\n",
       "      <td>3</td>\n",
       "      <td>9(2)</td>\n",
       "      <td>NaN</td>\n",
       "      <td>NaN</td>\n",
       "      <td>NaN</td>\n",
       "      <td>0</td>\n",
       "      <td>1</td>\n",
       "    </tr>\n",
       "    <tr>\n",
       "      <th>4</th>\n",
       "      <td>ACCT-DATA</td>\n",
       "      <td>6</td>\n",
       "      <td>15</td>\n",
       "      <td>FD-CDE-3RD</td>\n",
       "      <td>PICTURE IS  9(1)\\n            USAGE IS DISPLAY...</td>\n",
       "      <td>500</td>\n",
       "      <td>DISPLAY</td>\n",
       "      <td>1</td>\n",
       "      <td>5</td>\n",
       "      <td>9(1)</td>\n",
       "      <td>NaN</td>\n",
       "      <td>NaN</td>\n",
       "      <td>NaN</td>\n",
       "      <td>0</td>\n",
       "      <td>1</td>\n",
       "    </tr>\n",
       "  </tbody>\n",
       "</table>\n",
       "</div>"
      ],
      "text/plain": [
       "      record  indent data_level element_name  \\\n",
       "0  ACCT-DATA       2         05       LN-NBR   \n",
       "1  ACCT-DATA       2         05       FD-CDE   \n",
       "2  ACCT-DATA       4         10     FD-CDE-3   \n",
       "3  ACCT-DATA       6         15     FD-CDE-2   \n",
       "4  ACCT-DATA       6         15   FD-CDE-3RD   \n",
       "\n",
       "                             raw_element_descriptors  data_step    USAGE  \\\n",
       "0  PICTURE IS  9(2)\\n    USAGE IS DISPLAY\\n    EL...        100  DISPLAY   \n",
       "1  USAGE IS DISPLAY\\n    ELEMENT LENGTH IS 4\\n   ...        200  DISPLAY   \n",
       "2  USAGE IS DISPLAY\\n        ELEMENT LENGTH IS 3\\...        300  DISPLAY   \n",
       "3  PICTURE IS  9(2)\\n            USAGE IS DISPLAY...        400  DISPLAY   \n",
       "4  PICTURE IS  9(1)\\n            USAGE IS DISPLAY...        500  DISPLAY   \n",
       "\n",
       "  ELEMENT LENGTH POSITION PICTURE REDEFINES VALUE OCCURS  table_index  \\\n",
       "0              2        1    9(2)       NaN   NaN    NaN            0   \n",
       "1              4        3     NaN       NaN   NaN    NaN            0   \n",
       "2              3        3     NaN       NaN   NaN    NaN            0   \n",
       "3              2        3    9(2)       NaN   NaN    NaN            0   \n",
       "4              1        5    9(1)       NaN   NaN    NaN            0   \n",
       "\n",
       "   table_vers  \n",
       "0           1  \n",
       "1           1  \n",
       "2           1  \n",
       "3           1  \n",
       "4           1  "
      ]
     },
     "execution_count": 33,
     "metadata": {},
     "output_type": "execute_result"
    }
   ],
   "source": [
    "retval.head()"
   ]
  },
  {
   "cell_type": "code",
   "execution_count": 34,
   "id": "6bce9d28-61a7-4bc3-8e1d-7b3bd40a4b87",
   "metadata": {},
   "outputs": [],
   "source": [
    "reformatted_retval = retval.rename( \n",
    "    columns={ \n",
    "        'record': 'table_name',\n",
    "        'element_name' : 'field_name',\n",
    "        'USAGE' : 'end',\n",
    "        'PICTURE' : 'data_type',\n",
    "        'indent' : 'indent_space_count',\n",
    "        'data_step' : 'declaration_step'\n",
    "    } )"
   ]
  },
  {
   "cell_type": "code",
   "execution_count": 35,
   "id": "b6b4da39-3235-4505-92a5-439e2f2edb25",
   "metadata": {},
   "outputs": [],
   "source": [
    "reformatted_retval['BLANK ON'] = ''\n",
    "reformatted_retval['INDEXED BY'] = ''\n",
    "reformatted_retval['OLQ'] = ''"
   ]
  },
  {
   "cell_type": "code",
   "execution_count": 36,
   "id": "586905be-b30c-48ed-bb72-42e5ea69afab",
   "metadata": {},
   "outputs": [],
   "source": [
    "reformatted_retval = reformatted_retval.drop( columns=['raw_element_descriptors'] )"
   ]
  },
  {
   "cell_type": "code",
   "execution_count": 37,
   "id": "0801fe76-ce88-4598-98d5-a79831169e5e",
   "metadata": {},
   "outputs": [],
   "source": [
    "reformatted_retval.to_csv( '2023-02-14_FSA_FARMS_schema_from_source.csv' )"
   ]
  },
  {
   "cell_type": "code",
   "execution_count": 38,
   "id": "adba21b1-b20d-4617-a8ac-54a8789b5e7e",
   "metadata": {},
   "outputs": [],
   "source": [
    "#pd.set_option( 'display.max_rows', 100 )"
   ]
  },
  {
   "cell_type": "code",
   "execution_count": 39,
   "id": "a82641dd-e931-4b3e-afaf-d907d4dd977b",
   "metadata": {},
   "outputs": [],
   "source": [
    "# Two Python/PANDAS syntactical ways to select one whole table for inspection, if you want\n",
    "#retval.loc[ 'ACCT-DATA' ]\n",
    "#retval.loc[ ('ACCT-DATA', slice(None)), : ]"
   ]
  },
  {
   "cell_type": "code",
   "execution_count": 40,
   "id": "61fa77db-61a5-4e9b-9434-b18313c0b564",
   "metadata": {},
   "outputs": [
    {
     "name": "stdout",
     "output_type": "stream",
     "text": [
      ",table_name,indent_space_count,data_level,field_name,declaration_step,end,ELEMENT LENGTH,POSITION,data_type,REDEFINES,VALUE,OCCURS,table_index,table_vers,BLANK ON,INDEXED BY,OLQ\n",
      "0,ACCT-DATA,2,05,LN-NBR,100,DISPLAY,2,1,9(2),,,,0,1,,,\n",
      "1,ACCT-DATA,2,05,FD-CDE,200,DISPLAY,4,3,,,,,0,1,,,\n",
      "2,ACCT-DATA,4,10,FD-CDE-3,300,DISPLAY,3,3,,,,,0,1,,,\n",
      "3,ACCT-DATA,6,15,FD-CDE-2,400,DISPLAY,2,3,9(2),,,,0,1,,,\n",
      "4,ACCT-DATA,6,15,FD-CDE-3RD,500,DISPLAY,1,5,9(1),,,,0,1,,,\n",
      "5,ACCT-DATA,4,10,FD-CDE-4TH,600,DISPLAY,1,6,9(1),,,,0,1,,,\n",
      "6,ACCT-DATA,2,05,KIND-CDE-LN,700,DISPLAY,2,7,9(2),,,,0,1,,,\n",
      "7,ACCT-DATA,2,05,INT-RATE-NOTE,800,DISPLAY,6,9,9(2)V9(4),,,,0,1,,,\n",
      "8,ACCT-DATA,2,05,INT-RATE-NOTE-1ST,900,DISPLAY,6,9,V9(6),INT-RATE-NOTE,,,0,1,,,\n",
      "9,ACCT-DATA,2,05,PYMT-TYP-CDE,1000,DISPLAY,1,15,9(1),,,,0,1,,,\n",
      "10,ACCT-DATA,2,05,DIR-PYMT-CDE,1100,DISPLAY,1,16,9(1),,,,0,1,,,\n",
      "11,ACCT-DATA,2,05,DTE-AMORTN-EFCTV,1200,DISPLAY,6,17,9(06),,,,0,1,,,\n",
      "12,ACCT-DATA,2,05,DSTR-DCLRD-CDE,1300,DISPLAY,5,23,,,,,0,1,,,\n",
      "13,ACCT-DATA,4,10,DSTR-TYP-CDE,1400,DISPLAY,1,23,9(1),,,,0,1,,,\n",
      "14,ACCT-DATA,4,10,FY-DSTR-DCLRD,1500,DISPLAY,1,24,9(1),,,,0,1,,,\n",
      "15,ACCT-DATA,4,10,DSTR-DCLRD-NBR,1600,DISPLAY,3,25,9(3),,,,0,1,,,\n",
      "16,ACCT-DATA,2,05,MRG-CNTRL,1700,DISPLAY,2,28,9(2),,,,0,1,,,\n",
      "17,ACCT-DATA,2,05,DOCMT-TYP-CDE,1800,DISPLAY,1,30,X(1),,,,0,1,,,\n",
      "18,ACCT-DATA,2,05,DTE-OBLGN-LN,1900,DISPLAY,6,31,9(06),,,,0,1,,,\n",
      "19,ACCT-DATA,2,05,ASSTNC-TYP-CDE,2000,DISPLAY,3,37,9(3),,,,0,1,,,\n",
      "20,ACCT-DATA,2,05,LN-AMT-OBLGN,2100,COMP-3,6,40,S9(8)V99,,,,0,1,,,\n",
      "21,ACCT-DATA,2,05,BEGNG-FRMR-RNCHR-CDE,2200,DISPLAY,1,46,X(01),,,,0,1,,,\n",
      "22,ACCT-DATA,2,05,COLLTL-CDE,2300,DISPLAY,1,47,9(1),,,,0,1,,,\n",
      "23,ACCT-DATA,2,05,CPN-PROCG-DTE,2400,DISPLAY,6,48,9(6),,,,0,1,,,\n",
      "24,ACCT-DATA,2,05,CASE-NBR-CHNG-CDE,2500,DISPLAY,1,54,9(01),,,,0,1,,,\n",
      "25,ACCT-DATA,2,05,PYMT-ASSTNC-METH-CDE,2600,DISPLAY,1,55,9(1),,,,0,1,,,\n",
      "26,ACCT-DATA,2,05,INT-RATE-PREV,2700,DISPLAY,6,56,9(2)V9(4),,,,0,1,,,\n",
      "27,ACCT-DATA,2,05,INT-RATE-PREV-REDFND,2800,DISPLAY,6,56,V9(6),INT-RATE-PREV,,,0,1,,,\n",
      "28,ACCT-DATA,2,05,FILLER,2900,DISPLAY,19,62,X(0019),,,,0,1,,,\n"
     ]
    }
   ],
   "source": [
    "!head -30 2023-02-14_FSA_FARMS_schema_from_source.csv"
   ]
  }
 ],
 "metadata": {
  "kernelspec": {
   "display_name": "Python 3 (ipykernel)",
   "language": "python",
   "name": "python3"
  },
  "language_info": {
   "codemirror_mode": {
    "name": "ipython",
    "version": 3
   },
   "file_extension": ".py",
   "mimetype": "text/x-python",
   "name": "python",
   "nbconvert_exporter": "python",
   "pygments_lexer": "ipython3",
   "version": "3.11.0"
  }
 },
 "nbformat": 4,
 "nbformat_minor": 5
}
